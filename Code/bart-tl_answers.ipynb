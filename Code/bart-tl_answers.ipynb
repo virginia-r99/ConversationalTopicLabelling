{
 "cells": [
  {
   "cell_type": "markdown",
   "metadata": {},
   "source": [
    "**Jupyter Notebook to generate the BART-TL topic labels predictions.**"
   ]
  },
  {
   "cell_type": "code",
   "execution_count": 20,
   "metadata": {},
   "outputs": [],
   "source": [
    "from transformers import AutoTokenizer, AutoModelForSeq2SeqLM\n",
    "import pandas as pd"
   ]
  },
  {
   "cell_type": "markdown",
   "metadata": {},
   "source": [
    "1. Read the topics ground truth and define the BERT-TL model and number of topic words to generate the predictions"
   ]
  },
  {
   "cell_type": "code",
   "execution_count": 42,
   "metadata": {},
   "outputs": [
    {
     "name": "stdout",
     "output_type": "stream",
     "text": [
      "                   topics\n",
      "0            sport hockey\n",
      "1        religion atheism\n",
      "2           science space\n",
      "3        science medicine\n",
      "4           politics_misc\n",
      "5   computer mac hardware\n",
      "6        politics mideast\n",
      "7   computer ibm hardware\n",
      "8                for sale\n",
      "9     science electronics\n",
      "10  computer windows misc\n",
      "11       motor motorcycle\n",
      "12         sport baseball\n",
      "13     religion christian\n",
      "14          politics guns\n",
      "15      computer graphics\n",
      "16            motor autos\n",
      "17          religion misc\n",
      "18     computer windows x\n",
      "19          science crypt\n"
     ]
    }
   ],
   "source": [
    "# Read the topics (names and descriptions)\n",
    "topics = pd.read_json(\"topics_20news.json\")\n",
    "\n",
    "# Extract the topics' names and define a results dataframe to save similarities\n",
    "results = pd.DataFrame({'topics':topics['name']})\n",
    "# Show topics' names\n",
    "print(results)"
   ]
  },
  {
   "cell_type": "code",
   "execution_count": 43,
   "metadata": {},
   "outputs": [],
   "source": [
    "# Inicialize the bart-tl model\n",
    "mname = \"cristian-popa/bart-tl-all\"\n",
    "# mname = \"cristian-popa/bart-tl-ng\"\n",
    "\n",
    "tokenizer = AutoTokenizer.from_pretrained(mname)\n",
    "model = AutoModelForSeq2SeqLM.from_pretrained(mname)"
   ]
  },
  {
   "cell_type": "code",
   "execution_count": null,
   "metadata": {},
   "outputs": [],
   "source": [
    "# Define the number of words of the description to predict the topic\n",
    "num = 10"
   ]
  },
  {
   "cell_type": "markdown",
   "metadata": {},
   "source": [
    "2. For each topic, generate the topic label prediction given by the BART-TL model selected and save the results in a JSON file"
   ]
  },
  {
   "cell_type": "code",
   "execution_count": 44,
   "metadata": {},
   "outputs": [
    {
     "name": "stdout",
     "output_type": "stream",
     "text": [
      "game team play hockey player win goal season fan playoff \n",
      "on the other hand\n",
      "god religion atheist moral claim point objective good belief argument \n",
      "belief\n",
      "space nasa launch system orbit earth mission satellite shuttle moon \n",
      "mars orbiter\n",
      "patient disease medical doctor study food health problem effect work \n",
      "on the other hand\n",
      "government president state law work give man american drug stephanopoulo \n",
      "the president\n",
      "mac apple problem drive system work monitor computer card disk \n",
      "operating system\n",
      "armenian israel turkish jew arab israeli muslim state kill government \n",
      "arabia\n",
      "drive card system problem work controller disk scsus ide run \n",
      "usb\n",
      "offer sale sell include drive price shipping condition system card \n",
      "offer\n",
      "work circuit ground power wire good line find battery copy \n",
      "voltage regulator\n",
      "window file run driver problem program work card system version \n",
      "application programming interface\n",
      "bike ride dod motorcycle dog good bmw work rider road \n",
      "on the other hand\n",
      "game team win hit player run baseball good play pitch \n",
      "the game\n",
      "god christian church jesus christ sin bible give question word \n",
      "baptism\n",
      "gun government weapon state fire law firearm fbi child day \n",
      "on the other hand\n",
      "image file graphic jpeg program format system color datum software \n",
      "graphical user interface\n",
      "car engine drive good buy problem dealer price work ford \n",
      "offer\n",
      "god jesus christian fact good objective theory point life bible \n",
      "christianity\n",
      "window file program run server application widget system display work \n",
      "application programming interface\n",
      "key chip encryption government system clipper phone security law information \n",
      "application programming interface\n"
     ]
    }
   ],
   "source": [
    "# Inicialize the labels array to save the results\n",
    "labels = []\n",
    "# For each topic\n",
    "for i in range(0,len(topics)):\n",
    "    # Split the description by words\n",
    "    description = topics['description'].values[i]\n",
    "    words = description.split(\",\")\n",
    "\n",
    "    # Generate the question to ask\n",
    "    input = \"\"\n",
    "    for w in words[0:num]:\n",
    "        input = input+w+\" \"\n",
    "    # Show the question to ask\n",
    "    print(input)\n",
    "\n",
    "    # Tokenize the question\n",
    "    enc = tokenizer(input, return_tensors=\"pt\", truncation=True, padding=\"max_length\", max_length=128)\n",
    "    # Generate the topic label given the tokenized question\n",
    "    outputs = model.generate(\n",
    "        input_ids=enc.input_ids,\n",
    "        attention_mask=enc.attention_mask,\n",
    "        max_length=15,\n",
    "        min_length=1,\n",
    "        do_sample=False,\n",
    "        num_beams=25,\n",
    "        length_penalty=1.0,\n",
    "        repetition_penalty=1.5\n",
    "    )\n",
    "\n",
    "    # Decode the topic label\n",
    "    decoded = tokenizer.decode(outputs[0], skip_special_tokens=True)\n",
    "    # Save the topic label\n",
    "    labels.append(decoded)\n",
    "    # Show the topic label\n",
    "    print(decoded)\n",
    "# Save labels results in dataframe\n",
    "results = results.assign(Answer=labels)\n"
   ]
  },
  {
   "cell_type": "code",
   "execution_count": 46,
   "metadata": {},
   "outputs": [],
   "source": [
    "# Save results as json file\n",
    "results.to_json(\"Bart-TL/topics_results_10_bart-tl-all.json\")"
   ]
  }
 ],
 "metadata": {
  "kernelspec": {
   "display_name": "base",
   "language": "python",
   "name": "python3"
  },
  "language_info": {
   "codemirror_mode": {
    "name": "ipython",
    "version": 3
   },
   "file_extension": ".py",
   "mimetype": "text/x-python",
   "name": "python",
   "nbconvert_exporter": "python",
   "pygments_lexer": "ipython3",
   "version": "3.9.13"
  },
  "orig_nbformat": 4
 },
 "nbformat": 4,
 "nbformat_minor": 2
}
