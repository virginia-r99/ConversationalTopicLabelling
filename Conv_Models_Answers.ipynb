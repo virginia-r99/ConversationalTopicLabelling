{
 "cells": [
  {
   "cell_type": "code",
   "execution_count": 1,
   "metadata": {},
   "outputs": [],
   "source": [
    "# Import libraries\n",
    "from transformers import pipeline, Conversation\n",
    "import pandas as pd\n",
    "import re"
   ]
  },
  {
   "cell_type": "code",
   "execution_count": 10,
   "metadata": {},
   "outputs": [],
   "source": [
    "# Define conversational models names\n",
    "conv_models = [\"PygmalionAI/pygmalion-6b\",\"facebook/blenderbot-400M-distill\",\\\n",
    "    \"microsoft/DialoGPT-medium\",\"microsoft/GODEL-v1_1-base-seq2seq\",\\\n",
    "    \"microsoft/DialoGPT-small\",\"facebook/blenderbot_small-90M\",\\\n",
    "    \"facebook/blenderbot-3B\",\"microsoft/DialoGPT-large\",\\\n",
    "    \"microsoft/GODEL-v1_1-large-seq2seq\",\"PygmalionAI/pygmalion-2.7b\"]\n",
    "\n",
    "conv_names = [\"pygmalion-6b\",\"blenderbot-400M-distill\",\\\n",
    "    \"DialoGPT-medium\",\"GODEL-v1_1-base-seq2seq\",\\\n",
    "    \"DialoGPT-small\",\"blenderbot_small-90M\",\\\n",
    "    \"blenderbot-3B\",\"DialoGPT-large\",\\\n",
    "    \"GODEL-v1_1-large-seq2seq\",\"pygmalion-2.7b\"]"
   ]
  },
  {
   "cell_type": "code",
   "execution_count": 3,
   "metadata": {},
   "outputs": [],
   "source": [
    "# Define conversational models names\n",
    "conv_models = [\"facebook/blenderbot-400M-distill\",\\\n",
    "    \"microsoft/DialoGPT-medium\",\"microsoft/GODEL-v1_1-base-seq2seq\",\\\n",
    "    \"microsoft/DialoGPT-small\",\"facebook/blenderbot_small-90M\",\\\n",
    "    \"facebook/blenderbot-3B\",\"microsoft/DialoGPT-large\",\\\n",
    "    \"microsoft/GODEL-v1_1-large-seq2seq\"]\n",
    "\n",
    "conv_names = [\"blenderbot-400M-distill\",\\\n",
    "    \"DialoGPT-medium\",\"GODEL-v1_1-base-seq2seq\",\\\n",
    "    \"DialoGPT-small\",\"blenderbot_small-90M\",\\\n",
    "    \"blenderbot-3B\",\"DialoGPT-large\",\\\n",
    "    \"GODEL-v1_1-large-seq2seq\"]\n"
   ]
  },
  {
   "cell_type": "code",
   "execution_count": 4,
   "metadata": {},
   "outputs": [],
   "source": [
    "# Read topics dataset\n",
    "topics = pd.read_json('topics_20news.json')\n",
    "\n",
    "# Define the number of words of the description to ask\n",
    "n = 1"
   ]
  },
  {
   "cell_type": "code",
   "execution_count": 6,
   "metadata": {},
   "outputs": [
    {
     "name": "stdout",
     "output_type": "stream",
     "text": [
      "The words 'game' are related to which common topic?\n",
      " I'm not sure, but I do know that the word \"gamble\" was first recorded in the 10th century in a Latin manuscript from the Southern Italy town of Gaeta in Lazio.\n",
      "The words 'god' are related to which common topic?\n",
      " The word \"god\" is derived from the Greek word \"άθος\".\n",
      "The words 'space' are related to which common topic?\n",
      " The word \"space\" is derived from the Greek \"species\"\n",
      "The words 'patient' are related to which common topic?\n",
      " I'm not sure, but I do know that the word is derived from Latin.\n",
      "The words 'government' are related to which common topic?\n",
      " I'm not sure, but I do know that the term \"golden age\" was coined in the late 19th century.\n",
      "The words 'mac' are related to which common topic?\n",
      " The word \"mac\" is derived from the Latin word \"Macus\".\n",
      "The words 'armenian' are related to which common topic?\n",
      " The word \"armenia\" means \"little armoured one\" in Italian.\n",
      "The words 'drive' are related to which common topic?\n",
      " The word \"drive\" is derived from the Latin \"driver\"\n",
      "The words 'offer' are related to which common topic?\n",
      " The word \"offer\" is derived from the Latin word \"opera\" which means \"work\".\n",
      "The words 'work' are related to which common topic?\n",
      " I'm not sure, but the word \"work\" is derived from the Latin word for work.\n",
      "The words 'window' are related to which common topic?\n",
      " The word \"windows\" is derived from the Latin word for \"winter\".\n",
      "The words 'bike' are related to which common topic?\n",
      " The word \"bike\" is derived from the Latin word bicycle.\n",
      "The words 'game' are related to which common topic?\n",
      " I'm not sure, but I do know that the word \"gamble\" was first recorded in the 10th century in a Latin manuscript from the Southern Italy town of Gaeta in Lazio.\n",
      "The words 'god' are related to which common topic?\n",
      " The word \"god\" is derived from the Greek word \"άθος\".\n",
      "The words 'gun' are related to which common topic?\n",
      " The word \"gun\" is derived from the Greek word \"graphein\" which means to shoot.\n",
      "The words 'image' are related to which common topic?\n",
      " The word \"image\" is derived from the Latin word \"mage\"\n",
      "The words 'car' are related to which common topic?\n",
      " The word car is derived from the Latin word \"cravail\" which means to drive.\n",
      "The words 'god' are related to which common topic?\n",
      " The word \"god\" is derived from the Greek word \"άθος\".\n",
      "The words 'window' are related to which common topic?\n",
      " The word \"windows\" is derived from the Latin word for \"winter\".\n",
      "The words 'key' are related to which common topic?\n",
      " The word \"key\" is derived from the Greek word \"kōn\" which means to write.\n",
      "Results saved: blenderbot-400M-distill\n"
     ]
    },
    {
     "name": "stderr",
     "output_type": "stream",
     "text": [
      "c:\\Users\\Virginia\\anaconda3\\lib\\site-packages\\transformers\\generation\\utils.py:1186: UserWarning: You have modified the pretrained model configuration to control generation. This is a deprecated strategy to control generation and will be removed soon, in a future version. Please use a generation configuration file (see https://huggingface.co/docs/transformers/main_classes/text_generation)\n",
      "  warnings.warn(\n",
      "The attention mask and the pad token id were not set. As a consequence, you may observe unexpected behavior. Please pass your input's `attention_mask` to obtain reliable results.\n",
      "Setting `pad_token_id` to `eos_token_id`:50256 for open-end generation.\n",
      "A decoder-only architecture is being used, but right-padding was detected! For correct generation results, please set `padding_side='left'` when initializing the tokenizer.\n"
     ]
    },
    {
     "name": "stdout",
     "output_type": "stream",
     "text": [
      "The words 'game' are related to which common topic?\n"
     ]
    },
    {
     "name": "stderr",
     "output_type": "stream",
     "text": [
      "The attention mask and the pad token id were not set. As a consequence, you may observe unexpected behavior. Please pass your input's `attention_mask` to obtain reliable results.\n",
      "Setting `pad_token_id` to `eos_token_id`:50256 for open-end generation.\n",
      "A decoder-only architecture is being used, but right-padding was detected! For correct generation results, please set `padding_side='left'` when initializing the tokenizer.\n"
     ]
    },
    {
     "name": "stdout",
     "output_type": "stream",
     "text": [
      "I think it's the game of thrones\n",
      "The words 'god' are related to which common topic?\n"
     ]
    },
    {
     "name": "stderr",
     "output_type": "stream",
     "text": [
      "The attention mask and the pad token id were not set. As a consequence, you may observe unexpected behavior. Please pass your input's `attention_mask` to obtain reliable results.\n",
      "Setting `pad_token_id` to `eos_token_id`:50256 for open-end generation.\n",
      "A decoder-only architecture is being used, but right-padding was detected! For correct generation results, please set `padding_side='left'` when initializing the tokenizer.\n"
     ]
    },
    {
     "name": "stdout",
     "output_type": "stream",
     "text": [
      "I think it's the word'god '.\n",
      "The words 'space' are related to which common topic?\n"
     ]
    },
    {
     "name": "stderr",
     "output_type": "stream",
     "text": [
      "The attention mask and the pad token id were not set. As a consequence, you may observe unexpected behavior. Please pass your input's `attention_mask` to obtain reliable results.\n",
      "Setting `pad_token_id` to `eos_token_id`:50256 for open-end generation.\n",
      "A decoder-only architecture is being used, but right-padding was detected! For correct generation results, please set `padding_side='left'` when initializing the tokenizer.\n"
     ]
    },
    {
     "name": "stdout",
     "output_type": "stream",
     "text": [
      "I think it's the space between the words.\n",
      "The words 'patient' are related to which common topic?\n"
     ]
    },
    {
     "name": "stderr",
     "output_type": "stream",
     "text": [
      "The attention mask and the pad token id were not set. As a consequence, you may observe unexpected behavior. Please pass your input's `attention_mask` to obtain reliable results.\n",
      "Setting `pad_token_id` to `eos_token_id`:50256 for open-end generation.\n",
      "A decoder-only architecture is being used, but right-padding was detected! For correct generation results, please set `padding_side='left'` when initializing the tokenizer.\n"
     ]
    },
    {
     "name": "stdout",
     "output_type": "stream",
     "text": [
      "I think it's the word'patient '.\n",
      "The words 'government' are related to which common topic?\n"
     ]
    },
    {
     "name": "stderr",
     "output_type": "stream",
     "text": [
      "The attention mask and the pad token id were not set. As a consequence, you may observe unexpected behavior. Please pass your input's `attention_mask` to obtain reliable results.\n",
      "Setting `pad_token_id` to `eos_token_id`:50256 for open-end generation.\n",
      "A decoder-only architecture is being used, but right-padding was detected! For correct generation results, please set `padding_side='left'` when initializing the tokenizer.\n"
     ]
    },
    {
     "name": "stdout",
     "output_type": "stream",
     "text": [
      "Government is a common topic in the US.\n",
      "The words 'mac' are related to which common topic?\n"
     ]
    },
    {
     "name": "stderr",
     "output_type": "stream",
     "text": [
      "The attention mask and the pad token id were not set. As a consequence, you may observe unexpected behavior. Please pass your input's `attention_mask` to obtain reliable results.\n",
      "Setting `pad_token_id` to `eos_token_id`:50256 for open-end generation.\n",
      "A decoder-only architecture is being used, but right-padding was detected! For correct generation results, please set `padding_side='left'` when initializing the tokenizer.\n"
     ]
    },
    {
     "name": "stdout",
     "output_type": "stream",
     "text": [
      "I think it's a reference to the movie Mac and Me.\n",
      "The words 'armenian' are related to which common topic?\n"
     ]
    },
    {
     "name": "stderr",
     "output_type": "stream",
     "text": [
      "The attention mask and the pad token id were not set. As a consequence, you may observe unexpected behavior. Please pass your input's `attention_mask` to obtain reliable results.\n",
      "Setting `pad_token_id` to `eos_token_id`:50256 for open-end generation.\n",
      "A decoder-only architecture is being used, but right-padding was detected! For correct generation results, please set `padding_side='left'` when initializing the tokenizer.\n"
     ]
    },
    {
     "name": "stdout",
     "output_type": "stream",
     "text": [
      "I think it's a reference to the movie The Martian.\n",
      "The words 'drive' are related to which common topic?\n"
     ]
    },
    {
     "name": "stderr",
     "output_type": "stream",
     "text": [
      "The attention mask and the pad token id were not set. As a consequence, you may observe unexpected behavior. Please pass your input's `attention_mask` to obtain reliable results.\n",
      "Setting `pad_token_id` to `eos_token_id`:50256 for open-end generation.\n",
      "A decoder-only architecture is being used, but right-padding was detected! For correct generation results, please set `padding_side='left'` when initializing the tokenizer.\n"
     ]
    },
    {
     "name": "stdout",
     "output_type": "stream",
     "text": [
      "I think it's a reference to the movie Drive.\n",
      "The words 'offer' are related to which common topic?\n"
     ]
    },
    {
     "name": "stderr",
     "output_type": "stream",
     "text": [
      "The attention mask and the pad token id were not set. As a consequence, you may observe unexpected behavior. Please pass your input's `attention_mask` to obtain reliable results.\n",
      "Setting `pad_token_id` to `eos_token_id`:50256 for open-end generation.\n",
      "A decoder-only architecture is being used, but right-padding was detected! For correct generation results, please set `padding_side='left'` when initializing the tokenizer.\n"
     ]
    },
    {
     "name": "stdout",
     "output_type": "stream",
     "text": [
      "I think it's the word'offer '.\n",
      "The words 'work' are related to which common topic?\n"
     ]
    },
    {
     "name": "stderr",
     "output_type": "stream",
     "text": [
      "The attention mask and the pad token id were not set. As a consequence, you may observe unexpected behavior. Please pass your input's `attention_mask` to obtain reliable results.\n",
      "Setting `pad_token_id` to `eos_token_id`:50256 for open-end generation.\n",
      "A decoder-only architecture is being used, but right-padding was detected! For correct generation results, please set `padding_side='left'` when initializing the tokenizer.\n"
     ]
    },
    {
     "name": "stdout",
     "output_type": "stream",
     "text": [
      "I think it's the word'work '.\n",
      "The words 'window' are related to which common topic?\n"
     ]
    },
    {
     "name": "stderr",
     "output_type": "stream",
     "text": [
      "The attention mask and the pad token id were not set. As a consequence, you may observe unexpected behavior. Please pass your input's `attention_mask` to obtain reliable results.\n",
      "Setting `pad_token_id` to `eos_token_id`:50256 for open-end generation.\n",
      "A decoder-only architecture is being used, but right-padding was detected! For correct generation results, please set `padding_side='left'` when initializing the tokenizer.\n"
     ]
    },
    {
     "name": "stdout",
     "output_type": "stream",
     "text": [
      "I think it's a reference to the movie The Window.\n",
      "The words 'bike' are related to which common topic?\n"
     ]
    },
    {
     "name": "stderr",
     "output_type": "stream",
     "text": [
      "The attention mask and the pad token id were not set. As a consequence, you may observe unexpected behavior. Please pass your input's `attention_mask` to obtain reliable results.\n",
      "Setting `pad_token_id` to `eos_token_id`:50256 for open-end generation.\n",
      "A decoder-only architecture is being used, but right-padding was detected! For correct generation results, please set `padding_side='left'` when initializing the tokenizer.\n"
     ]
    },
    {
     "name": "stdout",
     "output_type": "stream",
     "text": [
      "I think it's a reference to the fact that the bike is a bike.\n",
      "The words 'game' are related to which common topic?\n"
     ]
    },
    {
     "name": "stderr",
     "output_type": "stream",
     "text": [
      "The attention mask and the pad token id were not set. As a consequence, you may observe unexpected behavior. Please pass your input's `attention_mask` to obtain reliable results.\n",
      "Setting `pad_token_id` to `eos_token_id`:50256 for open-end generation.\n",
      "A decoder-only architecture is being used, but right-padding was detected! For correct generation results, please set `padding_side='left'` when initializing the tokenizer.\n"
     ]
    },
    {
     "name": "stdout",
     "output_type": "stream",
     "text": [
      "I think it's the game of thrones\n",
      "The words 'god' are related to which common topic?\n"
     ]
    },
    {
     "name": "stderr",
     "output_type": "stream",
     "text": [
      "The attention mask and the pad token id were not set. As a consequence, you may observe unexpected behavior. Please pass your input's `attention_mask` to obtain reliable results.\n",
      "Setting `pad_token_id` to `eos_token_id`:50256 for open-end generation.\n",
      "A decoder-only architecture is being used, but right-padding was detected! For correct generation results, please set `padding_side='left'` when initializing the tokenizer.\n"
     ]
    },
    {
     "name": "stdout",
     "output_type": "stream",
     "text": [
      "I think it's the word'god '.\n",
      "The words 'gun' are related to which common topic?\n"
     ]
    },
    {
     "name": "stderr",
     "output_type": "stream",
     "text": [
      "The attention mask and the pad token id were not set. As a consequence, you may observe unexpected behavior. Please pass your input's `attention_mask` to obtain reliable results.\n",
      "Setting `pad_token_id` to `eos_token_id`:50256 for open-end generation.\n",
      "A decoder-only architecture is being used, but right-padding was detected! For correct generation results, please set `padding_side='left'` when initializing the tokenizer.\n"
     ]
    },
    {
     "name": "stdout",
     "output_type": "stream",
     "text": [
      "I think it's a reference to the movie The Guns.\n",
      "The words 'image' are related to which common topic?\n"
     ]
    },
    {
     "name": "stderr",
     "output_type": "stream",
     "text": [
      "The attention mask and the pad token id were not set. As a consequence, you may observe unexpected behavior. Please pass your input's `attention_mask` to obtain reliable results.\n",
      "Setting `pad_token_id` to `eos_token_id`:50256 for open-end generation.\n",
      "A decoder-only architecture is being used, but right-padding was detected! For correct generation results, please set `padding_side='left'` when initializing the tokenizer.\n"
     ]
    },
    {
     "name": "stdout",
     "output_type": "stream",
     "text": [
      "I think it's the image of the image of the image of the image of the image of the image of the image of the image of the image of the image of the image.\n",
      "The words 'car' are related to which common topic?\n"
     ]
    },
    {
     "name": "stderr",
     "output_type": "stream",
     "text": [
      "The attention mask and the pad token id were not set. As a consequence, you may observe unexpected behavior. Please pass your input's `attention_mask` to obtain reliable results.\n",
      "Setting `pad_token_id` to `eos_token_id`:50256 for open-end generation.\n",
      "A decoder-only architecture is being used, but right-padding was detected! For correct generation results, please set `padding_side='left'` when initializing the tokenizer.\n"
     ]
    },
    {
     "name": "stdout",
     "output_type": "stream",
     "text": [
      "I think it's a reference to the car commercials.\n",
      "The words 'god' are related to which common topic?\n"
     ]
    },
    {
     "name": "stderr",
     "output_type": "stream",
     "text": [
      "The attention mask and the pad token id were not set. As a consequence, you may observe unexpected behavior. Please pass your input's `attention_mask` to obtain reliable results.\n",
      "Setting `pad_token_id` to `eos_token_id`:50256 for open-end generation.\n",
      "A decoder-only architecture is being used, but right-padding was detected! For correct generation results, please set `padding_side='left'` when initializing the tokenizer.\n"
     ]
    },
    {
     "name": "stdout",
     "output_type": "stream",
     "text": [
      "I think it's the word'god '.\n",
      "The words 'window' are related to which common topic?\n"
     ]
    },
    {
     "name": "stderr",
     "output_type": "stream",
     "text": [
      "The attention mask and the pad token id were not set. As a consequence, you may observe unexpected behavior. Please pass your input's `attention_mask` to obtain reliable results.\n",
      "Setting `pad_token_id` to `eos_token_id`:50256 for open-end generation.\n",
      "A decoder-only architecture is being used, but right-padding was detected! For correct generation results, please set `padding_side='left'` when initializing the tokenizer.\n"
     ]
    },
    {
     "name": "stdout",
     "output_type": "stream",
     "text": [
      "I think it's a reference to the movie The Window.\n",
      "The words 'key' are related to which common topic?\n",
      "I think it's the word'key '.\n",
      "Results saved: DialoGPT-medium\n"
     ]
    },
    {
     "name": "stderr",
     "output_type": "stream",
     "text": [
      "Conversation input is to long (14), trimming it to (20 - 10)\n"
     ]
    },
    {
     "name": "stdout",
     "output_type": "stream",
     "text": [
      "The words 'game' are related to which common topic?\n"
     ]
    },
    {
     "name": "stderr",
     "output_type": "stream",
     "text": [
      "Conversation input is to long (15), trimming it to (20 - 10)\n"
     ]
    },
    {
     "name": "stdout",
     "output_type": "stream",
     "text": [
      "I'm not sure but I'm not sure what the common topic is.\n",
      "The words 'god' are related to which common topic?\n"
     ]
    },
    {
     "name": "stderr",
     "output_type": "stream",
     "text": [
      "Conversation input is to long (14), trimming it to (20 - 10)\n"
     ]
    },
    {
     "name": "stdout",
     "output_type": "stream",
     "text": [
      "I'm not sure but I'm not sure what the common topic is.\n",
      "The words 'space' are related to which common topic?\n"
     ]
    },
    {
     "name": "stderr",
     "output_type": "stream",
     "text": [
      "Conversation input is to long (14), trimming it to (20 - 10)\n"
     ]
    },
    {
     "name": "stdout",
     "output_type": "stream",
     "text": [
      "I'm not sure, but I'm not sure what the common topic is.\n",
      "The words 'patient' are related to which common topic?\n"
     ]
    },
    {
     "name": "stderr",
     "output_type": "stream",
     "text": [
      "Conversation input is to long (14), trimming it to (20 - 10)\n"
     ]
    },
    {
     "name": "stdout",
     "output_type": "stream",
     "text": [
      "I'm not sure, but I'm a patient.\n",
      "The words 'government' are related to which common topic?\n"
     ]
    },
    {
     "name": "stderr",
     "output_type": "stream",
     "text": [
      "Conversation input is to long (14), trimming it to (20 - 10)\n"
     ]
    },
    {
     "name": "stdout",
     "output_type": "stream",
     "text": [
      "Government is a common topic in the US.\n",
      "The words 'mac' are related to which common topic?\n"
     ]
    },
    {
     "name": "stderr",
     "output_type": "stream",
     "text": [
      "Conversation input is to long (15), trimming it to (20 - 10)\n"
     ]
    },
    {
     "name": "stdout",
     "output_type": "stream",
     "text": [
      "I'm not sure, but I'm not sure what the common topic is.\n",
      "The words 'armenian' are related to which common topic?\n"
     ]
    },
    {
     "name": "stderr",
     "output_type": "stream",
     "text": [
      "Conversation input is to long (14), trimming it to (20 - 10)\n"
     ]
    },
    {
     "name": "stdout",
     "output_type": "stream",
     "text": [
      "I'm not sure, but I'm a neo-Na\n",
      "The words 'drive' are related to which common topic?\n"
     ]
    },
    {
     "name": "stderr",
     "output_type": "stream",
     "text": [
      "Conversation input is to long (15), trimming it to (20 - 10)\n"
     ]
    },
    {
     "name": "stdout",
     "output_type": "stream",
     "text": [
      "i'm not sure but i'm a big fan of the '\n",
      "The words 'offer' are related to which common topic?\n"
     ]
    },
    {
     "name": "stderr",
     "output_type": "stream",
     "text": [
      "Conversation input is to long (14), trimming it to (20 - 10)\n"
     ]
    },
    {
     "name": "stdout",
     "output_type": "stream",
     "text": [
      "I'm not sure but I'm not sure.\n",
      "The words 'work' are related to which common topic?\n"
     ]
    },
    {
     "name": "stderr",
     "output_type": "stream",
     "text": [
      "Conversation input is to long (15), trimming it to (20 - 10)\n"
     ]
    },
    {
     "name": "stdout",
     "output_type": "stream",
     "text": [
      "I'm not sure, but I'm not sure what the common topic is.\n",
      "The words 'window' are related to which common topic?\n"
     ]
    },
    {
     "name": "stderr",
     "output_type": "stream",
     "text": [
      "Conversation input is to long (14), trimming it to (20 - 10)\n"
     ]
    },
    {
     "name": "stdout",
     "output_type": "stream",
     "text": [
      "I'm not sure but I'm not sure.\n",
      "The words 'bike' are related to which common topic?\n"
     ]
    },
    {
     "name": "stderr",
     "output_type": "stream",
     "text": [
      "Conversation input is to long (14), trimming it to (20 - 10)\n"
     ]
    },
    {
     "name": "stdout",
     "output_type": "stream",
     "text": [
      "I'm not sure, but I'm a biker.\n",
      "The words 'game' are related to which common topic?\n"
     ]
    },
    {
     "name": "stderr",
     "output_type": "stream",
     "text": [
      "Conversation input is to long (15), trimming it to (20 - 10)\n"
     ]
    },
    {
     "name": "stdout",
     "output_type": "stream",
     "text": [
      "I'm not sure but I'm not sure what the common topic is.\n",
      "The words 'god' are related to which common topic?\n"
     ]
    },
    {
     "name": "stderr",
     "output_type": "stream",
     "text": [
      "Conversation input is to long (14), trimming it to (20 - 10)\n"
     ]
    },
    {
     "name": "stdout",
     "output_type": "stream",
     "text": [
      "I'm not sure but I'm not sure what the common topic is.\n",
      "The words 'gun' are related to which common topic?\n"
     ]
    },
    {
     "name": "stderr",
     "output_type": "stream",
     "text": [
      "Conversation input is to long (14), trimming it to (20 - 10)\n"
     ]
    },
    {
     "name": "stdout",
     "output_type": "stream",
     "text": [
      "Guns are a common topic in the US.\n",
      "The words 'image' are related to which common topic?\n"
     ]
    },
    {
     "name": "stderr",
     "output_type": "stream",
     "text": [
      "Conversation input is to long (14), trimming it to (20 - 10)\n"
     ]
    },
    {
     "name": "stdout",
     "output_type": "stream",
     "text": [
      "i'm not sure but i'm not sure what the common topic is\n",
      "The words 'car' are related to which common topic?\n"
     ]
    },
    {
     "name": "stderr",
     "output_type": "stream",
     "text": [
      "Conversation input is to long (15), trimming it to (20 - 10)\n"
     ]
    },
    {
     "name": "stdout",
     "output_type": "stream",
     "text": [
      "i'm not sure, but i think it's a good question\n",
      "The words 'god' are related to which common topic?\n"
     ]
    },
    {
     "name": "stderr",
     "output_type": "stream",
     "text": [
      "Conversation input is to long (15), trimming it to (20 - 10)\n"
     ]
    },
    {
     "name": "stdout",
     "output_type": "stream",
     "text": [
      "I'm not sure but I'm not sure what the common topic is.\n",
      "The words 'window' are related to which common topic?\n"
     ]
    },
    {
     "name": "stderr",
     "output_type": "stream",
     "text": [
      "Conversation input is to long (14), trimming it to (20 - 10)\n"
     ]
    },
    {
     "name": "stdout",
     "output_type": "stream",
     "text": [
      "I'm not sure but I'm not sure.\n",
      "The words 'key' are related to which common topic?\n",
      "i'm not sure but i'm not sure.\n",
      "Results saved: GODEL-v1_1-base-seq2seq\n"
     ]
    },
    {
     "name": "stderr",
     "output_type": "stream",
     "text": [
      "c:\\Users\\Virginia\\anaconda3\\lib\\site-packages\\transformers\\generation\\utils.py:1186: UserWarning: You have modified the pretrained model configuration to control generation. This is a deprecated strategy to control generation and will be removed soon, in a future version. Please use a generation configuration file (see https://huggingface.co/docs/transformers/main_classes/text_generation)\n",
      "  warnings.warn(\n",
      "The attention mask and the pad token id were not set. As a consequence, you may observe unexpected behavior. Please pass your input's `attention_mask` to obtain reliable results.\n",
      "Setting `pad_token_id` to `eos_token_id`:50256 for open-end generation.\n",
      "A decoder-only architecture is being used, but right-padding was detected! For correct generation results, please set `padding_side='left'` when initializing the tokenizer.\n"
     ]
    },
    {
     "name": "stdout",
     "output_type": "stream",
     "text": [
      "The words 'game' are related to which common topic?\n"
     ]
    },
    {
     "name": "stderr",
     "output_type": "stream",
     "text": [
      "The attention mask and the pad token id were not set. As a consequence, you may observe unexpected behavior. Please pass your input's `attention_mask` to obtain reliable results.\n",
      "Setting `pad_token_id` to `eos_token_id`:50256 for open-end generation.\n",
      "A decoder-only architecture is being used, but right-padding was detected! For correct generation results, please set `padding_side='left'` when initializing the tokenizer.\n"
     ]
    },
    {
     "name": "stdout",
     "output_type": "stream",
     "text": [
      "I don't think you understand the word'game '.\n",
      "The words 'god' are related to which common topic?\n"
     ]
    },
    {
     "name": "stderr",
     "output_type": "stream",
     "text": [
      "The attention mask and the pad token id were not set. As a consequence, you may observe unexpected behavior. Please pass your input's `attention_mask` to obtain reliable results.\n",
      "Setting `pad_token_id` to `eos_token_id`:50256 for open-end generation.\n",
      "A decoder-only architecture is being used, but right-padding was detected! For correct generation results, please set `padding_side='left'` when initializing the tokenizer.\n"
     ]
    },
    {
     "name": "stdout",
     "output_type": "stream",
     "text": [
      "I don't think you understand the word god.\n",
      "The words 'space' are related to which common topic?\n"
     ]
    },
    {
     "name": "stderr",
     "output_type": "stream",
     "text": [
      "The attention mask and the pad token id were not set. As a consequence, you may observe unexpected behavior. Please pass your input's `attention_mask` to obtain reliable results.\n",
      "Setting `pad_token_id` to `eos_token_id`:50256 for open-end generation.\n",
      "A decoder-only architecture is being used, but right-padding was detected! For correct generation results, please set `padding_side='left'` when initializing the tokenizer.\n"
     ]
    },
    {
     "name": "stdout",
     "output_type": "stream",
     "text": [
      "I'm not sure what you're trying to say.\n",
      "The words 'patient' are related to which common topic?\n"
     ]
    },
    {
     "name": "stderr",
     "output_type": "stream",
     "text": [
      "The attention mask and the pad token id were not set. As a consequence, you may observe unexpected behavior. Please pass your input's `attention_mask` to obtain reliable results.\n",
      "Setting `pad_token_id` to `eos_token_id`:50256 for open-end generation.\n",
      "A decoder-only architecture is being used, but right-padding was detected! For correct generation results, please set `padding_side='left'` when initializing the tokenizer.\n"
     ]
    },
    {
     "name": "stdout",
     "output_type": "stream",
     "text": [
      "I'm not sure what you're asking.\n",
      "The words 'government' are related to which common topic?\n"
     ]
    },
    {
     "name": "stderr",
     "output_type": "stream",
     "text": [
      "The attention mask and the pad token id were not set. As a consequence, you may observe unexpected behavior. Please pass your input's `attention_mask` to obtain reliable results.\n",
      "Setting `pad_token_id` to `eos_token_id`:50256 for open-end generation.\n",
      "A decoder-only architecture is being used, but right-padding was detected! For correct generation results, please set `padding_side='left'` when initializing the tokenizer.\n"
     ]
    },
    {
     "name": "stdout",
     "output_type": "stream",
     "text": [
      "I'm not sure what you're trying to say.\n",
      "The words 'mac' are related to which common topic?\n"
     ]
    },
    {
     "name": "stderr",
     "output_type": "stream",
     "text": [
      "The attention mask and the pad token id were not set. As a consequence, you may observe unexpected behavior. Please pass your input's `attention_mask` to obtain reliable results.\n",
      "Setting `pad_token_id` to `eos_token_id`:50256 for open-end generation.\n",
      "A decoder-only architecture is being used, but right-padding was detected! For correct generation results, please set `padding_side='left'` when initializing the tokenizer.\n"
     ]
    },
    {
     "name": "stdout",
     "output_type": "stream",
     "text": [
      "I'm not sure what you're trying to say.\n",
      "The words 'armenian' are related to which common topic?\n"
     ]
    },
    {
     "name": "stderr",
     "output_type": "stream",
     "text": [
      "The attention mask and the pad token id were not set. As a consequence, you may observe unexpected behavior. Please pass your input's `attention_mask` to obtain reliable results.\n",
      "Setting `pad_token_id` to `eos_token_id`:50256 for open-end generation.\n",
      "A decoder-only architecture is being used, but right-padding was detected! For correct generation results, please set `padding_side='left'` when initializing the tokenizer.\n"
     ]
    },
    {
     "name": "stdout",
     "output_type": "stream",
     "text": [
      "I'm not sure what you're trying to say.\n",
      "The words 'drive' are related to which common topic?\n"
     ]
    },
    {
     "name": "stderr",
     "output_type": "stream",
     "text": [
      "The attention mask and the pad token id were not set. As a consequence, you may observe unexpected behavior. Please pass your input's `attention_mask` to obtain reliable results.\n",
      "Setting `pad_token_id` to `eos_token_id`:50256 for open-end generation.\n",
      "A decoder-only architecture is being used, but right-padding was detected! For correct generation results, please set `padding_side='left'` when initializing the tokenizer.\n"
     ]
    },
    {
     "name": "stdout",
     "output_type": "stream",
     "text": [
      "I'm not sure what you're trying to say.\n",
      "The words 'offer' are related to which common topic?\n"
     ]
    },
    {
     "name": "stderr",
     "output_type": "stream",
     "text": [
      "The attention mask and the pad token id were not set. As a consequence, you may observe unexpected behavior. Please pass your input's `attention_mask` to obtain reliable results.\n",
      "Setting `pad_token_id` to `eos_token_id`:50256 for open-end generation.\n",
      "A decoder-only architecture is being used, but right-padding was detected! For correct generation results, please set `padding_side='left'` when initializing the tokenizer.\n"
     ]
    },
    {
     "name": "stdout",
     "output_type": "stream",
     "text": [
      "I'm not sure what you mean by that.\n",
      "The words 'work' are related to which common topic?\n"
     ]
    },
    {
     "name": "stderr",
     "output_type": "stream",
     "text": [
      "The attention mask and the pad token id were not set. As a consequence, you may observe unexpected behavior. Please pass your input's `attention_mask` to obtain reliable results.\n",
      "Setting `pad_token_id` to `eos_token_id`:50256 for open-end generation.\n",
      "A decoder-only architecture is being used, but right-padding was detected! For correct generation results, please set `padding_side='left'` when initializing the tokenizer.\n"
     ]
    },
    {
     "name": "stdout",
     "output_type": "stream",
     "text": [
      "I'm not sure what you're trying to say.\n",
      "The words 'window' are related to which common topic?\n"
     ]
    },
    {
     "name": "stderr",
     "output_type": "stream",
     "text": [
      "The attention mask and the pad token id were not set. As a consequence, you may observe unexpected behavior. Please pass your input's `attention_mask` to obtain reliable results.\n",
      "Setting `pad_token_id` to `eos_token_id`:50256 for open-end generation.\n",
      "A decoder-only architecture is being used, but right-padding was detected! For correct generation results, please set `padding_side='left'` when initializing the tokenizer.\n"
     ]
    },
    {
     "name": "stdout",
     "output_type": "stream",
     "text": [
      "I think you're confusing the word'window'with'window '.\n",
      "The words 'bike' are related to which common topic?\n"
     ]
    },
    {
     "name": "stderr",
     "output_type": "stream",
     "text": [
      "The attention mask and the pad token id were not set. As a consequence, you may observe unexpected behavior. Please pass your input's `attention_mask` to obtain reliable results.\n",
      "Setting `pad_token_id` to `eos_token_id`:50256 for open-end generation.\n",
      "A decoder-only architecture is being used, but right-padding was detected! For correct generation results, please set `padding_side='left'` when initializing the tokenizer.\n"
     ]
    },
    {
     "name": "stdout",
     "output_type": "stream",
     "text": [
      "I'm not sure what you're trying to say.\n",
      "The words 'game' are related to which common topic?\n"
     ]
    },
    {
     "name": "stderr",
     "output_type": "stream",
     "text": [
      "The attention mask and the pad token id were not set. As a consequence, you may observe unexpected behavior. Please pass your input's `attention_mask` to obtain reliable results.\n",
      "Setting `pad_token_id` to `eos_token_id`:50256 for open-end generation.\n",
      "A decoder-only architecture is being used, but right-padding was detected! For correct generation results, please set `padding_side='left'` when initializing the tokenizer.\n"
     ]
    },
    {
     "name": "stdout",
     "output_type": "stream",
     "text": [
      "I don't think you understand the word'game '.\n",
      "The words 'god' are related to which common topic?\n"
     ]
    },
    {
     "name": "stderr",
     "output_type": "stream",
     "text": [
      "The attention mask and the pad token id were not set. As a consequence, you may observe unexpected behavior. Please pass your input's `attention_mask` to obtain reliable results.\n",
      "Setting `pad_token_id` to `eos_token_id`:50256 for open-end generation.\n",
      "A decoder-only architecture is being used, but right-padding was detected! For correct generation results, please set `padding_side='left'` when initializing the tokenizer.\n"
     ]
    },
    {
     "name": "stdout",
     "output_type": "stream",
     "text": [
      "I don't think you understand the word god.\n",
      "The words 'gun' are related to which common topic?\n"
     ]
    },
    {
     "name": "stderr",
     "output_type": "stream",
     "text": [
      "The attention mask and the pad token id were not set. As a consequence, you may observe unexpected behavior. Please pass your input's `attention_mask` to obtain reliable results.\n",
      "Setting `pad_token_id` to `eos_token_id`:50256 for open-end generation.\n",
      "A decoder-only architecture is being used, but right-padding was detected! For correct generation results, please set `padding_side='left'` when initializing the tokenizer.\n"
     ]
    },
    {
     "name": "stdout",
     "output_type": "stream",
     "text": [
      "I'm not sure what you're trying to say.\n",
      "The words 'image' are related to which common topic?\n"
     ]
    },
    {
     "name": "stderr",
     "output_type": "stream",
     "text": [
      "The attention mask and the pad token id were not set. As a consequence, you may observe unexpected behavior. Please pass your input's `attention_mask` to obtain reliable results.\n",
      "Setting `pad_token_id` to `eos_token_id`:50256 for open-end generation.\n",
      "A decoder-only architecture is being used, but right-padding was detected! For correct generation results, please set `padding_side='left'` when initializing the tokenizer.\n"
     ]
    },
    {
     "name": "stdout",
     "output_type": "stream",
     "text": [
      "I don't think it's related to the topic at hand.\n",
      "The words 'car' are related to which common topic?\n"
     ]
    },
    {
     "name": "stderr",
     "output_type": "stream",
     "text": [
      "The attention mask and the pad token id were not set. As a consequence, you may observe unexpected behavior. Please pass your input's `attention_mask` to obtain reliable results.\n",
      "Setting `pad_token_id` to `eos_token_id`:50256 for open-end generation.\n",
      "A decoder-only architecture is being used, but right-padding was detected! For correct generation results, please set `padding_side='left'` when initializing the tokenizer.\n"
     ]
    },
    {
     "name": "stdout",
     "output_type": "stream",
     "text": [
      "I'm not sure what you're trying to say.\n",
      "The words 'god' are related to which common topic?\n"
     ]
    },
    {
     "name": "stderr",
     "output_type": "stream",
     "text": [
      "The attention mask and the pad token id were not set. As a consequence, you may observe unexpected behavior. Please pass your input's `attention_mask` to obtain reliable results.\n",
      "Setting `pad_token_id` to `eos_token_id`:50256 for open-end generation.\n",
      "A decoder-only architecture is being used, but right-padding was detected! For correct generation results, please set `padding_side='left'` when initializing the tokenizer.\n"
     ]
    },
    {
     "name": "stdout",
     "output_type": "stream",
     "text": [
      "I don't think you understand the word god.\n",
      "The words 'window' are related to which common topic?\n"
     ]
    },
    {
     "name": "stderr",
     "output_type": "stream",
     "text": [
      "The attention mask and the pad token id were not set. As a consequence, you may observe unexpected behavior. Please pass your input's `attention_mask` to obtain reliable results.\n",
      "Setting `pad_token_id` to `eos_token_id`:50256 for open-end generation.\n",
      "A decoder-only architecture is being used, but right-padding was detected! For correct generation results, please set `padding_side='left'` when initializing the tokenizer.\n"
     ]
    },
    {
     "name": "stdout",
     "output_type": "stream",
     "text": [
      "I think you're confusing the word'window'with'window '.\n",
      "The words 'key' are related to which common topic?\n",
      "I'm not sure what you're trying to say.\n",
      "Results saved: DialoGPT-small\n",
      "The words 'game' are related to which common topic?\n",
      "i'm not sure, but i do know that the word \" game \" was first recorded in the 10th century.\n",
      "The words 'god' are related to which common topic?\n",
      "i am not sure what you mean by that. do you mean that the word \" god \" is related to the common topic?\n",
      "The words 'space' are related to which common topic?\n",
      "i'm not sure, but i do know that the word \" space \" was first recorded in the 10th century.\n",
      "The words 'patient' are related to which common topic?\n",
      "i'm not sure what the common topic is, but i do know that the word \" patient \" was first used in the 19th century.\n",
      "The words 'government' are related to which common topic?\n",
      "i'm not sure what common topic you're talking about. what do you mean?\n",
      "The words 'mac' are related to which common topic?\n",
      "i'm not sure what the common topic is, but i know it's a mac computer.\n",
      "The words 'armenian' are related to which common topic?\n",
      "i'm not sure, but i do know that the word \" armenian \" was first recorded in the 10th century.\n",
      "The words 'drive' are related to which common topic?\n",
      "i'm not sure, but i do know that i've never driven a car.\n",
      "The words 'offer' are related to which common topic?\n",
      "i'm not sure what common topic they're related to, but i do know that they've been around for a long time.\n",
      "The words 'work' are related to which common topic?\n",
      "i'm not sure what you mean. what do you mean by \" common topic \"?\n",
      "The words 'window' are related to which common topic?\n",
      "the word \" window \" was first recorded in the 10th century in a latin manuscript in italy.\n",
      "The words 'bike' are related to which common topic?\n",
      "the word \" bike \" was first recorded in the 10th century in a latin manuscript in italy.\n",
      "The words 'game' are related to which common topic?\n",
      "i'm not sure, but i do know that the word \" game \" was first recorded in the 10th century.\n",
      "The words 'god' are related to which common topic?\n",
      "i am not sure what you mean by that. do you mean that the word \" god \" is related to the common topic?\n",
      "The words 'gun' are related to which common topic?\n",
      "i'm not sure what the common topic is, but i do know that guns have been around for a long time.\n",
      "The words 'image' are related to which common topic?\n",
      "i'm not sure what you mean. what do you mean by \" common topic \"?\n",
      "The words 'car' are related to which common topic?\n",
      "i don't know. i'm not sure what the common topic is. what do you think?\n",
      "The words 'god' are related to which common topic?\n",
      "i am not sure what you mean by that. do you mean that the word \" god \" is related to the common topic?\n",
      "The words 'window' are related to which common topic?\n",
      "the word \" window \" was first recorded in the 10th century in a latin manuscript in italy.\n",
      "The words 'key' are related to which common topic?\n",
      "the word \" key \" was first recorded in the 10th century in a latin manuscript in italy.\n",
      "Results saved: blenderbot_small-90M\n"
     ]
    },
    {
     "name": "stderr",
     "output_type": "stream",
     "text": [
      "Special tokens have been added in the vocabulary, make sure the associated word embeddings are fine-tuned or trained.\n",
      "Special tokens have been added in the vocabulary, make sure the associated word embeddings are fine-tuned or trained.\n"
     ]
    },
    {
     "name": "stdout",
     "output_type": "stream",
     "text": [
      "The words 'game' are related to which common topic?\n",
      " The word \"game\" is derived from the Latin word \"gamus\" which means to play.\n",
      "The words 'god' are related to which common topic?\n",
      " The word \"god\" is used to refer to the creator of the universe.\n",
      "The words 'space' are related to which common topic?\n",
      " The word \"space\" is derived from the Greek word \"πουτός\"\n",
      "The words 'patient' are related to which common topic?\n",
      " The word patient is derived from the Latin word \"pater\" which means father.\n",
      "The words 'government' are related to which common topic?\n",
      " The word government is derived from the Latin word \"governale\" which means \"to govern\".\n",
      "The words 'mac' are related to which common topic?\n",
      " I'm not sure, but I do know that the word \"mac\" was first recorded in the 10th century.\n",
      "The words 'armenian' are related to which common topic?\n",
      " Armenia is a country in the Arabian Peninsula located in the Caucasus Mountains\n",
      "The words 'drive' are related to which common topic?\n",
      " Driving is the act of controlling a vehicle with two or more wheels.\n",
      "The words 'offer' are related to which common topic?\n",
      " Offer is a word that is used to indicate a proposal for a sale of goods or services.\n",
      "The words 'work' are related to which common topic?\n",
      " Work is related to the common topic of being employed. I'm not sure what you're getting at.\n",
      "The words 'window' are related to which common topic?\n",
      " The word window is derived from the Latin word \"windo\" which means window.\n",
      "The words 'bike' are related to which common topic?\n",
      " The word \"bike\" is derived from the Latin word for \"wheel\"\n",
      "The words 'game' are related to which common topic?\n",
      " The word \"game\" is derived from the Latin word \"gamus\" which means to play.\n",
      "The words 'god' are related to which common topic?\n",
      " The word \"god\" is used to refer to the creator of the universe.\n",
      "The words 'gun' are related to which common topic?\n",
      " The word \"gun\" is derived from the Greek word \"gōn\" which means sword.\n",
      "The words 'image' are related to which common topic?\n",
      " imgur.com is a popular image hosting site. It's a great way to share images.\n",
      "The words 'car' are related to which common topic?\n",
      " The word car is derived from the Latin word carre, which means horse.\n",
      "The words 'god' are related to which common topic?\n",
      " The word \"god\" is used to refer to the creator of the universe.\n",
      "The words 'window' are related to which common topic?\n",
      " The word window is derived from the Latin word \"windo\" which means window.\n",
      "The words 'key' are related to which common topic?\n",
      " I'm not sure, but I do know that the word \"key\" was first recorded in the 10th century.\n",
      "Results saved: blenderbot-3B\n"
     ]
    },
    {
     "name": "stderr",
     "output_type": "stream",
     "text": [
      "c:\\Users\\Virginia\\anaconda3\\lib\\site-packages\\transformers\\generation\\utils.py:1186: UserWarning: You have modified the pretrained model configuration to control generation. This is a deprecated strategy to control generation and will be removed soon, in a future version. Please use a generation configuration file (see https://huggingface.co/docs/transformers/main_classes/text_generation)\n",
      "  warnings.warn(\n",
      "The attention mask and the pad token id were not set. As a consequence, you may observe unexpected behavior. Please pass your input's `attention_mask` to obtain reliable results.\n",
      "Setting `pad_token_id` to `eos_token_id`:50256 for open-end generation.\n",
      "A decoder-only architecture is being used, but right-padding was detected! For correct generation results, please set `padding_side='left'` when initializing the tokenizer.\n"
     ]
    },
    {
     "name": "stdout",
     "output_type": "stream",
     "text": [
      "The words 'game' are related to which common topic?\n"
     ]
    },
    {
     "name": "stderr",
     "output_type": "stream",
     "text": [
      "The attention mask and the pad token id were not set. As a consequence, you may observe unexpected behavior. Please pass your input's `attention_mask` to obtain reliable results.\n",
      "Setting `pad_token_id` to `eos_token_id`:50256 for open-end generation.\n",
      "A decoder-only architecture is being used, but right-padding was detected! For correct generation results, please set `padding_side='left'` when initializing the tokenizer.\n"
     ]
    },
    {
     "name": "stdout",
     "output_type": "stream",
     "text": [
      "I think it's a reference to the game'The Sims '.\n",
      "The words 'god' are related to which common topic?\n"
     ]
    },
    {
     "name": "stderr",
     "output_type": "stream",
     "text": [
      "The attention mask and the pad token id were not set. As a consequence, you may observe unexpected behavior. Please pass your input's `attention_mask` to obtain reliable results.\n",
      "Setting `pad_token_id` to `eos_token_id`:50256 for open-end generation.\n",
      "A decoder-only architecture is being used, but right-padding was detected! For correct generation results, please set `padding_side='left'` when initializing the tokenizer.\n"
     ]
    },
    {
     "name": "stdout",
     "output_type": "stream",
     "text": [
      "I think it's a reference to the bible.\n",
      "The words 'space' are related to which common topic?\n"
     ]
    },
    {
     "name": "stderr",
     "output_type": "stream",
     "text": [
      "The attention mask and the pad token id were not set. As a consequence, you may observe unexpected behavior. Please pass your input's `attention_mask` to obtain reliable results.\n",
      "Setting `pad_token_id` to `eos_token_id`:50256 for open-end generation.\n",
      "A decoder-only architecture is being used, but right-padding was detected! For correct generation results, please set `padding_side='left'` when initializing the tokenizer.\n"
     ]
    },
    {
     "name": "stdout",
     "output_type": "stream",
     "text": [
      "Space is a common topic in the universe.\n",
      "The words 'patient' are related to which common topic?\n"
     ]
    },
    {
     "name": "stderr",
     "output_type": "stream",
     "text": [
      "The attention mask and the pad token id were not set. As a consequence, you may observe unexpected behavior. Please pass your input's `attention_mask` to obtain reliable results.\n",
      "Setting `pad_token_id` to `eos_token_id`:50256 for open-end generation.\n",
      "A decoder-only architecture is being used, but right-padding was detected! For correct generation results, please set `padding_side='left'` when initializing the tokenizer.\n"
     ]
    },
    {
     "name": "stdout",
     "output_type": "stream",
     "text": [
      "I think it's related to the word'patient '.\n",
      "The words 'government' are related to which common topic?\n"
     ]
    },
    {
     "name": "stderr",
     "output_type": "stream",
     "text": [
      "The attention mask and the pad token id were not set. As a consequence, you may observe unexpected behavior. Please pass your input's `attention_mask` to obtain reliable results.\n",
      "Setting `pad_token_id` to `eos_token_id`:50256 for open-end generation.\n",
      "A decoder-only architecture is being used, but right-padding was detected! For correct generation results, please set `padding_side='left'` when initializing the tokenizer.\n"
     ]
    },
    {
     "name": "stdout",
     "output_type": "stream",
     "text": [
      "The government is the government.\n",
      "The words 'mac' are related to which common topic?\n"
     ]
    },
    {
     "name": "stderr",
     "output_type": "stream",
     "text": [
      "The attention mask and the pad token id were not set. As a consequence, you may observe unexpected behavior. Please pass your input's `attention_mask` to obtain reliable results.\n",
      "Setting `pad_token_id` to `eos_token_id`:50256 for open-end generation.\n",
      "A decoder-only architecture is being used, but right-padding was detected! For correct generation results, please set `padding_side='left'` when initializing the tokenizer.\n"
     ]
    },
    {
     "name": "stdout",
     "output_type": "stream",
     "text": [
      "Mac is a word for macaroni.\n",
      "The words 'armenian' are related to which common topic?\n"
     ]
    },
    {
     "name": "stderr",
     "output_type": "stream",
     "text": [
      "The attention mask and the pad token id were not set. As a consequence, you may observe unexpected behavior. Please pass your input's `attention_mask` to obtain reliable results.\n",
      "Setting `pad_token_id` to `eos_token_id`:50256 for open-end generation.\n",
      "A decoder-only architecture is being used, but right-padding was detected! For correct generation results, please set `padding_side='left'` when initializing the tokenizer.\n"
     ]
    },
    {
     "name": "stdout",
     "output_type": "stream",
     "text": [
      "I think it's related to the word'armenian '.\n",
      "The words 'drive' are related to which common topic?\n"
     ]
    },
    {
     "name": "stderr",
     "output_type": "stream",
     "text": [
      "The attention mask and the pad token id were not set. As a consequence, you may observe unexpected behavior. Please pass your input's `attention_mask` to obtain reliable results.\n",
      "Setting `pad_token_id` to `eos_token_id`:50256 for open-end generation.\n",
      "A decoder-only architecture is being used, but right-padding was detected! For correct generation results, please set `padding_side='left'` when initializing the tokenizer.\n"
     ]
    },
    {
     "name": "stdout",
     "output_type": "stream",
     "text": [
      "I think it's a reference to the song Drive.\n",
      "The words 'offer' are related to which common topic?\n"
     ]
    },
    {
     "name": "stderr",
     "output_type": "stream",
     "text": [
      "The attention mask and the pad token id were not set. As a consequence, you may observe unexpected behavior. Please pass your input's `attention_mask` to obtain reliable results.\n",
      "Setting `pad_token_id` to `eos_token_id`:50256 for open-end generation.\n",
      "A decoder-only architecture is being used, but right-padding was detected! For correct generation results, please set `padding_side='left'` when initializing the tokenizer.\n"
     ]
    },
    {
     "name": "stdout",
     "output_type": "stream",
     "text": [
      "I think it's a reference to the show Archer.\n",
      "The words 'work' are related to which common topic?\n"
     ]
    },
    {
     "name": "stderr",
     "output_type": "stream",
     "text": [
      "The attention mask and the pad token id were not set. As a consequence, you may observe unexpected behavior. Please pass your input's `attention_mask` to obtain reliable results.\n",
      "Setting `pad_token_id` to `eos_token_id`:50256 for open-end generation.\n",
      "A decoder-only architecture is being used, but right-padding was detected! For correct generation results, please set `padding_side='left'` when initializing the tokenizer.\n"
     ]
    },
    {
     "name": "stdout",
     "output_type": "stream",
     "text": [
      "I think he means work as in work as in work as in work as in work as in work as in work as in work as in work as in work as in work.\n",
      "The words 'window' are related to which common topic?\n"
     ]
    },
    {
     "name": "stderr",
     "output_type": "stream",
     "text": [
      "The attention mask and the pad token id were not set. As a consequence, you may observe unexpected behavior. Please pass your input's `attention_mask` to obtain reliable results.\n",
      "Setting `pad_token_id` to `eos_token_id`:50256 for open-end generation.\n",
      "A decoder-only architecture is being used, but right-padding was detected! For correct generation results, please set `padding_side='left'` when initializing the tokenizer.\n"
     ]
    },
    {
     "name": "stdout",
     "output_type": "stream",
     "text": [
      "I think it's a reference to the word window.\n",
      "The words 'bike' are related to which common topic?\n"
     ]
    },
    {
     "name": "stderr",
     "output_type": "stream",
     "text": [
      "The attention mask and the pad token id were not set. As a consequence, you may observe unexpected behavior. Please pass your input's `attention_mask` to obtain reliable results.\n",
      "Setting `pad_token_id` to `eos_token_id`:50256 for open-end generation.\n",
      "A decoder-only architecture is being used, but right-padding was detected! For correct generation results, please set `padding_side='left'` when initializing the tokenizer.\n"
     ]
    },
    {
     "name": "stdout",
     "output_type": "stream",
     "text": [
      "I think it's related to the word'bike '.\n",
      "The words 'game' are related to which common topic?\n"
     ]
    },
    {
     "name": "stderr",
     "output_type": "stream",
     "text": [
      "The attention mask and the pad token id were not set. As a consequence, you may observe unexpected behavior. Please pass your input's `attention_mask` to obtain reliable results.\n",
      "Setting `pad_token_id` to `eos_token_id`:50256 for open-end generation.\n",
      "A decoder-only architecture is being used, but right-padding was detected! For correct generation results, please set `padding_side='left'` when initializing the tokenizer.\n"
     ]
    },
    {
     "name": "stdout",
     "output_type": "stream",
     "text": [
      "I think it's a reference to the game'The Sims '.\n",
      "The words 'god' are related to which common topic?\n"
     ]
    },
    {
     "name": "stderr",
     "output_type": "stream",
     "text": [
      "The attention mask and the pad token id were not set. As a consequence, you may observe unexpected behavior. Please pass your input's `attention_mask` to obtain reliable results.\n",
      "Setting `pad_token_id` to `eos_token_id`:50256 for open-end generation.\n",
      "A decoder-only architecture is being used, but right-padding was detected! For correct generation results, please set `padding_side='left'` when initializing the tokenizer.\n"
     ]
    },
    {
     "name": "stdout",
     "output_type": "stream",
     "text": [
      "I think it's a reference to the bible.\n",
      "The words 'gun' are related to which common topic?\n"
     ]
    },
    {
     "name": "stderr",
     "output_type": "stream",
     "text": [
      "The attention mask and the pad token id were not set. As a consequence, you may observe unexpected behavior. Please pass your input's `attention_mask` to obtain reliable results.\n",
      "Setting `pad_token_id` to `eos_token_id`:50256 for open-end generation.\n",
      "A decoder-only architecture is being used, but right-padding was detected! For correct generation results, please set `padding_side='left'` when initializing the tokenizer.\n"
     ]
    },
    {
     "name": "stdout",
     "output_type": "stream",
     "text": [
      "I think it's a reference to the song Gunshot by the band Bullet for my Valentine.\n",
      "The words 'image' are related to which common topic?\n"
     ]
    },
    {
     "name": "stderr",
     "output_type": "stream",
     "text": [
      "The attention mask and the pad token id were not set. As a consequence, you may observe unexpected behavior. Please pass your input's `attention_mask` to obtain reliable results.\n",
      "Setting `pad_token_id` to `eos_token_id`:50256 for open-end generation.\n",
      "A decoder-only architecture is being used, but right-padding was detected! For correct generation results, please set `padding_side='left'` when initializing the tokenizer.\n"
     ]
    },
    {
     "name": "stdout",
     "output_type": "stream",
     "text": [
      "I think it's a reference to the word image.\n",
      "The words 'car' are related to which common topic?\n"
     ]
    },
    {
     "name": "stderr",
     "output_type": "stream",
     "text": [
      "The attention mask and the pad token id were not set. As a consequence, you may observe unexpected behavior. Please pass your input's `attention_mask` to obtain reliable results.\n",
      "Setting `pad_token_id` to `eos_token_id`:50256 for open-end generation.\n",
      "A decoder-only architecture is being used, but right-padding was detected! For correct generation results, please set `padding_side='left'` when initializing the tokenizer.\n"
     ]
    },
    {
     "name": "stdout",
     "output_type": "stream",
     "text": [
      "I think it's a reference to the song Caravan Palace.\n",
      "The words 'god' are related to which common topic?\n"
     ]
    },
    {
     "name": "stderr",
     "output_type": "stream",
     "text": [
      "The attention mask and the pad token id were not set. As a consequence, you may observe unexpected behavior. Please pass your input's `attention_mask` to obtain reliable results.\n",
      "Setting `pad_token_id` to `eos_token_id`:50256 for open-end generation.\n",
      "A decoder-only architecture is being used, but right-padding was detected! For correct generation results, please set `padding_side='left'` when initializing the tokenizer.\n"
     ]
    },
    {
     "name": "stdout",
     "output_type": "stream",
     "text": [
      "I think it's a reference to the bible.\n",
      "The words 'window' are related to which common topic?\n"
     ]
    },
    {
     "name": "stderr",
     "output_type": "stream",
     "text": [
      "The attention mask and the pad token id were not set. As a consequence, you may observe unexpected behavior. Please pass your input's `attention_mask` to obtain reliable results.\n",
      "Setting `pad_token_id` to `eos_token_id`:50256 for open-end generation.\n",
      "A decoder-only architecture is being used, but right-padding was detected! For correct generation results, please set `padding_side='left'` when initializing the tokenizer.\n"
     ]
    },
    {
     "name": "stdout",
     "output_type": "stream",
     "text": [
      "I think it's a reference to the word window.\n",
      "The words 'key' are related to which common topic?\n",
      "I think it's a reference to the word key.\n",
      "Results saved: DialoGPT-large\n"
     ]
    },
    {
     "name": "stderr",
     "output_type": "stream",
     "text": [
      "Conversation input is to long (14), trimming it to (20 - 10)\n"
     ]
    },
    {
     "name": "stdout",
     "output_type": "stream",
     "text": [
      "The words 'game' are related to which common topic?\n"
     ]
    },
    {
     "name": "stderr",
     "output_type": "stream",
     "text": [
      "Conversation input is to long (15), trimming it to (20 - 10)\n"
     ]
    },
    {
     "name": "stdout",
     "output_type": "stream",
     "text": [
      "The game is related to the topic of the game\n",
      "The words 'god' are related to which common topic?\n"
     ]
    },
    {
     "name": "stderr",
     "output_type": "stream",
     "text": [
      "Conversation input is to long (14), trimming it to (20 - 10)\n"
     ]
    },
    {
     "name": "stdout",
     "output_type": "stream",
     "text": [
      "'Disabled' and 'disabled' are related to which\n",
      "The words 'space' are related to which common topic?\n"
     ]
    },
    {
     "name": "stderr",
     "output_type": "stream",
     "text": [
      "Conversation input is to long (14), trimming it to (20 - 10)\n"
     ]
    },
    {
     "name": "stdout",
     "output_type": "stream",
     "text": [
      "Space is related to the common topic of space\n",
      "The words 'patient' are related to which common topic?\n"
     ]
    },
    {
     "name": "stderr",
     "output_type": "stream",
     "text": [
      "Conversation input is to long (14), trimming it to (20 - 10)\n"
     ]
    },
    {
     "name": "stdout",
     "output_type": "stream",
     "text": [
      "Patient is related to the word patient\n",
      "The words 'government' are related to which common topic?\n"
     ]
    },
    {
     "name": "stderr",
     "output_type": "stream",
     "text": [
      "Conversation input is to long (14), trimming it to (20 - 10)\n"
     ]
    },
    {
     "name": "stdout",
     "output_type": "stream",
     "text": [
      "The government is related to the government.\n",
      "The words 'mac' are related to which common topic?\n"
     ]
    },
    {
     "name": "stderr",
     "output_type": "stream",
     "text": [
      "Conversation input is to long (15), trimming it to (20 - 10)\n"
     ]
    },
    {
     "name": "stdout",
     "output_type": "stream",
     "text": [
      "Macs are related to the word mac\n",
      "The words 'armenian' are related to which common topic?\n"
     ]
    },
    {
     "name": "stderr",
     "output_type": "stream",
     "text": [
      "Conversation input is to long (14), trimming it to (20 - 10)\n"
     ]
    },
    {
     "name": "stdout",
     "output_type": "stream",
     "text": [
      "The 'n' in'n' is a contraction of 'n\n",
      "The words 'drive' are related to which common topic?\n"
     ]
    },
    {
     "name": "stderr",
     "output_type": "stream",
     "text": [
      "Conversation input is to long (15), trimming it to (20 - 10)\n"
     ]
    },
    {
     "name": "stdout",
     "output_type": "stream",
     "text": [
      "'drive' and 'driver' are related to which common topic?\n",
      "The words 'offer' are related to which common topic?\n"
     ]
    },
    {
     "name": "stderr",
     "output_type": "stream",
     "text": [
      "Conversation input is to long (14), trimming it to (20 - 10)\n"
     ]
    },
    {
     "name": "stdout",
     "output_type": "stream",
     "text": [
      "The's' and 'e' are related to the's' in\n",
      "The words 'work' are related to which common topic?\n"
     ]
    },
    {
     "name": "stderr",
     "output_type": "stream",
     "text": [
      "Conversation input is to long (15), trimming it to (20 - 10)\n"
     ]
    },
    {
     "name": "stdout",
     "output_type": "stream",
     "text": [
      "Work is related to what common topic?\n",
      "The words 'window' are related to which common topic?\n"
     ]
    },
    {
     "name": "stderr",
     "output_type": "stream",
     "text": [
      "Conversation input is to long (14), trimming it to (20 - 10)\n"
     ]
    },
    {
     "name": "stdout",
     "output_type": "stream",
     "text": [
      "'Wow' is related to which common topic?\n",
      "The words 'bike' are related to which common topic?\n"
     ]
    },
    {
     "name": "stderr",
     "output_type": "stream",
     "text": [
      "Conversation input is to long (14), trimming it to (20 - 10)\n"
     ]
    },
    {
     "name": "stdout",
     "output_type": "stream",
     "text": [
      "'bike' is related to 'bike'\n",
      "The words 'game' are related to which common topic?\n"
     ]
    },
    {
     "name": "stderr",
     "output_type": "stream",
     "text": [
      "Conversation input is to long (15), trimming it to (20 - 10)\n"
     ]
    },
    {
     "name": "stdout",
     "output_type": "stream",
     "text": [
      "The game is related to the topic of the game\n",
      "The words 'god' are related to which common topic?\n"
     ]
    },
    {
     "name": "stderr",
     "output_type": "stream",
     "text": [
      "Conversation input is to long (14), trimming it to (20 - 10)\n"
     ]
    },
    {
     "name": "stdout",
     "output_type": "stream",
     "text": [
      "'Disabled' and 'disabled' are related to which\n",
      "The words 'gun' are related to which common topic?\n"
     ]
    },
    {
     "name": "stderr",
     "output_type": "stream",
     "text": [
      "Conversation input is to long (14), trimming it to (20 - 10)\n"
     ]
    },
    {
     "name": "stdout",
     "output_type": "stream",
     "text": [
      "Guns are related to the topic of gun control\n",
      "The words 'image' are related to which common topic?\n"
     ]
    },
    {
     "name": "stderr",
     "output_type": "stream",
     "text": [
      "Conversation input is to long (14), trimming it to (20 - 10)\n"
     ]
    },
    {
     "name": "stdout",
     "output_type": "stream",
     "text": [
      "'image' are related to which common topic?\n",
      "The words 'car' are related to which common topic?\n"
     ]
    },
    {
     "name": "stderr",
     "output_type": "stream",
     "text": [
      "Conversation input is to long (15), trimming it to (20 - 10)\n"
     ]
    },
    {
     "name": "stdout",
     "output_type": "stream",
     "text": [
      "Cars are related to what common topic?\n",
      "The words 'god' are related to which common topic?\n"
     ]
    },
    {
     "name": "stderr",
     "output_type": "stream",
     "text": [
      "Conversation input is to long (15), trimming it to (20 - 10)\n"
     ]
    },
    {
     "name": "stdout",
     "output_type": "stream",
     "text": [
      "'Disabled' and 'disabled' are related to which\n",
      "The words 'window' are related to which common topic?\n"
     ]
    },
    {
     "name": "stderr",
     "output_type": "stream",
     "text": [
      "Conversation input is to long (14), trimming it to (20 - 10)\n"
     ]
    },
    {
     "name": "stdout",
     "output_type": "stream",
     "text": [
      "'Wow' is related to which common topic?\n",
      "The words 'key' are related to which common topic?\n",
      "'key' and 'keyboard' are related to which common topic?\n",
      "Results saved: GODEL-v1_1-large-seq2seq\n",
      "The words 'game' 'team' are related to which common topic?\n",
      " I'm not sure, but I do know that the word \"game\" was first recorded in the 10th century.\n",
      "The words 'god' 'religion' are related to which common topic?\n",
      " The word \"god\" is derived from the Greek word \"άθλος\".\n",
      "The words 'space' 'nasa' are related to which common topic?\n",
      " The word \"space\" is derived from the Greek word \"asa\"\n",
      "The words 'patient' 'disease' are related to which common topic?\n",
      " I'm not sure, but I do know that the word \"dissex\" is used to describe someone who has a mental disorder.\n",
      "The words 'government' 'president' are related to which common topic?\n",
      " I'm not sure, but I do know that the term \"resident\" has been around since the 13th century.\n",
      "The words 'mac' 'apple' are related to which common topic?\n",
      " The word \"apple\" is derived from the Greek word \"aple\"\n",
      "The words 'armenian' 'israel' are related to which common topic?\n",
      " The word \"armenia\" means \"little armoured one\" in Latin.\n",
      "The words 'drive' 'card' are related to which common topic?\n",
      " The word \"drive\" is derived from the Latin word \"cardi\" which means to drive.\n",
      "The words 'offer' 'sale' are related to which common topic?\n",
      " I'm not sure, but I do know that the word \"offer\" is derived from the Latin word \"sale\" which means \"work\".\n",
      "The words 'work' 'circuit' are related to which common topic?\n",
      " I'm not sure, but I do know that the word circuit is derived from the Latin word \"circus\".\n",
      "The words 'window' 'file' are related to which common topic?\n",
      " The word \"file\" is derived from the Latin word \"flatus\".\n",
      "The words 'bike' 'ride' are related to which common topic?\n",
      " The word \"bike\" is derived from the Latin word bicycle.\n",
      "The words 'game' 'team' are related to which common topic?\n",
      " I'm not sure, but I do know that the word \"game\" was first recorded in the 10th century.\n",
      "The words 'god' 'christian' are related to which common topic?\n",
      " The word \"God\" is derived from the Greek word \"ḥātōchtli\".\n",
      "The words 'gun' 'government' are related to which common topic?\n",
      " I'm not sure, but I do know that the word \"gun\" was first recorded in the 10th century in a Latin manuscript from the Southern Italy town of Gaeta in Lazio.\n",
      "The words 'image' 'file' are related to which common topic?\n",
      " The word \"file\" is derived from the Latin word for \"straight\"\n",
      "The words 'car' 'engine' are related to which common topic?\n",
      " I'm not sure, but I do know that the word \"engineer\" was first recorded in the 10th century.\n",
      "The words 'god' 'jesus' are related to which common topic?\n",
      " I'm not sure, but I do know that Jesus is the son of God and was born in Bethlehem.\n",
      "The words 'window' 'file' are related to which common topic?\n",
      " The word \"file\" is derived from the Latin word \"flatus\".\n",
      "The words 'key' 'chip' are related to which common topic?\n",
      " The word \"chip\" is derived from the Latin word \"capitus\".\n",
      "Results saved: blenderbot-400M-distill\n"
     ]
    },
    {
     "name": "stderr",
     "output_type": "stream",
     "text": [
      "c:\\Users\\Virginia\\anaconda3\\lib\\site-packages\\transformers\\generation\\utils.py:1186: UserWarning: You have modified the pretrained model configuration to control generation. This is a deprecated strategy to control generation and will be removed soon, in a future version. Please use a generation configuration file (see https://huggingface.co/docs/transformers/main_classes/text_generation)\n",
      "  warnings.warn(\n",
      "The attention mask and the pad token id were not set. As a consequence, you may observe unexpected behavior. Please pass your input's `attention_mask` to obtain reliable results.\n",
      "Setting `pad_token_id` to `eos_token_id`:50256 for open-end generation.\n",
      "A decoder-only architecture is being used, but right-padding was detected! For correct generation results, please set `padding_side='left'` when initializing the tokenizer.\n"
     ]
    },
    {
     "name": "stdout",
     "output_type": "stream",
     "text": [
      "The words 'game' 'team' are related to which common topic?\n"
     ]
    },
    {
     "name": "stderr",
     "output_type": "stream",
     "text": [
      "The attention mask and the pad token id were not set. As a consequence, you may observe unexpected behavior. Please pass your input's `attention_mask` to obtain reliable results.\n",
      "Setting `pad_token_id` to `eos_token_id`:50256 for open-end generation.\n",
      "A decoder-only architecture is being used, but right-padding was detected! For correct generation results, please set `padding_side='left'` when initializing the tokenizer.\n"
     ]
    },
    {
     "name": "stdout",
     "output_type": "stream",
     "text": [
      "I think it's the word'game '.\n",
      "The words 'god' 'religion' are related to which common topic?\n"
     ]
    },
    {
     "name": "stderr",
     "output_type": "stream",
     "text": [
      "The attention mask and the pad token id were not set. As a consequence, you may observe unexpected behavior. Please pass your input's `attention_mask` to obtain reliable results.\n",
      "Setting `pad_token_id` to `eos_token_id`:50256 for open-end generation.\n",
      "A decoder-only architecture is being used, but right-padding was detected! For correct generation results, please set `padding_side='left'` when initializing the tokenizer.\n"
     ]
    },
    {
     "name": "stdout",
     "output_type": "stream",
     "text": [
      "Religion is a religion.\n",
      "The words 'space' 'nasa' are related to which common topic?\n"
     ]
    },
    {
     "name": "stderr",
     "output_type": "stream",
     "text": [
      "The attention mask and the pad token id were not set. As a consequence, you may observe unexpected behavior. Please pass your input's `attention_mask` to obtain reliable results.\n",
      "Setting `pad_token_id` to `eos_token_id`:50256 for open-end generation.\n",
      "A decoder-only architecture is being used, but right-padding was detected! For correct generation results, please set `padding_side='left'` when initializing the tokenizer.\n"
     ]
    },
    {
     "name": "stdout",
     "output_type": "stream",
     "text": [
      "I think it's the space station.\n",
      "The words 'patient' 'disease' are related to which common topic?\n"
     ]
    },
    {
     "name": "stderr",
     "output_type": "stream",
     "text": [
      "The attention mask and the pad token id were not set. As a consequence, you may observe unexpected behavior. Please pass your input's `attention_mask` to obtain reliable results.\n",
      "Setting `pad_token_id` to `eos_token_id`:50256 for open-end generation.\n",
      "A decoder-only architecture is being used, but right-padding was detected! For correct generation results, please set `padding_side='left'` when initializing the tokenizer.\n"
     ]
    },
    {
     "name": "stdout",
     "output_type": "stream",
     "text": [
      "I think it's a reference to the movie The Patient.\n",
      "The words 'government' 'president' are related to which common topic?\n"
     ]
    },
    {
     "name": "stderr",
     "output_type": "stream",
     "text": [
      "The attention mask and the pad token id were not set. As a consequence, you may observe unexpected behavior. Please pass your input's `attention_mask` to obtain reliable results.\n",
      "Setting `pad_token_id` to `eos_token_id`:50256 for open-end generation.\n",
      "A decoder-only architecture is being used, but right-padding was detected! For correct generation results, please set `padding_side='left'` when initializing the tokenizer.\n"
     ]
    },
    {
     "name": "stdout",
     "output_type": "stream",
     "text": [
      "I think it's a reference to the fact that the government is the one who decides what is and isn't a government.\n",
      "The words 'mac' 'apple' are related to which common topic?\n"
     ]
    },
    {
     "name": "stderr",
     "output_type": "stream",
     "text": [
      "The attention mask and the pad token id were not set. As a consequence, you may observe unexpected behavior. Please pass your input's `attention_mask` to obtain reliable results.\n",
      "Setting `pad_token_id` to `eos_token_id`:50256 for open-end generation.\n",
      "A decoder-only architecture is being used, but right-padding was detected! For correct generation results, please set `padding_side='left'` when initializing the tokenizer.\n"
     ]
    },
    {
     "name": "stdout",
     "output_type": "stream",
     "text": [
      "I think it's a reference to the movie Mac and Me.\n",
      "The words 'armenian' 'israel' are related to which common topic?\n"
     ]
    },
    {
     "name": "stderr",
     "output_type": "stream",
     "text": [
      "The attention mask and the pad token id were not set. As a consequence, you may observe unexpected behavior. Please pass your input's `attention_mask` to obtain reliable results.\n",
      "Setting `pad_token_id` to `eos_token_id`:50256 for open-end generation.\n",
      "A decoder-only architecture is being used, but right-padding was detected! For correct generation results, please set `padding_side='left'` when initializing the tokenizer.\n"
     ]
    },
    {
     "name": "stdout",
     "output_type": "stream",
     "text": [
      "I think it's a reference to the fact that the Israeli government is a Jewish state.\n",
      "The words 'drive' 'card' are related to which common topic?\n"
     ]
    },
    {
     "name": "stderr",
     "output_type": "stream",
     "text": [
      "The attention mask and the pad token id were not set. As a consequence, you may observe unexpected behavior. Please pass your input's `attention_mask` to obtain reliable results.\n",
      "Setting `pad_token_id` to `eos_token_id`:50256 for open-end generation.\n",
      "A decoder-only architecture is being used, but right-padding was detected! For correct generation results, please set `padding_side='left'` when initializing the tokenizer.\n"
     ]
    },
    {
     "name": "stdout",
     "output_type": "stream",
     "text": [
      "I think it's a reference to the movie Drive.\n",
      "The words 'offer' 'sale' are related to which common topic?\n"
     ]
    },
    {
     "name": "stderr",
     "output_type": "stream",
     "text": [
      "The attention mask and the pad token id were not set. As a consequence, you may observe unexpected behavior. Please pass your input's `attention_mask` to obtain reliable results.\n",
      "Setting `pad_token_id` to `eos_token_id`:50256 for open-end generation.\n",
      "A decoder-only architecture is being used, but right-padding was detected! For correct generation results, please set `padding_side='left'` when initializing the tokenizer.\n"
     ]
    },
    {
     "name": "stdout",
     "output_type": "stream",
     "text": [
      "I think he means the word sale.\n",
      "The words 'work' 'circuit' are related to which common topic?\n"
     ]
    },
    {
     "name": "stderr",
     "output_type": "stream",
     "text": [
      "The attention mask and the pad token id were not set. As a consequence, you may observe unexpected behavior. Please pass your input's `attention_mask` to obtain reliable results.\n",
      "Setting `pad_token_id` to `eos_token_id`:50256 for open-end generation.\n",
      "A decoder-only architecture is being used, but right-padding was detected! For correct generation results, please set `padding_side='left'` when initializing the tokenizer.\n"
     ]
    },
    {
     "name": "stdout",
     "output_type": "stream",
     "text": [
      "I think it's a reference to the fact that the circuit is a work.\n",
      "The words 'window' 'file' are related to which common topic?\n"
     ]
    },
    {
     "name": "stderr",
     "output_type": "stream",
     "text": [
      "The attention mask and the pad token id were not set. As a consequence, you may observe unexpected behavior. Please pass your input's `attention_mask` to obtain reliable results.\n",
      "Setting `pad_token_id` to `eos_token_id`:50256 for open-end generation.\n",
      "A decoder-only architecture is being used, but right-padding was detected! For correct generation results, please set `padding_side='left'` when initializing the tokenizer.\n"
     ]
    },
    {
     "name": "stdout",
     "output_type": "stream",
     "text": [
      "I think it's a reference to the movie The Window.\n",
      "The words 'bike' 'ride' are related to which common topic?\n"
     ]
    },
    {
     "name": "stderr",
     "output_type": "stream",
     "text": [
      "The attention mask and the pad token id were not set. As a consequence, you may observe unexpected behavior. Please pass your input's `attention_mask` to obtain reliable results.\n",
      "Setting `pad_token_id` to `eos_token_id`:50256 for open-end generation.\n",
      "A decoder-only architecture is being used, but right-padding was detected! For correct generation results, please set `padding_side='left'` when initializing the tokenizer.\n"
     ]
    },
    {
     "name": "stdout",
     "output_type": "stream",
     "text": [
      "I think it's a reference to the movie Ride.\n",
      "The words 'game' 'team' are related to which common topic?\n"
     ]
    },
    {
     "name": "stderr",
     "output_type": "stream",
     "text": [
      "The attention mask and the pad token id were not set. As a consequence, you may observe unexpected behavior. Please pass your input's `attention_mask` to obtain reliable results.\n",
      "Setting `pad_token_id` to `eos_token_id`:50256 for open-end generation.\n",
      "A decoder-only architecture is being used, but right-padding was detected! For correct generation results, please set `padding_side='left'` when initializing the tokenizer.\n"
     ]
    },
    {
     "name": "stdout",
     "output_type": "stream",
     "text": [
      "I think it's the word'game '.\n",
      "The words 'god' 'christian' are related to which common topic?\n"
     ]
    },
    {
     "name": "stderr",
     "output_type": "stream",
     "text": [
      "The attention mask and the pad token id were not set. As a consequence, you may observe unexpected behavior. Please pass your input's `attention_mask` to obtain reliable results.\n",
      "Setting `pad_token_id` to `eos_token_id`:50256 for open-end generation.\n",
      "A decoder-only architecture is being used, but right-padding was detected! For correct generation results, please set `padding_side='left'` when initializing the tokenizer.\n"
     ]
    },
    {
     "name": "stdout",
     "output_type": "stream",
     "text": [
      "I think it's the same thing.\n",
      "The words 'gun' 'government' are related to which common topic?\n"
     ]
    },
    {
     "name": "stderr",
     "output_type": "stream",
     "text": [
      "The attention mask and the pad token id were not set. As a consequence, you may observe unexpected behavior. Please pass your input's `attention_mask` to obtain reliable results.\n",
      "Setting `pad_token_id` to `eos_token_id`:50256 for open-end generation.\n",
      "A decoder-only architecture is being used, but right-padding was detected! For correct generation results, please set `padding_side='left'` when initializing the tokenizer.\n"
     ]
    },
    {
     "name": "stdout",
     "output_type": "stream",
     "text": [
      "I think it's a reference to the fact that the government is a gun.\n",
      "The words 'image' 'file' are related to which common topic?\n"
     ]
    },
    {
     "name": "stderr",
     "output_type": "stream",
     "text": [
      "The attention mask and the pad token id were not set. As a consequence, you may observe unexpected behavior. Please pass your input's `attention_mask` to obtain reliable results.\n",
      "Setting `pad_token_id` to `eos_token_id`:50256 for open-end generation.\n",
      "A decoder-only architecture is being used, but right-padding was detected! For correct generation results, please set `padding_side='left'` when initializing the tokenizer.\n"
     ]
    },
    {
     "name": "stdout",
     "output_type": "stream",
     "text": [
      "I think it's the file name.\n",
      "The words 'car' 'engine' are related to which common topic?\n"
     ]
    },
    {
     "name": "stderr",
     "output_type": "stream",
     "text": [
      "The attention mask and the pad token id were not set. As a consequence, you may observe unexpected behavior. Please pass your input's `attention_mask` to obtain reliable results.\n",
      "Setting `pad_token_id` to `eos_token_id`:50256 for open-end generation.\n",
      "A decoder-only architecture is being used, but right-padding was detected! For correct generation results, please set `padding_side='left'` when initializing the tokenizer.\n"
     ]
    },
    {
     "name": "stdout",
     "output_type": "stream",
     "text": [
      "I think it's the engine that's the most common.\n",
      "The words 'god' 'jesus' are related to which common topic?\n"
     ]
    },
    {
     "name": "stderr",
     "output_type": "stream",
     "text": [
      "The attention mask and the pad token id were not set. As a consequence, you may observe unexpected behavior. Please pass your input's `attention_mask` to obtain reliable results.\n",
      "Setting `pad_token_id` to `eos_token_id`:50256 for open-end generation.\n",
      "A decoder-only architecture is being used, but right-padding was detected! For correct generation results, please set `padding_side='left'` when initializing the tokenizer.\n"
     ]
    },
    {
     "name": "stdout",
     "output_type": "stream",
     "text": [
      "I think it's a reference to the bible.\n",
      "The words 'window' 'file' are related to which common topic?\n"
     ]
    },
    {
     "name": "stderr",
     "output_type": "stream",
     "text": [
      "The attention mask and the pad token id were not set. As a consequence, you may observe unexpected behavior. Please pass your input's `attention_mask` to obtain reliable results.\n",
      "Setting `pad_token_id` to `eos_token_id`:50256 for open-end generation.\n",
      "A decoder-only architecture is being used, but right-padding was detected! For correct generation results, please set `padding_side='left'` when initializing the tokenizer.\n"
     ]
    },
    {
     "name": "stdout",
     "output_type": "stream",
     "text": [
      "I think it's a reference to the movie The Window.\n",
      "The words 'key' 'chip' are related to which common topic?\n",
      "I think it's a reference to the fact that the word chip is used in the same way as key.\n",
      "Results saved: DialoGPT-medium\n"
     ]
    },
    {
     "name": "stderr",
     "output_type": "stream",
     "text": [
      "Conversation input is to long (18), trimming it to (20 - 10)\n"
     ]
    },
    {
     "name": "stdout",
     "output_type": "stream",
     "text": [
      "The words 'game' 'team' are related to which common topic?\n"
     ]
    },
    {
     "name": "stderr",
     "output_type": "stream",
     "text": [
      "Conversation input is to long (22), trimming it to (20 - 10)\n"
     ]
    },
    {
     "name": "stdout",
     "output_type": "stream",
     "text": [
      "i'm not sure but i'm a fan of the team\n",
      "The words 'god' 'religion' are related to which common topic?\n"
     ]
    },
    {
     "name": "stderr",
     "output_type": "stream",
     "text": [
      "Conversation input is to long (21), trimming it to (20 - 10)\n"
     ]
    },
    {
     "name": "stdout",
     "output_type": "stream",
     "text": [
      "I'm not sure but I'm not sure what the common topic is.\n",
      "The words 'space' 'nasa' are related to which common topic?\n"
     ]
    },
    {
     "name": "stderr",
     "output_type": "stream",
     "text": [
      "Conversation input is to long (20), trimming it to (20 - 10)\n"
     ]
    },
    {
     "name": "stdout",
     "output_type": "stream",
     "text": [
      "'A' is a common topic in the US.\n",
      "The words 'patient' 'disease' are related to which common topic?\n"
     ]
    },
    {
     "name": "stderr",
     "output_type": "stream",
     "text": [
      "Conversation input is to long (19), trimming it to (20 - 10)\n"
     ]
    },
    {
     "name": "stdout",
     "output_type": "stream",
     "text": [
      "I'm not sure but I'm not sure what the common topic is.\n",
      "The words 'government' 'president' are related to which common topic?\n"
     ]
    },
    {
     "name": "stderr",
     "output_type": "stream",
     "text": [
      "Conversation input is to long (19), trimming it to (20 - 10)\n"
     ]
    },
    {
     "name": "stdout",
     "output_type": "stream",
     "text": [
      "I'm not sure but I'm not sure.\n",
      "The words 'mac' 'apple' are related to which common topic?\n"
     ]
    },
    {
     "name": "stderr",
     "output_type": "stream",
     "text": [
      "Conversation input is to long (19), trimming it to (20 - 10)\n"
     ]
    },
    {
     "name": "stdout",
     "output_type": "stream",
     "text": [
      "I'm not sure but I'm not sure.\n",
      "The words 'armenian' 'israel' are related to which common topic?\n"
     ]
    },
    {
     "name": "stderr",
     "output_type": "stream",
     "text": [
      "Conversation input is to long (18), trimming it to (20 - 10)\n"
     ]
    },
    {
     "name": "stdout",
     "output_type": "stream",
     "text": [
      "Israel is a very popular topic in the US.\n",
      "The words 'drive' 'card' are related to which common topic?\n"
     ]
    },
    {
     "name": "stderr",
     "output_type": "stream",
     "text": [
      "Conversation input is to long (21), trimming it to (20 - 10)\n"
     ]
    },
    {
     "name": "stdout",
     "output_type": "stream",
     "text": [
      "I'm not sure but I'm not sure what the common topic is.\n",
      "The words 'offer' 'sale' are related to which common topic?\n"
     ]
    },
    {
     "name": "stderr",
     "output_type": "stream",
     "text": [
      "Conversation input is to long (19), trimming it to (20 - 10)\n"
     ]
    },
    {
     "name": "stdout",
     "output_type": "stream",
     "text": [
      "I'm not sure but I'm not sure.\n",
      "The words 'work' 'circuit' are related to which common topic?\n"
     ]
    },
    {
     "name": "stderr",
     "output_type": "stream",
     "text": [
      "Conversation input is to long (19), trimming it to (20 - 10)\n"
     ]
    },
    {
     "name": "stdout",
     "output_type": "stream",
     "text": [
      "I'm not sure but I'm not sure what the common topic is.\n",
      "The words 'window' 'file' are related to which common topic?\n"
     ]
    },
    {
     "name": "stderr",
     "output_type": "stream",
     "text": [
      "Conversation input is to long (19), trimming it to (20 - 10)\n"
     ]
    },
    {
     "name": "stdout",
     "output_type": "stream",
     "text": [
      "I'm not sure but I'm not sure what the common topic is.\n",
      "The words 'bike' 'ride' are related to which common topic?\n"
     ]
    },
    {
     "name": "stderr",
     "output_type": "stream",
     "text": [
      "Conversation input is to long (18), trimming it to (20 - 10)\n"
     ]
    },
    {
     "name": "stdout",
     "output_type": "stream",
     "text": [
      "'The'and 'The'are related to which common topic\n",
      "The words 'game' 'team' are related to which common topic?\n"
     ]
    },
    {
     "name": "stderr",
     "output_type": "stream",
     "text": [
      "Conversation input is to long (21), trimming it to (20 - 10)\n"
     ]
    },
    {
     "name": "stdout",
     "output_type": "stream",
     "text": [
      "i'm not sure but i'm a fan of the team\n",
      "The words 'god' 'christian' are related to which common topic?\n"
     ]
    },
    {
     "name": "stderr",
     "output_type": "stream",
     "text": [
      "Conversation input is to long (18), trimming it to (20 - 10)\n"
     ]
    },
    {
     "name": "stdout",
     "output_type": "stream",
     "text": [
      "i'm not sure but i'm a fan of the's\n",
      "The words 'gun' 'government' are related to which common topic?\n"
     ]
    },
    {
     "name": "stderr",
     "output_type": "stream",
     "text": [
      "Conversation input is to long (18), trimming it to (20 - 10)\n"
     ]
    },
    {
     "name": "stdout",
     "output_type": "stream",
     "text": [
      "Government is a common topic in the US.\n",
      "The words 'image' 'file' are related to which common topic?\n"
     ]
    },
    {
     "name": "stderr",
     "output_type": "stream",
     "text": [
      "Conversation input is to long (18), trimming it to (20 - 10)\n"
     ]
    },
    {
     "name": "stdout",
     "output_type": "stream",
     "text": [
      "I'm not sure but I'm not sure what the common topic is.\n",
      "The words 'car' 'engine' are related to which common topic?\n"
     ]
    },
    {
     "name": "stderr",
     "output_type": "stream",
     "text": [
      "Conversation input is to long (21), trimming it to (20 - 10)\n"
     ]
    },
    {
     "name": "stdout",
     "output_type": "stream",
     "text": [
      "I'm not sure, but I'm a huge fan of the 'engine\n",
      "The words 'god' 'jesus' are related to which common topic?\n"
     ]
    },
    {
     "name": "stderr",
     "output_type": "stream",
     "text": [
      "Conversation input is to long (19), trimming it to (20 - 10)\n"
     ]
    },
    {
     "name": "stdout",
     "output_type": "stream",
     "text": [
      "I'm not sure but I'm not sure what the common topic is.\n",
      "The words 'window' 'file' are related to which common topic?\n"
     ]
    },
    {
     "name": "stderr",
     "output_type": "stream",
     "text": [
      "Conversation input is to long (18), trimming it to (20 - 10)\n"
     ]
    },
    {
     "name": "stdout",
     "output_type": "stream",
     "text": [
      "I'm not sure but I'm not sure what the common topic is.\n",
      "The words 'key' 'chip' are related to which common topic?\n",
      "I'm not sure but I'm not sure what the common topic is.\n",
      "Results saved: GODEL-v1_1-base-seq2seq\n"
     ]
    },
    {
     "name": "stderr",
     "output_type": "stream",
     "text": [
      "c:\\Users\\Virginia\\anaconda3\\lib\\site-packages\\transformers\\generation\\utils.py:1186: UserWarning: You have modified the pretrained model configuration to control generation. This is a deprecated strategy to control generation and will be removed soon, in a future version. Please use a generation configuration file (see https://huggingface.co/docs/transformers/main_classes/text_generation)\n",
      "  warnings.warn(\n",
      "The attention mask and the pad token id were not set. As a consequence, you may observe unexpected behavior. Please pass your input's `attention_mask` to obtain reliable results.\n",
      "Setting `pad_token_id` to `eos_token_id`:50256 for open-end generation.\n",
      "A decoder-only architecture is being used, but right-padding was detected! For correct generation results, please set `padding_side='left'` when initializing the tokenizer.\n"
     ]
    },
    {
     "name": "stdout",
     "output_type": "stream",
     "text": [
      "The words 'game' 'team' are related to which common topic?\n"
     ]
    },
    {
     "name": "stderr",
     "output_type": "stream",
     "text": [
      "The attention mask and the pad token id were not set. As a consequence, you may observe unexpected behavior. Please pass your input's `attention_mask` to obtain reliable results.\n",
      "Setting `pad_token_id` to `eos_token_id`:50256 for open-end generation.\n",
      "A decoder-only architecture is being used, but right-padding was detected! For correct generation results, please set `padding_side='left'` when initializing the tokenizer.\n"
     ]
    },
    {
     "name": "stdout",
     "output_type": "stream",
     "text": [
      "I'm not sure what you're trying to say.\n",
      "The words 'god' 'religion' are related to which common topic?\n"
     ]
    },
    {
     "name": "stderr",
     "output_type": "stream",
     "text": [
      "The attention mask and the pad token id were not set. As a consequence, you may observe unexpected behavior. Please pass your input's `attention_mask` to obtain reliable results.\n",
      "Setting `pad_token_id` to `eos_token_id`:50256 for open-end generation.\n",
      "A decoder-only architecture is being used, but right-padding was detected! For correct generation results, please set `padding_side='left'` when initializing the tokenizer.\n"
     ]
    },
    {
     "name": "stdout",
     "output_type": "stream",
     "text": [
      "Religion is a common topic.\n",
      "The words 'space' 'nasa' are related to which common topic?\n"
     ]
    },
    {
     "name": "stderr",
     "output_type": "stream",
     "text": [
      "The attention mask and the pad token id were not set. As a consequence, you may observe unexpected behavior. Please pass your input's `attention_mask` to obtain reliable results.\n",
      "Setting `pad_token_id` to `eos_token_id`:50256 for open-end generation.\n",
      "A decoder-only architecture is being used, but right-padding was detected! For correct generation results, please set `padding_side='left'` when initializing the tokenizer.\n"
     ]
    },
    {
     "name": "stdout",
     "output_type": "stream",
     "text": [
      "I'm not sure what you're trying to say.\n",
      "The words 'patient' 'disease' are related to which common topic?\n"
     ]
    },
    {
     "name": "stderr",
     "output_type": "stream",
     "text": [
      "The attention mask and the pad token id were not set. As a consequence, you may observe unexpected behavior. Please pass your input's `attention_mask` to obtain reliable results.\n",
      "Setting `pad_token_id` to `eos_token_id`:50256 for open-end generation.\n",
      "A decoder-only architecture is being used, but right-padding was detected! For correct generation results, please set `padding_side='left'` when initializing the tokenizer.\n"
     ]
    },
    {
     "name": "stdout",
     "output_type": "stream",
     "text": [
      "I'm not sure what you're asking.\n",
      "The words 'government' 'president' are related to which common topic?\n"
     ]
    },
    {
     "name": "stderr",
     "output_type": "stream",
     "text": [
      "The attention mask and the pad token id were not set. As a consequence, you may observe unexpected behavior. Please pass your input's `attention_mask` to obtain reliable results.\n",
      "Setting `pad_token_id` to `eos_token_id`:50256 for open-end generation.\n",
      "A decoder-only architecture is being used, but right-padding was detected! For correct generation results, please set `padding_side='left'` when initializing the tokenizer.\n"
     ]
    },
    {
     "name": "stdout",
     "output_type": "stream",
     "text": [
      "I'm not sure what you're trying to say.\n",
      "The words 'mac' 'apple' are related to which common topic?\n"
     ]
    },
    {
     "name": "stderr",
     "output_type": "stream",
     "text": [
      "The attention mask and the pad token id were not set. As a consequence, you may observe unexpected behavior. Please pass your input's `attention_mask` to obtain reliable results.\n",
      "Setting `pad_token_id` to `eos_token_id`:50256 for open-end generation.\n",
      "A decoder-only architecture is being used, but right-padding was detected! For correct generation results, please set `padding_side='left'` when initializing the tokenizer.\n"
     ]
    },
    {
     "name": "stdout",
     "output_type": "stream",
     "text": [
      "I'm not sure what you're trying to say.\n",
      "The words 'armenian' 'israel' are related to which common topic?\n"
     ]
    },
    {
     "name": "stderr",
     "output_type": "stream",
     "text": [
      "The attention mask and the pad token id were not set. As a consequence, you may observe unexpected behavior. Please pass your input's `attention_mask` to obtain reliable results.\n",
      "Setting `pad_token_id` to `eos_token_id`:50256 for open-end generation.\n",
      "A decoder-only architecture is being used, but right-padding was detected! For correct generation results, please set `padding_side='left'` when initializing the tokenizer.\n"
     ]
    },
    {
     "name": "stdout",
     "output_type": "stream",
     "text": [
      "I'm not sure what you're trying to say.\n",
      "The words 'drive' 'card' are related to which common topic?\n"
     ]
    },
    {
     "name": "stderr",
     "output_type": "stream",
     "text": [
      "The attention mask and the pad token id were not set. As a consequence, you may observe unexpected behavior. Please pass your input's `attention_mask` to obtain reliable results.\n",
      "Setting `pad_token_id` to `eos_token_id`:50256 for open-end generation.\n",
      "A decoder-only architecture is being used, but right-padding was detected! For correct generation results, please set `padding_side='left'` when initializing the tokenizer.\n"
     ]
    },
    {
     "name": "stdout",
     "output_type": "stream",
     "text": [
      "I'm not sure what you mean by this.\n",
      "The words 'offer' 'sale' are related to which common topic?\n"
     ]
    },
    {
     "name": "stderr",
     "output_type": "stream",
     "text": [
      "The attention mask and the pad token id were not set. As a consequence, you may observe unexpected behavior. Please pass your input's `attention_mask` to obtain reliable results.\n",
      "Setting `pad_token_id` to `eos_token_id`:50256 for open-end generation.\n",
      "A decoder-only architecture is being used, but right-padding was detected! For correct generation results, please set `padding_side='left'` when initializing the tokenizer.\n"
     ]
    },
    {
     "name": "stdout",
     "output_type": "stream",
     "text": [
      "I'm not sure what you mean by'offer '.\n",
      "The words 'work' 'circuit' are related to which common topic?\n"
     ]
    },
    {
     "name": "stderr",
     "output_type": "stream",
     "text": [
      "The attention mask and the pad token id were not set. As a consequence, you may observe unexpected behavior. Please pass your input's `attention_mask` to obtain reliable results.\n",
      "Setting `pad_token_id` to `eos_token_id`:50256 for open-end generation.\n",
      "A decoder-only architecture is being used, but right-padding was detected! For correct generation results, please set `padding_side='left'` when initializing the tokenizer.\n"
     ]
    },
    {
     "name": "stdout",
     "output_type": "stream",
     "text": [
      "I'm not sure what you mean.\n",
      "The words 'window' 'file' are related to which common topic?\n"
     ]
    },
    {
     "name": "stderr",
     "output_type": "stream",
     "text": [
      "The attention mask and the pad token id were not set. As a consequence, you may observe unexpected behavior. Please pass your input's `attention_mask` to obtain reliable results.\n",
      "Setting `pad_token_id` to `eos_token_id`:50256 for open-end generation.\n",
      "A decoder-only architecture is being used, but right-padding was detected! For correct generation results, please set `padding_side='left'` when initializing the tokenizer.\n"
     ]
    },
    {
     "name": "stdout",
     "output_type": "stream",
     "text": [
      "I'm not sure what you mean.\n",
      "The words 'bike' 'ride' are related to which common topic?\n"
     ]
    },
    {
     "name": "stderr",
     "output_type": "stream",
     "text": [
      "The attention mask and the pad token id were not set. As a consequence, you may observe unexpected behavior. Please pass your input's `attention_mask` to obtain reliable results.\n",
      "Setting `pad_token_id` to `eos_token_id`:50256 for open-end generation.\n",
      "A decoder-only architecture is being used, but right-padding was detected! For correct generation results, please set `padding_side='left'` when initializing the tokenizer.\n"
     ]
    },
    {
     "name": "stdout",
     "output_type": "stream",
     "text": [
      "I'm not sure what you're trying to say.\n",
      "The words 'game' 'team' are related to which common topic?\n"
     ]
    },
    {
     "name": "stderr",
     "output_type": "stream",
     "text": [
      "The attention mask and the pad token id were not set. As a consequence, you may observe unexpected behavior. Please pass your input's `attention_mask` to obtain reliable results.\n",
      "Setting `pad_token_id` to `eos_token_id`:50256 for open-end generation.\n",
      "A decoder-only architecture is being used, but right-padding was detected! For correct generation results, please set `padding_side='left'` when initializing the tokenizer.\n"
     ]
    },
    {
     "name": "stdout",
     "output_type": "stream",
     "text": [
      "I'm not sure what you're trying to say.\n",
      "The words 'god' 'christian' are related to which common topic?\n"
     ]
    },
    {
     "name": "stderr",
     "output_type": "stream",
     "text": [
      "The attention mask and the pad token id were not set. As a consequence, you may observe unexpected behavior. Please pass your input's `attention_mask` to obtain reliable results.\n",
      "Setting `pad_token_id` to `eos_token_id`:50256 for open-end generation.\n",
      "A decoder-only architecture is being used, but right-padding was detected! For correct generation results, please set `padding_side='left'` when initializing the tokenizer.\n"
     ]
    },
    {
     "name": "stdout",
     "output_type": "stream",
     "text": [
      "I'm not sure if you're being sarcastic or not, but I'm pretty sure that's the exact opposite of what you said.\n",
      "The words 'gun' 'government' are related to which common topic?\n"
     ]
    },
    {
     "name": "stderr",
     "output_type": "stream",
     "text": [
      "The attention mask and the pad token id were not set. As a consequence, you may observe unexpected behavior. Please pass your input's `attention_mask` to obtain reliable results.\n",
      "Setting `pad_token_id` to `eos_token_id`:50256 for open-end generation.\n",
      "A decoder-only architecture is being used, but right-padding was detected! For correct generation results, please set `padding_side='left'` when initializing the tokenizer.\n"
     ]
    },
    {
     "name": "stdout",
     "output_type": "stream",
     "text": [
      "I'm not sure what you're trying to say.\n",
      "The words 'image' 'file' are related to which common topic?\n"
     ]
    },
    {
     "name": "stderr",
     "output_type": "stream",
     "text": [
      "The attention mask and the pad token id were not set. As a consequence, you may observe unexpected behavior. Please pass your input's `attention_mask` to obtain reliable results.\n",
      "Setting `pad_token_id` to `eos_token_id`:50256 for open-end generation.\n",
      "A decoder-only architecture is being used, but right-padding was detected! For correct generation results, please set `padding_side='left'` when initializing the tokenizer.\n"
     ]
    },
    {
     "name": "stdout",
     "output_type": "stream",
     "text": [
      "I'm not sure what you mean by that.\n",
      "The words 'car' 'engine' are related to which common topic?\n"
     ]
    },
    {
     "name": "stderr",
     "output_type": "stream",
     "text": [
      "The attention mask and the pad token id were not set. As a consequence, you may observe unexpected behavior. Please pass your input's `attention_mask` to obtain reliable results.\n",
      "Setting `pad_token_id` to `eos_token_id`:50256 for open-end generation.\n",
      "A decoder-only architecture is being used, but right-padding was detected! For correct generation results, please set `padding_side='left'` when initializing the tokenizer.\n"
     ]
    },
    {
     "name": "stdout",
     "output_type": "stream",
     "text": [
      "I'm not sure what you're trying to say.\n",
      "The words 'god' 'jesus' are related to which common topic?\n"
     ]
    },
    {
     "name": "stderr",
     "output_type": "stream",
     "text": [
      "The attention mask and the pad token id were not set. As a consequence, you may observe unexpected behavior. Please pass your input's `attention_mask` to obtain reliable results.\n",
      "Setting `pad_token_id` to `eos_token_id`:50256 for open-end generation.\n",
      "A decoder-only architecture is being used, but right-padding was detected! For correct generation results, please set `padding_side='left'` when initializing the tokenizer.\n"
     ]
    },
    {
     "name": "stdout",
     "output_type": "stream",
     "text": [
      "I'm not sure if you're joking or not, but I'm pretty sure that's not the same thing.\n",
      "The words 'window' 'file' are related to which common topic?\n"
     ]
    },
    {
     "name": "stderr",
     "output_type": "stream",
     "text": [
      "The attention mask and the pad token id were not set. As a consequence, you may observe unexpected behavior. Please pass your input's `attention_mask` to obtain reliable results.\n",
      "Setting `pad_token_id` to `eos_token_id`:50256 for open-end generation.\n",
      "A decoder-only architecture is being used, but right-padding was detected! For correct generation results, please set `padding_side='left'` when initializing the tokenizer.\n"
     ]
    },
    {
     "name": "stdout",
     "output_type": "stream",
     "text": [
      "I'm not sure what you mean.\n",
      "The words 'key' 'chip' are related to which common topic?\n",
      "I'm not sure what you're trying to say.\n",
      "Results saved: DialoGPT-small\n",
      "The words 'game' 'team' are related to which common topic?\n",
      "i'm not sure what you mean. what do you mean by \" common topic \"?\n",
      "The words 'god' 'religion' are related to which common topic?\n",
      "i'm not sure what you mean. do you mean that the word \" god \" is related to the common topic of which common topic?\n",
      "The words 'space' 'nasa' are related to which common topic?\n",
      "i'm not sure, but i do know that nasa is the largest nasa in the world.\n",
      "The words 'patient' 'disease' are related to which common topic?\n",
      "i'm not sure what the common topic is, but i do know that the word \" patient \" was first recorded in the 10th century.\n",
      "The words 'government' 'president' are related to which common topic?\n",
      "i'm not sure what common topic you're referring to, but i do know that the president of the united states is a member of the executive branch.\n",
      "The words 'mac' 'apple' are related to which common topic?\n",
      "i'm not sure what you mean by that, but i do know that apple is the largest computer manufacturer in the world.\n",
      "The words 'armenian' 'israel' are related to which common topic?\n",
      "i'm not sure, but i do know that israel is a sovereign state in israel.\n",
      "The words 'drive' 'card' are related to which common topic?\n",
      "i'm not sure, but i do know that the word \" drive \" was first recorded in the 10th century.\n",
      "The words 'offer' 'sale' are related to which common topic?\n",
      "i'm not sure what common topic you're talking about. what do you mean?\n",
      "The words 'work' 'circuit' are related to which common topic?\n",
      "i'm not sure what you mean by that. are you referring to the word \" circuit \"?\n",
      "The words 'window' 'file' are related to which common topic?\n",
      "i'm not sure what common topic you're talking about. what do you mean?\n",
      "The words 'bike' 'ride' are related to which common topic?\n",
      "i'm not sure, but i do know that the word \" bike \" was first recorded in the 10th century.\n",
      "The words 'game' 'team' are related to which common topic?\n",
      "i'm not sure what you mean. what do you mean by \" common topic \"?\n",
      "The words 'god' 'christian' are related to which common topic?\n",
      "i'm not sure what you mean. do you mean that the word \" god \" is related to the common topic of which common topic?\n",
      "The words 'gun' 'government' are related to which common topic?\n",
      "i'm not sure what you mean by that. are you referring to the government that governs the united states?\n",
      "The words 'image' 'file' are related to which common topic?\n",
      "i'm not sure what you mean by that. are you referring to the word \" file \"?\n",
      "The words 'car' 'engine' are related to which common topic?\n",
      "i'm not sure, but i do know that the word \" car \" was first recorded in the 10th century.\n",
      "The words 'god' 'jesus' are related to which common topic?\n",
      "i'm not sure what you mean. do you mean that the word \" god \" is related to the common topic of which common topic?\n",
      "The words 'window' 'file' are related to which common topic?\n",
      "i'm not sure what common topic you're talking about. what do you mean?\n",
      "The words 'key' 'chip' are related to which common topic?\n",
      "i'm not sure what the common topic is, but i do know that the key chip has been around for a long time.\n",
      "Results saved: blenderbot_small-90M\n"
     ]
    },
    {
     "name": "stderr",
     "output_type": "stream",
     "text": [
      "Special tokens have been added in the vocabulary, make sure the associated word embeddings are fine-tuned or trained.\n",
      "Special tokens have been added in the vocabulary, make sure the associated word embeddings are fine-tuned or trained.\n"
     ]
    },
    {
     "name": "stdout",
     "output_type": "stream",
     "text": [
      "The words 'game' 'team' are related to which common topic?\n",
      " The word \"team\" is derived from the Old French word \"tête\".\n",
      "The words 'god' 'religion' are related to which common topic?\n",
      " Religion is the belief in and worship of a superhuman controlling power, typically a personal God\n",
      "The words 'space' 'nasa' are related to which common topic?\n",
      " NASA stands for National Aeronautics and Space Administration. \n",
      "The words 'patient' 'disease' are related to which common topic?\n",
      " Patient, disease, and disorder are all interchangeable terms for the same thing.\n",
      "The words 'government' 'president' are related to which common topic?\n",
      " The President of the United States is the head of the executive branch of the federal government.\n",
      "The words 'mac' 'apple' are related to which common topic?\n",
      " I'm not sure, but I do know that the word \"apple\" was first recorded in the 10th century.\n",
      "The words 'armenian' 'israel' are related to which common topic?\n",
      " I'm not sure, but I do know that Israel is a sovereign state in the Middle East.\n",
      "The words 'drive' 'card' are related to which common topic?\n",
      " I'm not sure, but I do know that the word \"drive\" was first recorded in the 10th century.\n",
      "The words 'offer' 'sale' are related to which common topic?\n",
      " I'm not sure what you mean. Offer and sale mean the same thing in this context.\n",
      "The words 'work' 'circuit' are related to which common topic?\n",
      " I'm not sure, but I do know that circuitry is a branch of electrical engineering.\n",
      "The words 'window' 'file' are related to which common topic?\n",
      " The word file is derived from the Latin word \"filius\" which means window.\n",
      "The words 'bike' 'ride' are related to which common topic?\n",
      " The word \"bike\" is derived from the Latin word for \"wheel\"\n",
      "The words 'game' 'team' are related to which common topic?\n",
      " The word \"team\" is derived from the Old French word \"tête\".\n",
      "The words 'god' 'christian' are related to which common topic?\n",
      " Christianity is the largest religion in the world with over 2.4 billion followers.\n",
      "The words 'gun' 'government' are related to which common topic?\n",
      " The word \"gun\" was first recorded in the 10th century in a Latin manuscript.\n",
      "The words 'image' 'file' are related to which common topic?\n",
      " Image file is a file that contains information about an image, such as a picture.\n",
      "The words 'car' 'engine' are related to which common topic?\n",
      " I'm not sure, but I do know that a car engine is a type of internal combustion engine.\n",
      "The words 'god' 'jesus' are related to which common topic?\n",
      " Jesus is the Son of God. He is the savior of mankind.\n",
      "The words 'window' 'file' are related to which common topic?\n",
      " The word file is derived from the Latin word \"filius\" which means window.\n",
      "The words 'key' 'chip' are related to which common topic?\n",
      " The word chip is derived from the Latin word \"cipus\" which means key.\n",
      "Results saved: blenderbot-3B\n"
     ]
    },
    {
     "name": "stderr",
     "output_type": "stream",
     "text": [
      "c:\\Users\\Virginia\\anaconda3\\lib\\site-packages\\transformers\\generation\\utils.py:1186: UserWarning: You have modified the pretrained model configuration to control generation. This is a deprecated strategy to control generation and will be removed soon, in a future version. Please use a generation configuration file (see https://huggingface.co/docs/transformers/main_classes/text_generation)\n",
      "  warnings.warn(\n",
      "The attention mask and the pad token id were not set. As a consequence, you may observe unexpected behavior. Please pass your input's `attention_mask` to obtain reliable results.\n",
      "Setting `pad_token_id` to `eos_token_id`:50256 for open-end generation.\n",
      "A decoder-only architecture is being used, but right-padding was detected! For correct generation results, please set `padding_side='left'` when initializing the tokenizer.\n"
     ]
    },
    {
     "name": "stdout",
     "output_type": "stream",
     "text": [
      "The words 'game' 'team' are related to which common topic?\n"
     ]
    },
    {
     "name": "stderr",
     "output_type": "stream",
     "text": [
      "The attention mask and the pad token id were not set. As a consequence, you may observe unexpected behavior. Please pass your input's `attention_mask` to obtain reliable results.\n",
      "Setting `pad_token_id` to `eos_token_id`:50256 for open-end generation.\n",
      "A decoder-only architecture is being used, but right-padding was detected! For correct generation results, please set `padding_side='left'` when initializing the tokenizer.\n"
     ]
    },
    {
     "name": "stdout",
     "output_type": "stream",
     "text": [
      "I think it's a reference to the game'Team Fortress '.\n",
      "The words 'god' 'religion' are related to which common topic?\n"
     ]
    },
    {
     "name": "stderr",
     "output_type": "stream",
     "text": [
      "The attention mask and the pad token id were not set. As a consequence, you may observe unexpected behavior. Please pass your input's `attention_mask` to obtain reliable results.\n",
      "Setting `pad_token_id` to `eos_token_id`:50256 for open-end generation.\n",
      "A decoder-only architecture is being used, but right-padding was detected! For correct generation results, please set `padding_side='left'` when initializing the tokenizer.\n"
     ]
    },
    {
     "name": "stdout",
     "output_type": "stream",
     "text": [
      "Religion is a common topic in the US.\n",
      "The words 'space' 'nasa' are related to which common topic?\n"
     ]
    },
    {
     "name": "stderr",
     "output_type": "stream",
     "text": [
      "The attention mask and the pad token id were not set. As a consequence, you may observe unexpected behavior. Please pass your input's `attention_mask` to obtain reliable results.\n",
      "Setting `pad_token_id` to `eos_token_id`:50256 for open-end generation.\n",
      "A decoder-only architecture is being used, but right-padding was detected! For correct generation results, please set `padding_side='left'` when initializing the tokenizer.\n"
     ]
    },
    {
     "name": "stdout",
     "output_type": "stream",
     "text": [
      "Space is a common topic.\n",
      "The words 'patient' 'disease' are related to which common topic?\n"
     ]
    },
    {
     "name": "stderr",
     "output_type": "stream",
     "text": [
      "The attention mask and the pad token id were not set. As a consequence, you may observe unexpected behavior. Please pass your input's `attention_mask` to obtain reliable results.\n",
      "Setting `pad_token_id` to `eos_token_id`:50256 for open-end generation.\n",
      "A decoder-only architecture is being used, but right-padding was detected! For correct generation results, please set `padding_side='left'` when initializing the tokenizer.\n"
     ]
    },
    {
     "name": "stdout",
     "output_type": "stream",
     "text": [
      "I think it's a reference to the movie The Terminal.\n",
      "The words 'government' 'president' are related to which common topic?\n"
     ]
    },
    {
     "name": "stderr",
     "output_type": "stream",
     "text": [
      "The attention mask and the pad token id were not set. As a consequence, you may observe unexpected behavior. Please pass your input's `attention_mask` to obtain reliable results.\n",
      "Setting `pad_token_id` to `eos_token_id`:50256 for open-end generation.\n",
      "A decoder-only architecture is being used, but right-padding was detected! For correct generation results, please set `padding_side='left'` when initializing the tokenizer.\n"
     ]
    },
    {
     "name": "stdout",
     "output_type": "stream",
     "text": [
      "I think he means the word'government '.\n",
      "The words 'mac' 'apple' are related to which common topic?\n"
     ]
    },
    {
     "name": "stderr",
     "output_type": "stream",
     "text": [
      "The attention mask and the pad token id were not set. As a consequence, you may observe unexpected behavior. Please pass your input's `attention_mask` to obtain reliable results.\n",
      "Setting `pad_token_id` to `eos_token_id`:50256 for open-end generation.\n",
      "A decoder-only architecture is being used, but right-padding was detected! For correct generation results, please set `padding_side='left'` when initializing the tokenizer.\n"
     ]
    },
    {
     "name": "stdout",
     "output_type": "stream",
     "text": [
      "I think it's a reference to the Apple Watch.\n",
      "The words 'armenian' 'israel' are related to which common topic?\n"
     ]
    },
    {
     "name": "stderr",
     "output_type": "stream",
     "text": [
      "The attention mask and the pad token id were not set. As a consequence, you may observe unexpected behavior. Please pass your input's `attention_mask` to obtain reliable results.\n",
      "Setting `pad_token_id` to `eos_token_id`:50256 for open-end generation.\n",
      "A decoder-only architecture is being used, but right-padding was detected! For correct generation results, please set `padding_side='left'` when initializing the tokenizer.\n"
     ]
    },
    {
     "name": "stdout",
     "output_type": "stream",
     "text": [
      "I think it's related to the fact that the word'armenian'is used in the same way as'arab '.\n",
      "The words 'drive' 'card' are related to which common topic?\n"
     ]
    },
    {
     "name": "stderr",
     "output_type": "stream",
     "text": [
      "The attention mask and the pad token id were not set. As a consequence, you may observe unexpected behavior. Please pass your input's `attention_mask` to obtain reliable results.\n",
      "Setting `pad_token_id` to `eos_token_id`:50256 for open-end generation.\n",
      "A decoder-only architecture is being used, but right-padding was detected! For correct generation results, please set `padding_side='left'` when initializing the tokenizer.\n"
     ]
    },
    {
     "name": "stdout",
     "output_type": "stream",
     "text": [
      "I think it's a reference to the movie Drive.\n",
      "The words 'offer' 'sale' are related to which common topic?\n"
     ]
    },
    {
     "name": "stderr",
     "output_type": "stream",
     "text": [
      "The attention mask and the pad token id were not set. As a consequence, you may observe unexpected behavior. Please pass your input's `attention_mask` to obtain reliable results.\n",
      "Setting `pad_token_id` to `eos_token_id`:50256 for open-end generation.\n",
      "A decoder-only architecture is being used, but right-padding was detected! For correct generation results, please set `padding_side='left'` when initializing the tokenizer.\n"
     ]
    },
    {
     "name": "stdout",
     "output_type": "stream",
     "text": [
      "I think it's a reference to the word'offer '.\n",
      "The words 'work' 'circuit' are related to which common topic?\n"
     ]
    },
    {
     "name": "stderr",
     "output_type": "stream",
     "text": [
      "The attention mask and the pad token id were not set. As a consequence, you may observe unexpected behavior. Please pass your input's `attention_mask` to obtain reliable results.\n",
      "Setting `pad_token_id` to `eos_token_id`:50256 for open-end generation.\n",
      "A decoder-only architecture is being used, but right-padding was detected! For correct generation results, please set `padding_side='left'` when initializing the tokenizer.\n"
     ]
    },
    {
     "name": "stdout",
     "output_type": "stream",
     "text": [
      "I think he means circuit design.\n",
      "The words 'window' 'file' are related to which common topic?\n"
     ]
    },
    {
     "name": "stderr",
     "output_type": "stream",
     "text": [
      "The attention mask and the pad token id were not set. As a consequence, you may observe unexpected behavior. Please pass your input's `attention_mask` to obtain reliable results.\n",
      "Setting `pad_token_id` to `eos_token_id`:50256 for open-end generation.\n",
      "A decoder-only architecture is being used, but right-padding was detected! For correct generation results, please set `padding_side='left'` when initializing the tokenizer.\n"
     ]
    },
    {
     "name": "stdout",
     "output_type": "stream",
     "text": [
      "I think it's a reference to the word window.\n",
      "The words 'bike' 'ride' are related to which common topic?\n"
     ]
    },
    {
     "name": "stderr",
     "output_type": "stream",
     "text": [
      "The attention mask and the pad token id were not set. As a consequence, you may observe unexpected behavior. Please pass your input's `attention_mask` to obtain reliable results.\n",
      "Setting `pad_token_id` to `eos_token_id`:50256 for open-end generation.\n",
      "A decoder-only architecture is being used, but right-padding was detected! For correct generation results, please set `padding_side='left'` when initializing the tokenizer.\n"
     ]
    },
    {
     "name": "stdout",
     "output_type": "stream",
     "text": [
      "I think it's a reference to the song Ride by the Beatles.\n",
      "The words 'game' 'team' are related to which common topic?\n"
     ]
    },
    {
     "name": "stderr",
     "output_type": "stream",
     "text": [
      "The attention mask and the pad token id were not set. As a consequence, you may observe unexpected behavior. Please pass your input's `attention_mask` to obtain reliable results.\n",
      "Setting `pad_token_id` to `eos_token_id`:50256 for open-end generation.\n",
      "A decoder-only architecture is being used, but right-padding was detected! For correct generation results, please set `padding_side='left'` when initializing the tokenizer.\n"
     ]
    },
    {
     "name": "stdout",
     "output_type": "stream",
     "text": [
      "I think it's a reference to the game'Team Fortress '.\n",
      "The words 'god' 'christian' are related to which common topic?\n"
     ]
    },
    {
     "name": "stderr",
     "output_type": "stream",
     "text": [
      "The attention mask and the pad token id were not set. As a consequence, you may observe unexpected behavior. Please pass your input's `attention_mask` to obtain reliable results.\n",
      "Setting `pad_token_id` to `eos_token_id`:50256 for open-end generation.\n",
      "A decoder-only architecture is being used, but right-padding was detected! For correct generation results, please set `padding_side='left'` when initializing the tokenizer.\n"
     ]
    },
    {
     "name": "stdout",
     "output_type": "stream",
     "text": [
      "I think he means that the word'god'is used in the same way as'christian '.\n",
      "The words 'gun' 'government' are related to which common topic?\n"
     ]
    },
    {
     "name": "stderr",
     "output_type": "stream",
     "text": [
      "The attention mask and the pad token id were not set. As a consequence, you may observe unexpected behavior. Please pass your input's `attention_mask` to obtain reliable results.\n",
      "Setting `pad_token_id` to `eos_token_id`:50256 for open-end generation.\n",
      "A decoder-only architecture is being used, but right-padding was detected! For correct generation results, please set `padding_side='left'` when initializing the tokenizer.\n"
     ]
    },
    {
     "name": "stdout",
     "output_type": "stream",
     "text": [
      "I think he means the word'gun'in the context of the word'government '.\n",
      "The words 'image' 'file' are related to which common topic?\n"
     ]
    },
    {
     "name": "stderr",
     "output_type": "stream",
     "text": [
      "The attention mask and the pad token id were not set. As a consequence, you may observe unexpected behavior. Please pass your input's `attention_mask` to obtain reliable results.\n",
      "Setting `pad_token_id` to `eos_token_id`:50256 for open-end generation.\n",
      "A decoder-only architecture is being used, but right-padding was detected! For correct generation results, please set `padding_side='left'` when initializing the tokenizer.\n"
     ]
    },
    {
     "name": "stdout",
     "output_type": "stream",
     "text": [
      "I think it's a reference to the word file.\n",
      "The words 'car' 'engine' are related to which common topic?\n"
     ]
    },
    {
     "name": "stderr",
     "output_type": "stream",
     "text": [
      "The attention mask and the pad token id were not set. As a consequence, you may observe unexpected behavior. Please pass your input's `attention_mask` to obtain reliable results.\n",
      "Setting `pad_token_id` to `eos_token_id`:50256 for open-end generation.\n",
      "A decoder-only architecture is being used, but right-padding was detected! For correct generation results, please set `padding_side='left'` when initializing the tokenizer.\n"
     ]
    },
    {
     "name": "stdout",
     "output_type": "stream",
     "text": [
      "I think he means the car engine is a car engine.\n",
      "The words 'god' 'jesus' are related to which common topic?\n"
     ]
    },
    {
     "name": "stderr",
     "output_type": "stream",
     "text": [
      "The attention mask and the pad token id were not set. As a consequence, you may observe unexpected behavior. Please pass your input's `attention_mask` to obtain reliable results.\n",
      "Setting `pad_token_id` to `eos_token_id`:50256 for open-end generation.\n",
      "A decoder-only architecture is being used, but right-padding was detected! For correct generation results, please set `padding_side='left'` when initializing the tokenizer.\n"
     ]
    },
    {
     "name": "stdout",
     "output_type": "stream",
     "text": [
      "I think it's a reference to the bible.\n",
      "The words 'window' 'file' are related to which common topic?\n"
     ]
    },
    {
     "name": "stderr",
     "output_type": "stream",
     "text": [
      "The attention mask and the pad token id were not set. As a consequence, you may observe unexpected behavior. Please pass your input's `attention_mask` to obtain reliable results.\n",
      "Setting `pad_token_id` to `eos_token_id`:50256 for open-end generation.\n",
      "A decoder-only architecture is being used, but right-padding was detected! For correct generation results, please set `padding_side='left'` when initializing the tokenizer.\n"
     ]
    },
    {
     "name": "stdout",
     "output_type": "stream",
     "text": [
      "I think it's a reference to the word window.\n",
      "The words 'key' 'chip' are related to which common topic?\n",
      "I think it's a reference to the word'key '.\n",
      "Results saved: DialoGPT-large\n"
     ]
    },
    {
     "name": "stderr",
     "output_type": "stream",
     "text": [
      "Conversation input is to long (18), trimming it to (20 - 10)\n"
     ]
    },
    {
     "name": "stdout",
     "output_type": "stream",
     "text": [
      "The words 'game' 'team' are related to which common topic?\n"
     ]
    },
    {
     "name": "stderr",
     "output_type": "stream",
     "text": [
      "Conversation input is to long (22), trimming it to (20 - 10)\n"
     ]
    },
    {
     "name": "stdout",
     "output_type": "stream",
     "text": [
      "The team is related to the team\n",
      "The words 'god' 'religion' are related to which common topic?\n"
     ]
    },
    {
     "name": "stderr",
     "output_type": "stream",
     "text": [
      "Conversation input is to long (21), trimming it to (20 - 10)\n"
     ]
    },
    {
     "name": "stdout",
     "output_type": "stream",
     "text": [
      "The 'on' and 'on' are related to the same topic.\n",
      "The words 'space' 'nasa' are related to which common topic?\n"
     ]
    },
    {
     "name": "stderr",
     "output_type": "stream",
     "text": [
      "Conversation input is to long (20), trimming it to (20 - 10)\n"
     ]
    },
    {
     "name": "stdout",
     "output_type": "stream",
     "text": [
      "'A' is related to 'A' is related to 'A' is\n",
      "The words 'patient' 'disease' are related to which common topic?\n"
     ]
    },
    {
     "name": "stderr",
     "output_type": "stream",
     "text": [
      "Conversation input is to long (19), trimming it to (20 - 10)\n"
     ]
    },
    {
     "name": "stdout",
     "output_type": "stream",
     "text": [
      "The common topic is 'disease'\n",
      "The words 'government' 'president' are related to which common topic?\n"
     ]
    },
    {
     "name": "stderr",
     "output_type": "stream",
     "text": [
      "Conversation input is to long (19), trimming it to (20 - 10)\n"
     ]
    },
    {
     "name": "stdout",
     "output_type": "stream",
     "text": [
      "The President is related to the President of the United States\n",
      "The words 'mac' 'apple' are related to which common topic?\n"
     ]
    },
    {
     "name": "stderr",
     "output_type": "stream",
     "text": [
      "Conversation input is to long (19), trimming it to (20 - 10)\n"
     ]
    },
    {
     "name": "stdout",
     "output_type": "stream",
     "text": [
      "The 'le' is a common topic in the 'le' subredd\n",
      "The words 'armenian' 'israel' are related to which common topic?\n"
     ]
    },
    {
     "name": "stderr",
     "output_type": "stream",
     "text": [
      "Conversation input is to long (18), trimming it to (20 - 10)\n"
     ]
    },
    {
     "name": "stdout",
     "output_type": "stream",
     "text": [
      "Israel is related to the topic of the 'Israeli'\n",
      "The words 'drive' 'card' are related to which common topic?\n"
     ]
    },
    {
     "name": "stderr",
     "output_type": "stream",
     "text": [
      "Conversation input is to long (21), trimming it to (20 - 10)\n"
     ]
    },
    {
     "name": "stdout",
     "output_type": "stream",
     "text": [
      "The common topic is'sex'\n",
      "The words 'offer' 'sale' are related to which common topic?\n"
     ]
    },
    {
     "name": "stderr",
     "output_type": "stream",
     "text": [
      "Conversation input is to long (19), trimming it to (20 - 10)\n"
     ]
    },
    {
     "name": "stdout",
     "output_type": "stream",
     "text": [
      "The 'le' is a common topic in the 'le' subredd\n",
      "The words 'work' 'circuit' are related to which common topic?\n"
     ]
    },
    {
     "name": "stderr",
     "output_type": "stream",
     "text": [
      "Conversation input is to long (19), trimming it to (20 - 10)\n"
     ]
    },
    {
     "name": "stdout",
     "output_type": "stream",
     "text": [
      "The two are related to the same topic.\n",
      "The words 'window' 'file' are related to which common topic?\n"
     ]
    },
    {
     "name": "stderr",
     "output_type": "stream",
     "text": [
      "Conversation input is to long (19), trimming it to (20 - 10)\n"
     ]
    },
    {
     "name": "stdout",
     "output_type": "stream",
     "text": [
      "Files are related to which common topic?\n",
      "The words 'bike' 'ride' are related to which common topic?\n"
     ]
    },
    {
     "name": "stderr",
     "output_type": "stream",
     "text": [
      "Conversation input is to long (18), trimming it to (20 - 10)\n"
     ]
    },
    {
     "name": "stdout",
     "output_type": "stream",
     "text": [
      "'The'is related to 'the '\n",
      "The words 'game' 'team' are related to which common topic?\n"
     ]
    },
    {
     "name": "stderr",
     "output_type": "stream",
     "text": [
      "Conversation input is to long (21), trimming it to (20 - 10)\n"
     ]
    },
    {
     "name": "stdout",
     "output_type": "stream",
     "text": [
      "The team is related to the team\n",
      "The words 'god' 'christian' are related to which common topic?\n"
     ]
    },
    {
     "name": "stderr",
     "output_type": "stream",
     "text": [
      "Conversation input is to long (18), trimming it to (20 - 10)\n"
     ]
    },
    {
     "name": "stdout",
     "output_type": "stream",
     "text": [
      "The two are related to the same topic.\n",
      "The words 'gun' 'government' are related to which common topic?\n"
     ]
    },
    {
     "name": "stderr",
     "output_type": "stream",
     "text": [
      "Conversation input is to long (18), trimming it to (20 - 10)\n"
     ]
    },
    {
     "name": "stdout",
     "output_type": "stream",
     "text": [
      "The government is related to the government.\n",
      "The words 'image' 'file' are related to which common topic?\n"
     ]
    },
    {
     "name": "stderr",
     "output_type": "stream",
     "text": [
      "Conversation input is to long (18), trimming it to (20 - 10)\n"
     ]
    },
    {
     "name": "stdout",
     "output_type": "stream",
     "text": [
      "Files are related to which common topic?\n",
      "The words 'car' 'engine' are related to which common topic?\n"
     ]
    },
    {
     "name": "stderr",
     "output_type": "stream",
     "text": [
      "Conversation input is to long (21), trimming it to (20 - 10)\n"
     ]
    },
    {
     "name": "stdout",
     "output_type": "stream",
     "text": [
      "Engines are related to the same topic as 'engine'\n",
      "The words 'god' 'jesus' are related to which common topic?\n"
     ]
    },
    {
     "name": "stderr",
     "output_type": "stream",
     "text": [
      "Conversation input is to long (19), trimming it to (20 - 10)\n"
     ]
    },
    {
     "name": "stdout",
     "output_type": "stream",
     "text": [
      "'Sex' and'sex' are related to which common topic?\n",
      "The words 'window' 'file' are related to which common topic?\n"
     ]
    },
    {
     "name": "stderr",
     "output_type": "stream",
     "text": [
      "Conversation input is to long (18), trimming it to (20 - 10)\n"
     ]
    },
    {
     "name": "stdout",
     "output_type": "stream",
     "text": [
      "Files are related to which common topic?\n",
      "The words 'key' 'chip' are related to which common topic?\n",
      "The chip is related to the chip\n",
      "Results saved: GODEL-v1_1-large-seq2seq\n",
      "The words 'game' 'team' 'play' are related to which common topic?\n",
      " I'm not sure, but I do know that the word \"gaming\" was first recorded in the 10th century.\n",
      "The words 'god' 'religion' 'atheist' are related to which common topic?\n",
      " The word \"god\" is derived from the Greek word \"άθλος\".\n",
      "The words 'space' 'nasa' 'launch' are related to which common topic?\n",
      " I'm not sure, but I do know that the word \"space\" was first recorded in the 10th century.\n",
      "The words 'patient' 'disease' 'medical' are related to which common topic?\n",
      " I'm not sure, but I do know that the word \"disability\" is used to describe someone who is in a wheelchair.\n",
      "The words 'government' 'president' 'state' are related to which common topic?\n",
      " I'm not sure, but I do know that the term \"state\" was first recorded in the 10th century.\n",
      "The words 'mac' 'apple' 'problem' are related to which common topic?\n",
      " I'm not sure, but I do know that the word \"apple\" was first recorded in the 10th century.\n",
      "The words 'armenian' 'israel' 'turkish' are related to which common topic?\n",
      " I'm not sure, but I do know that the word \"armenia\" means \"little armoured one\" in Latin.\n",
      "The words 'drive' 'card' 'system' are related to which common topic?\n",
      " Driving is a form of transportation that involves the use of automobiles.\n",
      "The words 'offer' 'sale' 'sell' are related to which common topic?\n",
      " I'm not sure, but I do know that the word \"sale\" was first recorded in the 10th century.\n",
      "The words 'work' 'circuit' 'ground' are related to which common topic?\n",
      " I'm not sure, but I do know that the word circuit is derived from the Latin word \"circus\".\n",
      "The words 'window' 'file' 'run' are related to which common topic?\n",
      " The word \"file\" is derived from the Latin word \"flatus\" which means to run.\n",
      "The words 'bike' 'ride' 'dod' are related to which common topic?\n",
      " The word \"bike\" is derived from the Latin word bicycle.\n",
      "The words 'game' 'team' 'win' are related to which common topic?\n",
      " I'm not sure, but I do know that the word \"gaming\" was first recorded in the 10th century.\n",
      "The words 'god' 'christian' 'church' are related to which common topic?\n",
      " The word \"church\" is derived from the Latin word \"cristo\".\n",
      "The words 'gun' 'government' 'weapon' are related to which common topic?\n",
      " The word \"gun\" is derived from the Latin word \"graviolet\".\n",
      "The words 'image' 'file' 'graphic' are related to which common topic?\n",
      " The word \"file\" is derived from the Greek word \"graphein\" which means to write.\n",
      "The words 'car' 'engine' 'drive' are related to which common topic?\n",
      " I'm not sure, but I do know that the word \"engineer\" was first recorded in the 10th century.\n",
      "The words 'god' 'jesus' 'christian' are related to which common topic?\n",
      " I'm not sure, but I do know that Jesus is the son of God and was born in Bethlehem.\n",
      "The words 'window' 'file' 'program' are related to which common topic?\n",
      " I'm not sure, but I do know that the word \"file\" is derived from the Latin word meaning \"to write\"\n",
      "The words 'key' 'chip' 'encryption' are related to which common topic?\n",
      " I'm not sure, but I do know that the word \"chip\" was first recorded in the 10th century.\n",
      "Results saved: blenderbot-400M-distill\n"
     ]
    },
    {
     "name": "stderr",
     "output_type": "stream",
     "text": [
      "c:\\Users\\Virginia\\anaconda3\\lib\\site-packages\\transformers\\generation\\utils.py:1186: UserWarning: You have modified the pretrained model configuration to control generation. This is a deprecated strategy to control generation and will be removed soon, in a future version. Please use a generation configuration file (see https://huggingface.co/docs/transformers/main_classes/text_generation)\n",
      "  warnings.warn(\n",
      "The attention mask and the pad token id were not set. As a consequence, you may observe unexpected behavior. Please pass your input's `attention_mask` to obtain reliable results.\n",
      "Setting `pad_token_id` to `eos_token_id`:50256 for open-end generation.\n",
      "A decoder-only architecture is being used, but right-padding was detected! For correct generation results, please set `padding_side='left'` when initializing the tokenizer.\n"
     ]
    },
    {
     "name": "stdout",
     "output_type": "stream",
     "text": [
      "The words 'game' 'team' 'play' are related to which common topic?\n"
     ]
    },
    {
     "name": "stderr",
     "output_type": "stream",
     "text": [
      "The attention mask and the pad token id were not set. As a consequence, you may observe unexpected behavior. Please pass your input's `attention_mask` to obtain reliable results.\n",
      "Setting `pad_token_id` to `eos_token_id`:50256 for open-end generation.\n",
      "A decoder-only architecture is being used, but right-padding was detected! For correct generation results, please set `padding_side='left'` when initializing the tokenizer.\n"
     ]
    },
    {
     "name": "stdout",
     "output_type": "stream",
     "text": [
      "I think he means the game itself.\n",
      "The words 'god' 'religion' 'atheist' are related to which common topic?\n"
     ]
    },
    {
     "name": "stderr",
     "output_type": "stream",
     "text": [
      "The attention mask and the pad token id were not set. As a consequence, you may observe unexpected behavior. Please pass your input's `attention_mask` to obtain reliable results.\n",
      "Setting `pad_token_id` to `eos_token_id`:50256 for open-end generation.\n",
      "A decoder-only architecture is being used, but right-padding was detected! For correct generation results, please set `padding_side='left'` when initializing the tokenizer.\n"
     ]
    },
    {
     "name": "stdout",
     "output_type": "stream",
     "text": [
      "I think it's a reference to the fact that the word god is used in the bible.\n",
      "The words 'space' 'nasa' 'launch' are related to which common topic?\n"
     ]
    },
    {
     "name": "stderr",
     "output_type": "stream",
     "text": [
      "The attention mask and the pad token id were not set. As a consequence, you may observe unexpected behavior. Please pass your input's `attention_mask` to obtain reliable results.\n",
      "Setting `pad_token_id` to `eos_token_id`:50256 for open-end generation.\n",
      "A decoder-only architecture is being used, but right-padding was detected! For correct generation results, please set `padding_side='left'` when initializing the tokenizer.\n"
     ]
    },
    {
     "name": "stdout",
     "output_type": "stream",
     "text": [
      "I think it's a reference to the movie Space Jam.\n",
      "The words 'patient' 'disease' 'medical' are related to which common topic?\n"
     ]
    },
    {
     "name": "stderr",
     "output_type": "stream",
     "text": [
      "The attention mask and the pad token id were not set. As a consequence, you may observe unexpected behavior. Please pass your input's `attention_mask` to obtain reliable results.\n",
      "Setting `pad_token_id` to `eos_token_id`:50256 for open-end generation.\n",
      "A decoder-only architecture is being used, but right-padding was detected! For correct generation results, please set `padding_side='left'` when initializing the tokenizer.\n"
     ]
    },
    {
     "name": "stdout",
     "output_type": "stream",
     "text": [
      "I think it's a reference to the movie The Big Sick.\n",
      "The words 'government' 'president' 'state' are related to which common topic?\n"
     ]
    },
    {
     "name": "stderr",
     "output_type": "stream",
     "text": [
      "The attention mask and the pad token id were not set. As a consequence, you may observe unexpected behavior. Please pass your input's `attention_mask` to obtain reliable results.\n",
      "Setting `pad_token_id` to `eos_token_id`:50256 for open-end generation.\n",
      "A decoder-only architecture is being used, but right-padding was detected! For correct generation results, please set `padding_side='left'` when initializing the tokenizer.\n"
     ]
    },
    {
     "name": "stdout",
     "output_type": "stream",
     "text": [
      "I think he means the government.\n",
      "The words 'mac' 'apple' 'problem' are related to which common topic?\n"
     ]
    },
    {
     "name": "stderr",
     "output_type": "stream",
     "text": [
      "The attention mask and the pad token id were not set. As a consequence, you may observe unexpected behavior. Please pass your input's `attention_mask` to obtain reliable results.\n",
      "Setting `pad_token_id` to `eos_token_id`:50256 for open-end generation.\n",
      "A decoder-only architecture is being used, but right-padding was detected! For correct generation results, please set `padding_side='left'` when initializing the tokenizer.\n"
     ]
    },
    {
     "name": "stdout",
     "output_type": "stream",
     "text": [
      "I think it's a reference to the fact that the Mac is a computer.\n",
      "The words 'armenian' 'israel' 'turkish' are related to which common topic?\n"
     ]
    },
    {
     "name": "stderr",
     "output_type": "stream",
     "text": [
      "The attention mask and the pad token id were not set. As a consequence, you may observe unexpected behavior. Please pass your input's `attention_mask` to obtain reliable results.\n",
      "Setting `pad_token_id` to `eos_token_id`:50256 for open-end generation.\n",
      "A decoder-only architecture is being used, but right-padding was detected! For correct generation results, please set `padding_side='left'` when initializing the tokenizer.\n"
     ]
    },
    {
     "name": "stdout",
     "output_type": "stream",
     "text": [
      "I think it's a reference to the fact that the word armenian is used in the same way as turkish is used in the same way as arabic.\n",
      "The words 'drive' 'card' 'system' are related to which common topic?\n"
     ]
    },
    {
     "name": "stderr",
     "output_type": "stream",
     "text": [
      "The attention mask and the pad token id were not set. As a consequence, you may observe unexpected behavior. Please pass your input's `attention_mask` to obtain reliable results.\n",
      "Setting `pad_token_id` to `eos_token_id`:50256 for open-end generation.\n",
      "A decoder-only architecture is being used, but right-padding was detected! For correct generation results, please set `padding_side='left'` when initializing the tokenizer.\n"
     ]
    },
    {
     "name": "stdout",
     "output_type": "stream",
     "text": [
      "I think it's a reference to the movie Drive.\n",
      "The words 'offer' 'sale' 'sell' are related to which common topic?\n"
     ]
    },
    {
     "name": "stderr",
     "output_type": "stream",
     "text": [
      "The attention mask and the pad token id were not set. As a consequence, you may observe unexpected behavior. Please pass your input's `attention_mask` to obtain reliable results.\n",
      "Setting `pad_token_id` to `eos_token_id`:50256 for open-end generation.\n",
      "A decoder-only architecture is being used, but right-padding was detected! For correct generation results, please set `padding_side='left'` when initializing the tokenizer.\n"
     ]
    },
    {
     "name": "stdout",
     "output_type": "stream",
     "text": [
      "I think he means the word sale.\n",
      "The words 'work' 'circuit' 'ground' are related to which common topic?\n"
     ]
    },
    {
     "name": "stderr",
     "output_type": "stream",
     "text": [
      "The attention mask and the pad token id were not set. As a consequence, you may observe unexpected behavior. Please pass your input's `attention_mask` to obtain reliable results.\n",
      "Setting `pad_token_id` to `eos_token_id`:50256 for open-end generation.\n",
      "A decoder-only architecture is being used, but right-padding was detected! For correct generation results, please set `padding_side='left'` when initializing the tokenizer.\n"
     ]
    },
    {
     "name": "stdout",
     "output_type": "stream",
     "text": [
      "I think it's a reference to the fact that the word circuit is used in the same way as work.\n",
      "The words 'window' 'file' 'run' are related to which common topic?\n"
     ]
    },
    {
     "name": "stderr",
     "output_type": "stream",
     "text": [
      "The attention mask and the pad token id were not set. As a consequence, you may observe unexpected behavior. Please pass your input's `attention_mask` to obtain reliable results.\n",
      "Setting `pad_token_id` to `eos_token_id`:50256 for open-end generation.\n",
      "A decoder-only architecture is being used, but right-padding was detected! For correct generation results, please set `padding_side='left'` when initializing the tokenizer.\n"
     ]
    },
    {
     "name": "stdout",
     "output_type": "stream",
     "text": [
      "I think it's a reference to the movie The Window.\n",
      "The words 'bike' 'ride' 'dod' are related to which common topic?\n"
     ]
    },
    {
     "name": "stderr",
     "output_type": "stream",
     "text": [
      "The attention mask and the pad token id were not set. As a consequence, you may observe unexpected behavior. Please pass your input's `attention_mask` to obtain reliable results.\n",
      "Setting `pad_token_id` to `eos_token_id`:50256 for open-end generation.\n",
      "A decoder-only architecture is being used, but right-padding was detected! For correct generation results, please set `padding_side='left'` when initializing the tokenizer.\n"
     ]
    },
    {
     "name": "stdout",
     "output_type": "stream",
     "text": [
      "I think it's a reference to the movie Ride.\n",
      "The words 'game' 'team' 'win' are related to which common topic?\n"
     ]
    },
    {
     "name": "stderr",
     "output_type": "stream",
     "text": [
      "The attention mask and the pad token id were not set. As a consequence, you may observe unexpected behavior. Please pass your input's `attention_mask` to obtain reliable results.\n",
      "Setting `pad_token_id` to `eos_token_id`:50256 for open-end generation.\n",
      "A decoder-only architecture is being used, but right-padding was detected! For correct generation results, please set `padding_side='left'` when initializing the tokenizer.\n"
     ]
    },
    {
     "name": "stdout",
     "output_type": "stream",
     "text": [
      "I think it's a reference to the game, but I'm not sure.\n",
      "The words 'god' 'christian' 'church' are related to which common topic?\n"
     ]
    },
    {
     "name": "stderr",
     "output_type": "stream",
     "text": [
      "The attention mask and the pad token id were not set. As a consequence, you may observe unexpected behavior. Please pass your input's `attention_mask` to obtain reliable results.\n",
      "Setting `pad_token_id` to `eos_token_id`:50256 for open-end generation.\n",
      "A decoder-only architecture is being used, but right-padding was detected! For correct generation results, please set `padding_side='left'` when initializing the tokenizer.\n"
     ]
    },
    {
     "name": "stdout",
     "output_type": "stream",
     "text": [
      "I think it's a reference to the fact that the bible is a collection of books written by different people.\n",
      "The words 'gun' 'government' 'weapon' are related to which common topic?\n"
     ]
    },
    {
     "name": "stderr",
     "output_type": "stream",
     "text": [
      "The attention mask and the pad token id were not set. As a consequence, you may observe unexpected behavior. Please pass your input's `attention_mask` to obtain reliable results.\n",
      "Setting `pad_token_id` to `eos_token_id`:50256 for open-end generation.\n",
      "A decoder-only architecture is being used, but right-padding was detected! For correct generation results, please set `padding_side='left'` when initializing the tokenizer.\n"
     ]
    },
    {
     "name": "stdout",
     "output_type": "stream",
     "text": [
      "I think it's a reference to the movie The Patriot.\n",
      "The words 'image' 'file' 'graphic' are related to which common topic?\n"
     ]
    },
    {
     "name": "stderr",
     "output_type": "stream",
     "text": [
      "The attention mask and the pad token id were not set. As a consequence, you may observe unexpected behavior. Please pass your input's `attention_mask` to obtain reliable results.\n",
      "Setting `pad_token_id` to `eos_token_id`:50256 for open-end generation.\n",
      "A decoder-only architecture is being used, but right-padding was detected! For correct generation results, please set `padding_side='left'` when initializing the tokenizer.\n"
     ]
    },
    {
     "name": "stdout",
     "output_type": "stream",
     "text": [
      "I think it's a reference to the movie The Big Lebowski.\n",
      "The words 'car' 'engine' 'drive' are related to which common topic?\n"
     ]
    },
    {
     "name": "stderr",
     "output_type": "stream",
     "text": [
      "The attention mask and the pad token id were not set. As a consequence, you may observe unexpected behavior. Please pass your input's `attention_mask` to obtain reliable results.\n",
      "Setting `pad_token_id` to `eos_token_id`:50256 for open-end generation.\n",
      "A decoder-only architecture is being used, but right-padding was detected! For correct generation results, please set `padding_side='left'` when initializing the tokenizer.\n"
     ]
    },
    {
     "name": "stdout",
     "output_type": "stream",
     "text": [
      "I think it's a reference to the car that was used in the movie Drive.\n",
      "The words 'god' 'jesus' 'christian' are related to which common topic?\n"
     ]
    },
    {
     "name": "stderr",
     "output_type": "stream",
     "text": [
      "The attention mask and the pad token id were not set. As a consequence, you may observe unexpected behavior. Please pass your input's `attention_mask` to obtain reliable results.\n",
      "Setting `pad_token_id` to `eos_token_id`:50256 for open-end generation.\n",
      "A decoder-only architecture is being used, but right-padding was detected! For correct generation results, please set `padding_side='left'` when initializing the tokenizer.\n"
     ]
    },
    {
     "name": "stdout",
     "output_type": "stream",
     "text": [
      "I think it's a reference to the bible.\n",
      "The words 'window' 'file' 'program' are related to which common topic?\n"
     ]
    },
    {
     "name": "stderr",
     "output_type": "stream",
     "text": [
      "The attention mask and the pad token id were not set. As a consequence, you may observe unexpected behavior. Please pass your input's `attention_mask` to obtain reliable results.\n",
      "Setting `pad_token_id` to `eos_token_id`:50256 for open-end generation.\n",
      "A decoder-only architecture is being used, but right-padding was detected! For correct generation results, please set `padding_side='left'` when initializing the tokenizer.\n"
     ]
    },
    {
     "name": "stdout",
     "output_type": "stream",
     "text": [
      "I think it's a reference to the movie The Window.\n",
      "The words 'key' 'chip' 'encryption' are related to which common topic?\n",
      "I think it's the same thing, but I'm not sure.\n",
      "Results saved: DialoGPT-medium\n"
     ]
    },
    {
     "name": "stderr",
     "output_type": "stream",
     "text": [
      "Conversation input is to long (22), trimming it to (20 - 10)\n"
     ]
    },
    {
     "name": "stdout",
     "output_type": "stream",
     "text": [
      "The words 'game' 'team' 'play' are related to which common topic?\n"
     ]
    },
    {
     "name": "stderr",
     "output_type": "stream",
     "text": [
      "Conversation input is to long (28), trimming it to (20 - 10)\n"
     ]
    },
    {
     "name": "stdout",
     "output_type": "stream",
     "text": [
      "I'm not sure but I'm not sure what the common topic is.\n",
      "The words 'god' 'religion' 'atheist' are related to which common topic?\n"
     ]
    },
    {
     "name": "stderr",
     "output_type": "stream",
     "text": [
      "Conversation input is to long (25), trimming it to (20 - 10)\n"
     ]
    },
    {
     "name": "stdout",
     "output_type": "stream",
     "text": [
      "I'm not sure but I'm a chemist.\n",
      "The words 'space' 'nasa' 'launch' are related to which common topic?\n"
     ]
    },
    {
     "name": "stderr",
     "output_type": "stream",
     "text": [
      "Conversation input is to long (25), trimming it to (20 - 10)\n"
     ]
    },
    {
     "name": "stdout",
     "output_type": "stream",
     "text": [
      "I'm not sure but I'm not sure if it's related to the\n",
      "The words 'patient' 'disease' 'medical' are related to which common topic?\n"
     ]
    },
    {
     "name": "stderr",
     "output_type": "stream",
     "text": [
      "Conversation input is to long (23), trimming it to (20 - 10)\n"
     ]
    },
    {
     "name": "stdout",
     "output_type": "stream",
     "text": [
      "I'm not sure but I'm not sure what the common topic is.\n",
      "The words 'government' 'president' 'state' are related to which common topic?\n"
     ]
    },
    {
     "name": "stderr",
     "output_type": "stream",
     "text": [
      "Conversation input is to long (23), trimming it to (20 - 10)\n"
     ]
    },
    {
     "name": "stdout",
     "output_type": "stream",
     "text": [
      "I'm not sure but I'm sure it's a common topic.\n",
      "The words 'mac' 'apple' 'problem' are related to which common topic?\n"
     ]
    },
    {
     "name": "stderr",
     "output_type": "stream",
     "text": [
      "Conversation input is to long (25), trimming it to (20 - 10)\n"
     ]
    },
    {
     "name": "stdout",
     "output_type": "stream",
     "text": [
      "I'm not sure but I'm not sure what the common topic is.\n",
      "The words 'armenian' 'israel' 'turkish' are related to which common topic?\n"
     ]
    },
    {
     "name": "stderr",
     "output_type": "stream",
     "text": [
      "Conversation input is to long (22), trimming it to (20 - 10)\n"
     ]
    },
    {
     "name": "stdout",
     "output_type": "stream",
     "text": [
      "I'm not sure, but I'm not sure what the common topic is.\n",
      "The words 'drive' 'card' 'system' are related to which common topic?\n"
     ]
    },
    {
     "name": "stderr",
     "output_type": "stream",
     "text": [
      "Conversation input is to long (25), trimming it to (20 - 10)\n"
     ]
    },
    {
     "name": "stdout",
     "output_type": "stream",
     "text": [
      "i'm not sure but i'm a big fan of the '\n",
      "The words 'offer' 'sale' 'sell' are related to which common topic?\n"
     ]
    },
    {
     "name": "stderr",
     "output_type": "stream",
     "text": [
      "Conversation input is to long (23), trimming it to (20 - 10)\n"
     ]
    },
    {
     "name": "stdout",
     "output_type": "stream",
     "text": [
      "i'm not sure but i'm not sure if i'm\n",
      "The words 'work' 'circuit' 'ground' are related to which common topic?\n"
     ]
    },
    {
     "name": "stderr",
     "output_type": "stream",
     "text": [
      "Conversation input is to long (23), trimming it to (20 - 10)\n"
     ]
    },
    {
     "name": "stdout",
     "output_type": "stream",
     "text": [
      "I'm not sure but I'm not sure what the common topic is.\n",
      "The words 'window' 'file' 'run' are related to which common topic?\n"
     ]
    },
    {
     "name": "stderr",
     "output_type": "stream",
     "text": [
      "Conversation input is to long (25), trimming it to (20 - 10)\n"
     ]
    },
    {
     "name": "stdout",
     "output_type": "stream",
     "text": [
      "I'm not sure, but I'm not sure if it's related to\n",
      "The words 'bike' 'ride' 'dod' are related to which common topic?\n"
     ]
    },
    {
     "name": "stderr",
     "output_type": "stream",
     "text": [
      "Conversation input is to long (22), trimming it to (20 - 10)\n"
     ]
    },
    {
     "name": "stdout",
     "output_type": "stream",
     "text": [
      "I'm not sure but I'm not sure what the common topic is.\n",
      "The words 'game' 'team' 'win' are related to which common topic?\n"
     ]
    },
    {
     "name": "stderr",
     "output_type": "stream",
     "text": [
      "Conversation input is to long (25), trimming it to (20 - 10)\n"
     ]
    },
    {
     "name": "stdout",
     "output_type": "stream",
     "text": [
      "I'm not sure but I'm not sure what the common topic is.\n",
      "The words 'god' 'christian' 'church' are related to which common topic?\n"
     ]
    },
    {
     "name": "stderr",
     "output_type": "stream",
     "text": [
      "Conversation input is to long (24), trimming it to (20 - 10)\n"
     ]
    },
    {
     "name": "stdout",
     "output_type": "stream",
     "text": [
      "I'm not sure, but I'm not sure if it's related to\n",
      "The words 'gun' 'government' 'weapon' are related to which common topic?\n"
     ]
    },
    {
     "name": "stderr",
     "output_type": "stream",
     "text": [
      "Conversation input is to long (22), trimming it to (20 - 10)\n"
     ]
    },
    {
     "name": "stdout",
     "output_type": "stream",
     "text": [
      "I'm not sure but I'm sure it's a common topic.\n",
      "The words 'image' 'file' 'graphic' are related to which common topic?\n"
     ]
    },
    {
     "name": "stderr",
     "output_type": "stream",
     "text": [
      "Conversation input is to long (22), trimming it to (20 - 10)\n"
     ]
    },
    {
     "name": "stdout",
     "output_type": "stream",
     "text": [
      "I'm not sure but I'm a big fan of the 'graphic'\n",
      "The words 'car' 'engine' 'drive' are related to which common topic?\n"
     ]
    },
    {
     "name": "stderr",
     "output_type": "stream",
     "text": [
      "Conversation input is to long (27), trimming it to (20 - 10)\n"
     ]
    },
    {
     "name": "stdout",
     "output_type": "stream",
     "text": [
      "i'm not sure but i'm a big fan of the '\n",
      "The words 'god' 'jesus' 'christian' are related to which common topic?\n"
     ]
    },
    {
     "name": "stderr",
     "output_type": "stream",
     "text": [
      "Conversation input is to long (24), trimming it to (20 - 10)\n"
     ]
    },
    {
     "name": "stdout",
     "output_type": "stream",
     "text": [
      "i'm not sure but i'm a fan of the's\n",
      "The words 'window' 'file' 'program' are related to which common topic?\n"
     ]
    },
    {
     "name": "stderr",
     "output_type": "stream",
     "text": [
      "Conversation input is to long (25), trimming it to (20 - 10)\n"
     ]
    },
    {
     "name": "stdout",
     "output_type": "stream",
     "text": [
      "I'm not sure but I'm not sure what the common topic is.\n",
      "The words 'key' 'chip' 'encryption' are related to which common topic?\n",
      "I'm not sure but I'm not sure what the common topic is.\n",
      "Results saved: GODEL-v1_1-base-seq2seq\n"
     ]
    },
    {
     "name": "stderr",
     "output_type": "stream",
     "text": [
      "c:\\Users\\Virginia\\anaconda3\\lib\\site-packages\\transformers\\generation\\utils.py:1186: UserWarning: You have modified the pretrained model configuration to control generation. This is a deprecated strategy to control generation and will be removed soon, in a future version. Please use a generation configuration file (see https://huggingface.co/docs/transformers/main_classes/text_generation)\n",
      "  warnings.warn(\n",
      "The attention mask and the pad token id were not set. As a consequence, you may observe unexpected behavior. Please pass your input's `attention_mask` to obtain reliable results.\n",
      "Setting `pad_token_id` to `eos_token_id`:50256 for open-end generation.\n",
      "A decoder-only architecture is being used, but right-padding was detected! For correct generation results, please set `padding_side='left'` when initializing the tokenizer.\n"
     ]
    },
    {
     "name": "stdout",
     "output_type": "stream",
     "text": [
      "The words 'game' 'team' 'play' are related to which common topic?\n"
     ]
    },
    {
     "name": "stderr",
     "output_type": "stream",
     "text": [
      "The attention mask and the pad token id were not set. As a consequence, you may observe unexpected behavior. Please pass your input's `attention_mask` to obtain reliable results.\n",
      "Setting `pad_token_id` to `eos_token_id`:50256 for open-end generation.\n",
      "A decoder-only architecture is being used, but right-padding was detected! For correct generation results, please set `padding_side='left'` when initializing the tokenizer.\n"
     ]
    },
    {
     "name": "stdout",
     "output_type": "stream",
     "text": [
      "I'm not sure what you're trying to say.\n",
      "The words 'god' 'religion' 'atheist' are related to which common topic?\n"
     ]
    },
    {
     "name": "stderr",
     "output_type": "stream",
     "text": [
      "The attention mask and the pad token id were not set. As a consequence, you may observe unexpected behavior. Please pass your input's `attention_mask` to obtain reliable results.\n",
      "Setting `pad_token_id` to `eos_token_id`:50256 for open-end generation.\n",
      "A decoder-only architecture is being used, but right-padding was detected! For correct generation results, please set `padding_side='left'` when initializing the tokenizer.\n"
     ]
    },
    {
     "name": "stdout",
     "output_type": "stream",
     "text": [
      "I'm not sure what you're trying to say.\n",
      "The words 'space' 'nasa' 'launch' are related to which common topic?\n"
     ]
    },
    {
     "name": "stderr",
     "output_type": "stream",
     "text": [
      "The attention mask and the pad token id were not set. As a consequence, you may observe unexpected behavior. Please pass your input's `attention_mask` to obtain reliable results.\n",
      "Setting `pad_token_id` to `eos_token_id`:50256 for open-end generation.\n",
      "A decoder-only architecture is being used, but right-padding was detected! For correct generation results, please set `padding_side='left'` when initializing the tokenizer.\n"
     ]
    },
    {
     "name": "stdout",
     "output_type": "stream",
     "text": [
      "I'm not sure what you're trying to say.\n",
      "The words 'patient' 'disease' 'medical' are related to which common topic?\n"
     ]
    },
    {
     "name": "stderr",
     "output_type": "stream",
     "text": [
      "The attention mask and the pad token id were not set. As a consequence, you may observe unexpected behavior. Please pass your input's `attention_mask` to obtain reliable results.\n",
      "Setting `pad_token_id` to `eos_token_id`:50256 for open-end generation.\n",
      "A decoder-only architecture is being used, but right-padding was detected! For correct generation results, please set `padding_side='left'` when initializing the tokenizer.\n"
     ]
    },
    {
     "name": "stdout",
     "output_type": "stream",
     "text": [
      "I'm not sure what you're asking.\n",
      "The words 'government' 'president' 'state' are related to which common topic?\n"
     ]
    },
    {
     "name": "stderr",
     "output_type": "stream",
     "text": [
      "The attention mask and the pad token id were not set. As a consequence, you may observe unexpected behavior. Please pass your input's `attention_mask` to obtain reliable results.\n",
      "Setting `pad_token_id` to `eos_token_id`:50256 for open-end generation.\n",
      "A decoder-only architecture is being used, but right-padding was detected! For correct generation results, please set `padding_side='left'` when initializing the tokenizer.\n"
     ]
    },
    {
     "name": "stdout",
     "output_type": "stream",
     "text": [
      "I'm not sure what you're trying to say.\n",
      "The words 'mac' 'apple' 'problem' are related to which common topic?\n"
     ]
    },
    {
     "name": "stderr",
     "output_type": "stream",
     "text": [
      "The attention mask and the pad token id were not set. As a consequence, you may observe unexpected behavior. Please pass your input's `attention_mask` to obtain reliable results.\n",
      "Setting `pad_token_id` to `eos_token_id`:50256 for open-end generation.\n",
      "A decoder-only architecture is being used, but right-padding was detected! For correct generation results, please set `padding_side='left'` when initializing the tokenizer.\n"
     ]
    },
    {
     "name": "stdout",
     "output_type": "stream",
     "text": [
      "I'm not sure what you're trying to say.\n",
      "The words 'armenian' 'israel' 'turkish' are related to which common topic?\n"
     ]
    },
    {
     "name": "stderr",
     "output_type": "stream",
     "text": [
      "The attention mask and the pad token id were not set. As a consequence, you may observe unexpected behavior. Please pass your input's `attention_mask` to obtain reliable results.\n",
      "Setting `pad_token_id` to `eos_token_id`:50256 for open-end generation.\n",
      "A decoder-only architecture is being used, but right-padding was detected! For correct generation results, please set `padding_side='left'` when initializing the tokenizer.\n"
     ]
    },
    {
     "name": "stdout",
     "output_type": "stream",
     "text": [
      "I'm not sure what you're trying to say.\n",
      "The words 'drive' 'card' 'system' are related to which common topic?\n"
     ]
    },
    {
     "name": "stderr",
     "output_type": "stream",
     "text": [
      "The attention mask and the pad token id were not set. As a consequence, you may observe unexpected behavior. Please pass your input's `attention_mask` to obtain reliable results.\n",
      "Setting `pad_token_id` to `eos_token_id`:50256 for open-end generation.\n",
      "A decoder-only architecture is being used, but right-padding was detected! For correct generation results, please set `padding_side='left'` when initializing the tokenizer.\n"
     ]
    },
    {
     "name": "stdout",
     "output_type": "stream",
     "text": [
      "I'm not sure what you mean by this.\n",
      "The words 'offer' 'sale' 'sell' are related to which common topic?\n"
     ]
    },
    {
     "name": "stderr",
     "output_type": "stream",
     "text": [
      "The attention mask and the pad token id were not set. As a consequence, you may observe unexpected behavior. Please pass your input's `attention_mask` to obtain reliable results.\n",
      "Setting `pad_token_id` to `eos_token_id`:50256 for open-end generation.\n",
      "A decoder-only architecture is being used, but right-padding was detected! For correct generation results, please set `padding_side='left'` when initializing the tokenizer.\n"
     ]
    },
    {
     "name": "stdout",
     "output_type": "stream",
     "text": [
      "I'm not sure what you mean by that.\n",
      "The words 'work' 'circuit' 'ground' are related to which common topic?\n"
     ]
    },
    {
     "name": "stderr",
     "output_type": "stream",
     "text": [
      "The attention mask and the pad token id were not set. As a consequence, you may observe unexpected behavior. Please pass your input's `attention_mask` to obtain reliable results.\n",
      "Setting `pad_token_id` to `eos_token_id`:50256 for open-end generation.\n",
      "A decoder-only architecture is being used, but right-padding was detected! For correct generation results, please set `padding_side='left'` when initializing the tokenizer.\n"
     ]
    },
    {
     "name": "stdout",
     "output_type": "stream",
     "text": [
      "I'm not sure what you mean.\n",
      "The words 'window' 'file' 'run' are related to which common topic?\n"
     ]
    },
    {
     "name": "stderr",
     "output_type": "stream",
     "text": [
      "The attention mask and the pad token id were not set. As a consequence, you may observe unexpected behavior. Please pass your input's `attention_mask` to obtain reliable results.\n",
      "Setting `pad_token_id` to `eos_token_id`:50256 for open-end generation.\n",
      "A decoder-only architecture is being used, but right-padding was detected! For correct generation results, please set `padding_side='left'` when initializing the tokenizer.\n"
     ]
    },
    {
     "name": "stdout",
     "output_type": "stream",
     "text": [
      "I'm not sure what you mean.\n",
      "The words 'bike' 'ride' 'dod' are related to which common topic?\n"
     ]
    },
    {
     "name": "stderr",
     "output_type": "stream",
     "text": [
      "The attention mask and the pad token id were not set. As a consequence, you may observe unexpected behavior. Please pass your input's `attention_mask` to obtain reliable results.\n",
      "Setting `pad_token_id` to `eos_token_id`:50256 for open-end generation.\n",
      "A decoder-only architecture is being used, but right-padding was detected! For correct generation results, please set `padding_side='left'` when initializing the tokenizer.\n"
     ]
    },
    {
     "name": "stdout",
     "output_type": "stream",
     "text": [
      "I'm not sure what you're trying to say.\n",
      "The words 'game' 'team' 'win' are related to which common topic?\n"
     ]
    },
    {
     "name": "stderr",
     "output_type": "stream",
     "text": [
      "The attention mask and the pad token id were not set. As a consequence, you may observe unexpected behavior. Please pass your input's `attention_mask` to obtain reliable results.\n",
      "Setting `pad_token_id` to `eos_token_id`:50256 for open-end generation.\n",
      "A decoder-only architecture is being used, but right-padding was detected! For correct generation results, please set `padding_side='left'` when initializing the tokenizer.\n"
     ]
    },
    {
     "name": "stdout",
     "output_type": "stream",
     "text": [
      "I'm not sure what you're trying to say.\n",
      "The words 'god' 'christian' 'church' are related to which common topic?\n"
     ]
    },
    {
     "name": "stderr",
     "output_type": "stream",
     "text": [
      "The attention mask and the pad token id were not set. As a consequence, you may observe unexpected behavior. Please pass your input's `attention_mask` to obtain reliable results.\n",
      "Setting `pad_token_id` to `eos_token_id`:50256 for open-end generation.\n",
      "A decoder-only architecture is being used, but right-padding was detected! For correct generation results, please set `padding_side='left'` when initializing the tokenizer.\n"
     ]
    },
    {
     "name": "stdout",
     "output_type": "stream",
     "text": [
      "I'm not sure if you're being sarcastic or not, but I'm pretty sure that's the exact same thing.\n",
      "The words 'gun' 'government' 'weapon' are related to which common topic?\n"
     ]
    },
    {
     "name": "stderr",
     "output_type": "stream",
     "text": [
      "The attention mask and the pad token id were not set. As a consequence, you may observe unexpected behavior. Please pass your input's `attention_mask` to obtain reliable results.\n",
      "Setting `pad_token_id` to `eos_token_id`:50256 for open-end generation.\n",
      "A decoder-only architecture is being used, but right-padding was detected! For correct generation results, please set `padding_side='left'` when initializing the tokenizer.\n"
     ]
    },
    {
     "name": "stdout",
     "output_type": "stream",
     "text": [
      "I think you're confusing the word'weapon'with'government '.\n",
      "The words 'image' 'file' 'graphic' are related to which common topic?\n"
     ]
    },
    {
     "name": "stderr",
     "output_type": "stream",
     "text": [
      "The attention mask and the pad token id were not set. As a consequence, you may observe unexpected behavior. Please pass your input's `attention_mask` to obtain reliable results.\n",
      "Setting `pad_token_id` to `eos_token_id`:50256 for open-end generation.\n",
      "A decoder-only architecture is being used, but right-padding was detected! For correct generation results, please set `padding_side='left'` when initializing the tokenizer.\n"
     ]
    },
    {
     "name": "stdout",
     "output_type": "stream",
     "text": [
      "I'm not sure what you mean.\n",
      "The words 'car' 'engine' 'drive' are related to which common topic?\n"
     ]
    },
    {
     "name": "stderr",
     "output_type": "stream",
     "text": [
      "The attention mask and the pad token id were not set. As a consequence, you may observe unexpected behavior. Please pass your input's `attention_mask` to obtain reliable results.\n",
      "Setting `pad_token_id` to `eos_token_id`:50256 for open-end generation.\n",
      "A decoder-only architecture is being used, but right-padding was detected! For correct generation results, please set `padding_side='left'` when initializing the tokenizer.\n"
     ]
    },
    {
     "name": "stdout",
     "output_type": "stream",
     "text": [
      "I'm not sure what you're trying to say.\n",
      "The words 'god' 'jesus' 'christian' are related to which common topic?\n"
     ]
    },
    {
     "name": "stderr",
     "output_type": "stream",
     "text": [
      "The attention mask and the pad token id were not set. As a consequence, you may observe unexpected behavior. Please pass your input's `attention_mask` to obtain reliable results.\n",
      "Setting `pad_token_id` to `eos_token_id`:50256 for open-end generation.\n",
      "A decoder-only architecture is being used, but right-padding was detected! For correct generation results, please set `padding_side='left'` when initializing the tokenizer.\n"
     ]
    },
    {
     "name": "stdout",
     "output_type": "stream",
     "text": [
      "I'm not sure if you're joking or not, but I'm pretty sure Jesus Christ is related to Christianity.\n",
      "The words 'window' 'file' 'program' are related to which common topic?\n"
     ]
    },
    {
     "name": "stderr",
     "output_type": "stream",
     "text": [
      "The attention mask and the pad token id were not set. As a consequence, you may observe unexpected behavior. Please pass your input's `attention_mask` to obtain reliable results.\n",
      "Setting `pad_token_id` to `eos_token_id`:50256 for open-end generation.\n",
      "A decoder-only architecture is being used, but right-padding was detected! For correct generation results, please set `padding_side='left'` when initializing the tokenizer.\n"
     ]
    },
    {
     "name": "stdout",
     "output_type": "stream",
     "text": [
      "I'm not sure what you mean.\n",
      "The words 'key' 'chip' 'encryption' are related to which common topic?\n",
      "I'm not sure what you mean.\n",
      "Results saved: DialoGPT-small\n",
      "The words 'game' 'team' 'play' are related to which common topic?\n",
      "i'm not sure what you mean. what do you mean by \" common topic \"?\n",
      "The words 'god' 'religion' 'atheist' are related to which common topic?\n",
      "i'm an atheist. i believe in the existence of a god. do you?\n",
      "The words 'space' 'nasa' 'launch' are related to which common topic?\n",
      "i'm not sure, but i do know that nasa is the largest nasa organization in the world.\n",
      "The words 'patient' 'disease' 'medical' are related to which common topic?\n",
      "i'm not sure, but i do know that the word \" patient \" was first recorded in the 10th century.\n",
      "The words 'government' 'president' 'state' are related to which common topic?\n",
      "i'm not sure, but i do know that the president is the president of the united states.\n",
      "The words 'mac' 'apple' 'problem' are related to which common topic?\n",
      "i'm not sure what common topic you're referring to, but i do know that i've had a lot of problems with my mac.\n",
      "The words 'armenian' 'israel' 'turkish' are related to which common topic?\n",
      "i'm not sure, but i do know that turkey is the largest country in the world.\n",
      "The words 'drive' 'card' 'system' are related to which common topic?\n",
      "i'm not sure what the common topic is, but i do know that i've never used a drive card before.\n",
      "The words 'offer' 'sale' 'sell' are related to which common topic?\n",
      "i'm not sure what common topic you're talking about. what do you mean?\n",
      "The words 'work' 'circuit' 'ground' are related to which common topic?\n",
      "i'm not sure what you mean. what do you mean by \" common topic \"?\n",
      "The words 'window' 'file' 'run' are related to which common topic?\n",
      "the word \" window \" is related to \" run \" which is a program that runs in the background.\n",
      "The words 'bike' 'ride' 'dod' are related to which common topic?\n",
      "i'm not sure, but i do know that the word \" bike \" was first recorded in the 10th century.\n",
      "The words 'game' 'team' 'win' are related to which common topic?\n",
      "i'm not sure what common topic you're talking about. what do you mean?\n",
      "The words 'god' 'christian' 'church' are related to which common topic?\n",
      "i'm not sure what you mean by that. do you mean that the word \" god \" is related to which common topic?\n",
      "The words 'gun' 'government' 'weapon' are related to which common topic?\n",
      "i'm not sure, but i do know that the term \" gun \" was first used in the 18th century.\n",
      "The words 'image' 'file' 'graphic' are related to which common topic?\n",
      "i'm not sure, but i do know that the word \" image \" was first used in the 18th century.\n",
      "The words 'car' 'engine' 'drive' are related to which common topic?\n",
      "i'm not sure, but i do know that the word \" car \" was first recorded in the 10th century.\n",
      "The words 'god' 'jesus' 'christian' are related to which common topic?\n",
      "i'm not sure what you mean by that. do you mean that the word \" god \" is related to the common topic of which common topic?\n",
      "The words 'window' 'file' 'program' are related to which common topic?\n",
      "i'm not sure what common topic you're talking about. what do you mean?\n",
      "The words 'key' 'chip' 'encryption' are related to which common topic?\n",
      "i'm not sure what the common topic is, but i do know that the word \" key \" was first used in the 19th century.\n",
      "Results saved: blenderbot_small-90M\n"
     ]
    },
    {
     "name": "stderr",
     "output_type": "stream",
     "text": [
      "Special tokens have been added in the vocabulary, make sure the associated word embeddings are fine-tuned or trained.\n",
      "Special tokens have been added in the vocabulary, make sure the associated word embeddings are fine-tuned or trained.\n"
     ]
    },
    {
     "name": "stdout",
     "output_type": "stream",
     "text": [
      "The words 'game' 'team' 'play' are related to which common topic?\n",
      " The word \"game\" is derived from the Latin word \"gamus\" which means to play.\n",
      "The words 'god' 'religion' 'atheist' are related to which common topic?\n",
      " Atheism is the lack of belief in the existence of a god or gods.\n",
      "The words 'space' 'nasa' 'launch' are related to which common topic?\n",
      " NASA is an American space agency that launches satellites into space.\n",
      "The words 'patient' 'disease' 'medical' are related to which common topic?\n",
      " Patient, disease, and medical are all interchangeable terms for the same thing.\n",
      "The words 'government' 'president' 'state' are related to which common topic?\n",
      " The President of the United States is the head of the executive branch of the federal government.\n",
      "The words 'mac' 'apple' 'problem' are related to which common topic?\n",
      " I'm not sure, but I do know that the word \"apple\" was first recorded in the 10th century.\n",
      "The words 'armenian' 'israel' 'turkish' are related to which common topic?\n",
      " Armenian is a nationality and Turkish is an ethnicity.\n",
      "The words 'drive' 'card' 'system' are related to which common topic?\n",
      " I'm not sure, but I do know that the word \"drive\" was first recorded in the 10th century.\n",
      "The words 'offer' 'sale' 'sell' are related to which common topic?\n",
      " I'm not sure, but I do know that the word \"offer\" was first recorded in the 10th century.\n",
      "The words 'work' 'circuit' 'ground' are related to which common topic?\n",
      " I'm not sure, but I do know that circuitry is the study of electrical circuits.\n",
      "The words 'window' 'file' 'run' are related to which common topic?\n",
      " The word \"file\" is derived from the Latin \"filius\", which means window.\n",
      "The words 'bike' 'ride' 'dod' are related to which common topic?\n",
      " The word \"bike\" is derived from the Greek word \"bi\" meaning two, and \"dod\" from the Latin word \"dode\".\n",
      "The words 'game' 'team' 'win' are related to which common topic?\n",
      " The word \"game\" is derived from the Latin word \"gamus\" which means \"to play\"\n",
      "The words 'god' 'christian' 'church' are related to which common topic?\n",
      " The word \"church\" is derived from the Latin word \"Christos\", which means \"God\".\n",
      "The words 'gun' 'government' 'weapon' are related to which common topic?\n",
      " The word \"gun\" was first recorded in the 10th century in a Latin manuscript.\n",
      "The words 'image' 'file' 'graphic' are related to which common topic?\n",
      " Image file is a file that contains images. Graphic is a type of image.\n",
      "The words 'car' 'engine' 'drive' are related to which common topic?\n",
      " The word \"car\" is derived from the Latin word \"carta\".\n",
      "The words 'god' 'jesus' 'christian' are related to which common topic?\n",
      " Christianity is the largest religion in the world with over 2.4 billion followers.\n",
      "The words 'window' 'file' 'program' are related to which common topic?\n",
      " Windows is a computing operating system developed by Microsoft. Microsoft is a computer company\n",
      "The words 'key' 'chip' 'encryption' are related to which common topic?\n",
      " I'm not sure, but I do know that encryption is used to secure data.\n",
      "Results saved: blenderbot-3B\n"
     ]
    },
    {
     "name": "stderr",
     "output_type": "stream",
     "text": [
      "c:\\Users\\Virginia\\anaconda3\\lib\\site-packages\\transformers\\generation\\utils.py:1186: UserWarning: You have modified the pretrained model configuration to control generation. This is a deprecated strategy to control generation and will be removed soon, in a future version. Please use a generation configuration file (see https://huggingface.co/docs/transformers/main_classes/text_generation)\n",
      "  warnings.warn(\n",
      "The attention mask and the pad token id were not set. As a consequence, you may observe unexpected behavior. Please pass your input's `attention_mask` to obtain reliable results.\n",
      "Setting `pad_token_id` to `eos_token_id`:50256 for open-end generation.\n",
      "A decoder-only architecture is being used, but right-padding was detected! For correct generation results, please set `padding_side='left'` when initializing the tokenizer.\n"
     ]
    },
    {
     "name": "stdout",
     "output_type": "stream",
     "text": [
      "The words 'game' 'team' 'play' are related to which common topic?\n"
     ]
    },
    {
     "name": "stderr",
     "output_type": "stream",
     "text": [
      "The attention mask and the pad token id were not set. As a consequence, you may observe unexpected behavior. Please pass your input's `attention_mask` to obtain reliable results.\n",
      "Setting `pad_token_id` to `eos_token_id`:50256 for open-end generation.\n",
      "A decoder-only architecture is being used, but right-padding was detected! For correct generation results, please set `padding_side='left'` when initializing the tokenizer.\n"
     ]
    },
    {
     "name": "stdout",
     "output_type": "stream",
     "text": [
      "I think he means that the word'team'is used in the title of the post.\n",
      "The words 'god' 'religion' 'atheist' are related to which common topic?\n"
     ]
    },
    {
     "name": "stderr",
     "output_type": "stream",
     "text": [
      "The attention mask and the pad token id were not set. As a consequence, you may observe unexpected behavior. Please pass your input's `attention_mask` to obtain reliable results.\n",
      "Setting `pad_token_id` to `eos_token_id`:50256 for open-end generation.\n",
      "A decoder-only architecture is being used, but right-padding was detected! For correct generation results, please set `padding_side='left'` when initializing the tokenizer.\n"
     ]
    },
    {
     "name": "stdout",
     "output_type": "stream",
     "text": [
      "Religion is a common topic.\n",
      "The words 'space' 'nasa' 'launch' are related to which common topic?\n"
     ]
    },
    {
     "name": "stderr",
     "output_type": "stream",
     "text": [
      "The attention mask and the pad token id were not set. As a consequence, you may observe unexpected behavior. Please pass your input's `attention_mask` to obtain reliable results.\n",
      "Setting `pad_token_id` to `eos_token_id`:50256 for open-end generation.\n",
      "A decoder-only architecture is being used, but right-padding was detected! For correct generation results, please set `padding_side='left'` when initializing the tokenizer.\n"
     ]
    },
    {
     "name": "stdout",
     "output_type": "stream",
     "text": [
      "Space is a common topic.\n",
      "The words 'patient' 'disease' 'medical' are related to which common topic?\n"
     ]
    },
    {
     "name": "stderr",
     "output_type": "stream",
     "text": [
      "The attention mask and the pad token id were not set. As a consequence, you may observe unexpected behavior. Please pass your input's `attention_mask` to obtain reliable results.\n",
      "Setting `pad_token_id` to `eos_token_id`:50256 for open-end generation.\n",
      "A decoder-only architecture is being used, but right-padding was detected! For correct generation results, please set `padding_side='left'` when initializing the tokenizer.\n"
     ]
    },
    {
     "name": "stdout",
     "output_type": "stream",
     "text": [
      "I think it's a reference to the movie The Last Airbender.\n",
      "The words 'government' 'president' 'state' are related to which common topic?\n"
     ]
    },
    {
     "name": "stderr",
     "output_type": "stream",
     "text": [
      "The attention mask and the pad token id were not set. As a consequence, you may observe unexpected behavior. Please pass your input's `attention_mask` to obtain reliable results.\n",
      "Setting `pad_token_id` to `eos_token_id`:50256 for open-end generation.\n",
      "A decoder-only architecture is being used, but right-padding was detected! For correct generation results, please set `padding_side='left'` when initializing the tokenizer.\n"
     ]
    },
    {
     "name": "stdout",
     "output_type": "stream",
     "text": [
      "I think he means the word'government '.\n",
      "The words 'mac' 'apple' 'problem' are related to which common topic?\n"
     ]
    },
    {
     "name": "stderr",
     "output_type": "stream",
     "text": [
      "The attention mask and the pad token id were not set. As a consequence, you may observe unexpected behavior. Please pass your input's `attention_mask` to obtain reliable results.\n",
      "Setting `pad_token_id` to `eos_token_id`:50256 for open-end generation.\n",
      "A decoder-only architecture is being used, but right-padding was detected! For correct generation results, please set `padding_side='left'` when initializing the tokenizer.\n"
     ]
    },
    {
     "name": "stdout",
     "output_type": "stream",
     "text": [
      "I think it's a reference to the Apple Mac problem.\n",
      "The words 'armenian' 'israel' 'turkish' are related to which common topic?\n"
     ]
    },
    {
     "name": "stderr",
     "output_type": "stream",
     "text": [
      "The attention mask and the pad token id were not set. As a consequence, you may observe unexpected behavior. Please pass your input's `attention_mask` to obtain reliable results.\n",
      "Setting `pad_token_id` to `eos_token_id`:50256 for open-end generation.\n",
      "A decoder-only architecture is being used, but right-padding was detected! For correct generation results, please set `padding_side='left'` when initializing the tokenizer.\n"
     ]
    },
    {
     "name": "stdout",
     "output_type": "stream",
     "text": [
      "I think it's the same thing.\n",
      "The words 'drive' 'card' 'system' are related to which common topic?\n"
     ]
    },
    {
     "name": "stderr",
     "output_type": "stream",
     "text": [
      "The attention mask and the pad token id were not set. As a consequence, you may observe unexpected behavior. Please pass your input's `attention_mask` to obtain reliable results.\n",
      "Setting `pad_token_id` to `eos_token_id`:50256 for open-end generation.\n",
      "A decoder-only architecture is being used, but right-padding was detected! For correct generation results, please set `padding_side='left'` when initializing the tokenizer.\n"
     ]
    },
    {
     "name": "stdout",
     "output_type": "stream",
     "text": [
      "I think he means the word'drive '.\n",
      "The words 'offer' 'sale' 'sell' are related to which common topic?\n"
     ]
    },
    {
     "name": "stderr",
     "output_type": "stream",
     "text": [
      "The attention mask and the pad token id were not set. As a consequence, you may observe unexpected behavior. Please pass your input's `attention_mask` to obtain reliable results.\n",
      "Setting `pad_token_id` to `eos_token_id`:50256 for open-end generation.\n",
      "A decoder-only architecture is being used, but right-padding was detected! For correct generation results, please set `padding_side='left'` when initializing the tokenizer.\n"
     ]
    },
    {
     "name": "stdout",
     "output_type": "stream",
     "text": [
      "I think it's a reference to the word'offer '.\n",
      "The words 'work' 'circuit' 'ground' are related to which common topic?\n"
     ]
    },
    {
     "name": "stderr",
     "output_type": "stream",
     "text": [
      "The attention mask and the pad token id were not set. As a consequence, you may observe unexpected behavior. Please pass your input's `attention_mask` to obtain reliable results.\n",
      "Setting `pad_token_id` to `eos_token_id`:50256 for open-end generation.\n",
      "A decoder-only architecture is being used, but right-padding was detected! For correct generation results, please set `padding_side='left'` when initializing the tokenizer.\n"
     ]
    },
    {
     "name": "stdout",
     "output_type": "stream",
     "text": [
      "I think it's a reference to the work circuit.\n",
      "The words 'window' 'file' 'run' are related to which common topic?\n"
     ]
    },
    {
     "name": "stderr",
     "output_type": "stream",
     "text": [
      "The attention mask and the pad token id were not set. As a consequence, you may observe unexpected behavior. Please pass your input's `attention_mask` to obtain reliable results.\n",
      "Setting `pad_token_id` to `eos_token_id`:50256 for open-end generation.\n",
      "A decoder-only architecture is being used, but right-padding was detected! For correct generation results, please set `padding_side='left'` when initializing the tokenizer.\n"
     ]
    },
    {
     "name": "stdout",
     "output_type": "stream",
     "text": [
      "I think he means the file that is called window.\n",
      "The words 'bike' 'ride' 'dod' are related to which common topic?\n"
     ]
    },
    {
     "name": "stderr",
     "output_type": "stream",
     "text": [
      "The attention mask and the pad token id were not set. As a consequence, you may observe unexpected behavior. Please pass your input's `attention_mask` to obtain reliable results.\n",
      "Setting `pad_token_id` to `eos_token_id`:50256 for open-end generation.\n",
      "A decoder-only architecture is being used, but right-padding was detected! For correct generation results, please set `padding_side='left'` when initializing the tokenizer.\n"
     ]
    },
    {
     "name": "stdout",
     "output_type": "stream",
     "text": [
      "I think it's a reference to the song.\n",
      "The words 'game' 'team' 'win' are related to which common topic?\n"
     ]
    },
    {
     "name": "stderr",
     "output_type": "stream",
     "text": [
      "The attention mask and the pad token id were not set. As a consequence, you may observe unexpected behavior. Please pass your input's `attention_mask` to obtain reliable results.\n",
      "Setting `pad_token_id` to `eos_token_id`:50256 for open-end generation.\n",
      "A decoder-only architecture is being used, but right-padding was detected! For correct generation results, please set `padding_side='left'` when initializing the tokenizer.\n"
     ]
    },
    {
     "name": "stdout",
     "output_type": "stream",
     "text": [
      "I think it's a reference to the word'win '.\n",
      "The words 'god' 'christian' 'church' are related to which common topic?\n"
     ]
    },
    {
     "name": "stderr",
     "output_type": "stream",
     "text": [
      "The attention mask and the pad token id were not set. As a consequence, you may observe unexpected behavior. Please pass your input's `attention_mask` to obtain reliable results.\n",
      "Setting `pad_token_id` to `eos_token_id`:50256 for open-end generation.\n",
      "A decoder-only architecture is being used, but right-padding was detected! For correct generation results, please set `padding_side='left'` when initializing the tokenizer.\n"
     ]
    },
    {
     "name": "stdout",
     "output_type": "stream",
     "text": [
      "I think it's a reference to the bible.\n",
      "The words 'gun' 'government' 'weapon' are related to which common topic?\n"
     ]
    },
    {
     "name": "stderr",
     "output_type": "stream",
     "text": [
      "The attention mask and the pad token id were not set. As a consequence, you may observe unexpected behavior. Please pass your input's `attention_mask` to obtain reliable results.\n",
      "Setting `pad_token_id` to `eos_token_id`:50256 for open-end generation.\n",
      "A decoder-only architecture is being used, but right-padding was detected! For correct generation results, please set `padding_side='left'` when initializing the tokenizer.\n"
     ]
    },
    {
     "name": "stdout",
     "output_type": "stream",
     "text": [
      "The word'gun'is related to the word'government '.\n",
      "The words 'image' 'file' 'graphic' are related to which common topic?\n"
     ]
    },
    {
     "name": "stderr",
     "output_type": "stream",
     "text": [
      "The attention mask and the pad token id were not set. As a consequence, you may observe unexpected behavior. Please pass your input's `attention_mask` to obtain reliable results.\n",
      "Setting `pad_token_id` to `eos_token_id`:50256 for open-end generation.\n",
      "A decoder-only architecture is being used, but right-padding was detected! For correct generation results, please set `padding_side='left'` when initializing the tokenizer.\n"
     ]
    },
    {
     "name": "stdout",
     "output_type": "stream",
     "text": [
      "I think it's a reference to the word'file '.\n",
      "The words 'car' 'engine' 'drive' are related to which common topic?\n"
     ]
    },
    {
     "name": "stderr",
     "output_type": "stream",
     "text": [
      "The attention mask and the pad token id were not set. As a consequence, you may observe unexpected behavior. Please pass your input's `attention_mask` to obtain reliable results.\n",
      "Setting `pad_token_id` to `eos_token_id`:50256 for open-end generation.\n",
      "A decoder-only architecture is being used, but right-padding was detected! For correct generation results, please set `padding_side='left'` when initializing the tokenizer.\n"
     ]
    },
    {
     "name": "stdout",
     "output_type": "stream",
     "text": [
      "I think he means the car engine drivetrain.\n",
      "The words 'god' 'jesus' 'christian' are related to which common topic?\n"
     ]
    },
    {
     "name": "stderr",
     "output_type": "stream",
     "text": [
      "The attention mask and the pad token id were not set. As a consequence, you may observe unexpected behavior. Please pass your input's `attention_mask` to obtain reliable results.\n",
      "Setting `pad_token_id` to `eos_token_id`:50256 for open-end generation.\n",
      "A decoder-only architecture is being used, but right-padding was detected! For correct generation results, please set `padding_side='left'` when initializing the tokenizer.\n"
     ]
    },
    {
     "name": "stdout",
     "output_type": "stream",
     "text": [
      "I think it's a reference to the bible.\n",
      "The words 'window' 'file' 'program' are related to which common topic?\n"
     ]
    },
    {
     "name": "stderr",
     "output_type": "stream",
     "text": [
      "The attention mask and the pad token id were not set. As a consequence, you may observe unexpected behavior. Please pass your input's `attention_mask` to obtain reliable results.\n",
      "Setting `pad_token_id` to `eos_token_id`:50256 for open-end generation.\n",
      "A decoder-only architecture is being used, but right-padding was detected! For correct generation results, please set `padding_side='left'` when initializing the tokenizer.\n"
     ]
    },
    {
     "name": "stdout",
     "output_type": "stream",
     "text": [
      "I think he means the file program.\n",
      "The words 'key' 'chip' 'encryption' are related to which common topic?\n",
      "I think he means keylogging.\n",
      "Results saved: DialoGPT-large\n"
     ]
    },
    {
     "name": "stderr",
     "output_type": "stream",
     "text": [
      "Conversation input is to long (22), trimming it to (20 - 10)\n"
     ]
    },
    {
     "name": "stdout",
     "output_type": "stream",
     "text": [
      "The words 'game' 'team' 'play' are related to which common topic?\n"
     ]
    },
    {
     "name": "stderr",
     "output_type": "stream",
     "text": [
      "Conversation input is to long (28), trimming it to (20 - 10)\n"
     ]
    },
    {
     "name": "stdout",
     "output_type": "stream",
     "text": [
      "The common topic is 'play'\n",
      "The words 'god' 'religion' 'atheist' are related to which common topic?\n"
     ]
    },
    {
     "name": "stderr",
     "output_type": "stream",
     "text": [
      "Conversation input is to long (25), trimming it to (20 - 10)\n"
     ]
    },
    {
     "name": "stdout",
     "output_type": "stream",
     "text": [
      "The term'scientist' is used to describe a person who is a scientist\n",
      "The words 'space' 'nasa' 'launch' are related to which common topic?\n"
     ]
    },
    {
     "name": "stderr",
     "output_type": "stream",
     "text": [
      "Conversation input is to long (25), trimming it to (20 - 10)\n"
     ]
    },
    {
     "name": "stdout",
     "output_type": "stream",
     "text": [
      "'launch' and 'launch' are related to which common topic?\n",
      "The words 'patient' 'disease' 'medical' are related to which common topic?\n"
     ]
    },
    {
     "name": "stderr",
     "output_type": "stream",
     "text": [
      "Conversation input is to long (23), trimming it to (20 - 10)\n"
     ]
    },
    {
     "name": "stdout",
     "output_type": "stream",
     "text": [
      "The common topic is 'the '\n",
      "The words 'government' 'president' 'state' are related to which common topic?\n"
     ]
    },
    {
     "name": "stderr",
     "output_type": "stream",
     "text": [
      "Conversation input is to long (23), trimming it to (20 - 10)\n"
     ]
    },
    {
     "name": "stdout",
     "output_type": "stream",
     "text": [
      "State is related to what common topic?\n",
      "The words 'mac' 'apple' 'problem' are related to which common topic?\n"
     ]
    },
    {
     "name": "stderr",
     "output_type": "stream",
     "text": [
      "Conversation input is to long (25), trimming it to (20 - 10)\n"
     ]
    },
    {
     "name": "stdout",
     "output_type": "stream",
     "text": [
      "The common topic is 'problem'\n",
      "The words 'armenian' 'israel' 'turkish' are related to which common topic?\n"
     ]
    },
    {
     "name": "stderr",
     "output_type": "stream",
     "text": [
      "Conversation input is to long (22), trimming it to (20 - 10)\n"
     ]
    },
    {
     "name": "stdout",
     "output_type": "stream",
     "text": [
      "'Swedish' is related to which common topic?\n",
      "The words 'drive' 'card' 'system' are related to which common topic?\n"
     ]
    },
    {
     "name": "stderr",
     "output_type": "stream",
     "text": [
      "Conversation input is to long (25), trimming it to (20 - 10)\n"
     ]
    },
    {
     "name": "stdout",
     "output_type": "stream",
     "text": [
      "'system' is related to which common topic?\n",
      "The words 'offer' 'sale' 'sell' are related to which common topic?\n"
     ]
    },
    {
     "name": "stderr",
     "output_type": "stream",
     "text": [
      "Conversation input is to long (23), trimming it to (20 - 10)\n"
     ]
    },
    {
     "name": "stdout",
     "output_type": "stream",
     "text": [
      "'Sell' is related to which common topic?\n",
      "The words 'work' 'circuit' 'ground' are related to which common topic?\n"
     ]
    },
    {
     "name": "stderr",
     "output_type": "stream",
     "text": [
      "Conversation input is to long (23), trimming it to (20 - 10)\n"
     ]
    },
    {
     "name": "stdout",
     "output_type": "stream",
     "text": [
      "The common topic is 'ground'\n",
      "The words 'window' 'file' 'run' are related to which common topic?\n"
     ]
    },
    {
     "name": "stderr",
     "output_type": "stream",
     "text": [
      "Conversation input is to long (25), trimming it to (20 - 10)\n"
     ]
    },
    {
     "name": "stdout",
     "output_type": "stream",
     "text": [
      "Run is related to the common topic of 'run'\n",
      "The words 'bike' 'ride' 'dod' are related to which common topic?\n"
     ]
    },
    {
     "name": "stderr",
     "output_type": "stream",
     "text": [
      "Conversation input is to long (22), trimming it to (20 - 10)\n"
     ]
    },
    {
     "name": "stdout",
     "output_type": "stream",
     "text": [
      "'Disabled' and 'disabled' are related to which\n",
      "The words 'game' 'team' 'win' are related to which common topic?\n"
     ]
    },
    {
     "name": "stderr",
     "output_type": "stream",
     "text": [
      "Conversation input is to long (25), trimming it to (20 - 10)\n"
     ]
    },
    {
     "name": "stdout",
     "output_type": "stream",
     "text": [
      "'win' and 'win' are related to which common topic?\n",
      "The words 'god' 'christian' 'church' are related to which common topic?\n"
     ]
    },
    {
     "name": "stderr",
     "output_type": "stream",
     "text": [
      "Conversation input is to long (24), trimming it to (20 - 10)\n"
     ]
    },
    {
     "name": "stdout",
     "output_type": "stream",
     "text": [
      "The church is a religion.\n",
      "The words 'gun' 'government' 'weapon' are related to which common topic?\n"
     ]
    },
    {
     "name": "stderr",
     "output_type": "stream",
     "text": [
      "Conversation input is to long (22), trimming it to (20 - 10)\n"
     ]
    },
    {
     "name": "stdout",
     "output_type": "stream",
     "text": [
      "'Pon' is related to which common topic?\n",
      "The words 'image' 'file' 'graphic' are related to which common topic?\n"
     ]
    },
    {
     "name": "stderr",
     "output_type": "stream",
     "text": [
      "Conversation input is to long (22), trimming it to (20 - 10)\n"
     ]
    },
    {
     "name": "stdout",
     "output_type": "stream",
     "text": [
      "The common topic is 'the '\n",
      "The words 'car' 'engine' 'drive' are related to which common topic?\n"
     ]
    },
    {
     "name": "stderr",
     "output_type": "stream",
     "text": [
      "Conversation input is to long (27), trimming it to (20 - 10)\n"
     ]
    },
    {
     "name": "stdout",
     "output_type": "stream",
     "text": [
      "'drive' and 'driver' are related to which common topic?\n",
      "The words 'god' 'jesus' 'christian' are related to which common topic?\n"
     ]
    },
    {
     "name": "stderr",
     "output_type": "stream",
     "text": [
      "Conversation input is to long (24), trimming it to (20 - 10)\n"
     ]
    },
    {
     "name": "stdout",
     "output_type": "stream",
     "text": [
      "The two are related to the same topic.\n",
      "The words 'window' 'file' 'program' are related to which common topic?\n"
     ]
    },
    {
     "name": "stderr",
     "output_type": "stream",
     "text": [
      "Conversation input is to long (25), trimming it to (20 - 10)\n"
     ]
    },
    {
     "name": "stdout",
     "output_type": "stream",
     "text": [
      "'Sex' is related to'sex'\n",
      "The words 'key' 'chip' 'encryption' are related to which common topic?\n",
      "The 'on' and 'on' are related to the same topic.\n",
      "Results saved: GODEL-v1_1-large-seq2seq\n",
      "The words 'game' 'team' 'play' 'hockey' are related to which common topic?\n",
      " Hockey is a team sport played on ice, usually in a rink, in which two teams of skaters use their sticks to shoot a rubber puck into a net.\n",
      "The words 'god' 'religion' 'atheist' 'moral' are related to which common topic?\n",
      " I'm not sure, but I do know that Christianity is the world's largest religion with over 2.4 billion followers.\n",
      "The words 'space' 'nasa' 'launch' 'system' are related to which common topic?\n",
      " I'm not sure, but I do know that the word \"space\" was first recorded in the 10th century.\n",
      "The words 'patient' 'disease' 'medical' 'doctor' are related to which common topic?\n",
      " I'm not sure, but I do know that the word \"diagnostic\" was first recorded in the 10th century.\n",
      "The words 'government' 'president' 'state' 'law' are related to which common topic?\n",
      " I'm not sure, but I do know that the term \"lawyer\" was first recorded in the 10th century.\n",
      "The words 'mac' 'apple' 'problem' 'drive' are related to which common topic?\n",
      " I'm not sure, but I do know that the word \"mac\" was first recorded in the 10th century in a Latin manuscript.\n",
      "The words 'armenian' 'israel' 'turkish' 'jew' are related to which common topic?\n",
      " I'm not sure, but I do know that the term \"Arabian\" was first recorded in the 10th century.\n",
      "The words 'drive' 'card' 'system' 'problem' are related to which common topic?\n",
      " Driving is one of the most commonly used means of transportation in the world.\n",
      "The words 'offer' 'sale' 'sell' 'include' are related to which common topic?\n",
      " I'm not sure, but I do know that the word \"offer\" is derived from the Latin word \"oster\".\n",
      "The words 'work' 'circuit' 'ground' 'power' are related to which common topic?\n",
      " I'm not sure, but I do know that the word circuit is derived from the Latin word \"circus\".\n",
      "The words 'window' 'file' 'run' 'driver' are related to which common topic?\n",
      " The word \"run\" is derived from the Greek word \"travail\" which means work.\n",
      "The words 'bike' 'ride' 'dod' 'motorcycle' are related to which common topic?\n",
      " I'm not sure, but I do know that a motorcycle is a type of bicycle.\n",
      "The words 'game' 'team' 'win' 'hit' are related to which common topic?\n",
      " I'm not sure, but I do know that the word \"gaming\" was first recorded in the 10th century.\n",
      "The words 'god' 'christian' 'church' 'jesus' are related to which common topic?\n",
      " Christianity is the world's largest religion, with over 2.4 billion followers. \n",
      "The words 'gun' 'government' 'weapon' 'state' are related to which common topic?\n",
      " I'm not sure, but I do know that the word \"gun\" was first recorded in the 10th century in a Latin manuscript.\n",
      "The words 'image' 'file' 'graphic' 'jpeg' are related to which common topic?\n",
      " The word \"file\" is derived from the Latin word \"graviolet\".\n",
      "The words 'car' 'engine' 'drive' 'good' are related to which common topic?\n",
      " I'm not sure, but I do know that the word \"engineer\" was first recorded in the 10th century.\n",
      "The words 'god' 'jesus' 'christian' 'fact' are related to which common topic?\n",
      " I'm not sure, but I do know that Jesus is the son of God and was born in Bethlehem.\n",
      "The words 'window' 'file' 'program' 'run' are related to which common topic?\n",
      " I'm not sure, but I do know that the word \"file\" is derived from the Latin word meaning \"to write\"\n",
      "The words 'key' 'chip' 'encryption' 'government' are related to which common topic?\n",
      " I'm not sure, but I do know that the word \"chip\" was first recorded in the 10th century.\n",
      "Results saved: blenderbot-400M-distill\n"
     ]
    },
    {
     "name": "stderr",
     "output_type": "stream",
     "text": [
      "c:\\Users\\Virginia\\anaconda3\\lib\\site-packages\\transformers\\generation\\utils.py:1186: UserWarning: You have modified the pretrained model configuration to control generation. This is a deprecated strategy to control generation and will be removed soon, in a future version. Please use a generation configuration file (see https://huggingface.co/docs/transformers/main_classes/text_generation)\n",
      "  warnings.warn(\n",
      "The attention mask and the pad token id were not set. As a consequence, you may observe unexpected behavior. Please pass your input's `attention_mask` to obtain reliable results.\n",
      "Setting `pad_token_id` to `eos_token_id`:50256 for open-end generation.\n",
      "A decoder-only architecture is being used, but right-padding was detected! For correct generation results, please set `padding_side='left'` when initializing the tokenizer.\n"
     ]
    },
    {
     "name": "stdout",
     "output_type": "stream",
     "text": [
      "The words 'game' 'team' 'play' 'hockey' are related to which common topic?\n"
     ]
    },
    {
     "name": "stderr",
     "output_type": "stream",
     "text": [
      "The attention mask and the pad token id were not set. As a consequence, you may observe unexpected behavior. Please pass your input's `attention_mask` to obtain reliable results.\n",
      "Setting `pad_token_id` to `eos_token_id`:50256 for open-end generation.\n",
      "A decoder-only architecture is being used, but right-padding was detected! For correct generation results, please set `padding_side='left'` when initializing the tokenizer.\n"
     ]
    },
    {
     "name": "stdout",
     "output_type": "stream",
     "text": [
      "I think it's a reference to the game hockey.\n",
      "The words 'god' 'religion' 'atheist' 'moral' are related to which common topic?\n"
     ]
    },
    {
     "name": "stderr",
     "output_type": "stream",
     "text": [
      "The attention mask and the pad token id were not set. As a consequence, you may observe unexpected behavior. Please pass your input's `attention_mask` to obtain reliable results.\n",
      "Setting `pad_token_id` to `eos_token_id`:50256 for open-end generation.\n",
      "A decoder-only architecture is being used, but right-padding was detected! For correct generation results, please set `padding_side='left'` when initializing the tokenizer.\n"
     ]
    },
    {
     "name": "stdout",
     "output_type": "stream",
     "text": [
      "I think it's the word'religion '.\n",
      "The words 'space' 'nasa' 'launch' 'system' are related to which common topic?\n"
     ]
    },
    {
     "name": "stderr",
     "output_type": "stream",
     "text": [
      "The attention mask and the pad token id were not set. As a consequence, you may observe unexpected behavior. Please pass your input's `attention_mask` to obtain reliable results.\n",
      "Setting `pad_token_id` to `eos_token_id`:50256 for open-end generation.\n",
      "A decoder-only architecture is being used, but right-padding was detected! For correct generation results, please set `padding_side='left'` when initializing the tokenizer.\n"
     ]
    },
    {
     "name": "stdout",
     "output_type": "stream",
     "text": [
      "I think it's the same thing, but I'm not sure.\n",
      "The words 'patient' 'disease' 'medical' 'doctor' are related to which common topic?\n"
     ]
    },
    {
     "name": "stderr",
     "output_type": "stream",
     "text": [
      "The attention mask and the pad token id were not set. As a consequence, you may observe unexpected behavior. Please pass your input's `attention_mask` to obtain reliable results.\n",
      "Setting `pad_token_id` to `eos_token_id`:50256 for open-end generation.\n",
      "A decoder-only architecture is being used, but right-padding was detected! For correct generation results, please set `padding_side='left'` when initializing the tokenizer.\n"
     ]
    },
    {
     "name": "stdout",
     "output_type": "stream",
     "text": [
      "I think it's a reference to the movie The Big Sick.\n",
      "The words 'government' 'president' 'state' 'law' are related to which common topic?\n"
     ]
    },
    {
     "name": "stderr",
     "output_type": "stream",
     "text": [
      "The attention mask and the pad token id were not set. As a consequence, you may observe unexpected behavior. Please pass your input's `attention_mask` to obtain reliable results.\n",
      "Setting `pad_token_id` to `eos_token_id`:50256 for open-end generation.\n",
      "A decoder-only architecture is being used, but right-padding was detected! For correct generation results, please set `padding_side='left'` when initializing the tokenizer.\n"
     ]
    },
    {
     "name": "stdout",
     "output_type": "stream",
     "text": [
      "I think it's a reference to the fact that the government is the one who decides what is legal and what is not.\n",
      "The words 'mac' 'apple' 'problem' 'drive' are related to which common topic?\n"
     ]
    },
    {
     "name": "stderr",
     "output_type": "stream",
     "text": [
      "The attention mask and the pad token id were not set. As a consequence, you may observe unexpected behavior. Please pass your input's `attention_mask` to obtain reliable results.\n",
      "Setting `pad_token_id` to `eos_token_id`:50256 for open-end generation.\n",
      "A decoder-only architecture is being used, but right-padding was detected! For correct generation results, please set `padding_side='left'` when initializing the tokenizer.\n"
     ]
    },
    {
     "name": "stdout",
     "output_type": "stream",
     "text": [
      "I think it's a reference to the Mac OS X version of the game.\n",
      "The words 'armenian' 'israel' 'turkish' 'jew' are related to which common topic?\n"
     ]
    },
    {
     "name": "stderr",
     "output_type": "stream",
     "text": [
      "The attention mask and the pad token id were not set. As a consequence, you may observe unexpected behavior. Please pass your input's `attention_mask` to obtain reliable results.\n",
      "Setting `pad_token_id` to `eos_token_id`:50256 for open-end generation.\n",
      "A decoder-only architecture is being used, but right-padding was detected! For correct generation results, please set `padding_side='left'` when initializing the tokenizer.\n"
     ]
    },
    {
     "name": "stdout",
     "output_type": "stream",
     "text": [
      "I think it's a reference to the fact that the word armenian is used in the same way as turkish and jewish.\n",
      "The words 'drive' 'card' 'system' 'problem' are related to which common topic?\n"
     ]
    },
    {
     "name": "stderr",
     "output_type": "stream",
     "text": [
      "The attention mask and the pad token id were not set. As a consequence, you may observe unexpected behavior. Please pass your input's `attention_mask` to obtain reliable results.\n",
      "Setting `pad_token_id` to `eos_token_id`:50256 for open-end generation.\n",
      "A decoder-only architecture is being used, but right-padding was detected! For correct generation results, please set `padding_side='left'` when initializing the tokenizer.\n"
     ]
    },
    {
     "name": "stdout",
     "output_type": "stream",
     "text": [
      "I think it's the same thing as the word'problem '.\n",
      "The words 'offer' 'sale' 'sell' 'include' are related to which common topic?\n"
     ]
    },
    {
     "name": "stderr",
     "output_type": "stream",
     "text": [
      "The attention mask and the pad token id were not set. As a consequence, you may observe unexpected behavior. Please pass your input's `attention_mask` to obtain reliable results.\n",
      "Setting `pad_token_id` to `eos_token_id`:50256 for open-end generation.\n",
      "A decoder-only architecture is being used, but right-padding was detected! For correct generation results, please set `padding_side='left'` when initializing the tokenizer.\n"
     ]
    },
    {
     "name": "stdout",
     "output_type": "stream",
     "text": [
      "I think it's a reference to the fact that the word sale is used in the same sentence as offer.\n",
      "The words 'work' 'circuit' 'ground' 'power' are related to which common topic?\n"
     ]
    },
    {
     "name": "stderr",
     "output_type": "stream",
     "text": [
      "The attention mask and the pad token id were not set. As a consequence, you may observe unexpected behavior. Please pass your input's `attention_mask` to obtain reliable results.\n",
      "Setting `pad_token_id` to `eos_token_id`:50256 for open-end generation.\n",
      "A decoder-only architecture is being used, but right-padding was detected! For correct generation results, please set `padding_side='left'` when initializing the tokenizer.\n"
     ]
    },
    {
     "name": "stdout",
     "output_type": "stream",
     "text": [
      "I think it's a reference to the fact that the word circuit is used in the same way as power.\n",
      "The words 'window' 'file' 'run' 'driver' are related to which common topic?\n"
     ]
    },
    {
     "name": "stderr",
     "output_type": "stream",
     "text": [
      "The attention mask and the pad token id were not set. As a consequence, you may observe unexpected behavior. Please pass your input's `attention_mask` to obtain reliable results.\n",
      "Setting `pad_token_id` to `eos_token_id`:50256 for open-end generation.\n",
      "A decoder-only architecture is being used, but right-padding was detected! For correct generation results, please set `padding_side='left'` when initializing the tokenizer.\n"
     ]
    },
    {
     "name": "stdout",
     "output_type": "stream",
     "text": [
      "I think it's the file system.\n",
      "The words 'bike' 'ride' 'dod' 'motorcycle' are related to which common topic?\n"
     ]
    },
    {
     "name": "stderr",
     "output_type": "stream",
     "text": [
      "The attention mask and the pad token id were not set. As a consequence, you may observe unexpected behavior. Please pass your input's `attention_mask` to obtain reliable results.\n",
      "Setting `pad_token_id` to `eos_token_id`:50256 for open-end generation.\n",
      "A decoder-only architecture is being used, but right-padding was detected! For correct generation results, please set `padding_side='left'` when initializing the tokenizer.\n"
     ]
    },
    {
     "name": "stdout",
     "output_type": "stream",
     "text": [
      "I think it's a reference to the movie Ride.\n",
      "The words 'game' 'team' 'win' 'hit' are related to which common topic?\n"
     ]
    },
    {
     "name": "stderr",
     "output_type": "stream",
     "text": [
      "The attention mask and the pad token id were not set. As a consequence, you may observe unexpected behavior. Please pass your input's `attention_mask` to obtain reliable results.\n",
      "Setting `pad_token_id` to `eos_token_id`:50256 for open-end generation.\n",
      "A decoder-only architecture is being used, but right-padding was detected! For correct generation results, please set `padding_side='left'` when initializing the tokenizer.\n"
     ]
    },
    {
     "name": "stdout",
     "output_type": "stream",
     "text": [
      "I think it's a reference to the game, but I'm not sure.\n",
      "The words 'god' 'christian' 'church' 'jesus' are related to which common topic?\n"
     ]
    },
    {
     "name": "stderr",
     "output_type": "stream",
     "text": [
      "The attention mask and the pad token id were not set. As a consequence, you may observe unexpected behavior. Please pass your input's `attention_mask` to obtain reliable results.\n",
      "Setting `pad_token_id` to `eos_token_id`:50256 for open-end generation.\n",
      "A decoder-only architecture is being used, but right-padding was detected! For correct generation results, please set `padding_side='left'` when initializing the tokenizer.\n"
     ]
    },
    {
     "name": "stdout",
     "output_type": "stream",
     "text": [
      "I think it's a reference to the fact that the bible is a collection of books written by different people.\n",
      "The words 'gun' 'government' 'weapon' 'state' are related to which common topic?\n"
     ]
    },
    {
     "name": "stderr",
     "output_type": "stream",
     "text": [
      "The attention mask and the pad token id were not set. As a consequence, you may observe unexpected behavior. Please pass your input's `attention_mask` to obtain reliable results.\n",
      "Setting `pad_token_id` to `eos_token_id`:50256 for open-end generation.\n",
      "A decoder-only architecture is being used, but right-padding was detected! For correct generation results, please set `padding_side='left'` when initializing the tokenizer.\n"
     ]
    },
    {
     "name": "stdout",
     "output_type": "stream",
     "text": [
      "I think it's a reference to the fact that the government is a gun.\n",
      "The words 'image' 'file' 'graphic' 'jpeg' are related to which common topic?\n"
     ]
    },
    {
     "name": "stderr",
     "output_type": "stream",
     "text": [
      "The attention mask and the pad token id were not set. As a consequence, you may observe unexpected behavior. Please pass your input's `attention_mask` to obtain reliable results.\n",
      "Setting `pad_token_id` to `eos_token_id`:50256 for open-end generation.\n",
      "A decoder-only architecture is being used, but right-padding was detected! For correct generation results, please set `padding_side='left'` when initializing the tokenizer.\n"
     ]
    },
    {
     "name": "stdout",
     "output_type": "stream",
     "text": [
      "I think it's the file extension.\n",
      "The words 'car' 'engine' 'drive' 'good' are related to which common topic?\n"
     ]
    },
    {
     "name": "stderr",
     "output_type": "stream",
     "text": [
      "The attention mask and the pad token id were not set. As a consequence, you may observe unexpected behavior. Please pass your input's `attention_mask` to obtain reliable results.\n",
      "Setting `pad_token_id` to `eos_token_id`:50256 for open-end generation.\n",
      "A decoder-only architecture is being used, but right-padding was detected! For correct generation results, please set `padding_side='left'` when initializing the tokenizer.\n"
     ]
    },
    {
     "name": "stdout",
     "output_type": "stream",
     "text": [
      "I think it's the same thing as'car'engine'drive'good '\n",
      "The words 'god' 'jesus' 'christian' 'fact' are related to which common topic?\n"
     ]
    },
    {
     "name": "stderr",
     "output_type": "stream",
     "text": [
      "The attention mask and the pad token id were not set. As a consequence, you may observe unexpected behavior. Please pass your input's `attention_mask` to obtain reliable results.\n",
      "Setting `pad_token_id` to `eos_token_id`:50256 for open-end generation.\n",
      "A decoder-only architecture is being used, but right-padding was detected! For correct generation results, please set `padding_side='left'` when initializing the tokenizer.\n"
     ]
    },
    {
     "name": "stdout",
     "output_type": "stream",
     "text": [
      "I think it's a reference to the fact that the bible is a collection of stories and stories.\n",
      "The words 'window' 'file' 'program' 'run' are related to which common topic?\n"
     ]
    },
    {
     "name": "stderr",
     "output_type": "stream",
     "text": [
      "The attention mask and the pad token id were not set. As a consequence, you may observe unexpected behavior. Please pass your input's `attention_mask` to obtain reliable results.\n",
      "Setting `pad_token_id` to `eos_token_id`:50256 for open-end generation.\n",
      "A decoder-only architecture is being used, but right-padding was detected! For correct generation results, please set `padding_side='left'` when initializing the tokenizer.\n"
     ]
    },
    {
     "name": "stdout",
     "output_type": "stream",
     "text": [
      "Windows, file, program, and run.\n",
      "The words 'key' 'chip' 'encryption' 'government' are related to which common topic?\n",
      "I think it's the government.\n",
      "Results saved: DialoGPT-medium\n"
     ]
    },
    {
     "name": "stderr",
     "output_type": "stream",
     "text": [
      "Conversation input is to long (27), trimming it to (20 - 10)\n"
     ]
    },
    {
     "name": "stdout",
     "output_type": "stream",
     "text": [
      "The words 'game' 'team' 'play' 'hockey' are related to which common topic?\n"
     ]
    },
    {
     "name": "stderr",
     "output_type": "stream",
     "text": [
      "Conversation input is to long (32), trimming it to (20 - 10)\n"
     ]
    },
    {
     "name": "stdout",
     "output_type": "stream",
     "text": [
      "i'm not sure but i'm not sure.\n",
      "The words 'god' 'religion' 'atheist' 'moral' are related to which common topic?\n"
     ]
    },
    {
     "name": "stderr",
     "output_type": "stream",
     "text": [
      "Conversation input is to long (29), trimming it to (20 - 10)\n"
     ]
    },
    {
     "name": "stdout",
     "output_type": "stream",
     "text": [
      "I think it's the'moral' thing.\n",
      "The words 'space' 'nasa' 'launch' 'system' are related to which common topic?\n"
     ]
    },
    {
     "name": "stderr",
     "output_type": "stream",
     "text": [
      "Conversation input is to long (31), trimming it to (20 - 10)\n"
     ]
    },
    {
     "name": "stdout",
     "output_type": "stream",
     "text": [
      "i'm not sure but i'm a big fan of the '\n",
      "The words 'patient' 'disease' 'medical' 'doctor' are related to which common topic?\n"
     ]
    },
    {
     "name": "stderr",
     "output_type": "stream",
     "text": [
      "Conversation input is to long (27), trimming it to (20 - 10)\n"
     ]
    },
    {
     "name": "stdout",
     "output_type": "stream",
     "text": [
      "I'm not sure, but I'm not sure what the common topic is.\n",
      "The words 'government' 'president' 'state' 'law' are related to which common topic?\n"
     ]
    },
    {
     "name": "stderr",
     "output_type": "stream",
     "text": [
      "Conversation input is to long (27), trimming it to (20 - 10)\n"
     ]
    },
    {
     "name": "stdout",
     "output_type": "stream",
     "text": [
      "Law is a common topic in the US.\n",
      "The words 'mac' 'apple' 'problem' 'drive' are related to which common topic?\n"
     ]
    },
    {
     "name": "stderr",
     "output_type": "stream",
     "text": [
      "Conversation input is to long (30), trimming it to (20 - 10)\n"
     ]
    },
    {
     "name": "stdout",
     "output_type": "stream",
     "text": [
      "i'm not sure but i'm a big fan of the '\n",
      "The words 'armenian' 'israel' 'turkish' 'jew' are related to which common topic?\n"
     ]
    },
    {
     "name": "stderr",
     "output_type": "stream",
     "text": [
      "Conversation input is to long (26), trimming it to (20 - 10)\n"
     ]
    },
    {
     "name": "stdout",
     "output_type": "stream",
     "text": [
      "I'm not sure but I'm not sure what the common topic is.\n",
      "The words 'drive' 'card' 'system' 'problem' are related to which common topic?\n"
     ]
    },
    {
     "name": "stderr",
     "output_type": "stream",
     "text": [
      "Conversation input is to long (30), trimming it to (20 - 10)\n"
     ]
    },
    {
     "name": "stdout",
     "output_type": "stream",
     "text": [
      "I'm not sure but I'm not sure what the common topic is.\n",
      "The words 'offer' 'sale' 'sell' 'include' are related to which common topic?\n"
     ]
    },
    {
     "name": "stderr",
     "output_type": "stream",
     "text": [
      "Conversation input is to long (27), trimming it to (20 - 10)\n"
     ]
    },
    {
     "name": "stdout",
     "output_type": "stream",
     "text": [
      "i'm not sure but i'm not sure what the 'include\n",
      "The words 'work' 'circuit' 'ground' 'power' are related to which common topic?\n"
     ]
    },
    {
     "name": "stderr",
     "output_type": "stream",
     "text": [
      "Conversation input is to long (28), trimming it to (20 - 10)\n"
     ]
    },
    {
     "name": "stdout",
     "output_type": "stream",
     "text": [
      "I'm not sure, but I'm not sure if it's related to\n",
      "The words 'window' 'file' 'run' 'driver' are related to which common topic?\n"
     ]
    },
    {
     "name": "stderr",
     "output_type": "stream",
     "text": [
      "Conversation input is to long (30), trimming it to (20 - 10)\n"
     ]
    },
    {
     "name": "stdout",
     "output_type": "stream",
     "text": [
      "r's are related to the topic of r's\n",
      "The words 'bike' 'ride' 'dod' 'motorcycle' are related to which common topic?\n"
     ]
    },
    {
     "name": "stderr",
     "output_type": "stream",
     "text": [
      "Conversation input is to long (26), trimming it to (20 - 10)\n"
     ]
    },
    {
     "name": "stdout",
     "output_type": "stream",
     "text": [
      "I'm not sure, but I'm not sure what the common topic is.\n",
      "The words 'game' 'team' 'win' 'hit' are related to which common topic?\n"
     ]
    },
    {
     "name": "stderr",
     "output_type": "stream",
     "text": [
      "Conversation input is to long (31), trimming it to (20 - 10)\n"
     ]
    },
    {
     "name": "stdout",
     "output_type": "stream",
     "text": [
      "I'm not sure but I'm not sure what the common topic is.\n",
      "The words 'god' 'christian' 'church' 'jesus' are related to which common topic?\n"
     ]
    },
    {
     "name": "stderr",
     "output_type": "stream",
     "text": [
      "Conversation input is to long (28), trimming it to (20 - 10)\n"
     ]
    },
    {
     "name": "stdout",
     "output_type": "stream",
     "text": [
      "I'm not sure but I'm not sure what the common topic is.\n",
      "The words 'gun' 'government' 'weapon' 'state' are related to which common topic?\n"
     ]
    },
    {
     "name": "stderr",
     "output_type": "stream",
     "text": [
      "Conversation input is to long (28), trimming it to (20 - 10)\n"
     ]
    },
    {
     "name": "stdout",
     "output_type": "stream",
     "text": [
      "I'm not sure but I'm sure it's a common topic.\n",
      "The words 'image' 'file' 'graphic' 'jpeg' are related to which common topic?\n"
     ]
    },
    {
     "name": "stderr",
     "output_type": "stream",
     "text": [
      "Conversation input is to long (26), trimming it to (20 - 10)\n"
     ]
    },
    {
     "name": "stdout",
     "output_type": "stream",
     "text": [
      "I'm not sure, but I'm not sure what the common topic is.\n",
      "The words 'car' 'engine' 'drive' 'good' are related to which common topic?\n"
     ]
    },
    {
     "name": "stderr",
     "output_type": "stream",
     "text": [
      "Conversation input is to long (31), trimming it to (20 - 10)\n"
     ]
    },
    {
     "name": "stdout",
     "output_type": "stream",
     "text": [
      "i'm not sure but i'm a big fan of the '\n",
      "The words 'god' 'jesus' 'christian' 'fact' are related to which common topic?\n"
     ]
    },
    {
     "name": "stderr",
     "output_type": "stream",
     "text": [
      "Conversation input is to long (28), trimming it to (20 - 10)\n"
     ]
    },
    {
     "name": "stdout",
     "output_type": "stream",
     "text": [
      "I'm not sure but I'm not sure what the common topic is.\n",
      "The words 'window' 'file' 'program' 'run' are related to which common topic?\n"
     ]
    },
    {
     "name": "stderr",
     "output_type": "stream",
     "text": [
      "Conversation input is to long (29), trimming it to (20 - 10)\n"
     ]
    },
    {
     "name": "stdout",
     "output_type": "stream",
     "text": [
      "I'm not sure, but I'm not sure if it's related to\n",
      "The words 'key' 'chip' 'encryption' 'government' are related to which common topic?\n",
      "Government is a common topic in the US.\n",
      "Results saved: GODEL-v1_1-base-seq2seq\n"
     ]
    },
    {
     "name": "stderr",
     "output_type": "stream",
     "text": [
      "c:\\Users\\Virginia\\anaconda3\\lib\\site-packages\\transformers\\generation\\utils.py:1186: UserWarning: You have modified the pretrained model configuration to control generation. This is a deprecated strategy to control generation and will be removed soon, in a future version. Please use a generation configuration file (see https://huggingface.co/docs/transformers/main_classes/text_generation)\n",
      "  warnings.warn(\n",
      "The attention mask and the pad token id were not set. As a consequence, you may observe unexpected behavior. Please pass your input's `attention_mask` to obtain reliable results.\n",
      "Setting `pad_token_id` to `eos_token_id`:50256 for open-end generation.\n",
      "A decoder-only architecture is being used, but right-padding was detected! For correct generation results, please set `padding_side='left'` when initializing the tokenizer.\n"
     ]
    },
    {
     "name": "stdout",
     "output_type": "stream",
     "text": [
      "The words 'game' 'team' 'play' 'hockey' are related to which common topic?\n"
     ]
    },
    {
     "name": "stderr",
     "output_type": "stream",
     "text": [
      "The attention mask and the pad token id were not set. As a consequence, you may observe unexpected behavior. Please pass your input's `attention_mask` to obtain reliable results.\n",
      "Setting `pad_token_id` to `eos_token_id`:50256 for open-end generation.\n",
      "A decoder-only architecture is being used, but right-padding was detected! For correct generation results, please set `padding_side='left'` when initializing the tokenizer.\n"
     ]
    },
    {
     "name": "stdout",
     "output_type": "stream",
     "text": [
      "I'm not sure what you're trying to say.\n",
      "The words 'god' 'religion' 'atheist' 'moral' are related to which common topic?\n"
     ]
    },
    {
     "name": "stderr",
     "output_type": "stream",
     "text": [
      "The attention mask and the pad token id were not set. As a consequence, you may observe unexpected behavior. Please pass your input's `attention_mask` to obtain reliable results.\n",
      "Setting `pad_token_id` to `eos_token_id`:50256 for open-end generation.\n",
      "A decoder-only architecture is being used, but right-padding was detected! For correct generation results, please set `padding_side='left'` when initializing the tokenizer.\n"
     ]
    },
    {
     "name": "stdout",
     "output_type": "stream",
     "text": [
      "I'm not sure what you're trying to say.\n",
      "The words 'space' 'nasa' 'launch' 'system' are related to which common topic?\n"
     ]
    },
    {
     "name": "stderr",
     "output_type": "stream",
     "text": [
      "The attention mask and the pad token id were not set. As a consequence, you may observe unexpected behavior. Please pass your input's `attention_mask` to obtain reliable results.\n",
      "Setting `pad_token_id` to `eos_token_id`:50256 for open-end generation.\n",
      "A decoder-only architecture is being used, but right-padding was detected! For correct generation results, please set `padding_side='left'` when initializing the tokenizer.\n"
     ]
    },
    {
     "name": "stdout",
     "output_type": "stream",
     "text": [
      "I'm not sure what you mean.\n",
      "The words 'patient' 'disease' 'medical' 'doctor' are related to which common topic?\n"
     ]
    },
    {
     "name": "stderr",
     "output_type": "stream",
     "text": [
      "The attention mask and the pad token id were not set. As a consequence, you may observe unexpected behavior. Please pass your input's `attention_mask` to obtain reliable results.\n",
      "Setting `pad_token_id` to `eos_token_id`:50256 for open-end generation.\n",
      "A decoder-only architecture is being used, but right-padding was detected! For correct generation results, please set `padding_side='left'` when initializing the tokenizer.\n"
     ]
    },
    {
     "name": "stdout",
     "output_type": "stream",
     "text": [
      "I'm not sure what you mean by that.\n",
      "The words 'government' 'president' 'state' 'law' are related to which common topic?\n"
     ]
    },
    {
     "name": "stderr",
     "output_type": "stream",
     "text": [
      "The attention mask and the pad token id were not set. As a consequence, you may observe unexpected behavior. Please pass your input's `attention_mask` to obtain reliable results.\n",
      "Setting `pad_token_id` to `eos_token_id`:50256 for open-end generation.\n",
      "A decoder-only architecture is being used, but right-padding was detected! For correct generation results, please set `padding_side='left'` when initializing the tokenizer.\n"
     ]
    },
    {
     "name": "stdout",
     "output_type": "stream",
     "text": [
      "I'm not sure what you're trying to say.\n",
      "The words 'mac' 'apple' 'problem' 'drive' are related to which common topic?\n"
     ]
    },
    {
     "name": "stderr",
     "output_type": "stream",
     "text": [
      "The attention mask and the pad token id were not set. As a consequence, you may observe unexpected behavior. Please pass your input's `attention_mask` to obtain reliable results.\n",
      "Setting `pad_token_id` to `eos_token_id`:50256 for open-end generation.\n",
      "A decoder-only architecture is being used, but right-padding was detected! For correct generation results, please set `padding_side='left'` when initializing the tokenizer.\n"
     ]
    },
    {
     "name": "stdout",
     "output_type": "stream",
     "text": [
      "I'm not sure what you mean by this.\n",
      "The words 'armenian' 'israel' 'turkish' 'jew' are related to which common topic?\n"
     ]
    },
    {
     "name": "stderr",
     "output_type": "stream",
     "text": [
      "The attention mask and the pad token id were not set. As a consequence, you may observe unexpected behavior. Please pass your input's `attention_mask` to obtain reliable results.\n",
      "Setting `pad_token_id` to `eos_token_id`:50256 for open-end generation.\n",
      "A decoder-only architecture is being used, but right-padding was detected! For correct generation results, please set `padding_side='left'` when initializing the tokenizer.\n"
     ]
    },
    {
     "name": "stdout",
     "output_type": "stream",
     "text": [
      "I'm not sure if you're joking or not, but the word jew is a common word in the arabic language.\n",
      "The words 'drive' 'card' 'system' 'problem' are related to which common topic?\n"
     ]
    },
    {
     "name": "stderr",
     "output_type": "stream",
     "text": [
      "The attention mask and the pad token id were not set. As a consequence, you may observe unexpected behavior. Please pass your input's `attention_mask` to obtain reliable results.\n",
      "Setting `pad_token_id` to `eos_token_id`:50256 for open-end generation.\n",
      "A decoder-only architecture is being used, but right-padding was detected! For correct generation results, please set `padding_side='left'` when initializing the tokenizer.\n"
     ]
    },
    {
     "name": "stdout",
     "output_type": "stream",
     "text": [
      "I'm not sure what you're trying to say.\n",
      "The words 'offer' 'sale' 'sell' 'include' are related to which common topic?\n"
     ]
    },
    {
     "name": "stderr",
     "output_type": "stream",
     "text": [
      "The attention mask and the pad token id were not set. As a consequence, you may observe unexpected behavior. Please pass your input's `attention_mask` to obtain reliable results.\n",
      "Setting `pad_token_id` to `eos_token_id`:50256 for open-end generation.\n",
      "A decoder-only architecture is being used, but right-padding was detected! For correct generation results, please set `padding_side='left'` when initializing the tokenizer.\n"
     ]
    },
    {
     "name": "stdout",
     "output_type": "stream",
     "text": [
      "I'm not sure what you mean.\n",
      "The words 'work' 'circuit' 'ground' 'power' are related to which common topic?\n"
     ]
    },
    {
     "name": "stderr",
     "output_type": "stream",
     "text": [
      "The attention mask and the pad token id were not set. As a consequence, you may observe unexpected behavior. Please pass your input's `attention_mask` to obtain reliable results.\n",
      "Setting `pad_token_id` to `eos_token_id`:50256 for open-end generation.\n",
      "A decoder-only architecture is being used, but right-padding was detected! For correct generation results, please set `padding_side='left'` when initializing the tokenizer.\n"
     ]
    },
    {
     "name": "stdout",
     "output_type": "stream",
     "text": [
      "I think you're confusing the two.\n",
      "The words 'window' 'file' 'run' 'driver' are related to which common topic?\n"
     ]
    },
    {
     "name": "stderr",
     "output_type": "stream",
     "text": [
      "The attention mask and the pad token id were not set. As a consequence, you may observe unexpected behavior. Please pass your input's `attention_mask` to obtain reliable results.\n",
      "Setting `pad_token_id` to `eos_token_id`:50256 for open-end generation.\n",
      "A decoder-only architecture is being used, but right-padding was detected! For correct generation results, please set `padding_side='left'` when initializing the tokenizer.\n"
     ]
    },
    {
     "name": "stdout",
     "output_type": "stream",
     "text": [
      "I'm not sure what you mean.\n",
      "The words 'bike' 'ride' 'dod' 'motorcycle' are related to which common topic?\n"
     ]
    },
    {
     "name": "stderr",
     "output_type": "stream",
     "text": [
      "The attention mask and the pad token id were not set. As a consequence, you may observe unexpected behavior. Please pass your input's `attention_mask` to obtain reliable results.\n",
      "Setting `pad_token_id` to `eos_token_id`:50256 for open-end generation.\n",
      "A decoder-only architecture is being used, but right-padding was detected! For correct generation results, please set `padding_side='left'` when initializing the tokenizer.\n"
     ]
    },
    {
     "name": "stdout",
     "output_type": "stream",
     "text": [
      "I'm not sure what you're trying to say.\n",
      "The words 'game' 'team' 'win' 'hit' are related to which common topic?\n"
     ]
    },
    {
     "name": "stderr",
     "output_type": "stream",
     "text": [
      "The attention mask and the pad token id were not set. As a consequence, you may observe unexpected behavior. Please pass your input's `attention_mask` to obtain reliable results.\n",
      "Setting `pad_token_id` to `eos_token_id`:50256 for open-end generation.\n",
      "A decoder-only architecture is being used, but right-padding was detected! For correct generation results, please set `padding_side='left'` when initializing the tokenizer.\n"
     ]
    },
    {
     "name": "stdout",
     "output_type": "stream",
     "text": [
      "I'm not sure what you're trying to say.\n",
      "The words 'god' 'christian' 'church' 'jesus' are related to which common topic?\n"
     ]
    },
    {
     "name": "stderr",
     "output_type": "stream",
     "text": [
      "The attention mask and the pad token id were not set. As a consequence, you may observe unexpected behavior. Please pass your input's `attention_mask` to obtain reliable results.\n",
      "Setting `pad_token_id` to `eos_token_id`:50256 for open-end generation.\n",
      "A decoder-only architecture is being used, but right-padding was detected! For correct generation results, please set `padding_side='left'` when initializing the tokenizer.\n"
     ]
    },
    {
     "name": "stdout",
     "output_type": "stream",
     "text": [
      "I'm not sure if you're joking or not, but I'm pretty sure it's a joke.\n",
      "The words 'gun' 'government' 'weapon' 'state' are related to which common topic?\n"
     ]
    },
    {
     "name": "stderr",
     "output_type": "stream",
     "text": [
      "The attention mask and the pad token id were not set. As a consequence, you may observe unexpected behavior. Please pass your input's `attention_mask` to obtain reliable results.\n",
      "Setting `pad_token_id` to `eos_token_id`:50256 for open-end generation.\n",
      "A decoder-only architecture is being used, but right-padding was detected! For correct generation results, please set `padding_side='left'` when initializing the tokenizer.\n"
     ]
    },
    {
     "name": "stdout",
     "output_type": "stream",
     "text": [
      "I'm not sure what you're trying to say.\n",
      "The words 'image' 'file' 'graphic' 'jpeg' are related to which common topic?\n"
     ]
    },
    {
     "name": "stderr",
     "output_type": "stream",
     "text": [
      "The attention mask and the pad token id were not set. As a consequence, you may observe unexpected behavior. Please pass your input's `attention_mask` to obtain reliable results.\n",
      "Setting `pad_token_id` to `eos_token_id`:50256 for open-end generation.\n",
      "A decoder-only architecture is being used, but right-padding was detected! For correct generation results, please set `padding_side='left'` when initializing the tokenizer.\n"
     ]
    },
    {
     "name": "stdout",
     "output_type": "stream",
     "text": [
      "I'm not sure what you mean.\n",
      "The words 'car' 'engine' 'drive' 'good' are related to which common topic?\n"
     ]
    },
    {
     "name": "stderr",
     "output_type": "stream",
     "text": [
      "The attention mask and the pad token id were not set. As a consequence, you may observe unexpected behavior. Please pass your input's `attention_mask` to obtain reliable results.\n",
      "Setting `pad_token_id` to `eos_token_id`:50256 for open-end generation.\n",
      "A decoder-only architecture is being used, but right-padding was detected! For correct generation results, please set `padding_side='left'` when initializing the tokenizer.\n"
     ]
    },
    {
     "name": "stdout",
     "output_type": "stream",
     "text": [
      "I'm not sure what you mean.\n",
      "The words 'god' 'jesus' 'christian' 'fact' are related to which common topic?\n"
     ]
    },
    {
     "name": "stderr",
     "output_type": "stream",
     "text": [
      "The attention mask and the pad token id were not set. As a consequence, you may observe unexpected behavior. Please pass your input's `attention_mask` to obtain reliable results.\n",
      "Setting `pad_token_id` to `eos_token_id`:50256 for open-end generation.\n",
      "A decoder-only architecture is being used, but right-padding was detected! For correct generation results, please set `padding_side='left'` when initializing the tokenizer.\n"
     ]
    },
    {
     "name": "stdout",
     "output_type": "stream",
     "text": [
      "I'm not sure if you're being sarcastic or not, but I'm pretty sure that's the exact opposite of what you said.\n",
      "The words 'window' 'file' 'program' 'run' are related to which common topic?\n"
     ]
    },
    {
     "name": "stderr",
     "output_type": "stream",
     "text": [
      "The attention mask and the pad token id were not set. As a consequence, you may observe unexpected behavior. Please pass your input's `attention_mask` to obtain reliable results.\n",
      "Setting `pad_token_id` to `eos_token_id`:50256 for open-end generation.\n",
      "A decoder-only architecture is being used, but right-padding was detected! For correct generation results, please set `padding_side='left'` when initializing the tokenizer.\n"
     ]
    },
    {
     "name": "stdout",
     "output_type": "stream",
     "text": [
      "I'm not sure what you mean.\n",
      "The words 'key' 'chip' 'encryption' 'government' are related to which common topic?\n",
      "I'm not sure what you're trying to say.\n",
      "Results saved: DialoGPT-small\n",
      "The words 'game' 'team' 'play' 'hockey' are related to which common topic?\n",
      "the word \" game \" is related to the common topic of which hockey is a team sport.\n",
      "The words 'god' 'religion' 'atheist' 'moral' are related to which common topic?\n",
      "i'm not sure, but i do know that the word \" god \" was first recorded in the 10th century.\n",
      "The words 'space' 'nasa' 'launch' 'system' are related to which common topic?\n",
      "i'm not sure what the common topic is, but i do know that nasa is the largest nasa company in the world.\n",
      "The words 'patient' 'disease' 'medical' 'doctor' are related to which common topic?\n",
      "i'm not sure, but i do know that the word \" disease \" was first recorded in the 10th century.\n",
      "The words 'government' 'president' 'state' 'law' are related to which common topic?\n",
      "i'm not sure, but i do know that the president is the president of the united states.\n",
      "The words 'mac' 'apple' 'problem' 'drive' are related to which common topic?\n",
      "it's a mac problem. i've had it for a few years now and it still doesn't work.\n",
      "The words 'armenian' 'israel' 'turkish' 'jew' are related to which common topic?\n",
      "i'm not sure, but i do know that israel is the second largest country in the world.\n",
      "The words 'drive' 'card' 'system' 'problem' are related to which common topic?\n",
      "it's a problem with my credit card. i can't get my money back.\n",
      "The words 'offer' 'sale' 'sell' 'include' are related to which common topic?\n",
      "i'm not sure what common topic you're talking about, but i do know that the term \" offer \" was first used in the 19th century.\n",
      "The words 'work' 'circuit' 'ground' 'power' are related to which common topic?\n",
      "i'm not sure what the common topic is, but i know it's a circuit.\n",
      "The words 'window' 'file' 'run' 'driver' are related to which common topic?\n",
      "i don't know, i'm not sure. i've never heard of it before.\n",
      "The words 'bike' 'ride' 'dod' 'motorcycle' are related to which common topic?\n",
      "i'm not sure, but i do know that the term \" motorcycle \" was first recorded in the 10th century.\n",
      "The words 'game' 'team' 'win' 'hit' are related to which common topic?\n",
      "the word \" game \" is related to \" hit \" which is a hit that can be won or lost.\n",
      "The words 'god' 'christian' 'church' 'jesus' are related to which common topic?\n",
      "the church of jesus christ of latter - day saints is the largest christian church in the world.\n",
      "The words 'gun' 'government' 'weapon' 'state' are related to which common topic?\n",
      "i'm not sure, but i do know that the united states is one of the most populous states in the world.\n",
      "The words 'image' 'file' 'graphic' 'jpeg' are related to which common topic?\n",
      "the word \" image \" is related to the common topic of which common topics are related to.\n",
      "The words 'car' 'engine' 'drive' 'good' are related to which common topic?\n",
      "i'm not sure, but i do know that the word \" car \" was first recorded in the 10th century.\n",
      "The words 'god' 'jesus' 'christian' 'fact' are related to which common topic?\n",
      "i'm not sure, but i do know that the bible says that jesus is the son of god.\n",
      "The words 'window' 'file' 'program' 'run' are related to which common topic?\n",
      "the word \" window \" is related to \" run \" which is a program that runs on windows.\n",
      "The words 'key' 'chip' 'encryption' 'government' are related to which common topic?\n",
      "i'm not sure, but i think it's interesting that the word \" key \" was first used in the 18th century.\n",
      "Results saved: blenderbot_small-90M\n"
     ]
    },
    {
     "name": "stderr",
     "output_type": "stream",
     "text": [
      "Special tokens have been added in the vocabulary, make sure the associated word embeddings are fine-tuned or trained.\n",
      "Special tokens have been added in the vocabulary, make sure the associated word embeddings are fine-tuned or trained.\n"
     ]
    },
    {
     "name": "stdout",
     "output_type": "stream",
     "text": [
      "The words 'game' 'team' 'play' 'hockey' are related to which common topic?\n",
      " Hockey is a team sport where two teams of skaters use their sticks to shoot a rubber puck into a net.\n",
      "The words 'god' 'religion' 'atheist' 'moral' are related to which common topic?\n",
      " Religion, morality, ethics, philosophy, politics, economics, etc.\n",
      "The words 'space' 'nasa' 'launch' 'system' are related to which common topic?\n",
      " NASA is the National Aeronautics and Space Administration \n",
      "The words 'patient' 'disease' 'medical' 'doctor' are related to which common topic?\n",
      " Patient, disease, and doctor are all interchangeable in medical jargon.\n",
      "The words 'government' 'president' 'state' 'law' are related to which common topic?\n",
      " The president is the head of the executive branch of the federal government.\n",
      "The words 'mac' 'apple' 'problem' 'drive' are related to which common topic?\n",
      " I'm not sure, but I do know that \"mac\" is short for \"Macintosh\" and \"apple\" is a type of fruit.\n",
      "The words 'armenian' 'israel' 'turkish' 'jew' are related to which common topic?\n",
      " The word \"Jew\" is derived from the Hebrew word \"Yeshua\".\n",
      "The words 'drive' 'card' 'system' 'problem' are related to which common topic?\n",
      " I'm not sure, but I do know that the word \"drive\" was first recorded in the 10th century.\n",
      "The words 'offer' 'sale' 'sell' 'include' are related to which common topic?\n",
      " I'm not sure, but I do know that the word \"offer\" was first used in the 10th century.\n",
      "The words 'work' 'circuit' 'ground' 'power' are related to which common topic?\n",
      " Work circuit is a circuit that converts voltage into electrical signals.\n",
      "The words 'window' 'file' 'run' 'driver' are related to which common topic?\n",
      " The word window is derived from the Latin word \"windus\" which means window.\n",
      "The words 'bike' 'ride' 'dod' 'motorcycle' are related to which common topic?\n",
      " The word \"bike\" is derived from the Latin word for \"wheel\"\n",
      "The words 'game' 'team' 'win' 'hit' are related to which common topic?\n",
      " The word \"game\" is derived from the Latin word \"gamus\" which means \"to play\"\n",
      "The words 'god' 'christian' 'church' 'jesus' are related to which common topic?\n",
      " Christianity is the largest religion in the world with over 2.4 billion followers.\n",
      "The words 'gun' 'government' 'weapon' 'state' are related to which common topic?\n",
      " The word \"gun\" was first recorded in the 10th century in a Latin manuscript.\n",
      "The words 'image' 'file' 'graphic' 'jpeg' are related to which common topic?\n",
      " Image files are images that are stored on a hard drive or ssd.\n",
      "The words 'car' 'engine' 'drive' 'good' are related to which common topic?\n",
      " I'm not sure, but I do know that the word \"car\" was first recorded in the 10th century.\n",
      "The words 'god' 'jesus' 'christian' 'fact' are related to which common topic?\n",
      " I'm not sure, but I do know that Christianity is the world's largest religion.\n",
      "The words 'window' 'file' 'program' 'run' are related to which common topic?\n",
      " I'm not sure, but I do know that Windows is an operating system developed by Microsoft.\n",
      "The words 'key' 'chip' 'encryption' 'government' are related to which common topic?\n",
      " Key encryption chips are used to encrypt and decrypt data.\n",
      "Results saved: blenderbot-3B\n"
     ]
    },
    {
     "name": "stderr",
     "output_type": "stream",
     "text": [
      "c:\\Users\\Virginia\\anaconda3\\lib\\site-packages\\transformers\\generation\\utils.py:1186: UserWarning: You have modified the pretrained model configuration to control generation. This is a deprecated strategy to control generation and will be removed soon, in a future version. Please use a generation configuration file (see https://huggingface.co/docs/transformers/main_classes/text_generation)\n",
      "  warnings.warn(\n",
      "The attention mask and the pad token id were not set. As a consequence, you may observe unexpected behavior. Please pass your input's `attention_mask` to obtain reliable results.\n",
      "Setting `pad_token_id` to `eos_token_id`:50256 for open-end generation.\n",
      "A decoder-only architecture is being used, but right-padding was detected! For correct generation results, please set `padding_side='left'` when initializing the tokenizer.\n"
     ]
    },
    {
     "name": "stdout",
     "output_type": "stream",
     "text": [
      "The words 'game' 'team' 'play' 'hockey' are related to which common topic?\n"
     ]
    },
    {
     "name": "stderr",
     "output_type": "stream",
     "text": [
      "The attention mask and the pad token id were not set. As a consequence, you may observe unexpected behavior. Please pass your input's `attention_mask` to obtain reliable results.\n",
      "Setting `pad_token_id` to `eos_token_id`:50256 for open-end generation.\n",
      "A decoder-only architecture is being used, but right-padding was detected! For correct generation results, please set `padding_side='left'` when initializing the tokenizer.\n"
     ]
    },
    {
     "name": "stdout",
     "output_type": "stream",
     "text": [
      "I think it's a reference to the word'game '.\n",
      "The words 'god' 'religion' 'atheist' 'moral' are related to which common topic?\n"
     ]
    },
    {
     "name": "stderr",
     "output_type": "stream",
     "text": [
      "The attention mask and the pad token id were not set. As a consequence, you may observe unexpected behavior. Please pass your input's `attention_mask` to obtain reliable results.\n",
      "Setting `pad_token_id` to `eos_token_id`:50256 for open-end generation.\n",
      "A decoder-only architecture is being used, but right-padding was detected! For correct generation results, please set `padding_side='left'` when initializing the tokenizer.\n"
     ]
    },
    {
     "name": "stdout",
     "output_type": "stream",
     "text": [
      "Religion is a common topic.\n",
      "The words 'space' 'nasa' 'launch' 'system' are related to which common topic?\n"
     ]
    },
    {
     "name": "stderr",
     "output_type": "stream",
     "text": [
      "The attention mask and the pad token id were not set. As a consequence, you may observe unexpected behavior. Please pass your input's `attention_mask` to obtain reliable results.\n",
      "Setting `pad_token_id` to `eos_token_id`:50256 for open-end generation.\n",
      "A decoder-only architecture is being used, but right-padding was detected! For correct generation results, please set `padding_side='left'` when initializing the tokenizer.\n"
     ]
    },
    {
     "name": "stdout",
     "output_type": "stream",
     "text": [
      "I think it's related to the fact that the word'launch'is used in the title of the post.\n",
      "The words 'patient' 'disease' 'medical' 'doctor' are related to which common topic?\n"
     ]
    },
    {
     "name": "stderr",
     "output_type": "stream",
     "text": [
      "The attention mask and the pad token id were not set. As a consequence, you may observe unexpected behavior. Please pass your input's `attention_mask` to obtain reliable results.\n",
      "Setting `pad_token_id` to `eos_token_id`:50256 for open-end generation.\n",
      "A decoder-only architecture is being used, but right-padding was detected! For correct generation results, please set `padding_side='left'` when initializing the tokenizer.\n"
     ]
    },
    {
     "name": "stdout",
     "output_type": "stream",
     "text": [
      "I think it's a reference to the movie The Last Airbender.\n",
      "The words 'government' 'president' 'state' 'law' are related to which common topic?\n"
     ]
    },
    {
     "name": "stderr",
     "output_type": "stream",
     "text": [
      "The attention mask and the pad token id were not set. As a consequence, you may observe unexpected behavior. Please pass your input's `attention_mask` to obtain reliable results.\n",
      "Setting `pad_token_id` to `eos_token_id`:50256 for open-end generation.\n",
      "A decoder-only architecture is being used, but right-padding was detected! For correct generation results, please set `padding_side='left'` when initializing the tokenizer.\n"
     ]
    },
    {
     "name": "stdout",
     "output_type": "stream",
     "text": [
      "I think he means the common law.\n",
      "The words 'mac' 'apple' 'problem' 'drive' are related to which common topic?\n"
     ]
    },
    {
     "name": "stderr",
     "output_type": "stream",
     "text": [
      "The attention mask and the pad token id were not set. As a consequence, you may observe unexpected behavior. Please pass your input's `attention_mask` to obtain reliable results.\n",
      "Setting `pad_token_id` to `eos_token_id`:50256 for open-end generation.\n",
      "A decoder-only architecture is being used, but right-padding was detected! For correct generation results, please set `padding_side='left'` when initializing the tokenizer.\n"
     ]
    },
    {
     "name": "stdout",
     "output_type": "stream",
     "text": [
      "I think it's a reference to the Mac and Apple products.\n",
      "The words 'armenian' 'israel' 'turkish' 'jew' are related to which common topic?\n"
     ]
    },
    {
     "name": "stderr",
     "output_type": "stream",
     "text": [
      "The attention mask and the pad token id were not set. As a consequence, you may observe unexpected behavior. Please pass your input's `attention_mask` to obtain reliable results.\n",
      "Setting `pad_token_id` to `eos_token_id`:50256 for open-end generation.\n",
      "A decoder-only architecture is being used, but right-padding was detected! For correct generation results, please set `padding_side='left'` when initializing the tokenizer.\n"
     ]
    },
    {
     "name": "stdout",
     "output_type": "stream",
     "text": [
      "The common topic is the fact that the word'Israel'is used in the title of the post.\n",
      "The words 'drive' 'card' 'system' 'problem' are related to which common topic?\n"
     ]
    },
    {
     "name": "stderr",
     "output_type": "stream",
     "text": [
      "The attention mask and the pad token id were not set. As a consequence, you may observe unexpected behavior. Please pass your input's `attention_mask` to obtain reliable results.\n",
      "Setting `pad_token_id` to `eos_token_id`:50256 for open-end generation.\n",
      "A decoder-only architecture is being used, but right-padding was detected! For correct generation results, please set `padding_side='left'` when initializing the tokenizer.\n"
     ]
    },
    {
     "name": "stdout",
     "output_type": "stream",
     "text": [
      "I think he means the problem of the system being a problem.\n",
      "The words 'offer' 'sale' 'sell' 'include' are related to which common topic?\n"
     ]
    },
    {
     "name": "stderr",
     "output_type": "stream",
     "text": [
      "The attention mask and the pad token id were not set. As a consequence, you may observe unexpected behavior. Please pass your input's `attention_mask` to obtain reliable results.\n",
      "Setting `pad_token_id` to `eos_token_id`:50256 for open-end generation.\n",
      "A decoder-only architecture is being used, but right-padding was detected! For correct generation results, please set `padding_side='left'` when initializing the tokenizer.\n"
     ]
    },
    {
     "name": "stdout",
     "output_type": "stream",
     "text": [
      "I think it's a reference to the word'offer '.\n",
      "The words 'work' 'circuit' 'ground' 'power' are related to which common topic?\n"
     ]
    },
    {
     "name": "stderr",
     "output_type": "stream",
     "text": [
      "The attention mask and the pad token id were not set. As a consequence, you may observe unexpected behavior. Please pass your input's `attention_mask` to obtain reliable results.\n",
      "Setting `pad_token_id` to `eos_token_id`:50256 for open-end generation.\n",
      "A decoder-only architecture is being used, but right-padding was detected! For correct generation results, please set `padding_side='left'` when initializing the tokenizer.\n"
     ]
    },
    {
     "name": "stdout",
     "output_type": "stream",
     "text": [
      "I think he means that the word circuit is used in the same way as the word circuit.\n",
      "The words 'window' 'file' 'run' 'driver' are related to which common topic?\n"
     ]
    },
    {
     "name": "stderr",
     "output_type": "stream",
     "text": [
      "The attention mask and the pad token id were not set. As a consequence, you may observe unexpected behavior. Please pass your input's `attention_mask` to obtain reliable results.\n",
      "Setting `pad_token_id` to `eos_token_id`:50256 for open-end generation.\n",
      "A decoder-only architecture is being used, but right-padding was detected! For correct generation results, please set `padding_side='left'` when initializing the tokenizer.\n"
     ]
    },
    {
     "name": "stdout",
     "output_type": "stream",
     "text": [
      "I think he means the file that is used to run the program.\n",
      "The words 'bike' 'ride' 'dod' 'motorcycle' are related to which common topic?\n"
     ]
    },
    {
     "name": "stderr",
     "output_type": "stream",
     "text": [
      "The attention mask and the pad token id were not set. As a consequence, you may observe unexpected behavior. Please pass your input's `attention_mask` to obtain reliable results.\n",
      "Setting `pad_token_id` to `eos_token_id`:50256 for open-end generation.\n",
      "A decoder-only architecture is being used, but right-padding was detected! For correct generation results, please set `padding_side='left'` when initializing the tokenizer.\n"
     ]
    },
    {
     "name": "stdout",
     "output_type": "stream",
     "text": [
      "I think it's a reference to the song.\n",
      "The words 'game' 'team' 'win' 'hit' are related to which common topic?\n"
     ]
    },
    {
     "name": "stderr",
     "output_type": "stream",
     "text": [
      "The attention mask and the pad token id were not set. As a consequence, you may observe unexpected behavior. Please pass your input's `attention_mask` to obtain reliable results.\n",
      "Setting `pad_token_id` to `eos_token_id`:50256 for open-end generation.\n",
      "A decoder-only architecture is being used, but right-padding was detected! For correct generation results, please set `padding_side='left'` when initializing the tokenizer.\n"
     ]
    },
    {
     "name": "stdout",
     "output_type": "stream",
     "text": [
      "I think it's a reference to the game'' hit''.\n",
      "The words 'god' 'christian' 'church' 'jesus' are related to which common topic?\n"
     ]
    },
    {
     "name": "stderr",
     "output_type": "stream",
     "text": [
      "The attention mask and the pad token id were not set. As a consequence, you may observe unexpected behavior. Please pass your input's `attention_mask` to obtain reliable results.\n",
      "Setting `pad_token_id` to `eos_token_id`:50256 for open-end generation.\n",
      "A decoder-only architecture is being used, but right-padding was detected! For correct generation results, please set `padding_side='left'` when initializing the tokenizer.\n"
     ]
    },
    {
     "name": "stdout",
     "output_type": "stream",
     "text": [
      "I think it's a reference to the bible.\n",
      "The words 'gun' 'government' 'weapon' 'state' are related to which common topic?\n"
     ]
    },
    {
     "name": "stderr",
     "output_type": "stream",
     "text": [
      "The attention mask and the pad token id were not set. As a consequence, you may observe unexpected behavior. Please pass your input's `attention_mask` to obtain reliable results.\n",
      "Setting `pad_token_id` to `eos_token_id`:50256 for open-end generation.\n",
      "A decoder-only architecture is being used, but right-padding was detected! For correct generation results, please set `padding_side='left'` when initializing the tokenizer.\n"
     ]
    },
    {
     "name": "stdout",
     "output_type": "stream",
     "text": [
      "I think he means the word'gun '.\n",
      "The words 'image' 'file' 'graphic' 'jpeg' are related to which common topic?\n"
     ]
    },
    {
     "name": "stderr",
     "output_type": "stream",
     "text": [
      "The attention mask and the pad token id were not set. As a consequence, you may observe unexpected behavior. Please pass your input's `attention_mask` to obtain reliable results.\n",
      "Setting `pad_token_id` to `eos_token_id`:50256 for open-end generation.\n",
      "A decoder-only architecture is being used, but right-padding was detected! For correct generation results, please set `padding_side='left'` when initializing the tokenizer.\n"
     ]
    },
    {
     "name": "stdout",
     "output_type": "stream",
     "text": [
      "Image file, image file, image file, image file, image file, image file, image file, image file, image file, image file, image file, image file, image file, image file, image file, image file, image file, image file, image file, image file, image file, image file, image file, image file, image file, image file, image file, image file, image file, image file, image file, image file, image file, image file, image file\n",
      "The words 'car' 'engine' 'drive' 'good' are related to which common topic?\n"
     ]
    },
    {
     "name": "stderr",
     "output_type": "stream",
     "text": [
      "The attention mask and the pad token id were not set. As a consequence, you may observe unexpected behavior. Please pass your input's `attention_mask` to obtain reliable results.\n",
      "Setting `pad_token_id` to `eos_token_id`:50256 for open-end generation.\n",
      "A decoder-only architecture is being used, but right-padding was detected! For correct generation results, please set `padding_side='left'` when initializing the tokenizer.\n"
     ]
    },
    {
     "name": "stdout",
     "output_type": "stream",
     "text": [
      "I think he means that the car is a good car.\n",
      "The words 'god' 'jesus' 'christian' 'fact' are related to which common topic?\n"
     ]
    },
    {
     "name": "stderr",
     "output_type": "stream",
     "text": [
      "The attention mask and the pad token id were not set. As a consequence, you may observe unexpected behavior. Please pass your input's `attention_mask` to obtain reliable results.\n",
      "Setting `pad_token_id` to `eos_token_id`:50256 for open-end generation.\n",
      "A decoder-only architecture is being used, but right-padding was detected! For correct generation results, please set `padding_side='left'` when initializing the tokenizer.\n"
     ]
    },
    {
     "name": "stdout",
     "output_type": "stream",
     "text": [
      "I think it's the fact that the word'fact'is used in the sentence'fact '.\n",
      "The words 'window' 'file' 'program' 'run' are related to which common topic?\n"
     ]
    },
    {
     "name": "stderr",
     "output_type": "stream",
     "text": [
      "The attention mask and the pad token id were not set. As a consequence, you may observe unexpected behavior. Please pass your input's `attention_mask` to obtain reliable results.\n",
      "Setting `pad_token_id` to `eos_token_id`:50256 for open-end generation.\n",
      "A decoder-only architecture is being used, but right-padding was detected! For correct generation results, please set `padding_side='left'` when initializing the tokenizer.\n"
     ]
    },
    {
     "name": "stdout",
     "output_type": "stream",
     "text": [
      "I think he means the file program.\n",
      "The words 'key' 'chip' 'encryption' 'government' are related to which common topic?\n",
      "The common topic is the fact that the government is trying to protect the commoners from the commoners.\n",
      "Results saved: DialoGPT-large\n"
     ]
    },
    {
     "name": "stderr",
     "output_type": "stream",
     "text": [
      "Conversation input is to long (27), trimming it to (20 - 10)\n"
     ]
    },
    {
     "name": "stdout",
     "output_type": "stream",
     "text": [
      "The words 'game' 'team' 'play' 'hockey' are related to which common topic?\n"
     ]
    },
    {
     "name": "stderr",
     "output_type": "stream",
     "text": [
      "Conversation input is to long (32), trimming it to (20 - 10)\n"
     ]
    },
    {
     "name": "stdout",
     "output_type": "stream",
     "text": [
      "'key' and 'keyboard' are related to which common topic?\n",
      "The words 'god' 'religion' 'atheist' 'moral' are related to which common topic?\n"
     ]
    },
    {
     "name": "stderr",
     "output_type": "stream",
     "text": [
      "Conversation input is to long (29), trimming it to (20 - 10)\n"
     ]
    },
    {
     "name": "stdout",
     "output_type": "stream",
     "text": [
      "Morality is related to the concept of morality.\n",
      "The words 'space' 'nasa' 'launch' 'system' are related to which common topic?\n"
     ]
    },
    {
     "name": "stderr",
     "output_type": "stream",
     "text": [
      "Conversation input is to long (31), trimming it to (20 - 10)\n"
     ]
    },
    {
     "name": "stdout",
     "output_type": "stream",
     "text": [
      "'system' is related to which common topic?\n",
      "The words 'patient' 'disease' 'medical' 'doctor' are related to which common topic?\n"
     ]
    },
    {
     "name": "stderr",
     "output_type": "stream",
     "text": [
      "Conversation input is to long (27), trimming it to (20 - 10)\n"
     ]
    },
    {
     "name": "stdout",
     "output_type": "stream",
     "text": [
      "The Doctor and the Doctor are related to the same topic.\n",
      "The words 'government' 'president' 'state' 'law' are related to which common topic?\n"
     ]
    },
    {
     "name": "stderr",
     "output_type": "stream",
     "text": [
      "Conversation input is to long (27), trimming it to (20 - 10)\n"
     ]
    },
    {
     "name": "stdout",
     "output_type": "stream",
     "text": [
      "Law is a term used to describe the legal system in the US.\n",
      "The words 'mac' 'apple' 'problem' 'drive' are related to which common topic?\n"
     ]
    },
    {
     "name": "stderr",
     "output_type": "stream",
     "text": [
      "Conversation input is to long (30), trimming it to (20 - 10)\n"
     ]
    },
    {
     "name": "stdout",
     "output_type": "stream",
     "text": [
      "'drive' and 'driver' are related to which common topic?\n",
      "The words 'armenian' 'israel' 'turkish' 'jew' are related to which common topic?\n"
     ]
    },
    {
     "name": "stderr",
     "output_type": "stream",
     "text": [
      "Conversation input is to long (26), trimming it to (20 - 10)\n"
     ]
    },
    {
     "name": "stdout",
     "output_type": "stream",
     "text": [
      "'w' is related to which common topic?\n",
      "The words 'drive' 'card' 'system' 'problem' are related to which common topic?\n"
     ]
    },
    {
     "name": "stderr",
     "output_type": "stream",
     "text": [
      "Conversation input is to long (30), trimming it to (20 - 10)\n"
     ]
    },
    {
     "name": "stdout",
     "output_type": "stream",
     "text": [
      "The common topic is 'problem'\n",
      "The words 'offer' 'sale' 'sell' 'include' are related to which common topic?\n"
     ]
    },
    {
     "name": "stderr",
     "output_type": "stream",
     "text": [
      "Conversation input is to long (27), trimming it to (20 - 10)\n"
     ]
    },
    {
     "name": "stdout",
     "output_type": "stream",
     "text": [
      "'include' are related to which common topic?\n",
      "The words 'work' 'circuit' 'ground' 'power' are related to which common topic?\n"
     ]
    },
    {
     "name": "stderr",
     "output_type": "stream",
     "text": [
      "Conversation input is to long (28), trimming it to (20 - 10)\n"
     ]
    },
    {
     "name": "stdout",
     "output_type": "stream",
     "text": [
      "Power is related to the power of the mind.\n",
      "The words 'window' 'file' 'run' 'driver' are related to which common topic?\n"
     ]
    },
    {
     "name": "stderr",
     "output_type": "stream",
     "text": [
      "Conversation input is to long (30), trimming it to (20 - 10)\n"
     ]
    },
    {
     "name": "stdout",
     "output_type": "stream",
     "text": [
      "'R' and 'r' are related to which common topic?\n",
      "The words 'bike' 'ride' 'dod' 'motorcycle' are related to which common topic?\n"
     ]
    },
    {
     "name": "stderr",
     "output_type": "stream",
     "text": [
      "Conversation input is to long (26), trimming it to (20 - 10)\n"
     ]
    },
    {
     "name": "stdout",
     "output_type": "stream",
     "text": [
      "The two are related to the same topic.\n",
      "The words 'game' 'team' 'win' 'hit' are related to which common topic?\n"
     ]
    },
    {
     "name": "stderr",
     "output_type": "stream",
     "text": [
      "Conversation input is to long (31), trimming it to (20 - 10)\n"
     ]
    },
    {
     "name": "stdout",
     "output_type": "stream",
     "text": [
      "'Hit' and 'hit' are related to which common topic?\n",
      "The words 'god' 'christian' 'church' 'jesus' are related to which common topic?\n"
     ]
    },
    {
     "name": "stderr",
     "output_type": "stream",
     "text": [
      "Conversation input is to long (28), trimming it to (20 - 10)\n"
     ]
    },
    {
     "name": "stdout",
     "output_type": "stream",
     "text": [
      "'Sex' and'sex' are related to which common topic?\n",
      "The words 'gun' 'government' 'weapon' 'state' are related to which common topic?\n"
     ]
    },
    {
     "name": "stderr",
     "output_type": "stream",
     "text": [
      "Conversation input is to long (28), trimming it to (20 - 10)\n"
     ]
    },
    {
     "name": "stdout",
     "output_type": "stream",
     "text": [
      "State is related to what common topic?\n",
      "The words 'image' 'file' 'graphic' 'jpeg' are related to which common topic?\n"
     ]
    },
    {
     "name": "stderr",
     "output_type": "stream",
     "text": [
      "Conversation input is to long (26), trimming it to (20 - 10)\n"
     ]
    },
    {
     "name": "stdout",
     "output_type": "stream",
     "text": [
      "'G' and 'g' are related to which common topic?\n",
      "The words 'car' 'engine' 'drive' 'good' are related to which common topic?\n"
     ]
    },
    {
     "name": "stderr",
     "output_type": "stream",
     "text": [
      "Conversation input is to long (31), trimming it to (20 - 10)\n"
     ]
    },
    {
     "name": "stdout",
     "output_type": "stream",
     "text": [
      "Good and good are related to the same topic.\n",
      "The words 'god' 'jesus' 'christian' 'fact' are related to which common topic?\n"
     ]
    },
    {
     "name": "stderr",
     "output_type": "stream",
     "text": [
      "Conversation input is to long (28), trimming it to (20 - 10)\n"
     ]
    },
    {
     "name": "stdout",
     "output_type": "stream",
     "text": [
      "'fact' are related to which common topic\n",
      "The words 'window' 'file' 'program' 'run' are related to which common topic?\n"
     ]
    },
    {
     "name": "stderr",
     "output_type": "stream",
     "text": [
      "Conversation input is to long (29), trimming it to (20 - 10)\n"
     ]
    },
    {
     "name": "stdout",
     "output_type": "stream",
     "text": [
      "Run is related to the common topic of 'run'\n",
      "The words 'key' 'chip' 'encryption' 'government' are related to which common topic?\n",
      "The government is related to the government.\n",
      "Results saved: GODEL-v1_1-large-seq2seq\n",
      "The words 'game' 'team' 'play' 'hockey' 'player' are related to which common topic?\n",
      " Hockey is a team sport played on ice, usually in a rink, in which two teams of skaters use their sticks to shoot a rubber puck into a net.\n",
      "The words 'god' 'religion' 'atheist' 'moral' 'claim' are related to which common topic?\n",
      " I'm not sure, but I do know that Christianity is the world's largest religion with over 2.4 billion followers.\n",
      "The words 'space' 'nasa' 'launch' 'system' 'orbit' are related to which common topic?\n",
      " I'm not sure, but I do know that the word \"space\" was first recorded in the 10th century.\n",
      "The words 'patient' 'disease' 'medical' 'doctor' 'study' are related to which common topic?\n",
      " I'm not sure, but I do know that there is a difference between a doctor and a physician.\n",
      "The words 'government' 'president' 'state' 'law' 'work' are related to which common topic?\n",
      " I'm not sure, but I do know that the term \"lawyer\" was first recorded in the 10th century.\n",
      "The words 'mac' 'apple' 'problem' 'drive' 'system' are related to which common topic?\n",
      " I'm not sure, but I do know that the word \"mac\" was first recorded in the 10th century.\n",
      "The words 'armenian' 'israel' 'turkish' 'jew' 'arab' are related to which common topic?\n",
      " The term \"Arab\" was first recorded in the 10th century in a Latin manuscript.\n",
      "The words 'drive' 'card' 'system' 'problem' 'work' are related to which common topic?\n",
      " Driving is one of the most commonly used means of transportation in the world.\n",
      "The words 'offer' 'sale' 'sell' 'include' 'drive' are related to which common topic?\n",
      " I'm not sure, but I do know that the word \"drive\" is derived from the Latin \"driver\"\n",
      "The words 'work' 'circuit' 'ground' 'power' 'wire' are related to which common topic?\n",
      " I'm not sure, but I do know that the word circuit is derived from the Latin word \"circus\".\n",
      "The words 'window' 'file' 'run' 'driver' 'problem' are related to which common topic?\n",
      " I'm not sure, but I do know that the word \"file\" is derived from the Latin word \"flavour\".\n",
      "The words 'bike' 'ride' 'dod' 'motorcycle' 'dog' are related to which common topic?\n",
      " I'm not sure, but I do know that dogs were the first species to be domesticated and have been selectively bred over millennia for various behaviors, sensory capabilities, and physical attributes.\n",
      "The words 'game' 'team' 'win' 'hit' 'player' are related to which common topic?\n",
      " I'm not sure, but I do know that the word \"gaming\" was first recorded in the 10th century in a Latin manuscript.\n",
      "The words 'god' 'christian' 'church' 'jesus' 'christ' are related to which common topic?\n",
      " Christianity is the world's largest religion, with over 2.4 billion followers. \n",
      "The words 'gun' 'government' 'weapon' 'state' 'fire' are related to which common topic?\n",
      " I'm not sure, but I do know that the term \"fire\" was first recorded in the 10th century.\n",
      "The words 'image' 'file' 'graphic' 'jpeg' 'program' are related to which common topic?\n",
      " I'm not sure, but I do know that the word \"file\" was first recorded in the 10th century.\n",
      "The words 'car' 'engine' 'drive' 'good' 'buy' are related to which common topic?\n",
      " I'm not sure, but I do know that the word \"engineer\" was first recorded in the 10th century.\n",
      "The words 'god' 'jesus' 'christian' 'fact' 'good' are related to which common topic?\n",
      " I'm not sure, but I do know that Christianity is the world's largest religion with over 2.4 billion followers.\n",
      "The words 'window' 'file' 'program' 'run' 'server' are related to which common topic?\n",
      " I'm not sure, but I do know that the word \"file\" is derived from the Latin word meaning \"to write\"\n",
      "The words 'key' 'chip' 'encryption' 'government' 'system' are related to which common topic?\n",
      " I'm not sure, but I do know that the word \"chip\" was first recorded in the 10th century.\n",
      "Results saved: blenderbot-400M-distill\n"
     ]
    },
    {
     "name": "stderr",
     "output_type": "stream",
     "text": [
      "c:\\Users\\Virginia\\anaconda3\\lib\\site-packages\\transformers\\generation\\utils.py:1186: UserWarning: You have modified the pretrained model configuration to control generation. This is a deprecated strategy to control generation and will be removed soon, in a future version. Please use a generation configuration file (see https://huggingface.co/docs/transformers/main_classes/text_generation)\n",
      "  warnings.warn(\n",
      "The attention mask and the pad token id were not set. As a consequence, you may observe unexpected behavior. Please pass your input's `attention_mask` to obtain reliable results.\n",
      "Setting `pad_token_id` to `eos_token_id`:50256 for open-end generation.\n",
      "A decoder-only architecture is being used, but right-padding was detected! For correct generation results, please set `padding_side='left'` when initializing the tokenizer.\n"
     ]
    },
    {
     "name": "stdout",
     "output_type": "stream",
     "text": [
      "The words 'game' 'team' 'play' 'hockey' 'player' are related to which common topic?\n"
     ]
    },
    {
     "name": "stderr",
     "output_type": "stream",
     "text": [
      "The attention mask and the pad token id were not set. As a consequence, you may observe unexpected behavior. Please pass your input's `attention_mask` to obtain reliable results.\n",
      "Setting `pad_token_id` to `eos_token_id`:50256 for open-end generation.\n",
      "A decoder-only architecture is being used, but right-padding was detected! For correct generation results, please set `padding_side='left'` when initializing the tokenizer.\n"
     ]
    },
    {
     "name": "stdout",
     "output_type": "stream",
     "text": [
      "I think it's the word play.\n",
      "The words 'god' 'religion' 'atheist' 'moral' 'claim' are related to which common topic?\n"
     ]
    },
    {
     "name": "stderr",
     "output_type": "stream",
     "text": [
      "The attention mask and the pad token id were not set. As a consequence, you may observe unexpected behavior. Please pass your input's `attention_mask` to obtain reliable results.\n",
      "Setting `pad_token_id` to `eos_token_id`:50256 for open-end generation.\n",
      "A decoder-only architecture is being used, but right-padding was detected! For correct generation results, please set `padding_side='left'` when initializing the tokenizer.\n"
     ]
    },
    {
     "name": "stdout",
     "output_type": "stream",
     "text": [
      "I think it's the word'religion '.\n",
      "The words 'space' 'nasa' 'launch' 'system' 'orbit' are related to which common topic?\n"
     ]
    },
    {
     "name": "stderr",
     "output_type": "stream",
     "text": [
      "The attention mask and the pad token id were not set. As a consequence, you may observe unexpected behavior. Please pass your input's `attention_mask` to obtain reliable results.\n",
      "Setting `pad_token_id` to `eos_token_id`:50256 for open-end generation.\n",
      "A decoder-only architecture is being used, but right-padding was detected! For correct generation results, please set `padding_side='left'` when initializing the tokenizer.\n"
     ]
    },
    {
     "name": "stdout",
     "output_type": "stream",
     "text": [
      "I think it's the same as the word'launch '.\n",
      "The words 'patient' 'disease' 'medical' 'doctor' 'study' are related to which common topic?\n"
     ]
    },
    {
     "name": "stderr",
     "output_type": "stream",
     "text": [
      "The attention mask and the pad token id were not set. As a consequence, you may observe unexpected behavior. Please pass your input's `attention_mask` to obtain reliable results.\n",
      "Setting `pad_token_id` to `eos_token_id`:50256 for open-end generation.\n",
      "A decoder-only architecture is being used, but right-padding was detected! For correct generation results, please set `padding_side='left'` when initializing the tokenizer.\n"
     ]
    },
    {
     "name": "stdout",
     "output_type": "stream",
     "text": [
      "I think it's a reference to the movie The Big Lebowski.\n",
      "The words 'government' 'president' 'state' 'law' 'work' are related to which common topic?\n"
     ]
    },
    {
     "name": "stderr",
     "output_type": "stream",
     "text": [
      "The attention mask and the pad token id were not set. As a consequence, you may observe unexpected behavior. Please pass your input's `attention_mask` to obtain reliable results.\n",
      "Setting `pad_token_id` to `eos_token_id`:50256 for open-end generation.\n",
      "A decoder-only architecture is being used, but right-padding was detected! For correct generation results, please set `padding_side='left'` when initializing the tokenizer.\n"
     ]
    },
    {
     "name": "stdout",
     "output_type": "stream",
     "text": [
      "I think it's a reference to the fact that the government is the one who decides what is legal and what is not.\n",
      "The words 'mac' 'apple' 'problem' 'drive' 'system' are related to which common topic?\n"
     ]
    },
    {
     "name": "stderr",
     "output_type": "stream",
     "text": [
      "The attention mask and the pad token id were not set. As a consequence, you may observe unexpected behavior. Please pass your input's `attention_mask` to obtain reliable results.\n",
      "Setting `pad_token_id` to `eos_token_id`:50256 for open-end generation.\n",
      "A decoder-only architecture is being used, but right-padding was detected! For correct generation results, please set `padding_side='left'` when initializing the tokenizer.\n"
     ]
    },
    {
     "name": "stdout",
     "output_type": "stream",
     "text": [
      "Macs are a problem.\n",
      "The words 'armenian' 'israel' 'turkish' 'jew' 'arab' are related to which common topic?\n"
     ]
    },
    {
     "name": "stderr",
     "output_type": "stream",
     "text": [
      "The attention mask and the pad token id were not set. As a consequence, you may observe unexpected behavior. Please pass your input's `attention_mask` to obtain reliable results.\n",
      "Setting `pad_token_id` to `eos_token_id`:50256 for open-end generation.\n",
      "A decoder-only architecture is being used, but right-padding was detected! For correct generation results, please set `padding_side='left'` when initializing the tokenizer.\n"
     ]
    },
    {
     "name": "stdout",
     "output_type": "stream",
     "text": [
      "I think it's a reference to the fact that the word armenian is used in the same way as arabic.\n",
      "The words 'drive' 'card' 'system' 'problem' 'work' are related to which common topic?\n"
     ]
    },
    {
     "name": "stderr",
     "output_type": "stream",
     "text": [
      "The attention mask and the pad token id were not set. As a consequence, you may observe unexpected behavior. Please pass your input's `attention_mask` to obtain reliable results.\n",
      "Setting `pad_token_id` to `eos_token_id`:50256 for open-end generation.\n",
      "A decoder-only architecture is being used, but right-padding was detected! For correct generation results, please set `padding_side='left'` when initializing the tokenizer.\n"
     ]
    },
    {
     "name": "stdout",
     "output_type": "stream",
     "text": [
      "I think it's the word'system '.\n",
      "The words 'offer' 'sale' 'sell' 'include' 'drive' are related to which common topic?\n"
     ]
    },
    {
     "name": "stderr",
     "output_type": "stream",
     "text": [
      "The attention mask and the pad token id were not set. As a consequence, you may observe unexpected behavior. Please pass your input's `attention_mask` to obtain reliable results.\n",
      "Setting `pad_token_id` to `eos_token_id`:50256 for open-end generation.\n",
      "A decoder-only architecture is being used, but right-padding was detected! For correct generation results, please set `padding_side='left'` when initializing the tokenizer.\n"
     ]
    },
    {
     "name": "stdout",
     "output_type": "stream",
     "text": [
      "I think it's a reference to the movie Drive.\n",
      "The words 'work' 'circuit' 'ground' 'power' 'wire' are related to which common topic?\n"
     ]
    },
    {
     "name": "stderr",
     "output_type": "stream",
     "text": [
      "The attention mask and the pad token id were not set. As a consequence, you may observe unexpected behavior. Please pass your input's `attention_mask` to obtain reliable results.\n",
      "Setting `pad_token_id` to `eos_token_id`:50256 for open-end generation.\n",
      "A decoder-only architecture is being used, but right-padding was detected! For correct generation results, please set `padding_side='left'` when initializing the tokenizer.\n"
     ]
    },
    {
     "name": "stdout",
     "output_type": "stream",
     "text": [
      "I think it's a reference to the fact that the word circuit is used in the same way as power.\n",
      "The words 'window' 'file' 'run' 'driver' 'problem' are related to which common topic?\n"
     ]
    },
    {
     "name": "stderr",
     "output_type": "stream",
     "text": [
      "The attention mask and the pad token id were not set. As a consequence, you may observe unexpected behavior. Please pass your input's `attention_mask` to obtain reliable results.\n",
      "Setting `pad_token_id` to `eos_token_id`:50256 for open-end generation.\n",
      "A decoder-only architecture is being used, but right-padding was detected! For correct generation results, please set `padding_side='left'` when initializing the tokenizer.\n"
     ]
    },
    {
     "name": "stdout",
     "output_type": "stream",
     "text": [
      "I think it's the file system.\n",
      "The words 'bike' 'ride' 'dod' 'motorcycle' 'dog' are related to which common topic?\n"
     ]
    },
    {
     "name": "stderr",
     "output_type": "stream",
     "text": [
      "The attention mask and the pad token id were not set. As a consequence, you may observe unexpected behavior. Please pass your input's `attention_mask` to obtain reliable results.\n",
      "Setting `pad_token_id` to `eos_token_id`:50256 for open-end generation.\n",
      "A decoder-only architecture is being used, but right-padding was detected! For correct generation results, please set `padding_side='left'` when initializing the tokenizer.\n"
     ]
    },
    {
     "name": "stdout",
     "output_type": "stream",
     "text": [
      "I think it's a reference to the movie'The Big Lebowski '\n",
      "The words 'game' 'team' 'win' 'hit' 'player' are related to which common topic?\n"
     ]
    },
    {
     "name": "stderr",
     "output_type": "stream",
     "text": [
      "The attention mask and the pad token id were not set. As a consequence, you may observe unexpected behavior. Please pass your input's `attention_mask` to obtain reliable results.\n",
      "Setting `pad_token_id` to `eos_token_id`:50256 for open-end generation.\n",
      "A decoder-only architecture is being used, but right-padding was detected! For correct generation results, please set `padding_side='left'` when initializing the tokenizer.\n"
     ]
    },
    {
     "name": "stdout",
     "output_type": "stream",
     "text": [
      "I think it's the same thing, but the word'game'is used in the context of the game.\n",
      "The words 'god' 'christian' 'church' 'jesus' 'christ' are related to which common topic?\n"
     ]
    },
    {
     "name": "stderr",
     "output_type": "stream",
     "text": [
      "The attention mask and the pad token id were not set. As a consequence, you may observe unexpected behavior. Please pass your input's `attention_mask` to obtain reliable results.\n",
      "Setting `pad_token_id` to `eos_token_id`:50256 for open-end generation.\n",
      "A decoder-only architecture is being used, but right-padding was detected! For correct generation results, please set `padding_side='left'` when initializing the tokenizer.\n"
     ]
    },
    {
     "name": "stdout",
     "output_type": "stream",
     "text": [
      "I think it's a reference to the fact that the bible is a collection of books written by different people.\n",
      "The words 'gun' 'government' 'weapon' 'state' 'fire' are related to which common topic?\n"
     ]
    },
    {
     "name": "stderr",
     "output_type": "stream",
     "text": [
      "The attention mask and the pad token id were not set. As a consequence, you may observe unexpected behavior. Please pass your input's `attention_mask` to obtain reliable results.\n",
      "Setting `pad_token_id` to `eos_token_id`:50256 for open-end generation.\n",
      "A decoder-only architecture is being used, but right-padding was detected! For correct generation results, please set `padding_side='left'` when initializing the tokenizer.\n"
     ]
    },
    {
     "name": "stdout",
     "output_type": "stream",
     "text": [
      "I think it's a reference to the movie The Patriot.\n",
      "The words 'image' 'file' 'graphic' 'jpeg' 'program' are related to which common topic?\n"
     ]
    },
    {
     "name": "stderr",
     "output_type": "stream",
     "text": [
      "The attention mask and the pad token id were not set. As a consequence, you may observe unexpected behavior. Please pass your input's `attention_mask` to obtain reliable results.\n",
      "Setting `pad_token_id` to `eos_token_id`:50256 for open-end generation.\n",
      "A decoder-only architecture is being used, but right-padding was detected! For correct generation results, please set `padding_side='left'` when initializing the tokenizer.\n"
     ]
    },
    {
     "name": "stdout",
     "output_type": "stream",
     "text": [
      "I think it's the file extension.\n",
      "The words 'car' 'engine' 'drive' 'good' 'buy' are related to which common topic?\n"
     ]
    },
    {
     "name": "stderr",
     "output_type": "stream",
     "text": [
      "The attention mask and the pad token id were not set. As a consequence, you may observe unexpected behavior. Please pass your input's `attention_mask` to obtain reliable results.\n",
      "Setting `pad_token_id` to `eos_token_id`:50256 for open-end generation.\n",
      "A decoder-only architecture is being used, but right-padding was detected! For correct generation results, please set `padding_side='left'` when initializing the tokenizer.\n"
     ]
    },
    {
     "name": "stdout",
     "output_type": "stream",
     "text": [
      "I think it's a reference to the movie Drive.\n",
      "The words 'god' 'jesus' 'christian' 'fact' 'good' are related to which common topic?\n"
     ]
    },
    {
     "name": "stderr",
     "output_type": "stream",
     "text": [
      "The attention mask and the pad token id were not set. As a consequence, you may observe unexpected behavior. Please pass your input's `attention_mask` to obtain reliable results.\n",
      "Setting `pad_token_id` to `eos_token_id`:50256 for open-end generation.\n",
      "A decoder-only architecture is being used, but right-padding was detected! For correct generation results, please set `padding_side='left'` when initializing the tokenizer.\n"
     ]
    },
    {
     "name": "stdout",
     "output_type": "stream",
     "text": [
      "I think it's a reference to the fact that the bible is a collection of stories and stories.\n",
      "The words 'window' 'file' 'program' 'run' 'server' are related to which common topic?\n"
     ]
    },
    {
     "name": "stderr",
     "output_type": "stream",
     "text": [
      "The attention mask and the pad token id were not set. As a consequence, you may observe unexpected behavior. Please pass your input's `attention_mask` to obtain reliable results.\n",
      "Setting `pad_token_id` to `eos_token_id`:50256 for open-end generation.\n",
      "A decoder-only architecture is being used, but right-padding was detected! For correct generation results, please set `padding_side='left'` when initializing the tokenizer.\n"
     ]
    },
    {
     "name": "stdout",
     "output_type": "stream",
     "text": [
      "Windows Server\n",
      "The words 'key' 'chip' 'encryption' 'government' 'system' are related to which common topic?\n",
      "I think it's the government.\n",
      "Results saved: DialoGPT-medium\n"
     ]
    },
    {
     "name": "stderr",
     "output_type": "stream",
     "text": [
      "Conversation input is to long (31), trimming it to (20 - 10)\n"
     ]
    },
    {
     "name": "stdout",
     "output_type": "stream",
     "text": [
      "The words 'game' 'team' 'play' 'hockey' 'player' are related to which common topic?\n"
     ]
    },
    {
     "name": "stderr",
     "output_type": "stream",
     "text": [
      "Conversation input is to long (36), trimming it to (20 - 10)\n"
     ]
    },
    {
     "name": "stdout",
     "output_type": "stream",
     "text": [
      "I'm not sure, but I'm a fan of the game 'M\n",
      "The words 'god' 'religion' 'atheist' 'moral' 'claim' are related to which common topic?\n"
     ]
    },
    {
     "name": "stderr",
     "output_type": "stream",
     "text": [
      "Conversation input is to long (34), trimming it to (20 - 10)\n"
     ]
    },
    {
     "name": "stdout",
     "output_type": "stream",
     "text": [
      "I'm not sure but I'm sure it's a common topic.\n",
      "The words 'space' 'nasa' 'launch' 'system' 'orbit' are related to which common topic?\n"
     ]
    },
    {
     "name": "stderr",
     "output_type": "stream",
     "text": [
      "Conversation input is to long (36), trimming it to (20 - 10)\n"
     ]
    },
    {
     "name": "stdout",
     "output_type": "stream",
     "text": [
      "I'm not sure but I'm not sure what the common topic is.\n",
      "The words 'patient' 'disease' 'medical' 'doctor' 'study' are related to which common topic?\n"
     ]
    },
    {
     "name": "stderr",
     "output_type": "stream",
     "text": [
      "Conversation input is to long (31), trimming it to (20 - 10)\n"
     ]
    },
    {
     "name": "stdout",
     "output_type": "stream",
     "text": [
      "I'm not sure, but I'm not sure what the common topic is.\n",
      "The words 'government' 'president' 'state' 'law' 'work' are related to which common topic?\n"
     ]
    },
    {
     "name": "stderr",
     "output_type": "stream",
     "text": [
      "Conversation input is to long (31), trimming it to (20 - 10)\n"
     ]
    },
    {
     "name": "stdout",
     "output_type": "stream",
     "text": [
      "I'm not sure, but I'm not sure what the common topic is.\n",
      "The words 'mac' 'apple' 'problem' 'drive' 'system' are related to which common topic?\n"
     ]
    },
    {
     "name": "stderr",
     "output_type": "stream",
     "text": [
      "Conversation input is to long (35), trimming it to (20 - 10)\n"
     ]
    },
    {
     "name": "stdout",
     "output_type": "stream",
     "text": [
      "i'm not sure but i'm a big fan of the '\n",
      "The words 'armenian' 'israel' 'turkish' 'jew' 'arab' are related to which common topic?\n"
     ]
    },
    {
     "name": "stderr",
     "output_type": "stream",
     "text": [
      "Conversation input is to long (30), trimming it to (20 - 10)\n"
     ]
    },
    {
     "name": "stdout",
     "output_type": "stream",
     "text": [
      "I'm not sure but I'm not sure what the common topic is.\n",
      "The words 'drive' 'card' 'system' 'problem' 'work' are related to which common topic?\n"
     ]
    },
    {
     "name": "stderr",
     "output_type": "stream",
     "text": [
      "Conversation input is to long (34), trimming it to (20 - 10)\n"
     ]
    },
    {
     "name": "stdout",
     "output_type": "stream",
     "text": [
      "I'm not sure, but I'm not sure what the common topic is.\n",
      "The words 'offer' 'sale' 'sell' 'include' 'drive' are related to which common topic?\n"
     ]
    },
    {
     "name": "stderr",
     "output_type": "stream",
     "text": [
      "Conversation input is to long (31), trimming it to (20 - 10)\n"
     ]
    },
    {
     "name": "stdout",
     "output_type": "stream",
     "text": [
      "i'm not sure but i'm a big fan of the '\n",
      "The words 'work' 'circuit' 'ground' 'power' 'wire' are related to which common topic?\n"
     ]
    },
    {
     "name": "stderr",
     "output_type": "stream",
     "text": [
      "Conversation input is to long (32), trimming it to (20 - 10)\n"
     ]
    },
    {
     "name": "stdout",
     "output_type": "stream",
     "text": [
      "I'm not sure but I'm not sure what the common topic is.\n",
      "The words 'window' 'file' 'run' 'driver' 'problem' are related to which common topic?\n"
     ]
    },
    {
     "name": "stderr",
     "output_type": "stream",
     "text": [
      "Conversation input is to long (34), trimming it to (20 - 10)\n"
     ]
    },
    {
     "name": "stdout",
     "output_type": "stream",
     "text": [
      "I'm not sure but I'm not sure what the common topic is.\n",
      "The words 'bike' 'ride' 'dod' 'motorcycle' 'dog' are related to which common topic?\n"
     ]
    },
    {
     "name": "stderr",
     "output_type": "stream",
     "text": [
      "Conversation input is to long (30), trimming it to (20 - 10)\n"
     ]
    },
    {
     "name": "stdout",
     "output_type": "stream",
     "text": [
      "Dogs are related to the same topic as humans.\n",
      "The words 'game' 'team' 'win' 'hit' 'player' are related to which common topic?\n"
     ]
    },
    {
     "name": "stderr",
     "output_type": "stream",
     "text": [
      "Conversation input is to long (35), trimming it to (20 - 10)\n"
     ]
    },
    {
     "name": "stdout",
     "output_type": "stream",
     "text": [
      "I'm not sure, but I'm a fan of the game 'M\n",
      "The words 'god' 'christian' 'church' 'jesus' 'christ' are related to which common topic?\n"
     ]
    },
    {
     "name": "stderr",
     "output_type": "stream",
     "text": [
      "Conversation input is to long (32), trimming it to (20 - 10)\n"
     ]
    },
    {
     "name": "stdout",
     "output_type": "stream",
     "text": [
      "christianity is a common topic in the bible\n",
      "The words 'gun' 'government' 'weapon' 'state' 'fire' are related to which common topic?\n"
     ]
    },
    {
     "name": "stderr",
     "output_type": "stream",
     "text": [
      "Conversation input is to long (33), trimming it to (20 - 10)\n"
     ]
    },
    {
     "name": "stdout",
     "output_type": "stream",
     "text": [
      "I'm not sure but I'm not sure what the common topic is.\n",
      "The words 'image' 'file' 'graphic' 'jpeg' 'program' are related to which common topic?\n"
     ]
    },
    {
     "name": "stderr",
     "output_type": "stream",
     "text": [
      "Conversation input is to long (30), trimming it to (20 - 10)\n"
     ]
    },
    {
     "name": "stdout",
     "output_type": "stream",
     "text": [
      "I'm not sure but I'm not sure what the common topic is.\n",
      "The words 'car' 'engine' 'drive' 'good' 'buy' are related to which common topic?\n"
     ]
    },
    {
     "name": "stderr",
     "output_type": "stream",
     "text": [
      "Conversation input is to long (35), trimming it to (20 - 10)\n"
     ]
    },
    {
     "name": "stdout",
     "output_type": "stream",
     "text": [
      "i'm not sure, but i'm a big fan of the\n",
      "The words 'god' 'jesus' 'christian' 'fact' 'good' are related to which common topic?\n"
     ]
    },
    {
     "name": "stderr",
     "output_type": "stream",
     "text": [
      "Conversation input is to long (32), trimming it to (20 - 10)\n"
     ]
    },
    {
     "name": "stdout",
     "output_type": "stream",
     "text": [
      "i'm not sure but i'm a big fan of the '\n",
      "The words 'window' 'file' 'program' 'run' 'server' are related to which common topic?\n"
     ]
    },
    {
     "name": "stderr",
     "output_type": "stream",
     "text": [
      "Conversation input is to long (33), trimming it to (20 - 10)\n"
     ]
    },
    {
     "name": "stdout",
     "output_type": "stream",
     "text": [
      "I'm not sure, but I'm a server.\n",
      "The words 'key' 'chip' 'encryption' 'government' 'system' are related to which common topic?\n",
      "i'm not sure but i'm a big fan of the '\n",
      "Results saved: GODEL-v1_1-base-seq2seq\n"
     ]
    },
    {
     "name": "stderr",
     "output_type": "stream",
     "text": [
      "c:\\Users\\Virginia\\anaconda3\\lib\\site-packages\\transformers\\generation\\utils.py:1186: UserWarning: You have modified the pretrained model configuration to control generation. This is a deprecated strategy to control generation and will be removed soon, in a future version. Please use a generation configuration file (see https://huggingface.co/docs/transformers/main_classes/text_generation)\n",
      "  warnings.warn(\n",
      "The attention mask and the pad token id were not set. As a consequence, you may observe unexpected behavior. Please pass your input's `attention_mask` to obtain reliable results.\n",
      "Setting `pad_token_id` to `eos_token_id`:50256 for open-end generation.\n",
      "A decoder-only architecture is being used, but right-padding was detected! For correct generation results, please set `padding_side='left'` when initializing the tokenizer.\n"
     ]
    },
    {
     "name": "stdout",
     "output_type": "stream",
     "text": [
      "The words 'game' 'team' 'play' 'hockey' 'player' are related to which common topic?\n"
     ]
    },
    {
     "name": "stderr",
     "output_type": "stream",
     "text": [
      "The attention mask and the pad token id were not set. As a consequence, you may observe unexpected behavior. Please pass your input's `attention_mask` to obtain reliable results.\n",
      "Setting `pad_token_id` to `eos_token_id`:50256 for open-end generation.\n",
      "A decoder-only architecture is being used, but right-padding was detected! For correct generation results, please set `padding_side='left'` when initializing the tokenizer.\n"
     ]
    },
    {
     "name": "stdout",
     "output_type": "stream",
     "text": [
      "I'm not sure what you're trying to say.\n",
      "The words 'god' 'religion' 'atheist' 'moral' 'claim' are related to which common topic?\n"
     ]
    },
    {
     "name": "stderr",
     "output_type": "stream",
     "text": [
      "The attention mask and the pad token id were not set. As a consequence, you may observe unexpected behavior. Please pass your input's `attention_mask` to obtain reliable results.\n",
      "Setting `pad_token_id` to `eos_token_id`:50256 for open-end generation.\n",
      "A decoder-only architecture is being used, but right-padding was detected! For correct generation results, please set `padding_side='left'` when initializing the tokenizer.\n"
     ]
    },
    {
     "name": "stdout",
     "output_type": "stream",
     "text": [
      "I'm not sure what you're trying to say.\n",
      "The words 'space' 'nasa' 'launch' 'system' 'orbit' are related to which common topic?\n"
     ]
    },
    {
     "name": "stderr",
     "output_type": "stream",
     "text": [
      "The attention mask and the pad token id were not set. As a consequence, you may observe unexpected behavior. Please pass your input's `attention_mask` to obtain reliable results.\n",
      "Setting `pad_token_id` to `eos_token_id`:50256 for open-end generation.\n",
      "A decoder-only architecture is being used, but right-padding was detected! For correct generation results, please set `padding_side='left'` when initializing the tokenizer.\n"
     ]
    },
    {
     "name": "stdout",
     "output_type": "stream",
     "text": [
      "I'm not sure what you mean.\n",
      "The words 'patient' 'disease' 'medical' 'doctor' 'study' are related to which common topic?\n"
     ]
    },
    {
     "name": "stderr",
     "output_type": "stream",
     "text": [
      "The attention mask and the pad token id were not set. As a consequence, you may observe unexpected behavior. Please pass your input's `attention_mask` to obtain reliable results.\n",
      "Setting `pad_token_id` to `eos_token_id`:50256 for open-end generation.\n",
      "A decoder-only architecture is being used, but right-padding was detected! For correct generation results, please set `padding_side='left'` when initializing the tokenizer.\n"
     ]
    },
    {
     "name": "stdout",
     "output_type": "stream",
     "text": [
      "I'm not sure what you mean by that.\n",
      "The words 'government' 'president' 'state' 'law' 'work' are related to which common topic?\n"
     ]
    },
    {
     "name": "stderr",
     "output_type": "stream",
     "text": [
      "The attention mask and the pad token id were not set. As a consequence, you may observe unexpected behavior. Please pass your input's `attention_mask` to obtain reliable results.\n",
      "Setting `pad_token_id` to `eos_token_id`:50256 for open-end generation.\n",
      "A decoder-only architecture is being used, but right-padding was detected! For correct generation results, please set `padding_side='left'` when initializing the tokenizer.\n"
     ]
    },
    {
     "name": "stdout",
     "output_type": "stream",
     "text": [
      "I'm not sure what you mean.\n",
      "The words 'mac' 'apple' 'problem' 'drive' 'system' are related to which common topic?\n"
     ]
    },
    {
     "name": "stderr",
     "output_type": "stream",
     "text": [
      "The attention mask and the pad token id were not set. As a consequence, you may observe unexpected behavior. Please pass your input's `attention_mask` to obtain reliable results.\n",
      "Setting `pad_token_id` to `eos_token_id`:50256 for open-end generation.\n",
      "A decoder-only architecture is being used, but right-padding was detected! For correct generation results, please set `padding_side='left'` when initializing the tokenizer.\n"
     ]
    },
    {
     "name": "stdout",
     "output_type": "stream",
     "text": [
      "I'm not sure what you mean by this.\n",
      "The words 'armenian' 'israel' 'turkish' 'jew' 'arab' are related to which common topic?\n"
     ]
    },
    {
     "name": "stderr",
     "output_type": "stream",
     "text": [
      "The attention mask and the pad token id were not set. As a consequence, you may observe unexpected behavior. Please pass your input's `attention_mask` to obtain reliable results.\n",
      "Setting `pad_token_id` to `eos_token_id`:50256 for open-end generation.\n",
      "A decoder-only architecture is being used, but right-padding was detected! For correct generation results, please set `padding_side='left'` when initializing the tokenizer.\n"
     ]
    },
    {
     "name": "stdout",
     "output_type": "stream",
     "text": [
      "I'm not sure if you're joking or not, but I'm pretty sure that's not the case.\n",
      "The words 'drive' 'card' 'system' 'problem' 'work' are related to which common topic?\n"
     ]
    },
    {
     "name": "stderr",
     "output_type": "stream",
     "text": [
      "The attention mask and the pad token id were not set. As a consequence, you may observe unexpected behavior. Please pass your input's `attention_mask` to obtain reliable results.\n",
      "Setting `pad_token_id` to `eos_token_id`:50256 for open-end generation.\n",
      "A decoder-only architecture is being used, but right-padding was detected! For correct generation results, please set `padding_side='left'` when initializing the tokenizer.\n"
     ]
    },
    {
     "name": "stdout",
     "output_type": "stream",
     "text": [
      "I'm not sure what you mean.\n",
      "The words 'offer' 'sale' 'sell' 'include' 'drive' are related to which common topic?\n"
     ]
    },
    {
     "name": "stderr",
     "output_type": "stream",
     "text": [
      "The attention mask and the pad token id were not set. As a consequence, you may observe unexpected behavior. Please pass your input's `attention_mask` to obtain reliable results.\n",
      "Setting `pad_token_id` to `eos_token_id`:50256 for open-end generation.\n",
      "A decoder-only architecture is being used, but right-padding was detected! For correct generation results, please set `padding_side='left'` when initializing the tokenizer.\n"
     ]
    },
    {
     "name": "stdout",
     "output_type": "stream",
     "text": [
      "I'm not sure what you mean by'offer '.\n",
      "The words 'work' 'circuit' 'ground' 'power' 'wire' are related to which common topic?\n"
     ]
    },
    {
     "name": "stderr",
     "output_type": "stream",
     "text": [
      "The attention mask and the pad token id were not set. As a consequence, you may observe unexpected behavior. Please pass your input's `attention_mask` to obtain reliable results.\n",
      "Setting `pad_token_id` to `eos_token_id`:50256 for open-end generation.\n",
      "A decoder-only architecture is being used, but right-padding was detected! For correct generation results, please set `padding_side='left'` when initializing the tokenizer.\n"
     ]
    },
    {
     "name": "stdout",
     "output_type": "stream",
     "text": [
      "I think you're confusing the two.\n",
      "The words 'window' 'file' 'run' 'driver' 'problem' are related to which common topic?\n"
     ]
    },
    {
     "name": "stderr",
     "output_type": "stream",
     "text": [
      "The attention mask and the pad token id were not set. As a consequence, you may observe unexpected behavior. Please pass your input's `attention_mask` to obtain reliable results.\n",
      "Setting `pad_token_id` to `eos_token_id`:50256 for open-end generation.\n",
      "A decoder-only architecture is being used, but right-padding was detected! For correct generation results, please set `padding_side='left'` when initializing the tokenizer.\n"
     ]
    },
    {
     "name": "stdout",
     "output_type": "stream",
     "text": [
      "I'm not sure what you mean by'window'file.\n",
      "The words 'bike' 'ride' 'dod' 'motorcycle' 'dog' are related to which common topic?\n"
     ]
    },
    {
     "name": "stderr",
     "output_type": "stream",
     "text": [
      "The attention mask and the pad token id were not set. As a consequence, you may observe unexpected behavior. Please pass your input's `attention_mask` to obtain reliable results.\n",
      "Setting `pad_token_id` to `eos_token_id`:50256 for open-end generation.\n",
      "A decoder-only architecture is being used, but right-padding was detected! For correct generation results, please set `padding_side='left'` when initializing the tokenizer.\n"
     ]
    },
    {
     "name": "stdout",
     "output_type": "stream",
     "text": [
      "I'm not sure what you're trying to say.\n",
      "The words 'game' 'team' 'win' 'hit' 'player' are related to which common topic?\n"
     ]
    },
    {
     "name": "stderr",
     "output_type": "stream",
     "text": [
      "The attention mask and the pad token id were not set. As a consequence, you may observe unexpected behavior. Please pass your input's `attention_mask` to obtain reliable results.\n",
      "Setting `pad_token_id` to `eos_token_id`:50256 for open-end generation.\n",
      "A decoder-only architecture is being used, but right-padding was detected! For correct generation results, please set `padding_side='left'` when initializing the tokenizer.\n"
     ]
    },
    {
     "name": "stdout",
     "output_type": "stream",
     "text": [
      "I think you're confusing the word'game'with'win '.\n",
      "The words 'god' 'christian' 'church' 'jesus' 'christ' are related to which common topic?\n"
     ]
    },
    {
     "name": "stderr",
     "output_type": "stream",
     "text": [
      "The attention mask and the pad token id were not set. As a consequence, you may observe unexpected behavior. Please pass your input's `attention_mask` to obtain reliable results.\n",
      "Setting `pad_token_id` to `eos_token_id`:50256 for open-end generation.\n",
      "A decoder-only architecture is being used, but right-padding was detected! For correct generation results, please set `padding_side='left'` when initializing the tokenizer.\n"
     ]
    },
    {
     "name": "stdout",
     "output_type": "stream",
     "text": [
      "I'm not sure if you're joking or not, but I'm pretty sure it's a joke.\n",
      "The words 'gun' 'government' 'weapon' 'state' 'fire' are related to which common topic?\n"
     ]
    },
    {
     "name": "stderr",
     "output_type": "stream",
     "text": [
      "The attention mask and the pad token id were not set. As a consequence, you may observe unexpected behavior. Please pass your input's `attention_mask` to obtain reliable results.\n",
      "Setting `pad_token_id` to `eos_token_id`:50256 for open-end generation.\n",
      "A decoder-only architecture is being used, but right-padding was detected! For correct generation results, please set `padding_side='left'` when initializing the tokenizer.\n"
     ]
    },
    {
     "name": "stdout",
     "output_type": "stream",
     "text": [
      "I think you're confusing the two.\n",
      "The words 'image' 'file' 'graphic' 'jpeg' 'program' are related to which common topic?\n"
     ]
    },
    {
     "name": "stderr",
     "output_type": "stream",
     "text": [
      "The attention mask and the pad token id were not set. As a consequence, you may observe unexpected behavior. Please pass your input's `attention_mask` to obtain reliable results.\n",
      "Setting `pad_token_id` to `eos_token_id`:50256 for open-end generation.\n",
      "A decoder-only architecture is being used, but right-padding was detected! For correct generation results, please set `padding_side='left'` when initializing the tokenizer.\n"
     ]
    },
    {
     "name": "stdout",
     "output_type": "stream",
     "text": [
      "I'm not sure what you mean.\n",
      "The words 'car' 'engine' 'drive' 'good' 'buy' are related to which common topic?\n"
     ]
    },
    {
     "name": "stderr",
     "output_type": "stream",
     "text": [
      "The attention mask and the pad token id were not set. As a consequence, you may observe unexpected behavior. Please pass your input's `attention_mask` to obtain reliable results.\n",
      "Setting `pad_token_id` to `eos_token_id`:50256 for open-end generation.\n",
      "A decoder-only architecture is being used, but right-padding was detected! For correct generation results, please set `padding_side='left'` when initializing the tokenizer.\n"
     ]
    },
    {
     "name": "stdout",
     "output_type": "stream",
     "text": [
      "I'm not sure what you mean.\n",
      "The words 'god' 'jesus' 'christian' 'fact' 'good' are related to which common topic?\n"
     ]
    },
    {
     "name": "stderr",
     "output_type": "stream",
     "text": [
      "The attention mask and the pad token id were not set. As a consequence, you may observe unexpected behavior. Please pass your input's `attention_mask` to obtain reliable results.\n",
      "Setting `pad_token_id` to `eos_token_id`:50256 for open-end generation.\n",
      "A decoder-only architecture is being used, but right-padding was detected! For correct generation results, please set `padding_side='left'` when initializing the tokenizer.\n"
     ]
    },
    {
     "name": "stdout",
     "output_type": "stream",
     "text": [
      "I'm not sure if you're being sarcastic or not, but I'm pretty sure that's the point.\n",
      "The words 'window' 'file' 'program' 'run' 'server' are related to which common topic?\n"
     ]
    },
    {
     "name": "stderr",
     "output_type": "stream",
     "text": [
      "The attention mask and the pad token id were not set. As a consequence, you may observe unexpected behavior. Please pass your input's `attention_mask` to obtain reliable results.\n",
      "Setting `pad_token_id` to `eos_token_id`:50256 for open-end generation.\n",
      "A decoder-only architecture is being used, but right-padding was detected! For correct generation results, please set `padding_side='left'` when initializing the tokenizer.\n"
     ]
    },
    {
     "name": "stdout",
     "output_type": "stream",
     "text": [
      "I'm not sure what you mean.\n",
      "The words 'key' 'chip' 'encryption' 'government' 'system' are related to which common topic?\n",
      "I'm not sure what you're trying to say.\n",
      "Results saved: DialoGPT-small\n",
      "The words 'game' 'team' 'play' 'hockey' 'player' are related to which common topic?\n",
      "i'm not sure, but i do know that the word \" game \" was first recorded in the 10th century.\n",
      "The words 'god' 'religion' 'atheist' 'moral' 'claim' are related to which common topic?\n",
      "i'm an atheist. i believe in the existence of a god. do you?\n",
      "The words 'space' 'nasa' 'launch' 'system' 'orbit' are related to which common topic?\n",
      "i'm not sure, but i do know that the term \" space \" was first recorded in the 10th century.\n",
      "The words 'patient' 'disease' 'medical' 'doctor' 'study' are related to which common topic?\n",
      "i'm not sure what the common topic is, but i do know that the word \" patient \" was first used in the 19th century.\n",
      "The words 'government' 'president' 'state' 'law' 'work' are related to which common topic?\n",
      "i'm not sure, but i do know that the president is the head of the executive branch.\n",
      "The words 'mac' 'apple' 'problem' 'drive' 'system' are related to which common topic?\n",
      "i'm not sure, but i do know that i've had problems with my mac.\n",
      "The words 'armenian' 'israel' 'turkish' 'jew' 'arab' are related to which common topic?\n",
      "i'm not sure, but i do know that israel is the largest country in the world.\n",
      "The words 'drive' 'card' 'system' 'problem' 'work' are related to which common topic?\n",
      "i'm not sure what the common topic is, but i do know that i have a problem with my credit card.\n",
      "The words 'offer' 'sale' 'sell' 'include' 'drive' are related to which common topic?\n",
      "i'm not sure what common topic you're talking about. what do you mean?\n",
      "The words 'work' 'circuit' 'ground' 'power' 'wire' are related to which common topic?\n",
      "i'm not sure what the common topic is, but i know it's a circuit.\n",
      "The words 'window' 'file' 'run' 'driver' 'problem' are related to which common topic?\n",
      "i think it's a driver problem. i'm not sure what to do about it.\n",
      "The words 'bike' 'ride' 'dod' 'motorcycle' 'dog' are related to which common topic?\n",
      "i'm not sure, but i do know that the word \" bike \" was first recorded in the 10th century.\n",
      "The words 'game' 'team' 'win' 'hit' 'player' are related to which common topic?\n",
      "the word \" game \" is related to the common topic of which common topics are related to.\n",
      "The words 'god' 'christian' 'church' 'jesus' 'christ' are related to which common topic?\n",
      "i'm not sure, but i do know that jesus christ is the son of god.\n",
      "The words 'gun' 'government' 'weapon' 'state' 'fire' are related to which common topic?\n",
      "i'm not sure, but i do know that the term \" gun \" was first recorded in the 10th century.\n",
      "The words 'image' 'file' 'graphic' 'jpeg' 'program' are related to which common topic?\n",
      "the word \" image \" is related to \" jpg \" which means \" file \" in spanish.\n",
      "The words 'car' 'engine' 'drive' 'good' 'buy' are related to which common topic?\n",
      "i don't know, but i do know that my car is the most reliable car i've ever owned.\n",
      "The words 'god' 'jesus' 'christian' 'fact' 'good' are related to which common topic?\n",
      "i'm not sure, but i do know that the word \" god \" was first recorded in the 10th century.\n",
      "The words 'window' 'file' 'program' 'run' 'server' are related to which common topic?\n",
      "the word \" window \" is related to the common topic of which common topics are related to.\n",
      "The words 'key' 'chip' 'encryption' 'government' 'system' are related to which common topic?\n",
      "i'm not sure what the common topic is, but i do know that the key is one of the most important systems in the world.\n",
      "Results saved: blenderbot_small-90M\n"
     ]
    },
    {
     "name": "stderr",
     "output_type": "stream",
     "text": [
      "Special tokens have been added in the vocabulary, make sure the associated word embeddings are fine-tuned or trained.\n",
      "Special tokens have been added in the vocabulary, make sure the associated word embeddings are fine-tuned or trained.\n"
     ]
    },
    {
     "name": "stdout",
     "output_type": "stream",
     "text": [
      "The words 'game' 'team' 'play' 'hockey' 'player' are related to which common topic?\n",
      " The word \"game\" is derived from the Latin word \"gamus\" which means to play.\n",
      "The words 'god' 'religion' 'atheist' 'moral' 'claim' are related to which common topic?\n",
      " I'm not sure I understand your question. Are you asking if the words \"god\" and \"atheism\" are related?\n",
      "The words 'space' 'nasa' 'launch' 'system' 'orbit' are related to which common topic?\n",
      " The word \"space\" is derived from the Greek words \"spheroid\" and \"spatio\"\n",
      "The words 'patient' 'disease' 'medical' 'doctor' 'study' are related to which common topic?\n",
      " Patient, disease, and study are all related to the common topic of medical care.\n",
      "The words 'government' 'president' 'state' 'law' 'work' are related to which common topic?\n",
      " The president of the United States is the head of the executive branch of the federal government.\n",
      "The words 'mac' 'apple' 'problem' 'drive' 'system' are related to which common topic?\n",
      " I'm not sure, but I do know that the iOS operating system is based on the Mac OS.\n",
      "The words 'armenian' 'israel' 'turkish' 'jew' 'arab' are related to which common topic?\n",
      " I'm not sure, but I do know that the word \"Arab\" is derived from the Arabian Nights.\n",
      "The words 'drive' 'card' 'system' 'problem' 'work' are related to which common topic?\n",
      " I'm not sure, but I do know that the word \"drive\" was first recorded in the 10th century.\n",
      "The words 'offer' 'sale' 'sell' 'include' 'drive' are related to which common topic?\n",
      " I'm not sure, but I do know that the word \"offer\" was first recorded in the 10th century.\n",
      "The words 'work' 'circuit' 'ground' 'power' 'wire' are related to which common topic?\n",
      " I'm not sure, but I do know that circuitry is the study of electrical circuits.\n",
      "The words 'window' 'file' 'run' 'driver' 'problem' are related to which common topic?\n",
      " I'm not sure, but I do know that Windows is an operating system developed by Microsoft.\n",
      "The words 'bike' 'ride' 'dod' 'motorcycle' 'dog' are related to which common topic?\n",
      " The word \"bike\" is derived from the Latin word for \"wheel\"\n",
      "The words 'game' 'team' 'win' 'hit' 'player' are related to which common topic?\n",
      " The word \"game\" is derived from the Latin word \"gamus\" which means \"to play\"\n",
      "The words 'god' 'christian' 'church' 'jesus' 'christ' are related to which common topic?\n",
      " Christianity is a religion based on the teachings of Jesus of Nazareth, the Son of God.\n",
      "The words 'gun' 'government' 'weapon' 'state' 'fire' are related to which common topic?\n",
      " The word \"gun\" was first recorded in the 10th century in a Latin manuscript.\n",
      "The words 'image' 'file' 'graphic' 'jpeg' 'program' are related to which common topic?\n",
      " Image files and jpeg files are commonly used to represent images on a computer.\n",
      "The words 'car' 'engine' 'drive' 'good' 'buy' are related to which common topic?\n",
      " I'm not sure, but I do know that the word \"car\" was first recorded in the 10th century.\n",
      "The words 'god' 'jesus' 'christian' 'fact' 'good' are related to which common topic?\n",
      " I'm not sure, but I do know that Jesus is the Son of God, and that he died for our sins.\n",
      "The words 'window' 'file' 'program' 'run' 'server' are related to which common topic?\n",
      " I'm not sure, but I do know that Windows is the most widely used operating system in the world.\n",
      "The words 'key' 'chip' 'encryption' 'government' 'system' are related to which common topic?\n",
      " Key encryption chips are used to encrypt and decrypt data.\n",
      "Results saved: blenderbot-3B\n"
     ]
    },
    {
     "name": "stderr",
     "output_type": "stream",
     "text": [
      "c:\\Users\\Virginia\\anaconda3\\lib\\site-packages\\transformers\\generation\\utils.py:1186: UserWarning: You have modified the pretrained model configuration to control generation. This is a deprecated strategy to control generation and will be removed soon, in a future version. Please use a generation configuration file (see https://huggingface.co/docs/transformers/main_classes/text_generation)\n",
      "  warnings.warn(\n",
      "The attention mask and the pad token id were not set. As a consequence, you may observe unexpected behavior. Please pass your input's `attention_mask` to obtain reliable results.\n",
      "Setting `pad_token_id` to `eos_token_id`:50256 for open-end generation.\n",
      "A decoder-only architecture is being used, but right-padding was detected! For correct generation results, please set `padding_side='left'` when initializing the tokenizer.\n"
     ]
    },
    {
     "name": "stdout",
     "output_type": "stream",
     "text": [
      "The words 'game' 'team' 'play' 'hockey' 'player' are related to which common topic?\n"
     ]
    },
    {
     "name": "stderr",
     "output_type": "stream",
     "text": [
      "The attention mask and the pad token id were not set. As a consequence, you may observe unexpected behavior. Please pass your input's `attention_mask` to obtain reliable results.\n",
      "Setting `pad_token_id` to `eos_token_id`:50256 for open-end generation.\n",
      "A decoder-only architecture is being used, but right-padding was detected! For correct generation results, please set `padding_side='left'` when initializing the tokenizer.\n"
     ]
    },
    {
     "name": "stdout",
     "output_type": "stream",
     "text": [
      "I think it's a reference to the word'team '.\n",
      "The words 'god' 'religion' 'atheist' 'moral' 'claim' are related to which common topic?\n"
     ]
    },
    {
     "name": "stderr",
     "output_type": "stream",
     "text": [
      "The attention mask and the pad token id were not set. As a consequence, you may observe unexpected behavior. Please pass your input's `attention_mask` to obtain reliable results.\n",
      "Setting `pad_token_id` to `eos_token_id`:50256 for open-end generation.\n",
      "A decoder-only architecture is being used, but right-padding was detected! For correct generation results, please set `padding_side='left'` when initializing the tokenizer.\n"
     ]
    },
    {
     "name": "stdout",
     "output_type": "stream",
     "text": [
      "I think he means that the claims of theism are not based on theism.\n",
      "The words 'space' 'nasa' 'launch' 'system' 'orbit' are related to which common topic?\n"
     ]
    },
    {
     "name": "stderr",
     "output_type": "stream",
     "text": [
      "The attention mask and the pad token id were not set. As a consequence, you may observe unexpected behavior. Please pass your input's `attention_mask` to obtain reliable results.\n",
      "Setting `pad_token_id` to `eos_token_id`:50256 for open-end generation.\n",
      "A decoder-only architecture is being used, but right-padding was detected! For correct generation results, please set `padding_side='left'` when initializing the tokenizer.\n"
     ]
    },
    {
     "name": "stdout",
     "output_type": "stream",
     "text": [
      "I think it's related to the fact that the word'orbit'is used in the title of the post.\n",
      "The words 'patient' 'disease' 'medical' 'doctor' 'study' are related to which common topic?\n"
     ]
    },
    {
     "name": "stderr",
     "output_type": "stream",
     "text": [
      "The attention mask and the pad token id were not set. As a consequence, you may observe unexpected behavior. Please pass your input's `attention_mask` to obtain reliable results.\n",
      "Setting `pad_token_id` to `eos_token_id`:50256 for open-end generation.\n",
      "A decoder-only architecture is being used, but right-padding was detected! For correct generation results, please set `padding_side='left'` when initializing the tokenizer.\n"
     ]
    },
    {
     "name": "stdout",
     "output_type": "stream",
     "text": [
      "I think it's a reference to the movie The Last Airbender.\n",
      "The words 'government' 'president' 'state' 'law' 'work' are related to which common topic?\n"
     ]
    },
    {
     "name": "stderr",
     "output_type": "stream",
     "text": [
      "The attention mask and the pad token id were not set. As a consequence, you may observe unexpected behavior. Please pass your input's `attention_mask` to obtain reliable results.\n",
      "Setting `pad_token_id` to `eos_token_id`:50256 for open-end generation.\n",
      "A decoder-only architecture is being used, but right-padding was detected! For correct generation results, please set `padding_side='left'` when initializing the tokenizer.\n"
     ]
    },
    {
     "name": "stdout",
     "output_type": "stream",
     "text": [
      "I think he means'government'as in'government '.\n",
      "The words 'mac' 'apple' 'problem' 'drive' 'system' are related to which common topic?\n"
     ]
    },
    {
     "name": "stderr",
     "output_type": "stream",
     "text": [
      "The attention mask and the pad token id were not set. As a consequence, you may observe unexpected behavior. Please pass your input's `attention_mask` to obtain reliable results.\n",
      "Setting `pad_token_id` to `eos_token_id`:50256 for open-end generation.\n",
      "A decoder-only architecture is being used, but right-padding was detected! For correct generation results, please set `padding_side='left'` when initializing the tokenizer.\n"
     ]
    },
    {
     "name": "stdout",
     "output_type": "stream",
     "text": [
      "I think it's a reference to the Mac and Apple products.\n",
      "The words 'armenian' 'israel' 'turkish' 'jew' 'arab' are related to which common topic?\n"
     ]
    },
    {
     "name": "stderr",
     "output_type": "stream",
     "text": [
      "The attention mask and the pad token id were not set. As a consequence, you may observe unexpected behavior. Please pass your input's `attention_mask` to obtain reliable results.\n",
      "Setting `pad_token_id` to `eos_token_id`:50256 for open-end generation.\n",
      "A decoder-only architecture is being used, but right-padding was detected! For correct generation results, please set `padding_side='left'` when initializing the tokenizer.\n"
     ]
    },
    {
     "name": "stdout",
     "output_type": "stream",
     "text": [
      "The common topic is the fact that the word'Israel'is used in the title of the post.\n",
      "The words 'drive' 'card' 'system' 'problem' 'work' are related to which common topic?\n"
     ]
    },
    {
     "name": "stderr",
     "output_type": "stream",
     "text": [
      "The attention mask and the pad token id were not set. As a consequence, you may observe unexpected behavior. Please pass your input's `attention_mask` to obtain reliable results.\n",
      "Setting `pad_token_id` to `eos_token_id`:50256 for open-end generation.\n",
      "A decoder-only architecture is being used, but right-padding was detected! For correct generation results, please set `padding_side='left'` when initializing the tokenizer.\n"
     ]
    },
    {
     "name": "stdout",
     "output_type": "stream",
     "text": [
      "I think he means the problem of the system.\n",
      "The words 'offer' 'sale' 'sell' 'include' 'drive' are related to which common topic?\n"
     ]
    },
    {
     "name": "stderr",
     "output_type": "stream",
     "text": [
      "The attention mask and the pad token id were not set. As a consequence, you may observe unexpected behavior. Please pass your input's `attention_mask` to obtain reliable results.\n",
      "Setting `pad_token_id` to `eos_token_id`:50256 for open-end generation.\n",
      "A decoder-only architecture is being used, but right-padding was detected! For correct generation results, please set `padding_side='left'` when initializing the tokenizer.\n"
     ]
    },
    {
     "name": "stdout",
     "output_type": "stream",
     "text": [
      "I think it's a reference to the movie The Road.\n",
      "The words 'work' 'circuit' 'ground' 'power' 'wire' are related to which common topic?\n"
     ]
    },
    {
     "name": "stderr",
     "output_type": "stream",
     "text": [
      "The attention mask and the pad token id were not set. As a consequence, you may observe unexpected behavior. Please pass your input's `attention_mask` to obtain reliable results.\n",
      "Setting `pad_token_id` to `eos_token_id`:50256 for open-end generation.\n",
      "A decoder-only architecture is being used, but right-padding was detected! For correct generation results, please set `padding_side='left'` when initializing the tokenizer.\n"
     ]
    },
    {
     "name": "stdout",
     "output_type": "stream",
     "text": [
      "I think he means'circuit '.\n",
      "The words 'window' 'file' 'run' 'driver' 'problem' are related to which common topic?\n"
     ]
    },
    {
     "name": "stderr",
     "output_type": "stream",
     "text": [
      "The attention mask and the pad token id were not set. As a consequence, you may observe unexpected behavior. Please pass your input's `attention_mask` to obtain reliable results.\n",
      "Setting `pad_token_id` to `eos_token_id`:50256 for open-end generation.\n",
      "A decoder-only architecture is being used, but right-padding was detected! For correct generation results, please set `padding_side='left'` when initializing the tokenizer.\n"
     ]
    },
    {
     "name": "stdout",
     "output_type": "stream",
     "text": [
      "I think he means the problem is a problem with the windows installation.\n",
      "The words 'bike' 'ride' 'dod' 'motorcycle' 'dog' are related to which common topic?\n"
     ]
    },
    {
     "name": "stderr",
     "output_type": "stream",
     "text": [
      "The attention mask and the pad token id were not set. As a consequence, you may observe unexpected behavior. Please pass your input's `attention_mask` to obtain reliable results.\n",
      "Setting `pad_token_id` to `eos_token_id`:50256 for open-end generation.\n",
      "A decoder-only architecture is being used, but right-padding was detected! For correct generation results, please set `padding_side='left'` when initializing the tokenizer.\n"
     ]
    },
    {
     "name": "stdout",
     "output_type": "stream",
     "text": [
      "I think it's a reference to the song.\n",
      "The words 'game' 'team' 'win' 'hit' 'player' are related to which common topic?\n"
     ]
    },
    {
     "name": "stderr",
     "output_type": "stream",
     "text": [
      "The attention mask and the pad token id were not set. As a consequence, you may observe unexpected behavior. Please pass your input's `attention_mask` to obtain reliable results.\n",
      "Setting `pad_token_id` to `eos_token_id`:50256 for open-end generation.\n",
      "A decoder-only architecture is being used, but right-padding was detected! For correct generation results, please set `padding_side='left'` when initializing the tokenizer.\n"
     ]
    },
    {
     "name": "stdout",
     "output_type": "stream",
     "text": [
      "I think it's a reference to the game'' team'' win'' player''.\n",
      "The words 'god' 'christian' 'church' 'jesus' 'christ' are related to which common topic?\n"
     ]
    },
    {
     "name": "stderr",
     "output_type": "stream",
     "text": [
      "The attention mask and the pad token id were not set. As a consequence, you may observe unexpected behavior. Please pass your input's `attention_mask` to obtain reliable results.\n",
      "Setting `pad_token_id` to `eos_token_id`:50256 for open-end generation.\n",
      "A decoder-only architecture is being used, but right-padding was detected! For correct generation results, please set `padding_side='left'` when initializing the tokenizer.\n"
     ]
    },
    {
     "name": "stdout",
     "output_type": "stream",
     "text": [
      "I think it's a reference to the bible.\n",
      "The words 'gun' 'government' 'weapon' 'state' 'fire' are related to which common topic?\n"
     ]
    },
    {
     "name": "stderr",
     "output_type": "stream",
     "text": [
      "The attention mask and the pad token id were not set. As a consequence, you may observe unexpected behavior. Please pass your input's `attention_mask` to obtain reliable results.\n",
      "Setting `pad_token_id` to `eos_token_id`:50256 for open-end generation.\n",
      "A decoder-only architecture is being used, but right-padding was detected! For correct generation results, please set `padding_side='left'` when initializing the tokenizer.\n"
     ]
    },
    {
     "name": "stdout",
     "output_type": "stream",
     "text": [
      "The common topic is the word'gun '.\n",
      "The words 'image' 'file' 'graphic' 'jpeg' 'program' are related to which common topic?\n"
     ]
    },
    {
     "name": "stderr",
     "output_type": "stream",
     "text": [
      "The attention mask and the pad token id were not set. As a consequence, you may observe unexpected behavior. Please pass your input's `attention_mask` to obtain reliable results.\n",
      "Setting `pad_token_id` to `eos_token_id`:50256 for open-end generation.\n",
      "A decoder-only architecture is being used, but right-padding was detected! For correct generation results, please set `padding_side='left'` when initializing the tokenizer.\n"
     ]
    },
    {
     "name": "stdout",
     "output_type": "stream",
     "text": [
      "I think it's a reference to the word'jpeg '.\n",
      "The words 'car' 'engine' 'drive' 'good' 'buy' are related to which common topic?\n"
     ]
    },
    {
     "name": "stderr",
     "output_type": "stream",
     "text": [
      "The attention mask and the pad token id were not set. As a consequence, you may observe unexpected behavior. Please pass your input's `attention_mask` to obtain reliable results.\n",
      "Setting `pad_token_id` to `eos_token_id`:50256 for open-end generation.\n",
      "A decoder-only architecture is being used, but right-padding was detected! For correct generation results, please set `padding_side='left'` when initializing the tokenizer.\n"
     ]
    },
    {
     "name": "stdout",
     "output_type": "stream",
     "text": [
      "I think he means'car'as in'car '.\n",
      "The words 'god' 'jesus' 'christian' 'fact' 'good' are related to which common topic?\n"
     ]
    },
    {
     "name": "stderr",
     "output_type": "stream",
     "text": [
      "The attention mask and the pad token id were not set. As a consequence, you may observe unexpected behavior. Please pass your input's `attention_mask` to obtain reliable results.\n",
      "Setting `pad_token_id` to `eos_token_id`:50256 for open-end generation.\n",
      "A decoder-only architecture is being used, but right-padding was detected! For correct generation results, please set `padding_side='left'` when initializing the tokenizer.\n"
     ]
    },
    {
     "name": "stdout",
     "output_type": "stream",
     "text": [
      "I think it's a reference to the fact that the bible is a fact.\n",
      "The words 'window' 'file' 'program' 'run' 'server' are related to which common topic?\n"
     ]
    },
    {
     "name": "stderr",
     "output_type": "stream",
     "text": [
      "The attention mask and the pad token id were not set. As a consequence, you may observe unexpected behavior. Please pass your input's `attention_mask` to obtain reliable results.\n",
      "Setting `pad_token_id` to `eos_token_id`:50256 for open-end generation.\n",
      "A decoder-only architecture is being used, but right-padding was detected! For correct generation results, please set `padding_side='left'` when initializing the tokenizer.\n"
     ]
    },
    {
     "name": "stdout",
     "output_type": "stream",
     "text": [
      "I think he means the file that is running the program.\n",
      "The words 'key' 'chip' 'encryption' 'government' 'system' are related to which common topic?\n",
      "The common topic is the government.\n",
      "Results saved: DialoGPT-large\n"
     ]
    },
    {
     "name": "stderr",
     "output_type": "stream",
     "text": [
      "Conversation input is to long (31), trimming it to (20 - 10)\n"
     ]
    },
    {
     "name": "stdout",
     "output_type": "stream",
     "text": [
      "The words 'game' 'team' 'play' 'hockey' 'player' are related to which common topic?\n"
     ]
    },
    {
     "name": "stderr",
     "output_type": "stream",
     "text": [
      "Conversation input is to long (36), trimming it to (20 - 10)\n"
     ]
    },
    {
     "name": "stdout",
     "output_type": "stream",
     "text": [
      "'Player' and 'player' are related to which common topic?\n",
      "The words 'god' 'religion' 'atheist' 'moral' 'claim' are related to which common topic?\n"
     ]
    },
    {
     "name": "stderr",
     "output_type": "stream",
     "text": [
      "Conversation input is to long (34), trimming it to (20 - 10)\n"
     ]
    },
    {
     "name": "stdout",
     "output_type": "stream",
     "text": [
      "'Claim' is related to which common topic?\n",
      "The words 'space' 'nasa' 'launch' 'system' 'orbit' are related to which common topic?\n"
     ]
    },
    {
     "name": "stderr",
     "output_type": "stream",
     "text": [
      "Conversation input is to long (36), trimming it to (20 - 10)\n"
     ]
    },
    {
     "name": "stdout",
     "output_type": "stream",
     "text": [
      "'bit' and 'bit' are related to which common topic?\n",
      "The words 'patient' 'disease' 'medical' 'doctor' 'study' are related to which common topic?\n"
     ]
    },
    {
     "name": "stderr",
     "output_type": "stream",
     "text": [
      "Conversation input is to long (31), trimming it to (20 - 10)\n"
     ]
    },
    {
     "name": "stdout",
     "output_type": "stream",
     "text": [
      "The common topic is 'the '\n",
      "The words 'government' 'president' 'state' 'law' 'work' are related to which common topic?\n"
     ]
    },
    {
     "name": "stderr",
     "output_type": "stream",
     "text": [
      "Conversation input is to long (31), trimming it to (20 - 10)\n"
     ]
    },
    {
     "name": "stdout",
     "output_type": "stream",
     "text": [
      "Work is related to what common topic?\n",
      "The words 'mac' 'apple' 'problem' 'drive' 'system' are related to which common topic?\n"
     ]
    },
    {
     "name": "stderr",
     "output_type": "stream",
     "text": [
      "Conversation input is to long (35), trimming it to (20 - 10)\n"
     ]
    },
    {
     "name": "stdout",
     "output_type": "stream",
     "text": [
      "'system' is related to which common topic?\n",
      "The words 'armenian' 'israel' 'turkish' 'jew' 'arab' are related to which common topic?\n"
     ]
    },
    {
     "name": "stderr",
     "output_type": "stream",
     "text": [
      "Conversation input is to long (30), trimming it to (20 - 10)\n"
     ]
    },
    {
     "name": "stdout",
     "output_type": "stream",
     "text": [
      "'Rabbit' and 'rab' are related to which common topic?\n",
      "The words 'drive' 'card' 'system' 'problem' 'work' are related to which common topic?\n"
     ]
    },
    {
     "name": "stderr",
     "output_type": "stream",
     "text": [
      "Conversation input is to long (34), trimming it to (20 - 10)\n"
     ]
    },
    {
     "name": "stdout",
     "output_type": "stream",
     "text": [
      "Work is related to what common topic?\n",
      "The words 'offer' 'sale' 'sell' 'include' 'drive' are related to which common topic?\n"
     ]
    },
    {
     "name": "stderr",
     "output_type": "stream",
     "text": [
      "Conversation input is to long (31), trimming it to (20 - 10)\n"
     ]
    },
    {
     "name": "stdout",
     "output_type": "stream",
     "text": [
      "'drive' and 'driver' are related to which common topic?\n",
      "The words 'work' 'circuit' 'ground' 'power' 'wire' are related to which common topic?\n"
     ]
    },
    {
     "name": "stderr",
     "output_type": "stream",
     "text": [
      "Conversation input is to long (32), trimming it to (20 - 10)\n"
     ]
    },
    {
     "name": "stdout",
     "output_type": "stream",
     "text": [
      "'wire' is related to which common topic?\n",
      "The words 'window' 'file' 'run' 'driver' 'problem' are related to which common topic?\n"
     ]
    },
    {
     "name": "stderr",
     "output_type": "stream",
     "text": [
      "Conversation input is to long (34), trimming it to (20 - 10)\n"
     ]
    },
    {
     "name": "stdout",
     "output_type": "stream",
     "text": [
      "The common topic is 'problem'\n",
      "The words 'bike' 'ride' 'dod' 'motorcycle' 'dog' are related to which common topic?\n"
     ]
    },
    {
     "name": "stderr",
     "output_type": "stream",
     "text": [
      "Conversation input is to long (30), trimming it to (20 - 10)\n"
     ]
    },
    {
     "name": "stdout",
     "output_type": "stream",
     "text": [
      "Dogs are related to the same topic as cats.\n",
      "The words 'game' 'team' 'win' 'hit' 'player' are related to which common topic?\n"
     ]
    },
    {
     "name": "stderr",
     "output_type": "stream",
     "text": [
      "Conversation input is to long (35), trimming it to (20 - 10)\n"
     ]
    },
    {
     "name": "stdout",
     "output_type": "stream",
     "text": [
      "'Player' and 'player' are related to which common topic?\n",
      "The words 'god' 'christian' 'church' 'jesus' 'christ' are related to which common topic?\n"
     ]
    },
    {
     "name": "stderr",
     "output_type": "stream",
     "text": [
      "Conversation input is to long (32), trimming it to (20 - 10)\n"
     ]
    },
    {
     "name": "stdout",
     "output_type": "stream",
     "text": [
      "The common topic is christianity.\n",
      "The words 'gun' 'government' 'weapon' 'state' 'fire' are related to which common topic?\n"
     ]
    },
    {
     "name": "stderr",
     "output_type": "stream",
     "text": [
      "Conversation input is to long (33), trimming it to (20 - 10)\n"
     ]
    },
    {
     "name": "stdout",
     "output_type": "stream",
     "text": [
      "The common topic is 'fire'\n",
      "The words 'image' 'file' 'graphic' 'jpeg' 'program' are related to which common topic?\n"
     ]
    },
    {
     "name": "stderr",
     "output_type": "stream",
     "text": [
      "Conversation input is to long (30), trimming it to (20 - 10)\n"
     ]
    },
    {
     "name": "stdout",
     "output_type": "stream",
     "text": [
      "'Sex' is related to'sex'\n",
      "The words 'car' 'engine' 'drive' 'good' 'buy' are related to which common topic?\n"
     ]
    },
    {
     "name": "stderr",
     "output_type": "stream",
     "text": [
      "Conversation input is to long (35), trimming it to (20 - 10)\n"
     ]
    },
    {
     "name": "stdout",
     "output_type": "stream",
     "text": [
      "Buying a car is related to which common topic?\n",
      "The words 'god' 'jesus' 'christian' 'fact' 'good' are related to which common topic?\n"
     ]
    },
    {
     "name": "stderr",
     "output_type": "stream",
     "text": [
      "Conversation input is to long (32), trimming it to (20 - 10)\n"
     ]
    },
    {
     "name": "stdout",
     "output_type": "stream",
     "text": [
      "Good and good are related to the same topic.\n",
      "The words 'window' 'file' 'program' 'run' 'server' are related to which common topic?\n"
     ]
    },
    {
     "name": "stderr",
     "output_type": "stream",
     "text": [
      "Conversation input is to long (33), trimming it to (20 - 10)\n"
     ]
    },
    {
     "name": "stdout",
     "output_type": "stream",
     "text": [
      "'server' is related to which common topic?\n",
      "The words 'key' 'chip' 'encryption' 'government' 'system' are related to which common topic?\n",
      "'system' is related to which common topic?\n",
      "Results saved: GODEL-v1_1-large-seq2seq\n",
      "The words 'game' 'team' 'play' 'hockey' 'player' 'win' are related to which common topic?\n",
      " Hockey is a team sport played on ice, usually in a rink, in which two teams of skaters use their sticks to shoot a rubber puck into a net.\n",
      "The words 'god' 'religion' 'atheist' 'moral' 'claim' 'point' are related to which common topic?\n",
      " I'm not sure, but I do know that the word \"god\" has been around since the 10th century.\n",
      "The words 'space' 'nasa' 'launch' 'system' 'orbit' 'earth' are related to which common topic?\n",
      " I'm not sure, but I do know that the word \"space\" was first recorded in the 10th century.\n",
      "The words 'patient' 'disease' 'medical' 'doctor' 'study' 'food' are related to which common topic?\n",
      " The word \"disorder\" is derived from the Latin word \"patio\" which means \"service\".\n",
      "The words 'government' 'president' 'state' 'law' 'work' 'give' are related to which common topic?\n",
      " I'm not sure, but I do know that the term \"lawyer\" was first recorded in the 10th century.\n",
      "The words 'mac' 'apple' 'problem' 'drive' 'system' 'work' are related to which common topic?\n",
      " I'm not sure, but I do know that the word \"mac\" was first recorded in the 10th century.\n",
      "The words 'armenian' 'israel' 'turkish' 'jew' 'arab' 'israeli' are related to which common topic?\n",
      " I'm not sure, but I do know that the term \"Arab\" was first recorded in the 10th century.\n",
      "The words 'drive' 'card' 'system' 'problem' 'work' 'controller' are related to which common topic?\n",
      " Driving is one of the most commonly used means of transportation in the world.\n",
      "The words 'offer' 'sale' 'sell' 'include' 'drive' 'price' are related to which common topic?\n",
      " I'm not sure, but I do know that the word \"offer\" was first recorded in the 10th century.\n",
      "The words 'work' 'circuit' 'ground' 'power' 'wire' 'good' are related to which common topic?\n",
      " Work ethics and work ethic are two of the most important aspects of being a good worker.\n",
      "The words 'window' 'file' 'run' 'driver' 'problem' 'program' are related to which common topic?\n",
      " The word \"file\" is derived from the Latin word \"flavor\".\n",
      "The words 'bike' 'ride' 'dod' 'motorcycle' 'dog' 'good' are related to which common topic?\n",
      " I'm not sure, but I do know that dogs were the first species to be domesticated and have been selectively bred over millennia for various behaviors, sensory capabilities, and physical attributes.\n",
      "The words 'game' 'team' 'win' 'hit' 'player' 'run' are related to which common topic?\n",
      " I'm not sure, but I do know that the word \"gaming\" was first recorded in the 10th century in a Latin manuscript from the Southern Italy town of Gaeta in Lazio.\n",
      "The words 'god' 'christian' 'church' 'jesus' 'christ' 'sin' are related to which common topic?\n",
      " Christianity is the world's largest religion, with over 2.4 billion followers. \n",
      "The words 'gun' 'government' 'weapon' 'state' 'fire' 'law' are related to which common topic?\n",
      " I'm not sure, but I do know that the term \"lawyer\" was first recorded in the 10th century.\n",
      "The words 'image' 'file' 'graphic' 'jpeg' 'program' 'format' are related to which common topic?\n",
      " The word \"file\" is derived from the Latin word \"graviolet\".\n",
      "The words 'car' 'engine' 'drive' 'good' 'buy' 'problem' are related to which common topic?\n",
      " I'm not sure, but I do know that the word \"engineer\" was first recorded in the 10th century.\n",
      "The words 'god' 'jesus' 'christian' 'fact' 'good' 'objective' are related to which common topic?\n",
      " The word \"good\" is derived from the Greek word \"άθος\" which means \"good\".\n",
      "The words 'window' 'file' 'program' 'run' 'server' 'application' are related to which common topic?\n",
      " I'm not sure, but I do know that the word \"programm\" is derived from the Latin word meaning \"work\".\n",
      "The words 'key' 'chip' 'encryption' 'government' 'system' 'clipper' are related to which common topic?\n",
      " I'm not sure, but I do know that the word \"chip\" was first recorded in the 10th century.\n",
      "Results saved: blenderbot-400M-distill\n"
     ]
    },
    {
     "name": "stderr",
     "output_type": "stream",
     "text": [
      "c:\\Users\\Virginia\\anaconda3\\lib\\site-packages\\transformers\\generation\\utils.py:1186: UserWarning: You have modified the pretrained model configuration to control generation. This is a deprecated strategy to control generation and will be removed soon, in a future version. Please use a generation configuration file (see https://huggingface.co/docs/transformers/main_classes/text_generation)\n",
      "  warnings.warn(\n",
      "The attention mask and the pad token id were not set. As a consequence, you may observe unexpected behavior. Please pass your input's `attention_mask` to obtain reliable results.\n",
      "Setting `pad_token_id` to `eos_token_id`:50256 for open-end generation.\n",
      "A decoder-only architecture is being used, but right-padding was detected! For correct generation results, please set `padding_side='left'` when initializing the tokenizer.\n"
     ]
    },
    {
     "name": "stdout",
     "output_type": "stream",
     "text": [
      "The words 'game' 'team' 'play' 'hockey' 'player' 'win' are related to which common topic?\n"
     ]
    },
    {
     "name": "stderr",
     "output_type": "stream",
     "text": [
      "The attention mask and the pad token id were not set. As a consequence, you may observe unexpected behavior. Please pass your input's `attention_mask` to obtain reliable results.\n",
      "Setting `pad_token_id` to `eos_token_id`:50256 for open-end generation.\n",
      "A decoder-only architecture is being used, but right-padding was detected! For correct generation results, please set `padding_side='left'` when initializing the tokenizer.\n"
     ]
    },
    {
     "name": "stdout",
     "output_type": "stream",
     "text": [
      "I think it's the word'game '.\n",
      "The words 'god' 'religion' 'atheist' 'moral' 'claim' 'point' are related to which common topic?\n"
     ]
    },
    {
     "name": "stderr",
     "output_type": "stream",
     "text": [
      "The attention mask and the pad token id were not set. As a consequence, you may observe unexpected behavior. Please pass your input's `attention_mask` to obtain reliable results.\n",
      "Setting `pad_token_id` to `eos_token_id`:50256 for open-end generation.\n",
      "A decoder-only architecture is being used, but right-padding was detected! For correct generation results, please set `padding_side='left'` when initializing the tokenizer.\n"
     ]
    },
    {
     "name": "stdout",
     "output_type": "stream",
     "text": [
      "I think it's the word'religion '.\n",
      "The words 'space' 'nasa' 'launch' 'system' 'orbit' 'earth' are related to which common topic?\n"
     ]
    },
    {
     "name": "stderr",
     "output_type": "stream",
     "text": [
      "The attention mask and the pad token id were not set. As a consequence, you may observe unexpected behavior. Please pass your input's `attention_mask` to obtain reliable results.\n",
      "Setting `pad_token_id` to `eos_token_id`:50256 for open-end generation.\n",
      "A decoder-only architecture is being used, but right-padding was detected! For correct generation results, please set `padding_side='left'` when initializing the tokenizer.\n"
     ]
    },
    {
     "name": "stdout",
     "output_type": "stream",
     "text": [
      "I think it's the same as the word'orbit '.\n",
      "The words 'patient' 'disease' 'medical' 'doctor' 'study' 'food' are related to which common topic?\n"
     ]
    },
    {
     "name": "stderr",
     "output_type": "stream",
     "text": [
      "The attention mask and the pad token id were not set. As a consequence, you may observe unexpected behavior. Please pass your input's `attention_mask` to obtain reliable results.\n",
      "Setting `pad_token_id` to `eos_token_id`:50256 for open-end generation.\n",
      "A decoder-only architecture is being used, but right-padding was detected! For correct generation results, please set `padding_side='left'` when initializing the tokenizer.\n"
     ]
    },
    {
     "name": "stdout",
     "output_type": "stream",
     "text": [
      "I think it's a reference to the movie The Big Lebowski.\n",
      "The words 'government' 'president' 'state' 'law' 'work' 'give' are related to which common topic?\n"
     ]
    },
    {
     "name": "stderr",
     "output_type": "stream",
     "text": [
      "The attention mask and the pad token id were not set. As a consequence, you may observe unexpected behavior. Please pass your input's `attention_mask` to obtain reliable results.\n",
      "Setting `pad_token_id` to `eos_token_id`:50256 for open-end generation.\n",
      "A decoder-only architecture is being used, but right-padding was detected! For correct generation results, please set `padding_side='left'` when initializing the tokenizer.\n"
     ]
    },
    {
     "name": "stdout",
     "output_type": "stream",
     "text": [
      "I think it's a reference to the fact that the government is a state.\n",
      "The words 'mac' 'apple' 'problem' 'drive' 'system' 'work' are related to which common topic?\n"
     ]
    },
    {
     "name": "stderr",
     "output_type": "stream",
     "text": [
      "The attention mask and the pad token id were not set. As a consequence, you may observe unexpected behavior. Please pass your input's `attention_mask` to obtain reliable results.\n",
      "Setting `pad_token_id` to `eos_token_id`:50256 for open-end generation.\n",
      "A decoder-only architecture is being used, but right-padding was detected! For correct generation results, please set `padding_side='left'` when initializing the tokenizer.\n"
     ]
    },
    {
     "name": "stdout",
     "output_type": "stream",
     "text": [
      "Macs are a problem.\n",
      "The words 'armenian' 'israel' 'turkish' 'jew' 'arab' 'israeli' are related to which common topic?\n"
     ]
    },
    {
     "name": "stderr",
     "output_type": "stream",
     "text": [
      "The attention mask and the pad token id were not set. As a consequence, you may observe unexpected behavior. Please pass your input's `attention_mask` to obtain reliable results.\n",
      "Setting `pad_token_id` to `eos_token_id`:50256 for open-end generation.\n",
      "A decoder-only architecture is being used, but right-padding was detected! For correct generation results, please set `padding_side='left'` when initializing the tokenizer.\n"
     ]
    },
    {
     "name": "stdout",
     "output_type": "stream",
     "text": [
      "I think it's a reference to the fact that the word armenian is used in the same way as arabic.\n",
      "The words 'drive' 'card' 'system' 'problem' 'work' 'controller' are related to which common topic?\n"
     ]
    },
    {
     "name": "stderr",
     "output_type": "stream",
     "text": [
      "The attention mask and the pad token id were not set. As a consequence, you may observe unexpected behavior. Please pass your input's `attention_mask` to obtain reliable results.\n",
      "Setting `pad_token_id` to `eos_token_id`:50256 for open-end generation.\n",
      "A decoder-only architecture is being used, but right-padding was detected! For correct generation results, please set `padding_side='left'` when initializing the tokenizer.\n"
     ]
    },
    {
     "name": "stdout",
     "output_type": "stream",
     "text": [
      "I think it's the controller.\n",
      "The words 'offer' 'sale' 'sell' 'include' 'drive' 'price' are related to which common topic?\n"
     ]
    },
    {
     "name": "stderr",
     "output_type": "stream",
     "text": [
      "The attention mask and the pad token id were not set. As a consequence, you may observe unexpected behavior. Please pass your input's `attention_mask` to obtain reliable results.\n",
      "Setting `pad_token_id` to `eos_token_id`:50256 for open-end generation.\n",
      "A decoder-only architecture is being used, but right-padding was detected! For correct generation results, please set `padding_side='left'` when initializing the tokenizer.\n"
     ]
    },
    {
     "name": "stdout",
     "output_type": "stream",
     "text": [
      "I think he means the word sale.\n",
      "The words 'work' 'circuit' 'ground' 'power' 'wire' 'good' are related to which common topic?\n"
     ]
    },
    {
     "name": "stderr",
     "output_type": "stream",
     "text": [
      "The attention mask and the pad token id were not set. As a consequence, you may observe unexpected behavior. Please pass your input's `attention_mask` to obtain reliable results.\n",
      "Setting `pad_token_id` to `eos_token_id`:50256 for open-end generation.\n",
      "A decoder-only architecture is being used, but right-padding was detected! For correct generation results, please set `padding_side='left'` when initializing the tokenizer.\n"
     ]
    },
    {
     "name": "stdout",
     "output_type": "stream",
     "text": [
      "I think it's a reference to the fact that the word circuit is used in the same way as power.\n",
      "The words 'window' 'file' 'run' 'driver' 'problem' 'program' are related to which common topic?\n"
     ]
    },
    {
     "name": "stderr",
     "output_type": "stream",
     "text": [
      "The attention mask and the pad token id were not set. As a consequence, you may observe unexpected behavior. Please pass your input's `attention_mask` to obtain reliable results.\n",
      "Setting `pad_token_id` to `eos_token_id`:50256 for open-end generation.\n",
      "A decoder-only architecture is being used, but right-padding was detected! For correct generation results, please set `padding_side='left'` when initializing the tokenizer.\n"
     ]
    },
    {
     "name": "stdout",
     "output_type": "stream",
     "text": [
      "I think it's the file system.\n",
      "The words 'bike' 'ride' 'dod' 'motorcycle' 'dog' 'good' are related to which common topic?\n"
     ]
    },
    {
     "name": "stderr",
     "output_type": "stream",
     "text": [
      "The attention mask and the pad token id were not set. As a consequence, you may observe unexpected behavior. Please pass your input's `attention_mask` to obtain reliable results.\n",
      "Setting `pad_token_id` to `eos_token_id`:50256 for open-end generation.\n",
      "A decoder-only architecture is being used, but right-padding was detected! For correct generation results, please set `padding_side='left'` when initializing the tokenizer.\n"
     ]
    },
    {
     "name": "stdout",
     "output_type": "stream",
     "text": [
      "I think it's a reference to the movie'The Big Lebowski '\n",
      "The words 'game' 'team' 'win' 'hit' 'player' 'run' are related to which common topic?\n"
     ]
    },
    {
     "name": "stderr",
     "output_type": "stream",
     "text": [
      "The attention mask and the pad token id were not set. As a consequence, you may observe unexpected behavior. Please pass your input's `attention_mask` to obtain reliable results.\n",
      "Setting `pad_token_id` to `eos_token_id`:50256 for open-end generation.\n",
      "A decoder-only architecture is being used, but right-padding was detected! For correct generation results, please set `padding_side='left'` when initializing the tokenizer.\n"
     ]
    },
    {
     "name": "stdout",
     "output_type": "stream",
     "text": [
      "I think it's the same thing as the word'game '.\n",
      "The words 'god' 'christian' 'church' 'jesus' 'christ' 'sin' are related to which common topic?\n"
     ]
    },
    {
     "name": "stderr",
     "output_type": "stream",
     "text": [
      "The attention mask and the pad token id were not set. As a consequence, you may observe unexpected behavior. Please pass your input's `attention_mask` to obtain reliable results.\n",
      "Setting `pad_token_id` to `eos_token_id`:50256 for open-end generation.\n",
      "A decoder-only architecture is being used, but right-padding was detected! For correct generation results, please set `padding_side='left'` when initializing the tokenizer.\n"
     ]
    },
    {
     "name": "stdout",
     "output_type": "stream",
     "text": [
      "I think it's a reference to the fact that the bible is a collection of stories and stories.\n",
      "The words 'gun' 'government' 'weapon' 'state' 'fire' 'law' are related to which common topic?\n"
     ]
    },
    {
     "name": "stderr",
     "output_type": "stream",
     "text": [
      "The attention mask and the pad token id were not set. As a consequence, you may observe unexpected behavior. Please pass your input's `attention_mask` to obtain reliable results.\n",
      "Setting `pad_token_id` to `eos_token_id`:50256 for open-end generation.\n",
      "A decoder-only architecture is being used, but right-padding was detected! For correct generation results, please set `padding_side='left'` when initializing the tokenizer.\n"
     ]
    },
    {
     "name": "stdout",
     "output_type": "stream",
     "text": [
      "I think it's a reference to the movie The Patriot.\n",
      "The words 'image' 'file' 'graphic' 'jpeg' 'program' 'format' are related to which common topic?\n"
     ]
    },
    {
     "name": "stderr",
     "output_type": "stream",
     "text": [
      "The attention mask and the pad token id were not set. As a consequence, you may observe unexpected behavior. Please pass your input's `attention_mask` to obtain reliable results.\n",
      "Setting `pad_token_id` to `eos_token_id`:50256 for open-end generation.\n",
      "A decoder-only architecture is being used, but right-padding was detected! For correct generation results, please set `padding_side='left'` when initializing the tokenizer.\n"
     ]
    },
    {
     "name": "stdout",
     "output_type": "stream",
     "text": [
      "I think it's the file extension.\n",
      "The words 'car' 'engine' 'drive' 'good' 'buy' 'problem' are related to which common topic?\n"
     ]
    },
    {
     "name": "stderr",
     "output_type": "stream",
     "text": [
      "The attention mask and the pad token id were not set. As a consequence, you may observe unexpected behavior. Please pass your input's `attention_mask` to obtain reliable results.\n",
      "Setting `pad_token_id` to `eos_token_id`:50256 for open-end generation.\n",
      "A decoder-only architecture is being used, but right-padding was detected! For correct generation results, please set `padding_side='left'` when initializing the tokenizer.\n"
     ]
    },
    {
     "name": "stdout",
     "output_type": "stream",
     "text": [
      "I think it's the same as the word'car '.\n",
      "The words 'god' 'jesus' 'christian' 'fact' 'good' 'objective' are related to which common topic?\n"
     ]
    },
    {
     "name": "stderr",
     "output_type": "stream",
     "text": [
      "The attention mask and the pad token id were not set. As a consequence, you may observe unexpected behavior. Please pass your input's `attention_mask` to obtain reliable results.\n",
      "Setting `pad_token_id` to `eos_token_id`:50256 for open-end generation.\n",
      "A decoder-only architecture is being used, but right-padding was detected! For correct generation results, please set `padding_side='left'` when initializing the tokenizer.\n"
     ]
    },
    {
     "name": "stdout",
     "output_type": "stream",
     "text": [
      "I think it's the fact that they're all the same.\n",
      "The words 'window' 'file' 'program' 'run' 'server' 'application' are related to which common topic?\n"
     ]
    },
    {
     "name": "stderr",
     "output_type": "stream",
     "text": [
      "The attention mask and the pad token id were not set. As a consequence, you may observe unexpected behavior. Please pass your input's `attention_mask` to obtain reliable results.\n",
      "Setting `pad_token_id` to `eos_token_id`:50256 for open-end generation.\n",
      "A decoder-only architecture is being used, but right-padding was detected! For correct generation results, please set `padding_side='left'` when initializing the tokenizer.\n"
     ]
    },
    {
     "name": "stdout",
     "output_type": "stream",
     "text": [
      "I think it's a reference to the movie'The Window '.\n",
      "The words 'key' 'chip' 'encryption' 'government' 'system' 'clipper' are related to which common topic?\n",
      "I think it's a reference to the fact that the government is a key to the system.\n",
      "Results saved: DialoGPT-medium\n"
     ]
    },
    {
     "name": "stderr",
     "output_type": "stream",
     "text": [
      "Conversation input is to long (35), trimming it to (20 - 10)\n"
     ]
    },
    {
     "name": "stdout",
     "output_type": "stream",
     "text": [
      "The words 'game' 'team' 'play' 'hockey' 'player' 'win' are related to which common topic?\n"
     ]
    },
    {
     "name": "stderr",
     "output_type": "stream",
     "text": [
      "Conversation input is to long (40), trimming it to (20 - 10)\n"
     ]
    },
    {
     "name": "stdout",
     "output_type": "stream",
     "text": [
      "I'm not sure but I'm not sure what the common topic is.\n",
      "The words 'god' 'religion' 'atheist' 'moral' 'claim' 'point' are related to which common topic?\n"
     ]
    },
    {
     "name": "stderr",
     "output_type": "stream",
     "text": [
      "Conversation input is to long (39), trimming it to (20 - 10)\n"
     ]
    },
    {
     "name": "stdout",
     "output_type": "stream",
     "text": [
      "I'm not sure but I'm not sure what the common topic is.\n",
      "The words 'space' 'nasa' 'launch' 'system' 'orbit' 'earth' are related to which common topic?\n"
     ]
    },
    {
     "name": "stderr",
     "output_type": "stream",
     "text": [
      "Conversation input is to long (40), trimming it to (20 - 10)\n"
     ]
    },
    {
     "name": "stdout",
     "output_type": "stream",
     "text": [
      "I'm not sure but I'm not sure what the common topic is.\n",
      "The words 'patient' 'disease' 'medical' 'doctor' 'study' 'food' are related to which common topic?\n"
     ]
    },
    {
     "name": "stderr",
     "output_type": "stream",
     "text": [
      "Conversation input is to long (35), trimming it to (20 - 10)\n"
     ]
    },
    {
     "name": "stdout",
     "output_type": "stream",
     "text": [
      "Food is a common topic in the US.\n",
      "The words 'government' 'president' 'state' 'law' 'work' 'give' are related to which common topic?\n"
     ]
    },
    {
     "name": "stderr",
     "output_type": "stream",
     "text": [
      "Conversation input is to long (35), trimming it to (20 - 10)\n"
     ]
    },
    {
     "name": "stdout",
     "output_type": "stream",
     "text": [
      "I'm not sure but I'm not sure what the common topic is.\n",
      "The words 'mac' 'apple' 'problem' 'drive' 'system' 'work' are related to which common topic?\n"
     ]
    },
    {
     "name": "stderr",
     "output_type": "stream",
     "text": [
      "Conversation input is to long (40), trimming it to (20 - 10)\n"
     ]
    },
    {
     "name": "stdout",
     "output_type": "stream",
     "text": [
      "I'm not sure, but I'm not sure what the common topic is.\n",
      "The words 'armenian' 'israel' 'turkish' 'jew' 'arab' 'israeli' are related to which common topic?\n"
     ]
    },
    {
     "name": "stderr",
     "output_type": "stream",
     "text": [
      "Conversation input is to long (35), trimming it to (20 - 10)\n"
     ]
    },
    {
     "name": "stdout",
     "output_type": "stream",
     "text": [
      "i'm not sure but i'm a fan of r/r\n",
      "The words 'drive' 'card' 'system' 'problem' 'work' 'controller' are related to which common topic?\n"
     ]
    },
    {
     "name": "stderr",
     "output_type": "stream",
     "text": [
      "Conversation input is to long (39), trimming it to (20 - 10)\n"
     ]
    },
    {
     "name": "stdout",
     "output_type": "stream",
     "text": [
      "I'm not sure, but I'm a fan of the 'Fa\n",
      "The words 'offer' 'sale' 'sell' 'include' 'drive' 'price' are related to which common topic?\n"
     ]
    },
    {
     "name": "stderr",
     "output_type": "stream",
     "text": [
      "Conversation input is to long (35), trimming it to (20 - 10)\n"
     ]
    },
    {
     "name": "stdout",
     "output_type": "stream",
     "text": [
      "I'm not sure, but I'm not sure what the common topic is.\n",
      "The words 'work' 'circuit' 'ground' 'power' 'wire' 'good' are related to which common topic?\n"
     ]
    },
    {
     "name": "stderr",
     "output_type": "stream",
     "text": [
      "Conversation input is to long (37), trimming it to (20 - 10)\n"
     ]
    },
    {
     "name": "stdout",
     "output_type": "stream",
     "text": [
      "i'm not sure but i'm a big fan of the '\n",
      "The words 'window' 'file' 'run' 'driver' 'problem' 'program' are related to which common topic?\n"
     ]
    },
    {
     "name": "stderr",
     "output_type": "stream",
     "text": [
      "Conversation input is to long (38), trimming it to (20 - 10)\n"
     ]
    },
    {
     "name": "stdout",
     "output_type": "stream",
     "text": [
      "I'm not sure but I'm not sure what the common topic is.\n",
      "The words 'bike' 'ride' 'dod' 'motorcycle' 'dog' 'good' are related to which common topic?\n"
     ]
    },
    {
     "name": "stderr",
     "output_type": "stream",
     "text": [
      "Conversation input is to long (34), trimming it to (20 - 10)\n"
     ]
    },
    {
     "name": "stdout",
     "output_type": "stream",
     "text": [
      "i'm not sure but i'm a big fan of the '\n",
      "The words 'game' 'team' 'win' 'hit' 'player' 'run' are related to which common topic?\n"
     ]
    },
    {
     "name": "stderr",
     "output_type": "stream",
     "text": [
      "Conversation input is to long (40), trimming it to (20 - 10)\n"
     ]
    },
    {
     "name": "stdout",
     "output_type": "stream",
     "text": [
      "I'm not sure, but I'm not sure if it's related to\n",
      "The words 'god' 'christian' 'church' 'jesus' 'christ' 'sin' are related to which common topic?\n"
     ]
    },
    {
     "name": "stderr",
     "output_type": "stream",
     "text": [
      "Conversation input is to long (36), trimming it to (20 - 10)\n"
     ]
    },
    {
     "name": "stdout",
     "output_type": "stream",
     "text": [
      "I'm not sure but I'm sure it's a common topic.\n",
      "The words 'gun' 'government' 'weapon' 'state' 'fire' 'law' are related to which common topic?\n"
     ]
    },
    {
     "name": "stderr",
     "output_type": "stream",
     "text": [
      "Conversation input is to long (37), trimming it to (20 - 10)\n"
     ]
    },
    {
     "name": "stdout",
     "output_type": "stream",
     "text": [
      "Law is a common topic in the US.\n",
      "The words 'image' 'file' 'graphic' 'jpeg' 'program' 'format' are related to which common topic?\n"
     ]
    },
    {
     "name": "stderr",
     "output_type": "stream",
     "text": [
      "Conversation input is to long (34), trimming it to (20 - 10)\n"
     ]
    },
    {
     "name": "stdout",
     "output_type": "stream",
     "text": [
      "I'm not sure but I'm not sure what the common topic is.\n",
      "The words 'car' 'engine' 'drive' 'good' 'buy' 'problem' are related to which common topic?\n"
     ]
    },
    {
     "name": "stderr",
     "output_type": "stream",
     "text": [
      "Conversation input is to long (40), trimming it to (20 - 10)\n"
     ]
    },
    {
     "name": "stdout",
     "output_type": "stream",
     "text": [
      "I'm not sure but I'm not sure what the common topic is.\n",
      "The words 'god' 'jesus' 'christian' 'fact' 'good' 'objective' are related to which common topic?\n"
     ]
    },
    {
     "name": "stderr",
     "output_type": "stream",
     "text": [
      "Conversation input is to long (36), trimming it to (20 - 10)\n"
     ]
    },
    {
     "name": "stdout",
     "output_type": "stream",
     "text": [
      "I'm not sure but I'm not sure what the common topic is.\n",
      "The words 'window' 'file' 'program' 'run' 'server' 'application' are related to which common topic?\n"
     ]
    },
    {
     "name": "stderr",
     "output_type": "stream",
     "text": [
      "Conversation input is to long (38), trimming it to (20 - 10)\n"
     ]
    },
    {
     "name": "stdout",
     "output_type": "stream",
     "text": [
      "I'm not sure but I'm not sure if it's related to the\n",
      "The words 'key' 'chip' 'encryption' 'government' 'system' 'clipper' are related to which common topic?\n",
      "I'm not sure but I'm not sure.\n",
      "Results saved: GODEL-v1_1-base-seq2seq\n"
     ]
    },
    {
     "name": "stderr",
     "output_type": "stream",
     "text": [
      "c:\\Users\\Virginia\\anaconda3\\lib\\site-packages\\transformers\\generation\\utils.py:1186: UserWarning: You have modified the pretrained model configuration to control generation. This is a deprecated strategy to control generation and will be removed soon, in a future version. Please use a generation configuration file (see https://huggingface.co/docs/transformers/main_classes/text_generation)\n",
      "  warnings.warn(\n",
      "The attention mask and the pad token id were not set. As a consequence, you may observe unexpected behavior. Please pass your input's `attention_mask` to obtain reliable results.\n",
      "Setting `pad_token_id` to `eos_token_id`:50256 for open-end generation.\n",
      "A decoder-only architecture is being used, but right-padding was detected! For correct generation results, please set `padding_side='left'` when initializing the tokenizer.\n"
     ]
    },
    {
     "name": "stdout",
     "output_type": "stream",
     "text": [
      "The words 'game' 'team' 'play' 'hockey' 'player' 'win' are related to which common topic?\n"
     ]
    },
    {
     "name": "stderr",
     "output_type": "stream",
     "text": [
      "The attention mask and the pad token id were not set. As a consequence, you may observe unexpected behavior. Please pass your input's `attention_mask` to obtain reliable results.\n",
      "Setting `pad_token_id` to `eos_token_id`:50256 for open-end generation.\n",
      "A decoder-only architecture is being used, but right-padding was detected! For correct generation results, please set `padding_side='left'` when initializing the tokenizer.\n"
     ]
    },
    {
     "name": "stdout",
     "output_type": "stream",
     "text": [
      "I'm not sure what you're trying to say.\n",
      "The words 'god' 'religion' 'atheist' 'moral' 'claim' 'point' are related to which common topic?\n"
     ]
    },
    {
     "name": "stderr",
     "output_type": "stream",
     "text": [
      "The attention mask and the pad token id were not set. As a consequence, you may observe unexpected behavior. Please pass your input's `attention_mask` to obtain reliable results.\n",
      "Setting `pad_token_id` to `eos_token_id`:50256 for open-end generation.\n",
      "A decoder-only architecture is being used, but right-padding was detected! For correct generation results, please set `padding_side='left'` when initializing the tokenizer.\n"
     ]
    },
    {
     "name": "stdout",
     "output_type": "stream",
     "text": [
      "I'm not sure what you're trying to say.\n",
      "The words 'space' 'nasa' 'launch' 'system' 'orbit' 'earth' are related to which common topic?\n"
     ]
    },
    {
     "name": "stderr",
     "output_type": "stream",
     "text": [
      "The attention mask and the pad token id were not set. As a consequence, you may observe unexpected behavior. Please pass your input's `attention_mask` to obtain reliable results.\n",
      "Setting `pad_token_id` to `eos_token_id`:50256 for open-end generation.\n",
      "A decoder-only architecture is being used, but right-padding was detected! For correct generation results, please set `padding_side='left'` when initializing the tokenizer.\n"
     ]
    },
    {
     "name": "stdout",
     "output_type": "stream",
     "text": [
      "I'm not sure what you mean.\n",
      "The words 'patient' 'disease' 'medical' 'doctor' 'study' 'food' are related to which common topic?\n"
     ]
    },
    {
     "name": "stderr",
     "output_type": "stream",
     "text": [
      "The attention mask and the pad token id were not set. As a consequence, you may observe unexpected behavior. Please pass your input's `attention_mask` to obtain reliable results.\n",
      "Setting `pad_token_id` to `eos_token_id`:50256 for open-end generation.\n",
      "A decoder-only architecture is being used, but right-padding was detected! For correct generation results, please set `padding_side='left'` when initializing the tokenizer.\n"
     ]
    },
    {
     "name": "stdout",
     "output_type": "stream",
     "text": [
      "I'm not sure what you mean by that.\n",
      "The words 'government' 'president' 'state' 'law' 'work' 'give' are related to which common topic?\n"
     ]
    },
    {
     "name": "stderr",
     "output_type": "stream",
     "text": [
      "The attention mask and the pad token id were not set. As a consequence, you may observe unexpected behavior. Please pass your input's `attention_mask` to obtain reliable results.\n",
      "Setting `pad_token_id` to `eos_token_id`:50256 for open-end generation.\n",
      "A decoder-only architecture is being used, but right-padding was detected! For correct generation results, please set `padding_side='left'` when initializing the tokenizer.\n"
     ]
    },
    {
     "name": "stdout",
     "output_type": "stream",
     "text": [
      "I'm not sure what you mean.\n",
      "The words 'mac' 'apple' 'problem' 'drive' 'system' 'work' are related to which common topic?\n"
     ]
    },
    {
     "name": "stderr",
     "output_type": "stream",
     "text": [
      "The attention mask and the pad token id were not set. As a consequence, you may observe unexpected behavior. Please pass your input's `attention_mask` to obtain reliable results.\n",
      "Setting `pad_token_id` to `eos_token_id`:50256 for open-end generation.\n",
      "A decoder-only architecture is being used, but right-padding was detected! For correct generation results, please set `padding_side='left'` when initializing the tokenizer.\n"
     ]
    },
    {
     "name": "stdout",
     "output_type": "stream",
     "text": [
      "I'm not sure what you mean by this.\n",
      "The words 'armenian' 'israel' 'turkish' 'jew' 'arab' 'israeli' are related to which common topic?\n"
     ]
    },
    {
     "name": "stderr",
     "output_type": "stream",
     "text": [
      "The attention mask and the pad token id were not set. As a consequence, you may observe unexpected behavior. Please pass your input's `attention_mask` to obtain reliable results.\n",
      "Setting `pad_token_id` to `eos_token_id`:50256 for open-end generation.\n",
      "A decoder-only architecture is being used, but right-padding was detected! For correct generation results, please set `padding_side='left'` when initializing the tokenizer.\n"
     ]
    },
    {
     "name": "stdout",
     "output_type": "stream",
     "text": [
      "I'm not sure if you're joking or not, but I'm pretty sure that's not the case.\n",
      "The words 'drive' 'card' 'system' 'problem' 'work' 'controller' are related to which common topic?\n"
     ]
    },
    {
     "name": "stderr",
     "output_type": "stream",
     "text": [
      "The attention mask and the pad token id were not set. As a consequence, you may observe unexpected behavior. Please pass your input's `attention_mask` to obtain reliable results.\n",
      "Setting `pad_token_id` to `eos_token_id`:50256 for open-end generation.\n",
      "A decoder-only architecture is being used, but right-padding was detected! For correct generation results, please set `padding_side='left'` when initializing the tokenizer.\n"
     ]
    },
    {
     "name": "stdout",
     "output_type": "stream",
     "text": [
      "I'm not sure what you mean by this.\n",
      "The words 'offer' 'sale' 'sell' 'include' 'drive' 'price' are related to which common topic?\n"
     ]
    },
    {
     "name": "stderr",
     "output_type": "stream",
     "text": [
      "The attention mask and the pad token id were not set. As a consequence, you may observe unexpected behavior. Please pass your input's `attention_mask` to obtain reliable results.\n",
      "Setting `pad_token_id` to `eos_token_id`:50256 for open-end generation.\n",
      "A decoder-only architecture is being used, but right-padding was detected! For correct generation results, please set `padding_side='left'` when initializing the tokenizer.\n"
     ]
    },
    {
     "name": "stdout",
     "output_type": "stream",
     "text": [
      "I'm not sure what you mean by this.\n",
      "The words 'work' 'circuit' 'ground' 'power' 'wire' 'good' are related to which common topic?\n"
     ]
    },
    {
     "name": "stderr",
     "output_type": "stream",
     "text": [
      "The attention mask and the pad token id were not set. As a consequence, you may observe unexpected behavior. Please pass your input's `attention_mask` to obtain reliable results.\n",
      "Setting `pad_token_id` to `eos_token_id`:50256 for open-end generation.\n",
      "A decoder-only architecture is being used, but right-padding was detected! For correct generation results, please set `padding_side='left'` when initializing the tokenizer.\n"
     ]
    },
    {
     "name": "stdout",
     "output_type": "stream",
     "text": [
      "I think you're confusing the two.\n",
      "The words 'window' 'file' 'run' 'driver' 'problem' 'program' are related to which common topic?\n"
     ]
    },
    {
     "name": "stderr",
     "output_type": "stream",
     "text": [
      "The attention mask and the pad token id were not set. As a consequence, you may observe unexpected behavior. Please pass your input's `attention_mask` to obtain reliable results.\n",
      "Setting `pad_token_id` to `eos_token_id`:50256 for open-end generation.\n",
      "A decoder-only architecture is being used, but right-padding was detected! For correct generation results, please set `padding_side='left'` when initializing the tokenizer.\n"
     ]
    },
    {
     "name": "stdout",
     "output_type": "stream",
     "text": [
      "I'm not sure what you mean.\n",
      "The words 'bike' 'ride' 'dod' 'motorcycle' 'dog' 'good' are related to which common topic?\n"
     ]
    },
    {
     "name": "stderr",
     "output_type": "stream",
     "text": [
      "The attention mask and the pad token id were not set. As a consequence, you may observe unexpected behavior. Please pass your input's `attention_mask` to obtain reliable results.\n",
      "Setting `pad_token_id` to `eos_token_id`:50256 for open-end generation.\n",
      "A decoder-only architecture is being used, but right-padding was detected! For correct generation results, please set `padding_side='left'` when initializing the tokenizer.\n"
     ]
    },
    {
     "name": "stdout",
     "output_type": "stream",
     "text": [
      "I'm not sure what you're trying to say.\n",
      "The words 'game' 'team' 'win' 'hit' 'player' 'run' are related to which common topic?\n"
     ]
    },
    {
     "name": "stderr",
     "output_type": "stream",
     "text": [
      "The attention mask and the pad token id were not set. As a consequence, you may observe unexpected behavior. Please pass your input's `attention_mask` to obtain reliable results.\n",
      "Setting `pad_token_id` to `eos_token_id`:50256 for open-end generation.\n",
      "A decoder-only architecture is being used, but right-padding was detected! For correct generation results, please set `padding_side='left'` when initializing the tokenizer.\n"
     ]
    },
    {
     "name": "stdout",
     "output_type": "stream",
     "text": [
      "I think you're confusing the two.\n",
      "The words 'god' 'christian' 'church' 'jesus' 'christ' 'sin' are related to which common topic?\n"
     ]
    },
    {
     "name": "stderr",
     "output_type": "stream",
     "text": [
      "The attention mask and the pad token id were not set. As a consequence, you may observe unexpected behavior. Please pass your input's `attention_mask` to obtain reliable results.\n",
      "Setting `pad_token_id` to `eos_token_id`:50256 for open-end generation.\n",
      "A decoder-only architecture is being used, but right-padding was detected! For correct generation results, please set `padding_side='left'` when initializing the tokenizer.\n"
     ]
    },
    {
     "name": "stdout",
     "output_type": "stream",
     "text": [
      "I'm not sure if you're joking or not, but I'm pretty sure it's a joke.\n",
      "The words 'gun' 'government' 'weapon' 'state' 'fire' 'law' are related to which common topic?\n"
     ]
    },
    {
     "name": "stderr",
     "output_type": "stream",
     "text": [
      "The attention mask and the pad token id were not set. As a consequence, you may observe unexpected behavior. Please pass your input's `attention_mask` to obtain reliable results.\n",
      "Setting `pad_token_id` to `eos_token_id`:50256 for open-end generation.\n",
      "A decoder-only architecture is being used, but right-padding was detected! For correct generation results, please set `padding_side='left'` when initializing the tokenizer.\n"
     ]
    },
    {
     "name": "stdout",
     "output_type": "stream",
     "text": [
      "I'm not sure what you mean by that.\n",
      "The words 'image' 'file' 'graphic' 'jpeg' 'program' 'format' are related to which common topic?\n"
     ]
    },
    {
     "name": "stderr",
     "output_type": "stream",
     "text": [
      "The attention mask and the pad token id were not set. As a consequence, you may observe unexpected behavior. Please pass your input's `attention_mask` to obtain reliable results.\n",
      "Setting `pad_token_id` to `eos_token_id`:50256 for open-end generation.\n",
      "A decoder-only architecture is being used, but right-padding was detected! For correct generation results, please set `padding_side='left'` when initializing the tokenizer.\n"
     ]
    },
    {
     "name": "stdout",
     "output_type": "stream",
     "text": [
      "I'm not sure what you mean by that.\n",
      "The words 'car' 'engine' 'drive' 'good' 'buy' 'problem' are related to which common topic?\n"
     ]
    },
    {
     "name": "stderr",
     "output_type": "stream",
     "text": [
      "The attention mask and the pad token id were not set. As a consequence, you may observe unexpected behavior. Please pass your input's `attention_mask` to obtain reliable results.\n",
      "Setting `pad_token_id` to `eos_token_id`:50256 for open-end generation.\n",
      "A decoder-only architecture is being used, but right-padding was detected! For correct generation results, please set `padding_side='left'` when initializing the tokenizer.\n"
     ]
    },
    {
     "name": "stdout",
     "output_type": "stream",
     "text": [
      "I'm not sure what you mean by this.\n",
      "The words 'god' 'jesus' 'christian' 'fact' 'good' 'objective' are related to which common topic?\n"
     ]
    },
    {
     "name": "stderr",
     "output_type": "stream",
     "text": [
      "The attention mask and the pad token id were not set. As a consequence, you may observe unexpected behavior. Please pass your input's `attention_mask` to obtain reliable results.\n",
      "Setting `pad_token_id` to `eos_token_id`:50256 for open-end generation.\n",
      "A decoder-only architecture is being used, but right-padding was detected! For correct generation results, please set `padding_side='left'` when initializing the tokenizer.\n"
     ]
    },
    {
     "name": "stdout",
     "output_type": "stream",
     "text": [
      "I'm not sure what you're trying to say.\n",
      "The words 'window' 'file' 'program' 'run' 'server' 'application' are related to which common topic?\n"
     ]
    },
    {
     "name": "stderr",
     "output_type": "stream",
     "text": [
      "The attention mask and the pad token id were not set. As a consequence, you may observe unexpected behavior. Please pass your input's `attention_mask` to obtain reliable results.\n",
      "Setting `pad_token_id` to `eos_token_id`:50256 for open-end generation.\n",
      "A decoder-only architecture is being used, but right-padding was detected! For correct generation results, please set `padding_side='left'` when initializing the tokenizer.\n"
     ]
    },
    {
     "name": "stdout",
     "output_type": "stream",
     "text": [
      "I'm not sure what you mean.\n",
      "The words 'key' 'chip' 'encryption' 'government' 'system' 'clipper' are related to which common topic?\n",
      "I'm not sure what you're trying to say.\n",
      "Results saved: DialoGPT-small\n",
      "The words 'game' 'team' 'play' 'hockey' 'player' 'win' are related to which common topic?\n",
      "i'm not sure, but i do know that the word \" game \" was first recorded in the 10th century.\n",
      "The words 'god' 'religion' 'atheist' 'moral' 'claim' 'point' are related to which common topic?\n",
      "i'm not sure, but i do know that the word \" god \" was first recorded in the 10th century.\n",
      "The words 'space' 'nasa' 'launch' 'system' 'orbit' 'earth' are related to which common topic?\n",
      "i'm not sure, but i do know that the term \" space \" was first recorded in the 10th century.\n",
      "The words 'patient' 'disease' 'medical' 'doctor' 'study' 'food' are related to which common topic?\n",
      "i'm not sure, but i do know that the word \" disease \" was first recorded in the 10th century.\n",
      "The words 'government' 'president' 'state' 'law' 'work' 'give' are related to which common topic?\n",
      "i'm not sure what common topic you're talking about. what do you mean?\n",
      "The words 'mac' 'apple' 'problem' 'drive' 'system' 'work' are related to which common topic?\n",
      "i don't have a mac, but i do have a computer that i use for work.\n",
      "The words 'armenian' 'israel' 'turkish' 'jew' 'arab' 'israeli' are related to which common topic?\n",
      "i'm not sure, but i do know that israel is the largest country in the world.\n",
      "The words 'drive' 'card' 'system' 'problem' 'work' 'controller' are related to which common topic?\n",
      "i'm not sure what common topic they are related to, but i do know that i've never had a problem with my system.\n",
      "The words 'offer' 'sale' 'sell' 'include' 'drive' 'price' are related to which common topic?\n",
      "i'm not sure what the common topic is, but i do know that the word \" sale \" was first used in the 19th century.\n",
      "The words 'work' 'circuit' 'ground' 'power' 'wire' 'good' are related to which common topic?\n",
      "i'm not sure what common topic you're talking about, but i do know that the ground is the most important part of the circuit.\n",
      "The words 'window' 'file' 'run' 'driver' 'problem' 'program' are related to which common topic?\n",
      "i don't know. i'm not sure what the problem is. i can't figure it out.\n",
      "The words 'bike' 'ride' 'dod' 'motorcycle' 'dog' 'good' are related to which common topic?\n",
      "i'm not sure, but i do know that the word \" bike \" was first recorded in the 10th century.\n",
      "The words 'game' 'team' 'win' 'hit' 'player' 'run' are related to which common topic?\n",
      "the word \" game \" is related to the common topic of which common topics are related to.\n",
      "The words 'god' 'christian' 'church' 'jesus' 'christ' 'sin' are related to which common topic?\n",
      "i'm not sure, but i do know that the church of jesus christ of latter - day saints is the largest church in the world.\n",
      "The words 'gun' 'government' 'weapon' 'state' 'fire' 'law' are related to which common topic?\n",
      "i'm not sure, but i do know that the term \" gun \" was first recorded in the 10th century.\n",
      "The words 'image' 'file' 'graphic' 'jpeg' 'program' 'format' are related to which common topic?\n",
      "the word \" image \" is related to the common topic of which common topics are related to.\n",
      "The words 'car' 'engine' 'drive' 'good' 'buy' 'problem' are related to which common topic?\n",
      "i'm not sure, but i do know that i have a problem with my car.\n",
      "The words 'god' 'jesus' 'christian' 'fact' 'good' 'objective' are related to which common topic?\n",
      "i'm not sure, but i do know that the bible is a collection of sacred texts.\n",
      "The words 'window' 'file' 'program' 'run' 'server' 'application' are related to which common topic?\n",
      "the word \" window \" is related to the common topic of which common topics are related to.\n",
      "The words 'key' 'chip' 'encryption' 'government' 'system' 'clipper' are related to which common topic?\n",
      "i'm not sure what you mean by common topic, but i do know that the word \" key \" was first used in the 19th century.\n",
      "Results saved: blenderbot_small-90M\n"
     ]
    },
    {
     "name": "stderr",
     "output_type": "stream",
     "text": [
      "Special tokens have been added in the vocabulary, make sure the associated word embeddings are fine-tuned or trained.\n",
      "Special tokens have been added in the vocabulary, make sure the associated word embeddings are fine-tuned or trained.\n"
     ]
    },
    {
     "name": "stdout",
     "output_type": "stream",
     "text": [
      "The words 'game' 'team' 'play' 'hockey' 'player' 'win' are related to which common topic?\n",
      " The word \"game\" is derived from the Latin word \"gamus\" which means to play.\n",
      "The words 'god' 'religion' 'atheist' 'moral' 'claim' 'point' are related to which common topic?\n",
      " Religion, morality, and the point of atheism are all related to morality.\n",
      "The words 'space' 'nasa' 'launch' 'system' 'orbit' 'earth' are related to which common topic?\n",
      " The word \"space\" is derived from the Greek words \"spheroid\" and \"spatio\"\n",
      "The words 'patient' 'disease' 'medical' 'doctor' 'study' 'food' are related to which common topic?\n",
      " I'm not sure, but I do know that the word patient is derived from the Latin word for patient.\n",
      "The words 'government' 'president' 'state' 'law' 'work' 'give' are related to which common topic?\n",
      " The president is the head of the executive branch, the legislative branch and the judicial branch.\n",
      "The words 'mac' 'apple' 'problem' 'drive' 'system' 'work' are related to which common topic?\n",
      " I'm not sure, but I do know that the Macintosh computer was first released in 1977.\n",
      "The words 'armenian' 'israel' 'turkish' 'jew' 'arab' 'israeli' are related to which common topic?\n",
      " The word \"Israel\" is derived from the Hebrew word \"El-Israël\" which means \"Land of the Jews\".\n",
      "The words 'drive' 'card' 'system' 'problem' 'work' 'controller' are related to which common topic?\n",
      " I'm not sure, but I do know that the word \"drive\" was first recorded in the 10th century.\n",
      "The words 'offer' 'sale' 'sell' 'include' 'drive' 'price' are related to which common topic?\n",
      " I'm not sure, but I do know that \"offer\" is a noun and \"sale\" is an adjective.\n",
      "The words 'work' 'circuit' 'ground' 'power' 'wire' 'good' are related to which common topic?\n",
      " I'm not sure, but I do know that the word \"work\" was first recorded in the 10th century.\n",
      "The words 'window' 'file' 'run' 'driver' 'problem' 'program' are related to which common topic?\n",
      " I'm not sure, but I do know that Windows is the most widely used operating system in the world.\n",
      "The words 'bike' 'ride' 'dod' 'motorcycle' 'dog' 'good' are related to which common topic?\n",
      " The word \"bike\" is derived from the Latin word \"bi\" meaning two and \"cycle\" meaning one.\n",
      "The words 'game' 'team' 'win' 'hit' 'player' 'run' are related to which common topic?\n",
      " The word \"game\" is derived from the Latin word \"gamus\" which means \"to play\"\n",
      "The words 'god' 'christian' 'church' 'jesus' 'christ' 'sin' are related to which common topic?\n",
      " Christians believe that Jesus is the Son of God and that he died for our sins.\n",
      "The words 'gun' 'government' 'weapon' 'state' 'fire' 'law' are related to which common topic?\n",
      " The second amendment to the constitution of the united states of america.\n",
      "The words 'image' 'file' 'graphic' 'jpeg' 'program' 'format' are related to which common topic?\n",
      " I'm not sure, but I do know that the word \"image\" was first recorded in the 10th century.\n",
      "The words 'car' 'engine' 'drive' 'good' 'buy' 'problem' are related to which common topic?\n",
      " I'm not sure, but I do know that the word \"car\" was first recorded in the 10th century.\n",
      "The words 'god' 'jesus' 'christian' 'fact' 'good' 'objective' are related to which common topic?\n",
      " I'm not sure what you mean by that, but I do know that Christianity is the world's largest religion with over 2.4 billion followers.\n",
      "The words 'window' 'file' 'program' 'run' 'server' 'application' are related to which common topic?\n",
      " I'm not sure, but I do know that Windows is the most widely used operating system in the world.\n",
      "The words 'key' 'chip' 'encryption' 'government' 'system' 'clipper' are related to which common topic?\n",
      " Key, chip, encryption, system and clipper are all the same thing.\n",
      "Results saved: blenderbot-3B\n"
     ]
    },
    {
     "name": "stderr",
     "output_type": "stream",
     "text": [
      "c:\\Users\\Virginia\\anaconda3\\lib\\site-packages\\transformers\\generation\\utils.py:1186: UserWarning: You have modified the pretrained model configuration to control generation. This is a deprecated strategy to control generation and will be removed soon, in a future version. Please use a generation configuration file (see https://huggingface.co/docs/transformers/main_classes/text_generation)\n",
      "  warnings.warn(\n",
      "The attention mask and the pad token id were not set. As a consequence, you may observe unexpected behavior. Please pass your input's `attention_mask` to obtain reliable results.\n",
      "Setting `pad_token_id` to `eos_token_id`:50256 for open-end generation.\n",
      "A decoder-only architecture is being used, but right-padding was detected! For correct generation results, please set `padding_side='left'` when initializing the tokenizer.\n"
     ]
    },
    {
     "name": "stdout",
     "output_type": "stream",
     "text": [
      "The words 'game' 'team' 'play' 'hockey' 'player' 'win' are related to which common topic?\n"
     ]
    },
    {
     "name": "stderr",
     "output_type": "stream",
     "text": [
      "The attention mask and the pad token id were not set. As a consequence, you may observe unexpected behavior. Please pass your input's `attention_mask` to obtain reliable results.\n",
      "Setting `pad_token_id` to `eos_token_id`:50256 for open-end generation.\n",
      "A decoder-only architecture is being used, but right-padding was detected! For correct generation results, please set `padding_side='left'` when initializing the tokenizer.\n"
     ]
    },
    {
     "name": "stdout",
     "output_type": "stream",
     "text": [
      "I think it's a reference to the word'win '.\n",
      "The words 'god' 'religion' 'atheist' 'moral' 'claim' 'point' are related to which common topic?\n"
     ]
    },
    {
     "name": "stderr",
     "output_type": "stream",
     "text": [
      "The attention mask and the pad token id were not set. As a consequence, you may observe unexpected behavior. Please pass your input's `attention_mask` to obtain reliable results.\n",
      "Setting `pad_token_id` to `eos_token_id`:50256 for open-end generation.\n",
      "A decoder-only architecture is being used, but right-padding was detected! For correct generation results, please set `padding_side='left'` when initializing the tokenizer.\n"
     ]
    },
    {
     "name": "stdout",
     "output_type": "stream",
     "text": [
      "I think he means that the claim is that the Bible is the only book that is true.\n",
      "The words 'space' 'nasa' 'launch' 'system' 'orbit' 'earth' are related to which common topic?\n"
     ]
    },
    {
     "name": "stderr",
     "output_type": "stream",
     "text": [
      "The attention mask and the pad token id were not set. As a consequence, you may observe unexpected behavior. Please pass your input's `attention_mask` to obtain reliable results.\n",
      "Setting `pad_token_id` to `eos_token_id`:50256 for open-end generation.\n",
      "A decoder-only architecture is being used, but right-padding was detected! For correct generation results, please set `padding_side='left'` when initializing the tokenizer.\n"
     ]
    },
    {
     "name": "stdout",
     "output_type": "stream",
     "text": [
      "I think it's related to the fact that the word'orbit'is used in the title of the post.\n",
      "The words 'patient' 'disease' 'medical' 'doctor' 'study' 'food' are related to which common topic?\n"
     ]
    },
    {
     "name": "stderr",
     "output_type": "stream",
     "text": [
      "The attention mask and the pad token id were not set. As a consequence, you may observe unexpected behavior. Please pass your input's `attention_mask` to obtain reliable results.\n",
      "Setting `pad_token_id` to `eos_token_id`:50256 for open-end generation.\n",
      "A decoder-only architecture is being used, but right-padding was detected! For correct generation results, please set `padding_side='left'` when initializing the tokenizer.\n"
     ]
    },
    {
     "name": "stdout",
     "output_type": "stream",
     "text": [
      "I think it's a reference to the movie The Last Airbender.\n",
      "The words 'government' 'president' 'state' 'law' 'work' 'give' are related to which common topic?\n"
     ]
    },
    {
     "name": "stderr",
     "output_type": "stream",
     "text": [
      "The attention mask and the pad token id were not set. As a consequence, you may observe unexpected behavior. Please pass your input's `attention_mask` to obtain reliable results.\n",
      "Setting `pad_token_id` to `eos_token_id`:50256 for open-end generation.\n",
      "A decoder-only architecture is being used, but right-padding was detected! For correct generation results, please set `padding_side='left'` when initializing the tokenizer.\n"
     ]
    },
    {
     "name": "stdout",
     "output_type": "stream",
     "text": [
      "I think he means'government'as in'government '.\n",
      "The words 'mac' 'apple' 'problem' 'drive' 'system' 'work' are related to which common topic?\n"
     ]
    },
    {
     "name": "stderr",
     "output_type": "stream",
     "text": [
      "The attention mask and the pad token id were not set. As a consequence, you may observe unexpected behavior. Please pass your input's `attention_mask` to obtain reliable results.\n",
      "Setting `pad_token_id` to `eos_token_id`:50256 for open-end generation.\n",
      "A decoder-only architecture is being used, but right-padding was detected! For correct generation results, please set `padding_side='left'` when initializing the tokenizer.\n"
     ]
    },
    {
     "name": "stdout",
     "output_type": "stream",
     "text": [
      "I think it's a reference to the Mac and Apple products.\n",
      "The words 'armenian' 'israel' 'turkish' 'jew' 'arab' 'israeli' are related to which common topic?\n"
     ]
    },
    {
     "name": "stderr",
     "output_type": "stream",
     "text": [
      "The attention mask and the pad token id were not set. As a consequence, you may observe unexpected behavior. Please pass your input's `attention_mask` to obtain reliable results.\n",
      "Setting `pad_token_id` to `eos_token_id`:50256 for open-end generation.\n",
      "A decoder-only architecture is being used, but right-padding was detected! For correct generation results, please set `padding_side='left'` when initializing the tokenizer.\n"
     ]
    },
    {
     "name": "stdout",
     "output_type": "stream",
     "text": [
      "The common topic is the fact that the word Israel is used in the title of the post.\n",
      "The words 'drive' 'card' 'system' 'problem' 'work' 'controller' are related to which common topic?\n"
     ]
    },
    {
     "name": "stderr",
     "output_type": "stream",
     "text": [
      "The attention mask and the pad token id were not set. As a consequence, you may observe unexpected behavior. Please pass your input's `attention_mask` to obtain reliable results.\n",
      "Setting `pad_token_id` to `eos_token_id`:50256 for open-end generation.\n",
      "A decoder-only architecture is being used, but right-padding was detected! For correct generation results, please set `padding_side='left'` when initializing the tokenizer.\n"
     ]
    },
    {
     "name": "stdout",
     "output_type": "stream",
     "text": [
      "I think he means the problem of the problem.\n",
      "The words 'offer' 'sale' 'sell' 'include' 'drive' 'price' are related to which common topic?\n"
     ]
    },
    {
     "name": "stderr",
     "output_type": "stream",
     "text": [
      "The attention mask and the pad token id were not set. As a consequence, you may observe unexpected behavior. Please pass your input's `attention_mask` to obtain reliable results.\n",
      "Setting `pad_token_id` to `eos_token_id`:50256 for open-end generation.\n",
      "A decoder-only architecture is being used, but right-padding was detected! For correct generation results, please set `padding_side='left'` when initializing the tokenizer.\n"
     ]
    },
    {
     "name": "stdout",
     "output_type": "stream",
     "text": [
      "I think he means the word'offer '.\n",
      "The words 'work' 'circuit' 'ground' 'power' 'wire' 'good' are related to which common topic?\n"
     ]
    },
    {
     "name": "stderr",
     "output_type": "stream",
     "text": [
      "The attention mask and the pad token id were not set. As a consequence, you may observe unexpected behavior. Please pass your input's `attention_mask` to obtain reliable results.\n",
      "Setting `pad_token_id` to `eos_token_id`:50256 for open-end generation.\n",
      "A decoder-only architecture is being used, but right-padding was detected! For correct generation results, please set `padding_side='left'` when initializing the tokenizer.\n"
     ]
    },
    {
     "name": "stdout",
     "output_type": "stream",
     "text": [
      "I think it's a reference to the word'circuit '.\n",
      "The words 'window' 'file' 'run' 'driver' 'problem' 'program' are related to which common topic?\n"
     ]
    },
    {
     "name": "stderr",
     "output_type": "stream",
     "text": [
      "The attention mask and the pad token id were not set. As a consequence, you may observe unexpected behavior. Please pass your input's `attention_mask` to obtain reliable results.\n",
      "Setting `pad_token_id` to `eos_token_id`:50256 for open-end generation.\n",
      "A decoder-only architecture is being used, but right-padding was detected! For correct generation results, please set `padding_side='left'` when initializing the tokenizer.\n"
     ]
    },
    {
     "name": "stdout",
     "output_type": "stream",
     "text": [
      "I think he means the problem is a problem.\n",
      "The words 'bike' 'ride' 'dod' 'motorcycle' 'dog' 'good' are related to which common topic?\n"
     ]
    },
    {
     "name": "stderr",
     "output_type": "stream",
     "text": [
      "The attention mask and the pad token id were not set. As a consequence, you may observe unexpected behavior. Please pass your input's `attention_mask` to obtain reliable results.\n",
      "Setting `pad_token_id` to `eos_token_id`:50256 for open-end generation.\n",
      "A decoder-only architecture is being used, but right-padding was detected! For correct generation results, please set `padding_side='left'` when initializing the tokenizer.\n"
     ]
    },
    {
     "name": "stdout",
     "output_type": "stream",
     "text": [
      "I think it's a reference to the song'The Last of the Mohicans'by the band The Last of the Mohicans.\n",
      "The words 'game' 'team' 'win' 'hit' 'player' 'run' are related to which common topic?\n"
     ]
    },
    {
     "name": "stderr",
     "output_type": "stream",
     "text": [
      "The attention mask and the pad token id were not set. As a consequence, you may observe unexpected behavior. Please pass your input's `attention_mask` to obtain reliable results.\n",
      "Setting `pad_token_id` to `eos_token_id`:50256 for open-end generation.\n",
      "A decoder-only architecture is being used, but right-padding was detected! For correct generation results, please set `padding_side='left'` when initializing the tokenizer.\n"
     ]
    },
    {
     "name": "stdout",
     "output_type": "stream",
     "text": [
      "I think it's a reference to the game'Runescape '.\n",
      "The words 'god' 'christian' 'church' 'jesus' 'christ' 'sin' are related to which common topic?\n"
     ]
    },
    {
     "name": "stderr",
     "output_type": "stream",
     "text": [
      "The attention mask and the pad token id were not set. As a consequence, you may observe unexpected behavior. Please pass your input's `attention_mask` to obtain reliable results.\n",
      "Setting `pad_token_id` to `eos_token_id`:50256 for open-end generation.\n",
      "A decoder-only architecture is being used, but right-padding was detected! For correct generation results, please set `padding_side='left'` when initializing the tokenizer.\n"
     ]
    },
    {
     "name": "stdout",
     "output_type": "stream",
     "text": [
      "I think it's the word'''''''''''''''''''''''''''''''''''''''''''''''''''''''''''''''''''''''''''''''''''''''''' '\n",
      "The words 'gun' 'government' 'weapon' 'state' 'fire' 'law' are related to which common topic?\n"
     ]
    },
    {
     "name": "stderr",
     "output_type": "stream",
     "text": [
      "The attention mask and the pad token id were not set. As a consequence, you may observe unexpected behavior. Please pass your input's `attention_mask` to obtain reliable results.\n",
      "Setting `pad_token_id` to `eos_token_id`:50256 for open-end generation.\n",
      "A decoder-only architecture is being used, but right-padding was detected! For correct generation results, please set `padding_side='left'` when initializing the tokenizer.\n"
     ]
    },
    {
     "name": "stdout",
     "output_type": "stream",
     "text": [
      "I think he means the word'gun '.\n",
      "The words 'image' 'file' 'graphic' 'jpeg' 'program' 'format' are related to which common topic?\n"
     ]
    },
    {
     "name": "stderr",
     "output_type": "stream",
     "text": [
      "The attention mask and the pad token id were not set. As a consequence, you may observe unexpected behavior. Please pass your input's `attention_mask` to obtain reliable results.\n",
      "Setting `pad_token_id` to `eos_token_id`:50256 for open-end generation.\n",
      "A decoder-only architecture is being used, but right-padding was detected! For correct generation results, please set `padding_side='left'` when initializing the tokenizer.\n"
     ]
    },
    {
     "name": "stdout",
     "output_type": "stream",
     "text": [
      "I think it's a reference to the image format used in the game.\n",
      "The words 'car' 'engine' 'drive' 'good' 'buy' 'problem' are related to which common topic?\n"
     ]
    },
    {
     "name": "stderr",
     "output_type": "stream",
     "text": [
      "The attention mask and the pad token id were not set. As a consequence, you may observe unexpected behavior. Please pass your input's `attention_mask` to obtain reliable results.\n",
      "Setting `pad_token_id` to `eos_token_id`:50256 for open-end generation.\n",
      "A decoder-only architecture is being used, but right-padding was detected! For correct generation results, please set `padding_side='left'` when initializing the tokenizer.\n"
     ]
    },
    {
     "name": "stdout",
     "output_type": "stream",
     "text": [
      "I think he means'car'as in'car '.\n",
      "The words 'god' 'jesus' 'christian' 'fact' 'good' 'objective' are related to which common topic?\n"
     ]
    },
    {
     "name": "stderr",
     "output_type": "stream",
     "text": [
      "The attention mask and the pad token id were not set. As a consequence, you may observe unexpected behavior. Please pass your input's `attention_mask` to obtain reliable results.\n",
      "Setting `pad_token_id` to `eos_token_id`:50256 for open-end generation.\n",
      "A decoder-only architecture is being used, but right-padding was detected! For correct generation results, please set `padding_side='left'` when initializing the tokenizer.\n"
     ]
    },
    {
     "name": "stdout",
     "output_type": "stream",
     "text": [
      "I think he means that the fact that the bible is a fact is a fact.\n",
      "The words 'window' 'file' 'program' 'run' 'server' 'application' are related to which common topic?\n"
     ]
    },
    {
     "name": "stderr",
     "output_type": "stream",
     "text": [
      "The attention mask and the pad token id were not set. As a consequence, you may observe unexpected behavior. Please pass your input's `attention_mask` to obtain reliable results.\n",
      "Setting `pad_token_id` to `eos_token_id`:50256 for open-end generation.\n",
      "A decoder-only architecture is being used, but right-padding was detected! For correct generation results, please set `padding_side='left'` when initializing the tokenizer.\n"
     ]
    },
    {
     "name": "stdout",
     "output_type": "stream",
     "text": [
      "I think he means the application to run the application.\n",
      "The words 'key' 'chip' 'encryption' 'government' 'system' 'clipper' are related to which common topic?\n",
      "I think he means the word'key '.\n",
      "Results saved: DialoGPT-large\n"
     ]
    },
    {
     "name": "stderr",
     "output_type": "stream",
     "text": [
      "Conversation input is to long (35), trimming it to (20 - 10)\n"
     ]
    },
    {
     "name": "stdout",
     "output_type": "stream",
     "text": [
      "The words 'game' 'team' 'play' 'hockey' 'player' 'win' are related to which common topic?\n"
     ]
    },
    {
     "name": "stderr",
     "output_type": "stream",
     "text": [
      "Conversation input is to long (40), trimming it to (20 - 10)\n"
     ]
    },
    {
     "name": "stdout",
     "output_type": "stream",
     "text": [
      "'win' and 'win' are related to which common topic?\n",
      "The words 'god' 'religion' 'atheist' 'moral' 'claim' 'point' are related to which common topic?\n"
     ]
    },
    {
     "name": "stderr",
     "output_type": "stream",
     "text": [
      "Conversation input is to long (39), trimming it to (20 - 10)\n"
     ]
    },
    {
     "name": "stdout",
     "output_type": "stream",
     "text": [
      "The common topic is 'the '\n",
      "The words 'space' 'nasa' 'launch' 'system' 'orbit' 'earth' are related to which common topic?\n"
     ]
    },
    {
     "name": "stderr",
     "output_type": "stream",
     "text": [
      "Conversation input is to long (40), trimming it to (20 - 10)\n"
     ]
    },
    {
     "name": "stdout",
     "output_type": "stream",
     "text": [
      "Earth is related to the planets.\n",
      "The words 'patient' 'disease' 'medical' 'doctor' 'study' 'food' are related to which common topic?\n"
     ]
    },
    {
     "name": "stderr",
     "output_type": "stream",
     "text": [
      "Conversation input is to long (35), trimming it to (20 - 10)\n"
     ]
    },
    {
     "name": "stdout",
     "output_type": "stream",
     "text": [
      "Food is related to the common topic of the common topic of the common topic of the common topic\n",
      "The words 'government' 'president' 'state' 'law' 'work' 'give' are related to which common topic?\n"
     ]
    },
    {
     "name": "stderr",
     "output_type": "stream",
     "text": [
      "Conversation input is to long (35), trimming it to (20 - 10)\n"
     ]
    },
    {
     "name": "stdout",
     "output_type": "stream",
     "text": [
      "'give' and 'give' are related to which common topic?\n",
      "The words 'mac' 'apple' 'problem' 'drive' 'system' 'work' are related to which common topic?\n"
     ]
    },
    {
     "name": "stderr",
     "output_type": "stream",
     "text": [
      "Conversation input is to long (40), trimming it to (20 - 10)\n"
     ]
    },
    {
     "name": "stdout",
     "output_type": "stream",
     "text": [
      "Work is related to what common topic?\n",
      "The words 'armenian' 'israel' 'turkish' 'jew' 'arab' 'israeli' are related to which common topic?\n"
     ]
    },
    {
     "name": "stderr",
     "output_type": "stream",
     "text": [
      "Conversation input is to long (35), trimming it to (20 - 10)\n"
     ]
    },
    {
     "name": "stdout",
     "output_type": "stream",
     "text": [
      "i'm related to which common topic\n",
      "The words 'drive' 'card' 'system' 'problem' 'work' 'controller' are related to which common topic?\n"
     ]
    },
    {
     "name": "stderr",
     "output_type": "stream",
     "text": [
      "Conversation input is to long (39), trimming it to (20 - 10)\n"
     ]
    },
    {
     "name": "stdout",
     "output_type": "stream",
     "text": [
      "The'sex' part of the word is related to the'sex'\n",
      "The words 'offer' 'sale' 'sell' 'include' 'drive' 'price' are related to which common topic?\n"
     ]
    },
    {
     "name": "stderr",
     "output_type": "stream",
     "text": [
      "Conversation input is to long (35), trimming it to (20 - 10)\n"
     ]
    },
    {
     "name": "stdout",
     "output_type": "stream",
     "text": [
      "'Rice' is related to which common topic?\n",
      "The words 'work' 'circuit' 'ground' 'power' 'wire' 'good' are related to which common topic?\n"
     ]
    },
    {
     "name": "stderr",
     "output_type": "stream",
     "text": [
      "Conversation input is to long (37), trimming it to (20 - 10)\n"
     ]
    },
    {
     "name": "stdout",
     "output_type": "stream",
     "text": [
      "Good and good are related to the same topic.\n",
      "The words 'window' 'file' 'run' 'driver' 'problem' 'program' are related to which common topic?\n"
     ]
    },
    {
     "name": "stderr",
     "output_type": "stream",
     "text": [
      "Conversation input is to long (38), trimming it to (20 - 10)\n"
     ]
    },
    {
     "name": "stdout",
     "output_type": "stream",
     "text": [
      "'Sex' is related to'sex'\n",
      "The words 'bike' 'ride' 'dod' 'motorcycle' 'dog' 'good' are related to which common topic?\n"
     ]
    },
    {
     "name": "stderr",
     "output_type": "stream",
     "text": [
      "Conversation input is to long (34), trimming it to (20 - 10)\n"
     ]
    },
    {
     "name": "stdout",
     "output_type": "stream",
     "text": [
      "Good and good are related to the same topic.\n",
      "The words 'game' 'team' 'win' 'hit' 'player' 'run' are related to which common topic?\n"
     ]
    },
    {
     "name": "stderr",
     "output_type": "stream",
     "text": [
      "Conversation input is to long (40), trimming it to (20 - 10)\n"
     ]
    },
    {
     "name": "stdout",
     "output_type": "stream",
     "text": [
      "Run is related to the common topic of 'run'\n",
      "The words 'god' 'christian' 'church' 'jesus' 'christ' 'sin' are related to which common topic?\n"
     ]
    },
    {
     "name": "stderr",
     "output_type": "stream",
     "text": [
      "Conversation input is to long (36), trimming it to (20 - 10)\n"
     ]
    },
    {
     "name": "stdout",
     "output_type": "stream",
     "text": [
      "'Sex' and'sex' are related to which common topic?\n",
      "The words 'gun' 'government' 'weapon' 'state' 'fire' 'law' are related to which common topic?\n"
     ]
    },
    {
     "name": "stderr",
     "output_type": "stream",
     "text": [
      "Conversation input is to long (37), trimming it to (20 - 10)\n"
     ]
    },
    {
     "name": "stdout",
     "output_type": "stream",
     "text": [
      "Law is a term used to describe the legal system in the US.\n",
      "The words 'image' 'file' 'graphic' 'jpeg' 'program' 'format' are related to which common topic?\n"
     ]
    },
    {
     "name": "stderr",
     "output_type": "stream",
     "text": [
      "Conversation input is to long (34), trimming it to (20 - 10)\n"
     ]
    },
    {
     "name": "stdout",
     "output_type": "stream",
     "text": [
      "'format' is related to which common topic?\n",
      "The words 'car' 'engine' 'drive' 'good' 'buy' 'problem' are related to which common topic?\n"
     ]
    },
    {
     "name": "stderr",
     "output_type": "stream",
     "text": [
      "Conversation input is to long (40), trimming it to (20 - 10)\n"
     ]
    },
    {
     "name": "stdout",
     "output_type": "stream",
     "text": [
      "The common topic is 'problem'\n",
      "The words 'god' 'jesus' 'christian' 'fact' 'good' 'objective' are related to which common topic?\n"
     ]
    },
    {
     "name": "stderr",
     "output_type": "stream",
     "text": [
      "Conversation input is to long (36), trimming it to (20 - 10)\n"
     ]
    },
    {
     "name": "stdout",
     "output_type": "stream",
     "text": [
      "'Anarchy'\n",
      "The words 'window' 'file' 'program' 'run' 'server' 'application' are related to which common topic?\n"
     ]
    },
    {
     "name": "stderr",
     "output_type": "stream",
     "text": [
      "Conversation input is to long (38), trimming it to (20 - 10)\n"
     ]
    },
    {
     "name": "stdout",
     "output_type": "stream",
     "text": [
      "'application' is related to which common topic?\n",
      "The words 'key' 'chip' 'encryption' 'government' 'system' 'clipper' are related to which common topic?\n",
      "The 'per' is related to the 'per' in the title.\n",
      "Results saved: GODEL-v1_1-large-seq2seq\n",
      "The words 'game' 'team' 'play' 'hockey' 'player' 'win' 'goal' are related to which common topic?\n",
      " Hockey is a team sport played on ice, usually in a rink, in which two teams of skaters use their sticks to shoot a rubber puck into a net.\n",
      "The words 'god' 'religion' 'atheist' 'moral' 'claim' 'point' 'objective' are related to which common topic?\n",
      " I'm not sure, but I do know that the word \"god\" has been around since the 10th century.\n",
      "The words 'space' 'nasa' 'launch' 'system' 'orbit' 'earth' 'mission' are related to which common topic?\n",
      " I'm not sure, but I do know that the word \"space\" was first recorded in the 10th century.\n",
      "The words 'patient' 'disease' 'medical' 'doctor' 'study' 'food' 'health' are related to which common topic?\n",
      " I'm not sure, but I do know that the word \"health\" is derived from the Latin word \"earth\".\n",
      "The words 'government' 'president' 'state' 'law' 'work' 'give' 'man' are related to which common topic?\n",
      " I'm not sure, but I do know that the term \"lawyer\" was first recorded in the 10th century.\n",
      "The words 'mac' 'apple' 'problem' 'drive' 'system' 'work' 'monitor' are related to which common topic?\n",
      " I'm not sure, but I do know that the word \"mac\" was first recorded in the 10th century.\n",
      "The words 'armenian' 'israel' 'turkish' 'jew' 'arab' 'israeli' 'muslim' are related to which common topic?\n",
      " I'm not sure, but I do know that the word \"armenia\" means \"little armoured one\" in Greek.\n",
      "The words 'drive' 'card' 'system' 'problem' 'work' 'controller' 'disk' are related to which common topic?\n",
      " I'm not sure, but I do know that the word \"driving\" was first recorded in the 10th century.\n",
      "The words 'offer' 'sale' 'sell' 'include' 'drive' 'price' 'shipping' are related to which common topic?\n",
      " I'm not sure, but I do know that the word \"sale\" is derived from the Latin word for \"work\".\n",
      "The words 'work' 'circuit' 'ground' 'power' 'wire' 'good' 'line' are related to which common topic?\n",
      " Good question. I'm not sure, but I do know that the word \"work\" was first recorded in the 10th century in a Latin manuscript from the Southern Italy town of Gaeta in Lazio.\n",
      "The words 'window' 'file' 'run' 'driver' 'problem' 'program' 'work' are related to which common topic?\n",
      " I'm not sure, but I do know that the word \"file\" is derived from the Latin word \"flavour\".\n",
      "The words 'bike' 'ride' 'dod' 'motorcycle' 'dog' 'good' 'bmw' are related to which common topic?\n",
      " I'm not sure, but I do know that the word \"bike\" was first recorded in the 10th century.\n",
      "The words 'game' 'team' 'win' 'hit' 'player' 'run' 'baseball' are related to which common topic?\n",
      " Baseball is a game played on a rectangular field with nine players on each side.\n",
      "The words 'god' 'christian' 'church' 'jesus' 'christ' 'sin' 'bible' are related to which common topic?\n",
      " The Bible is a collection of sacred texts written by Jesus of Nazareth.\n",
      "The words 'gun' 'government' 'weapon' 'state' 'fire' 'law' 'firearm' are related to which common topic?\n",
      " The term \"firearm\" was first recorded in the 10th century in a Latin manuscript.\n",
      "The words 'image' 'file' 'graphic' 'jpeg' 'program' 'format' 'system' are related to which common topic?\n",
      " I'm not sure, but I do know that the word \"file\" was first recorded in the 10th century.\n",
      "The words 'car' 'engine' 'drive' 'good' 'buy' 'problem' 'dealer' are related to which common topic?\n",
      " I'm not sure, but I do know that the word \"driver\" was first recorded in the 10th century.\n",
      "The words 'god' 'jesus' 'christian' 'fact' 'good' 'objective' 'theory' are related to which common topic?\n",
      " I'm not sure, but I do know that Christianity is the world's largest religion with over 2.4 billion followers.\n",
      "The words 'window' 'file' 'program' 'run' 'server' 'application' 'widget' are related to which common topic?\n",
      " I'm not sure, but I do know that the term \"widower\" was first recorded in the 10th century.\n",
      "The words 'key' 'chip' 'encryption' 'government' 'system' 'clipper' 'phone' are related to which common topic?\n",
      " I'm not sure, but I do know that the word \"chip\" was first recorded in the 10th century.\n",
      "Results saved: blenderbot-400M-distill\n"
     ]
    },
    {
     "name": "stderr",
     "output_type": "stream",
     "text": [
      "c:\\Users\\Virginia\\anaconda3\\lib\\site-packages\\transformers\\generation\\utils.py:1186: UserWarning: You have modified the pretrained model configuration to control generation. This is a deprecated strategy to control generation and will be removed soon, in a future version. Please use a generation configuration file (see https://huggingface.co/docs/transformers/main_classes/text_generation)\n",
      "  warnings.warn(\n",
      "The attention mask and the pad token id were not set. As a consequence, you may observe unexpected behavior. Please pass your input's `attention_mask` to obtain reliable results.\n",
      "Setting `pad_token_id` to `eos_token_id`:50256 for open-end generation.\n",
      "A decoder-only architecture is being used, but right-padding was detected! For correct generation results, please set `padding_side='left'` when initializing the tokenizer.\n"
     ]
    },
    {
     "name": "stdout",
     "output_type": "stream",
     "text": [
      "The words 'game' 'team' 'play' 'hockey' 'player' 'win' 'goal' are related to which common topic?\n"
     ]
    },
    {
     "name": "stderr",
     "output_type": "stream",
     "text": [
      "The attention mask and the pad token id were not set. As a consequence, you may observe unexpected behavior. Please pass your input's `attention_mask` to obtain reliable results.\n",
      "Setting `pad_token_id` to `eos_token_id`:50256 for open-end generation.\n",
      "A decoder-only architecture is being used, but right-padding was detected! For correct generation results, please set `padding_side='left'` when initializing the tokenizer.\n"
     ]
    },
    {
     "name": "stdout",
     "output_type": "stream",
     "text": [
      "I think it's the word'game '.\n",
      "The words 'god' 'religion' 'atheist' 'moral' 'claim' 'point' 'objective' are related to which common topic?\n"
     ]
    },
    {
     "name": "stderr",
     "output_type": "stream",
     "text": [
      "The attention mask and the pad token id were not set. As a consequence, you may observe unexpected behavior. Please pass your input's `attention_mask` to obtain reliable results.\n",
      "Setting `pad_token_id` to `eos_token_id`:50256 for open-end generation.\n",
      "A decoder-only architecture is being used, but right-padding was detected! For correct generation results, please set `padding_side='left'` when initializing the tokenizer.\n"
     ]
    },
    {
     "name": "stdout",
     "output_type": "stream",
     "text": [
      "I think it's the word'God '.\n",
      "The words 'space' 'nasa' 'launch' 'system' 'orbit' 'earth' 'mission' are related to which common topic?\n"
     ]
    },
    {
     "name": "stderr",
     "output_type": "stream",
     "text": [
      "The attention mask and the pad token id were not set. As a consequence, you may observe unexpected behavior. Please pass your input's `attention_mask` to obtain reliable results.\n",
      "Setting `pad_token_id` to `eos_token_id`:50256 for open-end generation.\n",
      "A decoder-only architecture is being used, but right-padding was detected! For correct generation results, please set `padding_side='left'` when initializing the tokenizer.\n"
     ]
    },
    {
     "name": "stdout",
     "output_type": "stream",
     "text": [
      "I think it's the word'orbit '.\n",
      "The words 'patient' 'disease' 'medical' 'doctor' 'study' 'food' 'health' are related to which common topic?\n"
     ]
    },
    {
     "name": "stderr",
     "output_type": "stream",
     "text": [
      "The attention mask and the pad token id were not set. As a consequence, you may observe unexpected behavior. Please pass your input's `attention_mask` to obtain reliable results.\n",
      "Setting `pad_token_id` to `eos_token_id`:50256 for open-end generation.\n",
      "A decoder-only architecture is being used, but right-padding was detected! For correct generation results, please set `padding_side='left'` when initializing the tokenizer.\n"
     ]
    },
    {
     "name": "stdout",
     "output_type": "stream",
     "text": [
      "I think it's a reference to the movie The Big Lebowski.\n",
      "The words 'government' 'president' 'state' 'law' 'work' 'give' 'man' are related to which common topic?\n"
     ]
    },
    {
     "name": "stderr",
     "output_type": "stream",
     "text": [
      "The attention mask and the pad token id were not set. As a consequence, you may observe unexpected behavior. Please pass your input's `attention_mask` to obtain reliable results.\n",
      "Setting `pad_token_id` to `eos_token_id`:50256 for open-end generation.\n",
      "A decoder-only architecture is being used, but right-padding was detected! For correct generation results, please set `padding_side='left'` when initializing the tokenizer.\n"
     ]
    },
    {
     "name": "stdout",
     "output_type": "stream",
     "text": [
      "I think it's the same thing, but I'm not sure.\n",
      "The words 'mac' 'apple' 'problem' 'drive' 'system' 'work' 'monitor' are related to which common topic?\n"
     ]
    },
    {
     "name": "stderr",
     "output_type": "stream",
     "text": [
      "The attention mask and the pad token id were not set. As a consequence, you may observe unexpected behavior. Please pass your input's `attention_mask` to obtain reliable results.\n",
      "Setting `pad_token_id` to `eos_token_id`:50256 for open-end generation.\n",
      "A decoder-only architecture is being used, but right-padding was detected! For correct generation results, please set `padding_side='left'` when initializing the tokenizer.\n"
     ]
    },
    {
     "name": "stdout",
     "output_type": "stream",
     "text": [
      "Macs are a problem.\n",
      "The words 'armenian' 'israel' 'turkish' 'jew' 'arab' 'israeli' 'muslim' are related to which common topic?\n"
     ]
    },
    {
     "name": "stderr",
     "output_type": "stream",
     "text": [
      "The attention mask and the pad token id were not set. As a consequence, you may observe unexpected behavior. Please pass your input's `attention_mask` to obtain reliable results.\n",
      "Setting `pad_token_id` to `eos_token_id`:50256 for open-end generation.\n",
      "A decoder-only architecture is being used, but right-padding was detected! For correct generation results, please set `padding_side='left'` when initializing the tokenizer.\n"
     ]
    },
    {
     "name": "stdout",
     "output_type": "stream",
     "text": [
      "I'm not sure what you're trying to say.\n",
      "The words 'drive' 'card' 'system' 'problem' 'work' 'controller' 'disk' are related to which common topic?\n"
     ]
    },
    {
     "name": "stderr",
     "output_type": "stream",
     "text": [
      "The attention mask and the pad token id were not set. As a consequence, you may observe unexpected behavior. Please pass your input's `attention_mask` to obtain reliable results.\n",
      "Setting `pad_token_id` to `eos_token_id`:50256 for open-end generation.\n",
      "A decoder-only architecture is being used, but right-padding was detected! For correct generation results, please set `padding_side='left'` when initializing the tokenizer.\n"
     ]
    },
    {
     "name": "stdout",
     "output_type": "stream",
     "text": [
      "I think it's the controller.\n",
      "The words 'offer' 'sale' 'sell' 'include' 'drive' 'price' 'shipping' are related to which common topic?\n"
     ]
    },
    {
     "name": "stderr",
     "output_type": "stream",
     "text": [
      "The attention mask and the pad token id were not set. As a consequence, you may observe unexpected behavior. Please pass your input's `attention_mask` to obtain reliable results.\n",
      "Setting `pad_token_id` to `eos_token_id`:50256 for open-end generation.\n",
      "A decoder-only architecture is being used, but right-padding was detected! For correct generation results, please set `padding_side='left'` when initializing the tokenizer.\n"
     ]
    },
    {
     "name": "stdout",
     "output_type": "stream",
     "text": [
      "I think it's a joke.\n",
      "The words 'work' 'circuit' 'ground' 'power' 'wire' 'good' 'line' are related to which common topic?\n"
     ]
    },
    {
     "name": "stderr",
     "output_type": "stream",
     "text": [
      "The attention mask and the pad token id were not set. As a consequence, you may observe unexpected behavior. Please pass your input's `attention_mask` to obtain reliable results.\n",
      "Setting `pad_token_id` to `eos_token_id`:50256 for open-end generation.\n",
      "A decoder-only architecture is being used, but right-padding was detected! For correct generation results, please set `padding_side='left'` when initializing the tokenizer.\n"
     ]
    },
    {
     "name": "stdout",
     "output_type": "stream",
     "text": [
      "I think it's a reference to the fact that the word circuit is used in the same way as power.\n",
      "The words 'window' 'file' 'run' 'driver' 'problem' 'program' 'work' are related to which common topic?\n"
     ]
    },
    {
     "name": "stderr",
     "output_type": "stream",
     "text": [
      "The attention mask and the pad token id were not set. As a consequence, you may observe unexpected behavior. Please pass your input's `attention_mask` to obtain reliable results.\n",
      "Setting `pad_token_id` to `eos_token_id`:50256 for open-end generation.\n",
      "A decoder-only architecture is being used, but right-padding was detected! For correct generation results, please set `padding_side='left'` when initializing the tokenizer.\n"
     ]
    },
    {
     "name": "stdout",
     "output_type": "stream",
     "text": [
      "Windows, Windows, Windows, Windows, Windows, Windows, Windows, Windows, Windows, Windows, Windows, Windows, Windows, Windows, Windows, Windows, Windows, Windows, Windows, Windows, Windows, Windows, Windows, Windows, Windows, Windows, Windows, Windows, Windows, Windows, Windows, Windows, Windows, Windows, Windows, Windows, Windows, Windows, Windows, Windows, Windows, Windows, Windows, Windows, Windows, Windows, Windows, Windows, Windows\n",
      "The words 'bike' 'ride' 'dod' 'motorcycle' 'dog' 'good' 'bmw' are related to which common topic?\n"
     ]
    },
    {
     "name": "stderr",
     "output_type": "stream",
     "text": [
      "The attention mask and the pad token id were not set. As a consequence, you may observe unexpected behavior. Please pass your input's `attention_mask` to obtain reliable results.\n",
      "Setting `pad_token_id` to `eos_token_id`:50256 for open-end generation.\n",
      "A decoder-only architecture is being used, but right-padding was detected! For correct generation results, please set `padding_side='left'` when initializing the tokenizer.\n"
     ]
    },
    {
     "name": "stdout",
     "output_type": "stream",
     "text": [
      "I think it's a reference to the movie'The Big Lebowski '\n",
      "The words 'game' 'team' 'win' 'hit' 'player' 'run' 'baseball' are related to which common topic?\n"
     ]
    },
    {
     "name": "stderr",
     "output_type": "stream",
     "text": [
      "The attention mask and the pad token id were not set. As a consequence, you may observe unexpected behavior. Please pass your input's `attention_mask` to obtain reliable results.\n",
      "Setting `pad_token_id` to `eos_token_id`:50256 for open-end generation.\n",
      "A decoder-only architecture is being used, but right-padding was detected! For correct generation results, please set `padding_side='left'` when initializing the tokenizer.\n"
     ]
    },
    {
     "name": "stdout",
     "output_type": "stream",
     "text": [
      "I think it's the word'game '.\n",
      "The words 'god' 'christian' 'church' 'jesus' 'christ' 'sin' 'bible' are related to which common topic?\n"
     ]
    },
    {
     "name": "stderr",
     "output_type": "stream",
     "text": [
      "The attention mask and the pad token id were not set. As a consequence, you may observe unexpected behavior. Please pass your input's `attention_mask` to obtain reliable results.\n",
      "Setting `pad_token_id` to `eos_token_id`:50256 for open-end generation.\n",
      "A decoder-only architecture is being used, but right-padding was detected! For correct generation results, please set `padding_side='left'` when initializing the tokenizer.\n"
     ]
    },
    {
     "name": "stdout",
     "output_type": "stream",
     "text": [
      "I think it's a reference to the bible.\n",
      "The words 'gun' 'government' 'weapon' 'state' 'fire' 'law' 'firearm' are related to which common topic?\n"
     ]
    },
    {
     "name": "stderr",
     "output_type": "stream",
     "text": [
      "The attention mask and the pad token id were not set. As a consequence, you may observe unexpected behavior. Please pass your input's `attention_mask` to obtain reliable results.\n",
      "Setting `pad_token_id` to `eos_token_id`:50256 for open-end generation.\n",
      "A decoder-only architecture is being used, but right-padding was detected! For correct generation results, please set `padding_side='left'` when initializing the tokenizer.\n"
     ]
    },
    {
     "name": "stdout",
     "output_type": "stream",
     "text": [
      "I think it's a reference to the movie The Big Lebowski.\n",
      "The words 'image' 'file' 'graphic' 'jpeg' 'program' 'format' 'system' are related to which common topic?\n"
     ]
    },
    {
     "name": "stderr",
     "output_type": "stream",
     "text": [
      "The attention mask and the pad token id were not set. As a consequence, you may observe unexpected behavior. Please pass your input's `attention_mask` to obtain reliable results.\n",
      "Setting `pad_token_id` to `eos_token_id`:50256 for open-end generation.\n",
      "A decoder-only architecture is being used, but right-padding was detected! For correct generation results, please set `padding_side='left'` when initializing the tokenizer.\n"
     ]
    },
    {
     "name": "stdout",
     "output_type": "stream",
     "text": [
      "I think it's the file system.\n",
      "The words 'car' 'engine' 'drive' 'good' 'buy' 'problem' 'dealer' are related to which common topic?\n"
     ]
    },
    {
     "name": "stderr",
     "output_type": "stream",
     "text": [
      "The attention mask and the pad token id were not set. As a consequence, you may observe unexpected behavior. Please pass your input's `attention_mask` to obtain reliable results.\n",
      "Setting `pad_token_id` to `eos_token_id`:50256 for open-end generation.\n",
      "A decoder-only architecture is being used, but right-padding was detected! For correct generation results, please set `padding_side='left'` when initializing the tokenizer.\n"
     ]
    },
    {
     "name": "stdout",
     "output_type": "stream",
     "text": [
      "I think it's a reference to the car that was sold at the dealership.\n",
      "The words 'god' 'jesus' 'christian' 'fact' 'good' 'objective' 'theory' are related to which common topic?\n"
     ]
    },
    {
     "name": "stderr",
     "output_type": "stream",
     "text": [
      "The attention mask and the pad token id were not set. As a consequence, you may observe unexpected behavior. Please pass your input's `attention_mask` to obtain reliable results.\n",
      "Setting `pad_token_id` to `eos_token_id`:50256 for open-end generation.\n",
      "A decoder-only architecture is being used, but right-padding was detected! For correct generation results, please set `padding_side='left'` when initializing the tokenizer.\n"
     ]
    },
    {
     "name": "stdout",
     "output_type": "stream",
     "text": [
      "I think it's the fact that they're all the same.\n",
      "The words 'window' 'file' 'program' 'run' 'server' 'application' 'widget' are related to which common topic?\n"
     ]
    },
    {
     "name": "stderr",
     "output_type": "stream",
     "text": [
      "The attention mask and the pad token id were not set. As a consequence, you may observe unexpected behavior. Please pass your input's `attention_mask` to obtain reliable results.\n",
      "Setting `pad_token_id` to `eos_token_id`:50256 for open-end generation.\n",
      "A decoder-only architecture is being used, but right-padding was detected! For correct generation results, please set `padding_side='left'` when initializing the tokenizer.\n"
     ]
    },
    {
     "name": "stdout",
     "output_type": "stream",
     "text": [
      "I think it's a reference to the movie The Window.\n",
      "The words 'key' 'chip' 'encryption' 'government' 'system' 'clipper' 'phone' are related to which common topic?\n",
      "I think it's a reference to the movie The Interview.\n",
      "Results saved: DialoGPT-medium\n"
     ]
    },
    {
     "name": "stderr",
     "output_type": "stream",
     "text": [
      "Conversation input is to long (40), trimming it to (20 - 10)\n"
     ]
    },
    {
     "name": "stdout",
     "output_type": "stream",
     "text": [
      "The words 'game' 'team' 'play' 'hockey' 'player' 'win' 'goal' are related to which common topic?\n"
     ]
    },
    {
     "name": "stderr",
     "output_type": "stream",
     "text": [
      "Conversation input is to long (45), trimming it to (20 - 10)\n"
     ]
    },
    {
     "name": "stdout",
     "output_type": "stream",
     "text": [
      "I'm not sure but I'm not sure what the common topic is.\n",
      "The words 'god' 'religion' 'atheist' 'moral' 'claim' 'point' 'objective' are related to which common topic?\n"
     ]
    },
    {
     "name": "stderr",
     "output_type": "stream",
     "text": [
      "Conversation input is to long (43), trimming it to (20 - 10)\n"
     ]
    },
    {
     "name": "stdout",
     "output_type": "stream",
     "text": [
      "I'm not sure but I'm not sure what the common topic is.\n",
      "The words 'space' 'nasa' 'launch' 'system' 'orbit' 'earth' 'mission' are related to which common topic?\n"
     ]
    },
    {
     "name": "stderr",
     "output_type": "stream",
     "text": [
      "Conversation input is to long (44), trimming it to (20 - 10)\n"
     ]
    },
    {
     "name": "stdout",
     "output_type": "stream",
     "text": [
      "I'm not sure but I'm not sure what the common topic is.\n",
      "The words 'patient' 'disease' 'medical' 'doctor' 'study' 'food' 'health' are related to which common topic?\n"
     ]
    },
    {
     "name": "stderr",
     "output_type": "stream",
     "text": [
      "Conversation input is to long (39), trimming it to (20 - 10)\n"
     ]
    },
    {
     "name": "stdout",
     "output_type": "stream",
     "text": [
      "I'm not sure but I'm not sure what the common topic is.\n",
      "The words 'government' 'president' 'state' 'law' 'work' 'give' 'man' are related to which common topic?\n"
     ]
    },
    {
     "name": "stderr",
     "output_type": "stream",
     "text": [
      "Conversation input is to long (41), trimming it to (20 - 10)\n"
     ]
    },
    {
     "name": "stdout",
     "output_type": "stream",
     "text": [
      "I'm not sure, but I'm a fan of the 'Men\n",
      "The words 'mac' 'apple' 'problem' 'drive' 'system' 'work' 'monitor' are related to which common topic?\n"
     ]
    },
    {
     "name": "stderr",
     "output_type": "stream",
     "text": [
      "Conversation input is to long (45), trimming it to (20 - 10)\n"
     ]
    },
    {
     "name": "stdout",
     "output_type": "stream",
     "text": [
      "I'm not sure but I'm not sure what the common topic is.\n",
      "The words 'armenian' 'israel' 'turkish' 'jew' 'arab' 'israeli' 'muslim' are related to which common topic?\n"
     ]
    },
    {
     "name": "stderr",
     "output_type": "stream",
     "text": [
      "Conversation input is to long (40), trimming it to (20 - 10)\n"
     ]
    },
    {
     "name": "stdout",
     "output_type": "stream",
     "text": [
      "i'm not sure but i'm a christian and \n",
      "The words 'drive' 'card' 'system' 'problem' 'work' 'controller' 'disk' are related to which common topic?\n"
     ]
    },
    {
     "name": "stderr",
     "output_type": "stream",
     "text": [
      "Conversation input is to long (44), trimming it to (20 - 10)\n"
     ]
    },
    {
     "name": "stdout",
     "output_type": "stream",
     "text": [
      "I'm not sure but I'm not sure what the common topic is.\n",
      "The words 'offer' 'sale' 'sell' 'include' 'drive' 'price' 'shipping' are related to which common topic?\n"
     ]
    },
    {
     "name": "stderr",
     "output_type": "stream",
     "text": [
      "Conversation input is to long (39), trimming it to (20 - 10)\n"
     ]
    },
    {
     "name": "stdout",
     "output_type": "stream",
     "text": [
      "I'm not sure, but I'm not sure if it's related to\n",
      "The words 'work' 'circuit' 'ground' 'power' 'wire' 'good' 'line' are related to which common topic?\n"
     ]
    },
    {
     "name": "stderr",
     "output_type": "stream",
     "text": [
      "Conversation input is to long (41), trimming it to (20 - 10)\n"
     ]
    },
    {
     "name": "stdout",
     "output_type": "stream",
     "text": [
      "I'm not sure but I'm not sure what the common topic is.\n",
      "The words 'window' 'file' 'run' 'driver' 'problem' 'program' 'work' are related to which common topic?\n"
     ]
    },
    {
     "name": "stderr",
     "output_type": "stream",
     "text": [
      "Conversation input is to long (42), trimming it to (20 - 10)\n"
     ]
    },
    {
     "name": "stdout",
     "output_type": "stream",
     "text": [
      "I'm not sure, but I'm not sure what the common topic is.\n",
      "The words 'bike' 'ride' 'dod' 'motorcycle' 'dog' 'good' 'bmw' are related to which common topic?\n"
     ]
    },
    {
     "name": "stderr",
     "output_type": "stream",
     "text": [
      "Conversation input is to long (39), trimming it to (20 - 10)\n"
     ]
    },
    {
     "name": "stdout",
     "output_type": "stream",
     "text": [
      "bmw's are related to which common topic\n",
      "The words 'game' 'team' 'win' 'hit' 'player' 'run' 'baseball' are related to which common topic?\n"
     ]
    },
    {
     "name": "stderr",
     "output_type": "stream",
     "text": [
      "Conversation input is to long (45), trimming it to (20 - 10)\n"
     ]
    },
    {
     "name": "stdout",
     "output_type": "stream",
     "text": [
      "I'm not sure but I'm not sure what the topic is.\n",
      "The words 'god' 'christian' 'church' 'jesus' 'christ' 'sin' 'bible' are related to which common topic?\n"
     ]
    },
    {
     "name": "stderr",
     "output_type": "stream",
     "text": [
      "Conversation input is to long (41), trimming it to (20 - 10)\n"
     ]
    },
    {
     "name": "stdout",
     "output_type": "stream",
     "text": [
      "I'm not sure but I'm not sure what the topic is.\n",
      "The words 'gun' 'government' 'weapon' 'state' 'fire' 'law' 'firearm' are related to which common topic?\n"
     ]
    },
    {
     "name": "stderr",
     "output_type": "stream",
     "text": [
      "Conversation input is to long (41), trimming it to (20 - 10)\n"
     ]
    },
    {
     "name": "stdout",
     "output_type": "stream",
     "text": [
      "I'm not sure, but I'm a big fan of the 'arm\n",
      "The words 'image' 'file' 'graphic' 'jpeg' 'program' 'format' 'system' are related to which common topic?\n"
     ]
    },
    {
     "name": "stderr",
     "output_type": "stream",
     "text": [
      "Conversation input is to long (39), trimming it to (20 - 10)\n"
     ]
    },
    {
     "name": "stdout",
     "output_type": "stream",
     "text": [
      "i'm not sure but i'm a big fan of the '\n",
      "The words 'car' 'engine' 'drive' 'good' 'buy' 'problem' 'dealer' are related to which common topic?\n"
     ]
    },
    {
     "name": "stderr",
     "output_type": "stream",
     "text": [
      "Conversation input is to long (46), trimming it to (20 - 10)\n"
     ]
    },
    {
     "name": "stdout",
     "output_type": "stream",
     "text": [
      "I'm not sure but I'm not sure.\n",
      "The words 'god' 'jesus' 'christian' 'fact' 'good' 'objective' 'theory' are related to which common topic?\n"
     ]
    },
    {
     "name": "stderr",
     "output_type": "stream",
     "text": [
      "Conversation input is to long (41), trimming it to (20 - 10)\n"
     ]
    },
    {
     "name": "stdout",
     "output_type": "stream",
     "text": [
      "I'm not sure, but I'm not sure what the common topic is.\n",
      "The words 'window' 'file' 'program' 'run' 'server' 'application' 'widget' are related to which common topic?\n"
     ]
    },
    {
     "name": "stderr",
     "output_type": "stream",
     "text": [
      "Conversation input is to long (42), trimming it to (20 - 10)\n"
     ]
    },
    {
     "name": "stdout",
     "output_type": "stream",
     "text": [
      "I'm not sure but I'm not sure what the common topic is.\n",
      "The words 'key' 'chip' 'encryption' 'government' 'system' 'clipper' 'phone' are related to which common topic?\n",
      "I'm not sure but I'm not sure what the common topic is.\n",
      "Results saved: GODEL-v1_1-base-seq2seq\n"
     ]
    },
    {
     "name": "stderr",
     "output_type": "stream",
     "text": [
      "c:\\Users\\Virginia\\anaconda3\\lib\\site-packages\\transformers\\generation\\utils.py:1186: UserWarning: You have modified the pretrained model configuration to control generation. This is a deprecated strategy to control generation and will be removed soon, in a future version. Please use a generation configuration file (see https://huggingface.co/docs/transformers/main_classes/text_generation)\n",
      "  warnings.warn(\n",
      "The attention mask and the pad token id were not set. As a consequence, you may observe unexpected behavior. Please pass your input's `attention_mask` to obtain reliable results.\n",
      "Setting `pad_token_id` to `eos_token_id`:50256 for open-end generation.\n",
      "A decoder-only architecture is being used, but right-padding was detected! For correct generation results, please set `padding_side='left'` when initializing the tokenizer.\n"
     ]
    },
    {
     "name": "stdout",
     "output_type": "stream",
     "text": [
      "The words 'game' 'team' 'play' 'hockey' 'player' 'win' 'goal' are related to which common topic?\n"
     ]
    },
    {
     "name": "stderr",
     "output_type": "stream",
     "text": [
      "The attention mask and the pad token id were not set. As a consequence, you may observe unexpected behavior. Please pass your input's `attention_mask` to obtain reliable results.\n",
      "Setting `pad_token_id` to `eos_token_id`:50256 for open-end generation.\n",
      "A decoder-only architecture is being used, but right-padding was detected! For correct generation results, please set `padding_side='left'` when initializing the tokenizer.\n"
     ]
    },
    {
     "name": "stdout",
     "output_type": "stream",
     "text": [
      "I'm not sure what you're trying to say.\n",
      "The words 'god' 'religion' 'atheist' 'moral' 'claim' 'point' 'objective' are related to which common topic?\n"
     ]
    },
    {
     "name": "stderr",
     "output_type": "stream",
     "text": [
      "The attention mask and the pad token id were not set. As a consequence, you may observe unexpected behavior. Please pass your input's `attention_mask` to obtain reliable results.\n",
      "Setting `pad_token_id` to `eos_token_id`:50256 for open-end generation.\n",
      "A decoder-only architecture is being used, but right-padding was detected! For correct generation results, please set `padding_side='left'` when initializing the tokenizer.\n"
     ]
    },
    {
     "name": "stdout",
     "output_type": "stream",
     "text": [
      "I'm not sure what you're trying to say.\n",
      "The words 'space' 'nasa' 'launch' 'system' 'orbit' 'earth' 'mission' are related to which common topic?\n"
     ]
    },
    {
     "name": "stderr",
     "output_type": "stream",
     "text": [
      "The attention mask and the pad token id were not set. As a consequence, you may observe unexpected behavior. Please pass your input's `attention_mask` to obtain reliable results.\n",
      "Setting `pad_token_id` to `eos_token_id`:50256 for open-end generation.\n",
      "A decoder-only architecture is being used, but right-padding was detected! For correct generation results, please set `padding_side='left'` when initializing the tokenizer.\n"
     ]
    },
    {
     "name": "stdout",
     "output_type": "stream",
     "text": [
      "I'm not sure what you're asking.\n",
      "The words 'patient' 'disease' 'medical' 'doctor' 'study' 'food' 'health' are related to which common topic?\n"
     ]
    },
    {
     "name": "stderr",
     "output_type": "stream",
     "text": [
      "The attention mask and the pad token id were not set. As a consequence, you may observe unexpected behavior. Please pass your input's `attention_mask` to obtain reliable results.\n",
      "Setting `pad_token_id` to `eos_token_id`:50256 for open-end generation.\n",
      "A decoder-only architecture is being used, but right-padding was detected! For correct generation results, please set `padding_side='left'` when initializing the tokenizer.\n"
     ]
    },
    {
     "name": "stdout",
     "output_type": "stream",
     "text": [
      "I'm not sure what you mean by'study '.\n",
      "The words 'government' 'president' 'state' 'law' 'work' 'give' 'man' are related to which common topic?\n"
     ]
    },
    {
     "name": "stderr",
     "output_type": "stream",
     "text": [
      "The attention mask and the pad token id were not set. As a consequence, you may observe unexpected behavior. Please pass your input's `attention_mask` to obtain reliable results.\n",
      "Setting `pad_token_id` to `eos_token_id`:50256 for open-end generation.\n",
      "A decoder-only architecture is being used, but right-padding was detected! For correct generation results, please set `padding_side='left'` when initializing the tokenizer.\n"
     ]
    },
    {
     "name": "stdout",
     "output_type": "stream",
     "text": [
      "I'm not sure what you mean.\n",
      "The words 'mac' 'apple' 'problem' 'drive' 'system' 'work' 'monitor' are related to which common topic?\n"
     ]
    },
    {
     "name": "stderr",
     "output_type": "stream",
     "text": [
      "The attention mask and the pad token id were not set. As a consequence, you may observe unexpected behavior. Please pass your input's `attention_mask` to obtain reliable results.\n",
      "Setting `pad_token_id` to `eos_token_id`:50256 for open-end generation.\n",
      "A decoder-only architecture is being used, but right-padding was detected! For correct generation results, please set `padding_side='left'` when initializing the tokenizer.\n"
     ]
    },
    {
     "name": "stdout",
     "output_type": "stream",
     "text": [
      "I'm not sure what you mean by this.\n",
      "The words 'armenian' 'israel' 'turkish' 'jew' 'arab' 'israeli' 'muslim' are related to which common topic?\n"
     ]
    },
    {
     "name": "stderr",
     "output_type": "stream",
     "text": [
      "The attention mask and the pad token id were not set. As a consequence, you may observe unexpected behavior. Please pass your input's `attention_mask` to obtain reliable results.\n",
      "Setting `pad_token_id` to `eos_token_id`:50256 for open-end generation.\n",
      "A decoder-only architecture is being used, but right-padding was detected! For correct generation results, please set `padding_side='left'` when initializing the tokenizer.\n"
     ]
    },
    {
     "name": "stdout",
     "output_type": "stream",
     "text": [
      "I'm not sure if you're joking or not, but the word Jews is related to Arabs.\n",
      "The words 'drive' 'card' 'system' 'problem' 'work' 'controller' 'disk' are related to which common topic?\n"
     ]
    },
    {
     "name": "stderr",
     "output_type": "stream",
     "text": [
      "The attention mask and the pad token id were not set. As a consequence, you may observe unexpected behavior. Please pass your input's `attention_mask` to obtain reliable results.\n",
      "Setting `pad_token_id` to `eos_token_id`:50256 for open-end generation.\n",
      "A decoder-only architecture is being used, but right-padding was detected! For correct generation results, please set `padding_side='left'` when initializing the tokenizer.\n"
     ]
    },
    {
     "name": "stdout",
     "output_type": "stream",
     "text": [
      "I'm not sure what you mean by this.\n",
      "The words 'offer' 'sale' 'sell' 'include' 'drive' 'price' 'shipping' are related to which common topic?\n"
     ]
    },
    {
     "name": "stderr",
     "output_type": "stream",
     "text": [
      "The attention mask and the pad token id were not set. As a consequence, you may observe unexpected behavior. Please pass your input's `attention_mask` to obtain reliable results.\n",
      "Setting `pad_token_id` to `eos_token_id`:50256 for open-end generation.\n",
      "A decoder-only architecture is being used, but right-padding was detected! For correct generation results, please set `padding_side='left'` when initializing the tokenizer.\n"
     ]
    },
    {
     "name": "stdout",
     "output_type": "stream",
     "text": [
      "I'm not sure what you mean by this.\n",
      "The words 'work' 'circuit' 'ground' 'power' 'wire' 'good' 'line' are related to which common topic?\n"
     ]
    },
    {
     "name": "stderr",
     "output_type": "stream",
     "text": [
      "The attention mask and the pad token id were not set. As a consequence, you may observe unexpected behavior. Please pass your input's `attention_mask` to obtain reliable results.\n",
      "Setting `pad_token_id` to `eos_token_id`:50256 for open-end generation.\n",
      "A decoder-only architecture is being used, but right-padding was detected! For correct generation results, please set `padding_side='left'` when initializing the tokenizer.\n"
     ]
    },
    {
     "name": "stdout",
     "output_type": "stream",
     "text": [
      "I'm not sure what you mean by that.\n",
      "The words 'window' 'file' 'run' 'driver' 'problem' 'program' 'work' are related to which common topic?\n"
     ]
    },
    {
     "name": "stderr",
     "output_type": "stream",
     "text": [
      "The attention mask and the pad token id were not set. As a consequence, you may observe unexpected behavior. Please pass your input's `attention_mask` to obtain reliable results.\n",
      "Setting `pad_token_id` to `eos_token_id`:50256 for open-end generation.\n",
      "A decoder-only architecture is being used, but right-padding was detected! For correct generation results, please set `padding_side='left'` when initializing the tokenizer.\n"
     ]
    },
    {
     "name": "stdout",
     "output_type": "stream",
     "text": [
      "I'm not sure what you mean by this.\n",
      "The words 'bike' 'ride' 'dod' 'motorcycle' 'dog' 'good' 'bmw' are related to which common topic?\n"
     ]
    },
    {
     "name": "stderr",
     "output_type": "stream",
     "text": [
      "The attention mask and the pad token id were not set. As a consequence, you may observe unexpected behavior. Please pass your input's `attention_mask` to obtain reliable results.\n",
      "Setting `pad_token_id` to `eos_token_id`:50256 for open-end generation.\n",
      "A decoder-only architecture is being used, but right-padding was detected! For correct generation results, please set `padding_side='left'` when initializing the tokenizer.\n"
     ]
    },
    {
     "name": "stdout",
     "output_type": "stream",
     "text": [
      "I'm not sure what you're trying to say.\n",
      "The words 'game' 'team' 'win' 'hit' 'player' 'run' 'baseball' are related to which common topic?\n"
     ]
    },
    {
     "name": "stderr",
     "output_type": "stream",
     "text": [
      "The attention mask and the pad token id were not set. As a consequence, you may observe unexpected behavior. Please pass your input's `attention_mask` to obtain reliable results.\n",
      "Setting `pad_token_id` to `eos_token_id`:50256 for open-end generation.\n",
      "A decoder-only architecture is being used, but right-padding was detected! For correct generation results, please set `padding_side='left'` when initializing the tokenizer.\n"
     ]
    },
    {
     "name": "stdout",
     "output_type": "stream",
     "text": [
      "I'm not sure what you mean by this.\n",
      "The words 'god' 'christian' 'church' 'jesus' 'christ' 'sin' 'bible' are related to which common topic?\n"
     ]
    },
    {
     "name": "stderr",
     "output_type": "stream",
     "text": [
      "The attention mask and the pad token id were not set. As a consequence, you may observe unexpected behavior. Please pass your input's `attention_mask` to obtain reliable results.\n",
      "Setting `pad_token_id` to `eos_token_id`:50256 for open-end generation.\n",
      "A decoder-only architecture is being used, but right-padding was detected! For correct generation results, please set `padding_side='left'` when initializing the tokenizer.\n"
     ]
    },
    {
     "name": "stdout",
     "output_type": "stream",
     "text": [
      "I'm not sure if you're joking or not, but I'm pretty sure that's not the same thing.\n",
      "The words 'gun' 'government' 'weapon' 'state' 'fire' 'law' 'firearm' are related to which common topic?\n"
     ]
    },
    {
     "name": "stderr",
     "output_type": "stream",
     "text": [
      "The attention mask and the pad token id were not set. As a consequence, you may observe unexpected behavior. Please pass your input's `attention_mask` to obtain reliable results.\n",
      "Setting `pad_token_id` to `eos_token_id`:50256 for open-end generation.\n",
      "A decoder-only architecture is being used, but right-padding was detected! For correct generation results, please set `padding_side='left'` when initializing the tokenizer.\n"
     ]
    },
    {
     "name": "stdout",
     "output_type": "stream",
     "text": [
      "I think you're confusing the two.\n",
      "The words 'image' 'file' 'graphic' 'jpeg' 'program' 'format' 'system' are related to which common topic?\n"
     ]
    },
    {
     "name": "stderr",
     "output_type": "stream",
     "text": [
      "The attention mask and the pad token id were not set. As a consequence, you may observe unexpected behavior. Please pass your input's `attention_mask` to obtain reliable results.\n",
      "Setting `pad_token_id` to `eos_token_id`:50256 for open-end generation.\n",
      "A decoder-only architecture is being used, but right-padding was detected! For correct generation results, please set `padding_side='left'` when initializing the tokenizer.\n"
     ]
    },
    {
     "name": "stdout",
     "output_type": "stream",
     "text": [
      "I'm not sure what you mean by that.\n",
      "The words 'car' 'engine' 'drive' 'good' 'buy' 'problem' 'dealer' are related to which common topic?\n"
     ]
    },
    {
     "name": "stderr",
     "output_type": "stream",
     "text": [
      "The attention mask and the pad token id were not set. As a consequence, you may observe unexpected behavior. Please pass your input's `attention_mask` to obtain reliable results.\n",
      "Setting `pad_token_id` to `eos_token_id`:50256 for open-end generation.\n",
      "A decoder-only architecture is being used, but right-padding was detected! For correct generation results, please set `padding_side='left'` when initializing the tokenizer.\n"
     ]
    },
    {
     "name": "stdout",
     "output_type": "stream",
     "text": [
      "I'm not sure what you mean by this.\n",
      "The words 'god' 'jesus' 'christian' 'fact' 'good' 'objective' 'theory' are related to which common topic?\n"
     ]
    },
    {
     "name": "stderr",
     "output_type": "stream",
     "text": [
      "The attention mask and the pad token id were not set. As a consequence, you may observe unexpected behavior. Please pass your input's `attention_mask` to obtain reliable results.\n",
      "Setting `pad_token_id` to `eos_token_id`:50256 for open-end generation.\n",
      "A decoder-only architecture is being used, but right-padding was detected! For correct generation results, please set `padding_side='left'` when initializing the tokenizer.\n"
     ]
    },
    {
     "name": "stdout",
     "output_type": "stream",
     "text": [
      "I'm not sure what you're trying to say.\n",
      "The words 'window' 'file' 'program' 'run' 'server' 'application' 'widget' are related to which common topic?\n"
     ]
    },
    {
     "name": "stderr",
     "output_type": "stream",
     "text": [
      "The attention mask and the pad token id were not set. As a consequence, you may observe unexpected behavior. Please pass your input's `attention_mask` to obtain reliable results.\n",
      "Setting `pad_token_id` to `eos_token_id`:50256 for open-end generation.\n",
      "A decoder-only architecture is being used, but right-padding was detected! For correct generation results, please set `padding_side='left'` when initializing the tokenizer.\n"
     ]
    },
    {
     "name": "stdout",
     "output_type": "stream",
     "text": [
      "I'm not sure what you mean.\n",
      "The words 'key' 'chip' 'encryption' 'government' 'system' 'clipper' 'phone' are related to which common topic?\n",
      "I'm not sure what you're trying to say.\n",
      "Results saved: DialoGPT-small\n",
      "The words 'game' 'team' 'play' 'hockey' 'player' 'win' 'goal' are related to which common topic?\n",
      "the word \" game \" is related to the common topic of which common topics are related to.\n",
      "The words 'god' 'religion' 'atheist' 'moral' 'claim' 'point' 'objective' are related to which common topic?\n",
      "i'm not sure, but i do know that the word \" god \" was first recorded in the 10th century.\n",
      "The words 'space' 'nasa' 'launch' 'system' 'orbit' 'earth' 'mission' are related to which common topic?\n",
      "i'm not sure, but i do know that the term \" space \" was first recorded in the 10th century.\n",
      "The words 'patient' 'disease' 'medical' 'doctor' 'study' 'food' 'health' are related to which common topic?\n",
      "i'm not sure, but i do know that the word \" disease \" was first recorded in the 10th century.\n",
      "The words 'government' 'president' 'state' 'law' 'work' 'give' 'man' are related to which common topic?\n",
      "i'm not sure, but i do know that the president is the head of the executive branch.\n",
      "The words 'mac' 'apple' 'problem' 'drive' 'system' 'work' 'monitor' are related to which common topic?\n",
      "i don't have a mac, but i do have a computer that i use for work.\n",
      "The words 'armenian' 'israel' 'turkish' 'jew' 'arab' 'israeli' 'muslim' are related to which common topic?\n",
      "i'm not sure, but i do know that israel is the largest country in the world.\n",
      "The words 'drive' 'card' 'system' 'problem' 'work' 'controller' 'disk' are related to which common topic?\n",
      "i'm not sure, but i do know that i've never had a problem with my system.\n",
      "The words 'offer' 'sale' 'sell' 'include' 'drive' 'price' 'shipping' are related to which common topic?\n",
      "i'm not sure what the common topic is, but i do know that the word \" sale \" was first used in the 19th century.\n",
      "The words 'work' 'circuit' 'ground' 'power' 'wire' 'good' 'line' are related to which common topic?\n",
      "i'm not sure, but i know that the word \" ground \" was first used in the 19th century.\n",
      "The words 'window' 'file' 'run' 'driver' 'problem' 'program' 'work' are related to which common topic?\n",
      "i'm not sure what common topic you're talking about. what do you mean?\n",
      "The words 'bike' 'ride' 'dod' 'motorcycle' 'dog' 'good' 'bmw' are related to which common topic?\n",
      "i'm not sure, but i do know that bmw is one of the largest motorcycle manufacturers in the world.\n",
      "The words 'game' 'team' 'win' 'hit' 'player' 'run' 'baseball' are related to which common topic?\n",
      "i'm not sure, but i do know that baseball is one of the most popular sports in the world.\n",
      "The words 'god' 'christian' 'church' 'jesus' 'christ' 'sin' 'bible' are related to which common topic?\n",
      "i'm not sure, but i do know that jesus christ is the son of god.\n",
      "The words 'gun' 'government' 'weapon' 'state' 'fire' 'law' 'firearm' are related to which common topic?\n",
      "i'm not sure, but i do know that the term \" gun \" was first recorded in the 10th century.\n",
      "The words 'image' 'file' 'graphic' 'jpeg' 'program' 'format' 'system' are related to which common topic?\n",
      "the word \" image \" is related to the common topic of which common topics are related to.\n",
      "The words 'car' 'engine' 'drive' 'good' 'buy' 'problem' 'dealer' are related to which common topic?\n",
      "i'm not sure, but i do know that i've never had a problem with my car.\n",
      "The words 'god' 'jesus' 'christian' 'fact' 'good' 'objective' 'theory' are related to which common topic?\n",
      "i'm not sure what you mean by that. do you mean that the word \" god \" is related to the common topic of which common topic?\n",
      "The words 'window' 'file' 'program' 'run' 'server' 'application' 'widget' are related to which common topic?\n",
      "i'm not sure what common topic you're talking about. what do you mean?\n",
      "The words 'key' 'chip' 'encryption' 'government' 'system' 'clipper' 'phone' are related to which common topic?\n",
      "i'm not sure, but i do know that the word \" key \" was first used in the 19th century.\n",
      "Results saved: blenderbot_small-90M\n"
     ]
    },
    {
     "name": "stderr",
     "output_type": "stream",
     "text": [
      "Special tokens have been added in the vocabulary, make sure the associated word embeddings are fine-tuned or trained.\n",
      "Special tokens have been added in the vocabulary, make sure the associated word embeddings are fine-tuned or trained.\n"
     ]
    },
    {
     "name": "stdout",
     "output_type": "stream",
     "text": [
      "The words 'game' 'team' 'play' 'hockey' 'player' 'win' 'goal' are related to which common topic?\n",
      " The word \"game\" is derived from the Latin word \"gamus\" which means to play.\n",
      "The words 'god' 'religion' 'atheist' 'moral' 'claim' 'point' 'objective' are related to which common topic?\n",
      " Religion, morality, and objectivity are all very common topics in philosophy.\n",
      "The words 'space' 'nasa' 'launch' 'system' 'orbit' 'earth' 'mission' are related to which common topic?\n",
      " The word \"space\" is derived from the Greek words \"spheroid\" and \"spatio\"\n",
      "The words 'patient' 'disease' 'medical' 'doctor' 'study' 'food' 'health' are related to which common topic?\n",
      " I'm not sure, but I do know that the word patient is derived from the Latin word for patient.\n",
      "The words 'government' 'president' 'state' 'law' 'work' 'give' 'man' are related to which common topic?\n",
      " The president is the head of the executive branch, the legislative branch and the judicial branch.\n",
      "The words 'mac' 'apple' 'problem' 'drive' 'system' 'work' 'monitor' are related to which common topic?\n",
      " I'm not sure, but I do know that the Macintosh is a personal computer manufactured by Apple.\n",
      "The words 'armenian' 'israel' 'turkish' 'jew' 'arab' 'israeli' 'muslim' are related to which common topic?\n",
      " I'm not sure, but I do know that Israel is a sovereign state in the Middle East.\n",
      "The words 'drive' 'card' 'system' 'problem' 'work' 'controller' 'disk' are related to which common topic?\n",
      " The word drive is derived from the Latin word \"drive\" which means work.\n",
      "The words 'offer' 'sale' 'sell' 'include' 'drive' 'price' 'shipping' are related to which common topic?\n",
      " I'm not sure, but I do know that \"offer\" and \"sale\" can be used interchangeably.\n",
      "The words 'work' 'circuit' 'ground' 'power' 'wire' 'good' 'line' are related to which common topic?\n",
      " I'm not sure, but I do know that \"work\" is a noun and \"ground\" is an adjective.\n",
      "The words 'window' 'file' 'run' 'driver' 'problem' 'program' 'work' are related to which common topic?\n",
      " I'm not sure, but I do know that Windows is an operating system developed by Microsoft.\n",
      "The words 'bike' 'ride' 'dod' 'motorcycle' 'dog' 'good' 'bmw' are related to which common topic?\n",
      " BMW is a German motorcycle manufacturer, so I guess it's related to motorcycles.\n",
      "The words 'game' 'team' 'win' 'hit' 'player' 'run' 'baseball' are related to which common topic?\n",
      " The word \"game\" is derived from the Latin word \"gamus\" which means \"to play\".\n",
      "The words 'god' 'christian' 'church' 'jesus' 'christ' 'sin' 'bible' are related to which common topic?\n",
      " Christianity is a religion based on the teachings of Jesus of Nazareth, the Son of God.\n",
      "The words 'gun' 'government' 'weapon' 'state' 'fire' 'law' 'firearm' are related to which common topic?\n",
      " The word \"gun\" was first recorded in the 10th century in a Latin manuscript.\n",
      "The words 'image' 'file' 'graphic' 'jpeg' 'program' 'format' 'system' are related to which common topic?\n",
      " Image files are a type of file that can be stored on a hard disk.\n",
      "The words 'car' 'engine' 'drive' 'good' 'buy' 'problem' 'dealer' are related to which common topic?\n",
      " The word \"car\" is derived from the Latin word \"carta\".\n",
      "The words 'god' 'jesus' 'christian' 'fact' 'good' 'objective' 'theory' are related to which common topic?\n",
      " I'm not sure what you mean by that, but I do know that the Christian God is the God of Abraham, Isaac, and Jacob.\n",
      "The words 'window' 'file' 'program' 'run' 'server' 'application' 'widget' are related to which common topic?\n",
      " I'm not sure, but I do know that Windows is an operating system developed by Microsoft.\n",
      "The words 'key' 'chip' 'encryption' 'government' 'system' 'clipper' 'phone' are related to which common topic?\n",
      " I'm not sure, but I do know that a clipper is a type of sewing machine.\n",
      "Results saved: blenderbot-3B\n"
     ]
    },
    {
     "name": "stderr",
     "output_type": "stream",
     "text": [
      "c:\\Users\\Virginia\\anaconda3\\lib\\site-packages\\transformers\\generation\\utils.py:1186: UserWarning: You have modified the pretrained model configuration to control generation. This is a deprecated strategy to control generation and will be removed soon, in a future version. Please use a generation configuration file (see https://huggingface.co/docs/transformers/main_classes/text_generation)\n",
      "  warnings.warn(\n",
      "The attention mask and the pad token id were not set. As a consequence, you may observe unexpected behavior. Please pass your input's `attention_mask` to obtain reliable results.\n",
      "Setting `pad_token_id` to `eos_token_id`:50256 for open-end generation.\n",
      "A decoder-only architecture is being used, but right-padding was detected! For correct generation results, please set `padding_side='left'` when initializing the tokenizer.\n"
     ]
    },
    {
     "name": "stdout",
     "output_type": "stream",
     "text": [
      "The words 'game' 'team' 'play' 'hockey' 'player' 'win' 'goal' are related to which common topic?\n"
     ]
    },
    {
     "name": "stderr",
     "output_type": "stream",
     "text": [
      "The attention mask and the pad token id were not set. As a consequence, you may observe unexpected behavior. Please pass your input's `attention_mask` to obtain reliable results.\n",
      "Setting `pad_token_id` to `eos_token_id`:50256 for open-end generation.\n",
      "A decoder-only architecture is being used, but right-padding was detected! For correct generation results, please set `padding_side='left'` when initializing the tokenizer.\n"
     ]
    },
    {
     "name": "stdout",
     "output_type": "stream",
     "text": [
      "I think it's a reference to the word'win '.\n",
      "The words 'god' 'religion' 'atheist' 'moral' 'claim' 'point' 'objective' are related to which common topic?\n"
     ]
    },
    {
     "name": "stderr",
     "output_type": "stream",
     "text": [
      "The attention mask and the pad token id were not set. As a consequence, you may observe unexpected behavior. Please pass your input's `attention_mask` to obtain reliable results.\n",
      "Setting `pad_token_id` to `eos_token_id`:50256 for open-end generation.\n",
      "A decoder-only architecture is being used, but right-padding was detected! For correct generation results, please set `padding_side='left'` when initializing the tokenizer.\n"
     ]
    },
    {
     "name": "stdout",
     "output_type": "stream",
     "text": [
      "I think he means that the claims are not based on facts, but rather on the prejudices of the people who believe them.\n",
      "The words 'space' 'nasa' 'launch' 'system' 'orbit' 'earth' 'mission' are related to which common topic?\n"
     ]
    },
    {
     "name": "stderr",
     "output_type": "stream",
     "text": [
      "The attention mask and the pad token id were not set. As a consequence, you may observe unexpected behavior. Please pass your input's `attention_mask` to obtain reliable results.\n",
      "Setting `pad_token_id` to `eos_token_id`:50256 for open-end generation.\n",
      "A decoder-only architecture is being used, but right-padding was detected! For correct generation results, please set `padding_side='left'` when initializing the tokenizer.\n"
     ]
    },
    {
     "name": "stdout",
     "output_type": "stream",
     "text": [
      "I think he means the word'space '.\n",
      "The words 'patient' 'disease' 'medical' 'doctor' 'study' 'food' 'health' are related to which common topic?\n"
     ]
    },
    {
     "name": "stderr",
     "output_type": "stream",
     "text": [
      "The attention mask and the pad token id were not set. As a consequence, you may observe unexpected behavior. Please pass your input's `attention_mask` to obtain reliable results.\n",
      "Setting `pad_token_id` to `eos_token_id`:50256 for open-end generation.\n",
      "A decoder-only architecture is being used, but right-padding was detected! For correct generation results, please set `padding_side='left'` when initializing the tokenizer.\n"
     ]
    },
    {
     "name": "stdout",
     "output_type": "stream",
     "text": [
      "I think it's a reference to the movie The Last Airbender.\n",
      "The words 'government' 'president' 'state' 'law' 'work' 'give' 'man' are related to which common topic?\n"
     ]
    },
    {
     "name": "stderr",
     "output_type": "stream",
     "text": [
      "The attention mask and the pad token id were not set. As a consequence, you may observe unexpected behavior. Please pass your input's `attention_mask` to obtain reliable results.\n",
      "Setting `pad_token_id` to `eos_token_id`:50256 for open-end generation.\n",
      "A decoder-only architecture is being used, but right-padding was detected! For correct generation results, please set `padding_side='left'` when initializing the tokenizer.\n"
     ]
    },
    {
     "name": "stdout",
     "output_type": "stream",
     "text": [
      "I think he means'government'as in'government '.\n",
      "The words 'mac' 'apple' 'problem' 'drive' 'system' 'work' 'monitor' are related to which common topic?\n"
     ]
    },
    {
     "name": "stderr",
     "output_type": "stream",
     "text": [
      "The attention mask and the pad token id were not set. As a consequence, you may observe unexpected behavior. Please pass your input's `attention_mask` to obtain reliable results.\n",
      "Setting `pad_token_id` to `eos_token_id`:50256 for open-end generation.\n",
      "A decoder-only architecture is being used, but right-padding was detected! For correct generation results, please set `padding_side='left'` when initializing the tokenizer.\n"
     ]
    },
    {
     "name": "stdout",
     "output_type": "stream",
     "text": [
      "I think it's a reference to the Mac and Apple products.\n",
      "The words 'armenian' 'israel' 'turkish' 'jew' 'arab' 'israeli' 'muslim' are related to which common topic?\n"
     ]
    },
    {
     "name": "stderr",
     "output_type": "stream",
     "text": [
      "The attention mask and the pad token id were not set. As a consequence, you may observe unexpected behavior. Please pass your input's `attention_mask` to obtain reliable results.\n",
      "Setting `pad_token_id` to `eos_token_id`:50256 for open-end generation.\n",
      "A decoder-only architecture is being used, but right-padding was detected! For correct generation results, please set `padding_side='left'` when initializing the tokenizer.\n"
     ]
    },
    {
     "name": "stdout",
     "output_type": "stream",
     "text": [
      "The common topic is the same as the common topic of the discussion.\n",
      "The words 'drive' 'card' 'system' 'problem' 'work' 'controller' 'disk' are related to which common topic?\n"
     ]
    },
    {
     "name": "stderr",
     "output_type": "stream",
     "text": [
      "The attention mask and the pad token id were not set. As a consequence, you may observe unexpected behavior. Please pass your input's `attention_mask` to obtain reliable results.\n",
      "Setting `pad_token_id` to `eos_token_id`:50256 for open-end generation.\n",
      "A decoder-only architecture is being used, but right-padding was detected! For correct generation results, please set `padding_side='left'` when initializing the tokenizer.\n"
     ]
    },
    {
     "name": "stdout",
     "output_type": "stream",
     "text": [
      "I think he means the problem of the problem.\n",
      "The words 'offer' 'sale' 'sell' 'include' 'drive' 'price' 'shipping' are related to which common topic?\n"
     ]
    },
    {
     "name": "stderr",
     "output_type": "stream",
     "text": [
      "The attention mask and the pad token id were not set. As a consequence, you may observe unexpected behavior. Please pass your input's `attention_mask` to obtain reliable results.\n",
      "Setting `pad_token_id` to `eos_token_id`:50256 for open-end generation.\n",
      "A decoder-only architecture is being used, but right-padding was detected! For correct generation results, please set `padding_side='left'` when initializing the tokenizer.\n"
     ]
    },
    {
     "name": "stdout",
     "output_type": "stream",
     "text": [
      "I think he means the word'offer '.\n",
      "The words 'work' 'circuit' 'ground' 'power' 'wire' 'good' 'line' are related to which common topic?\n"
     ]
    },
    {
     "name": "stderr",
     "output_type": "stream",
     "text": [
      "The attention mask and the pad token id were not set. As a consequence, you may observe unexpected behavior. Please pass your input's `attention_mask` to obtain reliable results.\n",
      "Setting `pad_token_id` to `eos_token_id`:50256 for open-end generation.\n",
      "A decoder-only architecture is being used, but right-padding was detected! For correct generation results, please set `padding_side='left'` when initializing the tokenizer.\n"
     ]
    },
    {
     "name": "stdout",
     "output_type": "stream",
     "text": [
      "I think it's a reference to the show Archer.\n",
      "The words 'window' 'file' 'run' 'driver' 'problem' 'program' 'work' are related to which common topic?\n"
     ]
    },
    {
     "name": "stderr",
     "output_type": "stream",
     "text": [
      "The attention mask and the pad token id were not set. As a consequence, you may observe unexpected behavior. Please pass your input's `attention_mask` to obtain reliable results.\n",
      "Setting `pad_token_id` to `eos_token_id`:50256 for open-end generation.\n",
      "A decoder-only architecture is being used, but right-padding was detected! For correct generation results, please set `padding_side='left'` when initializing the tokenizer.\n"
     ]
    },
    {
     "name": "stdout",
     "output_type": "stream",
     "text": [
      "I think he means the problem is a problem.\n",
      "The words 'bike' 'ride' 'dod' 'motorcycle' 'dog' 'good' 'bmw' are related to which common topic?\n"
     ]
    },
    {
     "name": "stderr",
     "output_type": "stream",
     "text": [
      "The attention mask and the pad token id were not set. As a consequence, you may observe unexpected behavior. Please pass your input's `attention_mask` to obtain reliable results.\n",
      "Setting `pad_token_id` to `eos_token_id`:50256 for open-end generation.\n",
      "A decoder-only architecture is being used, but right-padding was detected! For correct generation results, please set `padding_side='left'` when initializing the tokenizer.\n"
     ]
    },
    {
     "name": "stdout",
     "output_type": "stream",
     "text": [
      "I think it's a reference to the song'The Last of the Mohicans'by the band The Last of the Mohicans.\n",
      "The words 'game' 'team' 'win' 'hit' 'player' 'run' 'baseball' are related to which common topic?\n"
     ]
    },
    {
     "name": "stderr",
     "output_type": "stream",
     "text": [
      "The attention mask and the pad token id were not set. As a consequence, you may observe unexpected behavior. Please pass your input's `attention_mask` to obtain reliable results.\n",
      "Setting `pad_token_id` to `eos_token_id`:50256 for open-end generation.\n",
      "A decoder-only architecture is being used, but right-padding was detected! For correct generation results, please set `padding_side='left'` when initializing the tokenizer.\n"
     ]
    },
    {
     "name": "stdout",
     "output_type": "stream",
     "text": [
      "I think it's a reference to the game of life.\n",
      "The words 'god' 'christian' 'church' 'jesus' 'christ' 'sin' 'bible' are related to which common topic?\n"
     ]
    },
    {
     "name": "stderr",
     "output_type": "stream",
     "text": [
      "The attention mask and the pad token id were not set. As a consequence, you may observe unexpected behavior. Please pass your input's `attention_mask` to obtain reliable results.\n",
      "Setting `pad_token_id` to `eos_token_id`:50256 for open-end generation.\n",
      "A decoder-only architecture is being used, but right-padding was detected! For correct generation results, please set `padding_side='left'` when initializing the tokenizer.\n"
     ]
    },
    {
     "name": "stdout",
     "output_type": "stream",
     "text": [
      "I think it's the word'''''''''''''''''''''''''''''''''''''''''''''''''''''''''''''''''''''''''''''''''''''' '\n",
      "The words 'gun' 'government' 'weapon' 'state' 'fire' 'law' 'firearm' are related to which common topic?\n"
     ]
    },
    {
     "name": "stderr",
     "output_type": "stream",
     "text": [
      "The attention mask and the pad token id were not set. As a consequence, you may observe unexpected behavior. Please pass your input's `attention_mask` to obtain reliable results.\n",
      "Setting `pad_token_id` to `eos_token_id`:50256 for open-end generation.\n",
      "A decoder-only architecture is being used, but right-padding was detected! For correct generation results, please set `padding_side='left'` when initializing the tokenizer.\n"
     ]
    },
    {
     "name": "stdout",
     "output_type": "stream",
     "text": [
      "I think he means the word'gun '.\n",
      "The words 'image' 'file' 'graphic' 'jpeg' 'program' 'format' 'system' are related to which common topic?\n"
     ]
    },
    {
     "name": "stderr",
     "output_type": "stream",
     "text": [
      "The attention mask and the pad token id were not set. As a consequence, you may observe unexpected behavior. Please pass your input's `attention_mask` to obtain reliable results.\n",
      "Setting `pad_token_id` to `eos_token_id`:50256 for open-end generation.\n",
      "A decoder-only architecture is being used, but right-padding was detected! For correct generation results, please set `padding_side='left'` when initializing the tokenizer.\n"
     ]
    },
    {
     "name": "stdout",
     "output_type": "stream",
     "text": [
      "I think it's a reference to the old Windows 98 joke.\n",
      "The words 'car' 'engine' 'drive' 'good' 'buy' 'problem' 'dealer' are related to which common topic?\n"
     ]
    },
    {
     "name": "stderr",
     "output_type": "stream",
     "text": [
      "The attention mask and the pad token id were not set. As a consequence, you may observe unexpected behavior. Please pass your input's `attention_mask` to obtain reliable results.\n",
      "Setting `pad_token_id` to `eos_token_id`:50256 for open-end generation.\n",
      "A decoder-only architecture is being used, but right-padding was detected! For correct generation results, please set `padding_side='left'` when initializing the tokenizer.\n"
     ]
    },
    {
     "name": "stdout",
     "output_type": "stream",
     "text": [
      "I think it's a reference to the movie The Road.\n",
      "The words 'god' 'jesus' 'christian' 'fact' 'good' 'objective' 'theory' are related to which common topic?\n"
     ]
    },
    {
     "name": "stderr",
     "output_type": "stream",
     "text": [
      "The attention mask and the pad token id were not set. As a consequence, you may observe unexpected behavior. Please pass your input's `attention_mask` to obtain reliable results.\n",
      "Setting `pad_token_id` to `eos_token_id`:50256 for open-end generation.\n",
      "A decoder-only architecture is being used, but right-padding was detected! For correct generation results, please set `padding_side='left'` when initializing the tokenizer.\n"
     ]
    },
    {
     "name": "stdout",
     "output_type": "stream",
     "text": [
      "I think he means that the fact that the bible is a fact is a fact.\n",
      "The words 'window' 'file' 'program' 'run' 'server' 'application' 'widget' are related to which common topic?\n"
     ]
    },
    {
     "name": "stderr",
     "output_type": "stream",
     "text": [
      "The attention mask and the pad token id were not set. As a consequence, you may observe unexpected behavior. Please pass your input's `attention_mask` to obtain reliable results.\n",
      "Setting `pad_token_id` to `eos_token_id`:50256 for open-end generation.\n",
      "A decoder-only architecture is being used, but right-padding was detected! For correct generation results, please set `padding_side='left'` when initializing the tokenizer.\n"
     ]
    },
    {
     "name": "stdout",
     "output_type": "stream",
     "text": [
      "I think he means the application to the server.\n",
      "The words 'key' 'chip' 'encryption' 'government' 'system' 'clipper' 'phone' are related to which common topic?\n",
      "I think he means the common topic of the discussion.\n",
      "Results saved: DialoGPT-large\n"
     ]
    },
    {
     "name": "stderr",
     "output_type": "stream",
     "text": [
      "Conversation input is to long (40), trimming it to (20 - 10)\n"
     ]
    },
    {
     "name": "stdout",
     "output_type": "stream",
     "text": [
      "The words 'game' 'team' 'play' 'hockey' 'player' 'win' 'goal' are related to which common topic?\n"
     ]
    },
    {
     "name": "stderr",
     "output_type": "stream",
     "text": [
      "Conversation input is to long (45), trimming it to (20 - 10)\n"
     ]
    },
    {
     "name": "stdout",
     "output_type": "stream",
     "text": [
      "The common topic is'sex'\n",
      "The words 'god' 'religion' 'atheist' 'moral' 'claim' 'point' 'objective' are related to which common topic?\n"
     ]
    },
    {
     "name": "stderr",
     "output_type": "stream",
     "text": [
      "Conversation input is to long (43), trimming it to (20 - 10)\n"
     ]
    },
    {
     "name": "stdout",
     "output_type": "stream",
     "text": [
      "'Anarchy'\n",
      "The words 'space' 'nasa' 'launch' 'system' 'orbit' 'earth' 'mission' are related to which common topic?\n"
     ]
    },
    {
     "name": "stderr",
     "output_type": "stream",
     "text": [
      "Conversation input is to long (44), trimming it to (20 - 10)\n"
     ]
    },
    {
     "name": "stdout",
     "output_type": "stream",
     "text": [
      "The common topic is'mission'\n",
      "The words 'patient' 'disease' 'medical' 'doctor' 'study' 'food' 'health' are related to which common topic?\n"
     ]
    },
    {
     "name": "stderr",
     "output_type": "stream",
     "text": [
      "Conversation input is to long (39), trimming it to (20 - 10)\n"
     ]
    },
    {
     "name": "stdout",
     "output_type": "stream",
     "text": [
      "Health is related to what common topic?\n",
      "The words 'government' 'president' 'state' 'law' 'work' 'give' 'man' are related to which common topic?\n"
     ]
    },
    {
     "name": "stderr",
     "output_type": "stream",
     "text": [
      "Conversation input is to long (41), trimming it to (20 - 10)\n"
     ]
    },
    {
     "name": "stdout",
     "output_type": "stream",
     "text": [
      "The'man' in'man' is related to the'man' in\n",
      "The words 'mac' 'apple' 'problem' 'drive' 'system' 'work' 'monitor' are related to which common topic?\n"
     ]
    },
    {
     "name": "stderr",
     "output_type": "stream",
     "text": [
      "Conversation input is to long (45), trimming it to (20 - 10)\n"
     ]
    },
    {
     "name": "stdout",
     "output_type": "stream",
     "text": [
      "'Sex' and'sex' are related to which common topic?\n",
      "The words 'armenian' 'israel' 'turkish' 'jew' 'arab' 'israeli' 'muslim' are related to which common topic?\n"
     ]
    },
    {
     "name": "stderr",
     "output_type": "stream",
     "text": [
      "Conversation input is to long (40), trimming it to (20 - 10)\n"
     ]
    },
    {
     "name": "stdout",
     "output_type": "stream",
     "text": [
      "The muslims are related to the muslims\n",
      "The words 'drive' 'card' 'system' 'problem' 'work' 'controller' 'disk' are related to which common topic?\n"
     ]
    },
    {
     "name": "stderr",
     "output_type": "stream",
     "text": [
      "Conversation input is to long (44), trimming it to (20 - 10)\n"
     ]
    },
    {
     "name": "stdout",
     "output_type": "stream",
     "text": [
      "'Status quorum'\n",
      "The words 'offer' 'sale' 'sell' 'include' 'drive' 'price' 'shipping' are related to which common topic?\n"
     ]
    },
    {
     "name": "stderr",
     "output_type": "stream",
     "text": [
      "Conversation input is to long (39), trimming it to (20 - 10)\n"
     ]
    },
    {
     "name": "stdout",
     "output_type": "stream",
     "text": [
      "'Sex' and'sexy' are related to which common topic?\n",
      "The words 'work' 'circuit' 'ground' 'power' 'wire' 'good' 'line' are related to which common topic?\n"
     ]
    },
    {
     "name": "stderr",
     "output_type": "stream",
     "text": [
      "Conversation input is to long (41), trimming it to (20 - 10)\n"
     ]
    },
    {
     "name": "stdout",
     "output_type": "stream",
     "text": [
      "The common topic is 'the '\n",
      "The words 'window' 'file' 'run' 'driver' 'problem' 'program' 'work' are related to which common topic?\n"
     ]
    },
    {
     "name": "stderr",
     "output_type": "stream",
     "text": [
      "Conversation input is to long (42), trimming it to (20 - 10)\n"
     ]
    },
    {
     "name": "stdout",
     "output_type": "stream",
     "text": [
      "Work is related to what common topic?\n",
      "The words 'bike' 'ride' 'dod' 'motorcycle' 'dog' 'good' 'bmw' are related to which common topic?\n"
     ]
    },
    {
     "name": "stderr",
     "output_type": "stream",
     "text": [
      "Conversation input is to long (39), trimming it to (20 - 10)\n"
     ]
    },
    {
     "name": "stdout",
     "output_type": "stream",
     "text": [
      "BMW is related to the BMW brand\n",
      "The words 'game' 'team' 'win' 'hit' 'player' 'run' 'baseball' are related to which common topic?\n"
     ]
    },
    {
     "name": "stderr",
     "output_type": "stream",
     "text": [
      "Conversation input is to long (45), trimming it to (20 - 10)\n"
     ]
    },
    {
     "name": "stdout",
     "output_type": "stream",
     "text": [
      "The common topic is 'ball'\n",
      "The words 'god' 'christian' 'church' 'jesus' 'christ' 'sin' 'bible' are related to which common topic?\n"
     ]
    },
    {
     "name": "stderr",
     "output_type": "stream",
     "text": [
      "Conversation input is to long (41), trimming it to (20 - 10)\n"
     ]
    },
    {
     "name": "stdout",
     "output_type": "stream",
     "text": [
      "The topic of the video is 'Bible'\n",
      "The words 'gun' 'government' 'weapon' 'state' 'fire' 'law' 'firearm' are related to which common topic?\n"
     ]
    },
    {
     "name": "stderr",
     "output_type": "stream",
     "text": [
      "Conversation input is to long (41), trimming it to (20 - 10)\n"
     ]
    },
    {
     "name": "stdout",
     "output_type": "stream",
     "text": [
      "Arms are related to the common topic of 'arms'\n",
      "The words 'image' 'file' 'graphic' 'jpeg' 'program' 'format' 'system' are related to which common topic?\n"
     ]
    },
    {
     "name": "stderr",
     "output_type": "stream",
     "text": [
      "Conversation input is to long (39), trimming it to (20 - 10)\n"
     ]
    },
    {
     "name": "stdout",
     "output_type": "stream",
     "text": [
      "'system' is related to which common topic?\n",
      "The words 'car' 'engine' 'drive' 'good' 'buy' 'problem' 'dealer' are related to which common topic?\n"
     ]
    },
    {
     "name": "stderr",
     "output_type": "stream",
     "text": [
      "Conversation input is to long (46), trimming it to (20 - 10)\n"
     ]
    },
    {
     "name": "stdout",
     "output_type": "stream",
     "text": [
      "The's' and 'e' are related to the's' in\n",
      "The words 'god' 'jesus' 'christian' 'fact' 'good' 'objective' 'theory' are related to which common topic?\n"
     ]
    },
    {
     "name": "stderr",
     "output_type": "stream",
     "text": [
      "Conversation input is to long (41), trimming it to (20 - 10)\n"
     ]
    },
    {
     "name": "stdout",
     "output_type": "stream",
     "text": [
      "The common topic is 'the '\n",
      "The words 'window' 'file' 'program' 'run' 'server' 'application' 'widget' are related to which common topic?\n"
     ]
    },
    {
     "name": "stderr",
     "output_type": "stream",
     "text": [
      "Conversation input is to long (42), trimming it to (20 - 10)\n"
     ]
    },
    {
     "name": "stdout",
     "output_type": "stream",
     "text": [
      "'get' and 'get' are related to which common topic?\n",
      "The words 'key' 'chip' 'encryption' 'government' 'system' 'clipper' 'phone' are related to which common topic?\n",
      "Phones are related to the same topic as the phone itself.\n",
      "Results saved: GODEL-v1_1-large-seq2seq\n",
      "The words 'game' 'team' 'play' 'hockey' 'player' 'win' 'goal' 'season' are related to which common topic?\n",
      " Hockey is a team sport played on ice, usually in a rink, in which two teams of skaters use their sticks to shoot a rubber puck into a net.\n",
      "The words 'god' 'religion' 'atheist' 'moral' 'claim' 'point' 'objective' 'good' are related to which common topic?\n",
      " I'm not sure, but I do know that Christianity is the world's largest religion with over 2.4 billion followers.\n",
      "The words 'space' 'nasa' 'launch' 'system' 'orbit' 'earth' 'mission' 'satellite' are related to which common topic?\n",
      " I'm not sure, but I do know that the word \"space\" was first recorded in the 10th century.\n",
      "The words 'patient' 'disease' 'medical' 'doctor' 'study' 'food' 'health' 'problem' are related to which common topic?\n",
      " I'm not sure, but I do know that the word \"disorder\" is derived from Latin.\n",
      "The words 'government' 'president' 'state' 'law' 'work' 'give' 'man' 'american' are related to which common topic?\n",
      " I'm not sure, but I do know that the term \"lawyer\" was first recorded in the 10th century.\n",
      "The words 'mac' 'apple' 'problem' 'drive' 'system' 'work' 'monitor' 'computer' are related to which common topic?\n",
      " I'm not sure, but I do know that the word \"mac\" was first recorded in the 10th century.\n",
      "The words 'armenian' 'israel' 'turkish' 'jew' 'arab' 'israeli' 'muslim' 'state' are related to which common topic?\n",
      " I'm not sure, but I do know that the word \"armenia\" means \"little armoured one\" in Greek.\n",
      "The words 'drive' 'card' 'system' 'problem' 'work' 'controller' 'disk' 'scsus' are related to which common topic?\n",
      " I'm not sure, but I do know that the word \"drive\" was first recorded in the 10th century.\n",
      "The words 'offer' 'sale' 'sell' 'include' 'drive' 'price' 'shipping' 'condition' are related to which common topic?\n",
      " I'm not sure, but I do know that the word \"sale\" is derived from the Latin word for \"work\".\n",
      "The words 'work' 'circuit' 'ground' 'power' 'wire' 'good' 'line' 'find' are related to which common topic?\n",
      " I'm not sure, but I do know that the word circuit is derived from the Latin word \"circus\".\n",
      "The words 'window' 'file' 'run' 'driver' 'problem' 'program' 'work' 'card' are related to which common topic?\n",
      " I'm not sure, but I do know that the word \"card\" was first recorded in the 10th century.\n",
      "The words 'bike' 'ride' 'dod' 'motorcycle' 'dog' 'good' 'bmw' 'work' are related to which common topic?\n",
      " I'm not sure, but I do know that the word \"bike\" was first recorded in the 10th century.\n",
      "The words 'game' 'team' 'win' 'hit' 'player' 'run' 'baseball' 'good' are related to which common topic?\n",
      " Baseball is a game played on a rectangular field with nine players on each side.\n",
      "The words 'god' 'christian' 'church' 'jesus' 'christ' 'sin' 'bible' 'give' are related to which common topic?\n",
      " The Bible is a collection of sacred texts written by Jesus of Nazareth.\n",
      "The words 'gun' 'government' 'weapon' 'state' 'fire' 'law' 'firearm' 'fbi' are related to which common topic?\n",
      " I'm not sure, but I do know that the term \"farm\" was first recorded in the 10th century.\n",
      "The words 'image' 'file' 'graphic' 'jpeg' 'program' 'format' 'system' 'color' are related to which common topic?\n",
      " I'm not sure, but I do know that the word \"file\" is derived from the Latin word \"graviolet\".\n",
      "The words 'car' 'engine' 'drive' 'good' 'buy' 'problem' 'dealer' 'price' are related to which common topic?\n",
      " I'm not sure, but I do know that the word \"engineer\" was first recorded in the 10th century.\n",
      "The words 'god' 'jesus' 'christian' 'fact' 'good' 'objective' 'theory' 'point' are related to which common topic?\n",
      " I'm not sure, but I do know that Christianity is the world's largest religion with over 2.4 billion followers.\n",
      "The words 'window' 'file' 'program' 'run' 'server' 'application' 'widget' 'system' are related to which common topic?\n",
      " I'm not sure, but I do know that the word \"widow\" was first recorded in the 10th century.\n",
      "The words 'key' 'chip' 'encryption' 'government' 'system' 'clipper' 'phone' 'security' are related to which common topic?\n",
      " I'm not sure, but I do know that the word \"chip\" was first recorded in the 10th century.\n",
      "Results saved: blenderbot-400M-distill\n"
     ]
    },
    {
     "name": "stderr",
     "output_type": "stream",
     "text": [
      "c:\\Users\\Virginia\\anaconda3\\lib\\site-packages\\transformers\\generation\\utils.py:1186: UserWarning: You have modified the pretrained model configuration to control generation. This is a deprecated strategy to control generation and will be removed soon, in a future version. Please use a generation configuration file (see https://huggingface.co/docs/transformers/main_classes/text_generation)\n",
      "  warnings.warn(\n",
      "The attention mask and the pad token id were not set. As a consequence, you may observe unexpected behavior. Please pass your input's `attention_mask` to obtain reliable results.\n",
      "Setting `pad_token_id` to `eos_token_id`:50256 for open-end generation.\n",
      "A decoder-only architecture is being used, but right-padding was detected! For correct generation results, please set `padding_side='left'` when initializing the tokenizer.\n"
     ]
    },
    {
     "name": "stdout",
     "output_type": "stream",
     "text": [
      "The words 'game' 'team' 'play' 'hockey' 'player' 'win' 'goal' 'season' are related to which common topic?\n"
     ]
    },
    {
     "name": "stderr",
     "output_type": "stream",
     "text": [
      "The attention mask and the pad token id were not set. As a consequence, you may observe unexpected behavior. Please pass your input's `attention_mask` to obtain reliable results.\n",
      "Setting `pad_token_id` to `eos_token_id`:50256 for open-end generation.\n",
      "A decoder-only architecture is being used, but right-padding was detected! For correct generation results, please set `padding_side='left'` when initializing the tokenizer.\n"
     ]
    },
    {
     "name": "stdout",
     "output_type": "stream",
     "text": [
      "I think it's the word'game '.\n",
      "The words 'god' 'religion' 'atheist' 'moral' 'claim' 'point' 'objective' 'good' are related to which common topic?\n"
     ]
    },
    {
     "name": "stderr",
     "output_type": "stream",
     "text": [
      "The attention mask and the pad token id were not set. As a consequence, you may observe unexpected behavior. Please pass your input's `attention_mask` to obtain reliable results.\n",
      "Setting `pad_token_id` to `eos_token_id`:50256 for open-end generation.\n",
      "A decoder-only architecture is being used, but right-padding was detected! For correct generation results, please set `padding_side='left'` when initializing the tokenizer.\n"
     ]
    },
    {
     "name": "stdout",
     "output_type": "stream",
     "text": [
      "I think it's the word'moral '.\n",
      "The words 'space' 'nasa' 'launch' 'system' 'orbit' 'earth' 'mission' 'satellite' are related to which common topic?\n"
     ]
    },
    {
     "name": "stderr",
     "output_type": "stream",
     "text": [
      "The attention mask and the pad token id were not set. As a consequence, you may observe unexpected behavior. Please pass your input's `attention_mask` to obtain reliable results.\n",
      "Setting `pad_token_id` to `eos_token_id`:50256 for open-end generation.\n",
      "A decoder-only architecture is being used, but right-padding was detected! For correct generation results, please set `padding_side='left'` when initializing the tokenizer.\n"
     ]
    },
    {
     "name": "stdout",
     "output_type": "stream",
     "text": [
      "I think it's the word'orbit '.\n",
      "The words 'patient' 'disease' 'medical' 'doctor' 'study' 'food' 'health' 'problem' are related to which common topic?\n"
     ]
    },
    {
     "name": "stderr",
     "output_type": "stream",
     "text": [
      "The attention mask and the pad token id were not set. As a consequence, you may observe unexpected behavior. Please pass your input's `attention_mask` to obtain reliable results.\n",
      "Setting `pad_token_id` to `eos_token_id`:50256 for open-end generation.\n",
      "A decoder-only architecture is being used, but right-padding was detected! For correct generation results, please set `padding_side='left'` when initializing the tokenizer.\n"
     ]
    },
    {
     "name": "stdout",
     "output_type": "stream",
     "text": [
      "I think it's a reference to the movie The Big Lebowski.\n",
      "The words 'government' 'president' 'state' 'law' 'work' 'give' 'man' 'american' are related to which common topic?\n"
     ]
    },
    {
     "name": "stderr",
     "output_type": "stream",
     "text": [
      "The attention mask and the pad token id were not set. As a consequence, you may observe unexpected behavior. Please pass your input's `attention_mask` to obtain reliable results.\n",
      "Setting `pad_token_id` to `eos_token_id`:50256 for open-end generation.\n",
      "A decoder-only architecture is being used, but right-padding was detected! For correct generation results, please set `padding_side='left'` when initializing the tokenizer.\n"
     ]
    },
    {
     "name": "stdout",
     "output_type": "stream",
     "text": [
      "I think it's a reference to the movie The Patriot.\n",
      "The words 'mac' 'apple' 'problem' 'drive' 'system' 'work' 'monitor' 'computer' are related to which common topic?\n"
     ]
    },
    {
     "name": "stderr",
     "output_type": "stream",
     "text": [
      "The attention mask and the pad token id were not set. As a consequence, you may observe unexpected behavior. Please pass your input's `attention_mask` to obtain reliable results.\n",
      "Setting `pad_token_id` to `eos_token_id`:50256 for open-end generation.\n",
      "A decoder-only architecture is being used, but right-padding was detected! For correct generation results, please set `padding_side='left'` when initializing the tokenizer.\n"
     ]
    },
    {
     "name": "stdout",
     "output_type": "stream",
     "text": [
      "Macs are computers.\n",
      "The words 'armenian' 'israel' 'turkish' 'jew' 'arab' 'israeli' 'muslim' 'state' are related to which common topic?\n"
     ]
    },
    {
     "name": "stderr",
     "output_type": "stream",
     "text": [
      "The attention mask and the pad token id were not set. As a consequence, you may observe unexpected behavior. Please pass your input's `attention_mask` to obtain reliable results.\n",
      "Setting `pad_token_id` to `eos_token_id`:50256 for open-end generation.\n",
      "A decoder-only architecture is being used, but right-padding was detected! For correct generation results, please set `padding_side='left'` when initializing the tokenizer.\n"
     ]
    },
    {
     "name": "stdout",
     "output_type": "stream",
     "text": [
      "I'm not sure what you're asking.\n",
      "The words 'drive' 'card' 'system' 'problem' 'work' 'controller' 'disk' 'scsus' are related to which common topic?\n"
     ]
    },
    {
     "name": "stderr",
     "output_type": "stream",
     "text": [
      "The attention mask and the pad token id were not set. As a consequence, you may observe unexpected behavior. Please pass your input's `attention_mask` to obtain reliable results.\n",
      "Setting `pad_token_id` to `eos_token_id`:50256 for open-end generation.\n",
      "A decoder-only architecture is being used, but right-padding was detected! For correct generation results, please set `padding_side='left'` when initializing the tokenizer.\n"
     ]
    },
    {
     "name": "stdout",
     "output_type": "stream",
     "text": [
      "I think it's the drive, but I'm not sure.\n",
      "The words 'offer' 'sale' 'sell' 'include' 'drive' 'price' 'shipping' 'condition' are related to which common topic?\n"
     ]
    },
    {
     "name": "stderr",
     "output_type": "stream",
     "text": [
      "The attention mask and the pad token id were not set. As a consequence, you may observe unexpected behavior. Please pass your input's `attention_mask` to obtain reliable results.\n",
      "Setting `pad_token_id` to `eos_token_id`:50256 for open-end generation.\n",
      "A decoder-only architecture is being used, but right-padding was detected! For correct generation results, please set `padding_side='left'` when initializing the tokenizer.\n"
     ]
    },
    {
     "name": "stdout",
     "output_type": "stream",
     "text": [
      "I think it's a joke.\n",
      "The words 'work' 'circuit' 'ground' 'power' 'wire' 'good' 'line' 'find' are related to which common topic?\n"
     ]
    },
    {
     "name": "stderr",
     "output_type": "stream",
     "text": [
      "The attention mask and the pad token id were not set. As a consequence, you may observe unexpected behavior. Please pass your input's `attention_mask` to obtain reliable results.\n",
      "Setting `pad_token_id` to `eos_token_id`:50256 for open-end generation.\n",
      "A decoder-only architecture is being used, but right-padding was detected! For correct generation results, please set `padding_side='left'` when initializing the tokenizer.\n"
     ]
    },
    {
     "name": "stdout",
     "output_type": "stream",
     "text": [
      "I think it's a reference to the fact that the word circuit is used in the same way as the word circuit.\n",
      "The words 'window' 'file' 'run' 'driver' 'problem' 'program' 'work' 'card' are related to which common topic?\n"
     ]
    },
    {
     "name": "stderr",
     "output_type": "stream",
     "text": [
      "The attention mask and the pad token id were not set. As a consequence, you may observe unexpected behavior. Please pass your input's `attention_mask` to obtain reliable results.\n",
      "Setting `pad_token_id` to `eos_token_id`:50256 for open-end generation.\n",
      "A decoder-only architecture is being used, but right-padding was detected! For correct generation results, please set `padding_side='left'` when initializing the tokenizer.\n"
     ]
    },
    {
     "name": "stdout",
     "output_type": "stream",
     "text": [
      "Windows, Windows, Windows, Windows, Windows, Windows, Windows, Windows, Windows, Windows, Windows, Windows, Windows, Windows, Windows, Windows, Windows, Windows, Windows, Windows, Windows, Windows, Windows, Windows, Windows, Windows, Windows, Windows, Windows, Windows, Windows, Windows, Windows, Windows, Windows, Windows, Windows, Windows, Windows, Windows, Windows, Windows, Windows, Windows, Windows, Windows, Windows,\n",
      "The words 'bike' 'ride' 'dod' 'motorcycle' 'dog' 'good' 'bmw' 'work' are related to which common topic?\n"
     ]
    },
    {
     "name": "stderr",
     "output_type": "stream",
     "text": [
      "The attention mask and the pad token id were not set. As a consequence, you may observe unexpected behavior. Please pass your input's `attention_mask` to obtain reliable results.\n",
      "Setting `pad_token_id` to `eos_token_id`:50256 for open-end generation.\n",
      "A decoder-only architecture is being used, but right-padding was detected! For correct generation results, please set `padding_side='left'` when initializing the tokenizer.\n"
     ]
    },
    {
     "name": "stdout",
     "output_type": "stream",
     "text": [
      "I think it's a reference to the movie'The Big Lebowski '\n",
      "The words 'game' 'team' 'win' 'hit' 'player' 'run' 'baseball' 'good' are related to which common topic?\n"
     ]
    },
    {
     "name": "stderr",
     "output_type": "stream",
     "text": [
      "The attention mask and the pad token id were not set. As a consequence, you may observe unexpected behavior. Please pass your input's `attention_mask` to obtain reliable results.\n",
      "Setting `pad_token_id` to `eos_token_id`:50256 for open-end generation.\n",
      "A decoder-only architecture is being used, but right-padding was detected! For correct generation results, please set `padding_side='left'` when initializing the tokenizer.\n"
     ]
    },
    {
     "name": "stdout",
     "output_type": "stream",
     "text": [
      "I think it's the word'game '.\n",
      "The words 'god' 'christian' 'church' 'jesus' 'christ' 'sin' 'bible' 'give' are related to which common topic?\n"
     ]
    },
    {
     "name": "stderr",
     "output_type": "stream",
     "text": [
      "The attention mask and the pad token id were not set. As a consequence, you may observe unexpected behavior. Please pass your input's `attention_mask` to obtain reliable results.\n",
      "Setting `pad_token_id` to `eos_token_id`:50256 for open-end generation.\n",
      "A decoder-only architecture is being used, but right-padding was detected! For correct generation results, please set `padding_side='left'` when initializing the tokenizer.\n"
     ]
    },
    {
     "name": "stdout",
     "output_type": "stream",
     "text": [
      "I think it's a reference to the bible.\n",
      "The words 'gun' 'government' 'weapon' 'state' 'fire' 'law' 'firearm' 'fbi' are related to which common topic?\n"
     ]
    },
    {
     "name": "stderr",
     "output_type": "stream",
     "text": [
      "The attention mask and the pad token id were not set. As a consequence, you may observe unexpected behavior. Please pass your input's `attention_mask` to obtain reliable results.\n",
      "Setting `pad_token_id` to `eos_token_id`:50256 for open-end generation.\n",
      "A decoder-only architecture is being used, but right-padding was detected! For correct generation results, please set `padding_side='left'` when initializing the tokenizer.\n"
     ]
    },
    {
     "name": "stdout",
     "output_type": "stream",
     "text": [
      "I think it's a reference to the movie The Big Lebowski.\n",
      "The words 'image' 'file' 'graphic' 'jpeg' 'program' 'format' 'system' 'color' are related to which common topic?\n"
     ]
    },
    {
     "name": "stderr",
     "output_type": "stream",
     "text": [
      "The attention mask and the pad token id were not set. As a consequence, you may observe unexpected behavior. Please pass your input's `attention_mask` to obtain reliable results.\n",
      "Setting `pad_token_id` to `eos_token_id`:50256 for open-end generation.\n",
      "A decoder-only architecture is being used, but right-padding was detected! For correct generation results, please set `padding_side='left'` when initializing the tokenizer.\n"
     ]
    },
    {
     "name": "stdout",
     "output_type": "stream",
     "text": [
      "I think it's the file extension.\n",
      "The words 'car' 'engine' 'drive' 'good' 'buy' 'problem' 'dealer' 'price' are related to which common topic?\n"
     ]
    },
    {
     "name": "stderr",
     "output_type": "stream",
     "text": [
      "The attention mask and the pad token id were not set. As a consequence, you may observe unexpected behavior. Please pass your input's `attention_mask` to obtain reliable results.\n",
      "Setting `pad_token_id` to `eos_token_id`:50256 for open-end generation.\n",
      "A decoder-only architecture is being used, but right-padding was detected! For correct generation results, please set `padding_side='left'` when initializing the tokenizer.\n"
     ]
    },
    {
     "name": "stdout",
     "output_type": "stream",
     "text": [
      "I think it's a reference to the fact that the car is a car and the engine is a car.\n",
      "The words 'god' 'jesus' 'christian' 'fact' 'good' 'objective' 'theory' 'point' are related to which common topic?\n"
     ]
    },
    {
     "name": "stderr",
     "output_type": "stream",
     "text": [
      "The attention mask and the pad token id were not set. As a consequence, you may observe unexpected behavior. Please pass your input's `attention_mask` to obtain reliable results.\n",
      "Setting `pad_token_id` to `eos_token_id`:50256 for open-end generation.\n",
      "A decoder-only architecture is being used, but right-padding was detected! For correct generation results, please set `padding_side='left'` when initializing the tokenizer.\n"
     ]
    },
    {
     "name": "stdout",
     "output_type": "stream",
     "text": [
      "I think it's the fact that they're all the same.\n",
      "The words 'window' 'file' 'program' 'run' 'server' 'application' 'widget' 'system' are related to which common topic?\n"
     ]
    },
    {
     "name": "stderr",
     "output_type": "stream",
     "text": [
      "The attention mask and the pad token id were not set. As a consequence, you may observe unexpected behavior. Please pass your input's `attention_mask` to obtain reliable results.\n",
      "Setting `pad_token_id` to `eos_token_id`:50256 for open-end generation.\n",
      "A decoder-only architecture is being used, but right-padding was detected! For correct generation results, please set `padding_side='left'` when initializing the tokenizer.\n"
     ]
    },
    {
     "name": "stdout",
     "output_type": "stream",
     "text": [
      "I think it's a reference to the movie The Window.\n",
      "The words 'key' 'chip' 'encryption' 'government' 'system' 'clipper' 'phone' 'security' are related to which common topic?\n",
      "I think it's the government.\n",
      "Results saved: DialoGPT-medium\n"
     ]
    },
    {
     "name": "stderr",
     "output_type": "stream",
     "text": [
      "Conversation input is to long (44), trimming it to (20 - 10)\n"
     ]
    },
    {
     "name": "stdout",
     "output_type": "stream",
     "text": [
      "The words 'game' 'team' 'play' 'hockey' 'player' 'win' 'goal' 'season' are related to which common topic?\n"
     ]
    },
    {
     "name": "stderr",
     "output_type": "stream",
     "text": [
      "Conversation input is to long (49), trimming it to (20 - 10)\n"
     ]
    },
    {
     "name": "stdout",
     "output_type": "stream",
     "text": [
      "I'm not sure but I'm sure it's a common topic.\n",
      "The words 'god' 'religion' 'atheist' 'moral' 'claim' 'point' 'objective' 'good' are related to which common topic?\n"
     ]
    },
    {
     "name": "stderr",
     "output_type": "stream",
     "text": [
      "Conversation input is to long (50), trimming it to (20 - 10)\n"
     ]
    },
    {
     "name": "stdout",
     "output_type": "stream",
     "text": [
      "i'm not sure but i'm a big fan of the '\n",
      "The words 'space' 'nasa' 'launch' 'system' 'orbit' 'earth' 'mission' 'satellite' are related to which common topic?\n"
     ]
    },
    {
     "name": "stderr",
     "output_type": "stream",
     "text": [
      "Conversation input is to long (48), trimming it to (20 - 10)\n"
     ]
    },
    {
     "name": "stdout",
     "output_type": "stream",
     "text": [
      "I'm not sure, but I'm not sure what the common topic is.\n",
      "The words 'patient' 'disease' 'medical' 'doctor' 'study' 'food' 'health' 'problem' are related to which common topic?\n"
     ]
    },
    {
     "name": "stderr",
     "output_type": "stream",
     "text": [
      "Conversation input is to long (44), trimming it to (20 - 10)\n"
     ]
    },
    {
     "name": "stdout",
     "output_type": "stream",
     "text": [
      "I'm not sure but I'm not sure what the common topic is.\n",
      "The words 'government' 'president' 'state' 'law' 'work' 'give' 'man' 'american' are related to which common topic?\n"
     ]
    },
    {
     "name": "stderr",
     "output_type": "stream",
     "text": [
      "Conversation input is to long (45), trimming it to (20 - 10)\n"
     ]
    },
    {
     "name": "stdout",
     "output_type": "stream",
     "text": [
      "I'm not sure but I'm sure it's a common topic.\n",
      "The words 'mac' 'apple' 'problem' 'drive' 'system' 'work' 'monitor' 'computer' are related to which common topic?\n"
     ]
    },
    {
     "name": "stderr",
     "output_type": "stream",
     "text": [
      "Conversation input is to long (49), trimming it to (20 - 10)\n"
     ]
    },
    {
     "name": "stdout",
     "output_type": "stream",
     "text": [
      "Computers are related to the computer industry.\n",
      "The words 'armenian' 'israel' 'turkish' 'jew' 'arab' 'israeli' 'muslim' 'state' are related to which common topic?\n"
     ]
    },
    {
     "name": "stderr",
     "output_type": "stream",
     "text": [
      "Conversation input is to long (47), trimming it to (20 - 10)\n"
     ]
    },
    {
     "name": "stdout",
     "output_type": "stream",
     "text": [
      "I'm not sure but I'm sure it's a common topic.\n",
      "The words 'drive' 'card' 'system' 'problem' 'work' 'controller' 'disk' 'scsus' are related to which common topic?\n"
     ]
    },
    {
     "name": "stderr",
     "output_type": "stream",
     "text": [
      "Conversation input is to long (48), trimming it to (20 - 10)\n"
     ]
    },
    {
     "name": "stdout",
     "output_type": "stream",
     "text": [
      "I'm not sure but I'm not sure what the common topic is.\n",
      "The words 'offer' 'sale' 'sell' 'include' 'drive' 'price' 'shipping' 'condition' are related to which common topic?\n"
     ]
    },
    {
     "name": "stderr",
     "output_type": "stream",
     "text": [
      "Conversation input is to long (43), trimming it to (20 - 10)\n"
     ]
    },
    {
     "name": "stdout",
     "output_type": "stream",
     "text": [
      "i'm not sure but i'm not sure if i'm\n",
      "The words 'work' 'circuit' 'ground' 'power' 'wire' 'good' 'line' 'find' are related to which common topic?\n"
     ]
    },
    {
     "name": "stderr",
     "output_type": "stream",
     "text": [
      "Conversation input is to long (45), trimming it to (20 - 10)\n"
     ]
    },
    {
     "name": "stdout",
     "output_type": "stream",
     "text": [
      "I'm not sure but I'm not sure what the common topic is.\n",
      "The words 'window' 'file' 'run' 'driver' 'problem' 'program' 'work' 'card' are related to which common topic?\n"
     ]
    },
    {
     "name": "stderr",
     "output_type": "stream",
     "text": [
      "Conversation input is to long (46), trimming it to (20 - 10)\n"
     ]
    },
    {
     "name": "stdout",
     "output_type": "stream",
     "text": [
      "I'm not sure but I'm not sure what the common topic is.\n",
      "The words 'bike' 'ride' 'dod' 'motorcycle' 'dog' 'good' 'bmw' 'work' are related to which common topic?\n"
     ]
    },
    {
     "name": "stderr",
     "output_type": "stream",
     "text": [
      "Conversation input is to long (43), trimming it to (20 - 10)\n"
     ]
    },
    {
     "name": "stdout",
     "output_type": "stream",
     "text": [
      "I'm not sure, but I'm not sure what the common topic is.\n",
      "The words 'game' 'team' 'win' 'hit' 'player' 'run' 'baseball' 'good' are related to which common topic?\n"
     ]
    },
    {
     "name": "stderr",
     "output_type": "stream",
     "text": [
      "Conversation input is to long (49), trimming it to (20 - 10)\n"
     ]
    },
    {
     "name": "stdout",
     "output_type": "stream",
     "text": [
      "i'm not sure but i'm a big fan of the '\n",
      "The words 'god' 'christian' 'church' 'jesus' 'christ' 'sin' 'bible' 'give' are related to which common topic?\n"
     ]
    },
    {
     "name": "stderr",
     "output_type": "stream",
     "text": [
      "Conversation input is to long (47), trimming it to (20 - 10)\n"
     ]
    },
    {
     "name": "stdout",
     "output_type": "stream",
     "text": [
      "I'm not sure but I'm not sure what the common topic is.\n",
      "The words 'gun' 'government' 'weapon' 'state' 'fire' 'law' 'firearm' 'fbi' are related to which common topic?\n"
     ]
    },
    {
     "name": "stderr",
     "output_type": "stream",
     "text": [
      "Conversation input is to long (45), trimming it to (20 - 10)\n"
     ]
    },
    {
     "name": "stdout",
     "output_type": "stream",
     "text": [
      "i'm not sure but i'm a fan of r/r\n",
      "The words 'image' 'file' 'graphic' 'jpeg' 'program' 'format' 'system' 'color' are related to which common topic?\n"
     ]
    },
    {
     "name": "stderr",
     "output_type": "stream",
     "text": [
      "Conversation input is to long (44), trimming it to (20 - 10)\n"
     ]
    },
    {
     "name": "stdout",
     "output_type": "stream",
     "text": [
      "I think it's the same as the 'color' of the 'color'\n",
      "The words 'car' 'engine' 'drive' 'good' 'buy' 'problem' 'dealer' 'price' are related to which common topic?\n"
     ]
    },
    {
     "name": "stderr",
     "output_type": "stream",
     "text": [
      "Conversation input is to long (50), trimming it to (20 - 10)\n"
     ]
    },
    {
     "name": "stdout",
     "output_type": "stream",
     "text": [
      "I'm not sure, but I'm not sure what the common topic is.\n",
      "The words 'god' 'jesus' 'christian' 'fact' 'good' 'objective' 'theory' 'point' are related to which common topic?\n"
     ]
    },
    {
     "name": "stderr",
     "output_type": "stream",
     "text": [
      "Conversation input is to long (45), trimming it to (20 - 10)\n"
     ]
    },
    {
     "name": "stdout",
     "output_type": "stream",
     "text": [
      "I'm not sure but I'm not sure what the common topic is.\n",
      "The words 'window' 'file' 'program' 'run' 'server' 'application' 'widget' 'system' are related to which common topic?\n"
     ]
    },
    {
     "name": "stderr",
     "output_type": "stream",
     "text": [
      "Conversation input is to long (46), trimming it to (20 - 10)\n"
     ]
    },
    {
     "name": "stdout",
     "output_type": "stream",
     "text": [
      "i'm not sure but i'm a big fan of the '\n",
      "The words 'key' 'chip' 'encryption' 'government' 'system' 'clipper' 'phone' 'security' are related to which common topic?\n",
      "I'm not sure but I'm sure it's a common topic.\n",
      "Results saved: GODEL-v1_1-base-seq2seq\n"
     ]
    },
    {
     "name": "stderr",
     "output_type": "stream",
     "text": [
      "c:\\Users\\Virginia\\anaconda3\\lib\\site-packages\\transformers\\generation\\utils.py:1186: UserWarning: You have modified the pretrained model configuration to control generation. This is a deprecated strategy to control generation and will be removed soon, in a future version. Please use a generation configuration file (see https://huggingface.co/docs/transformers/main_classes/text_generation)\n",
      "  warnings.warn(\n",
      "The attention mask and the pad token id were not set. As a consequence, you may observe unexpected behavior. Please pass your input's `attention_mask` to obtain reliable results.\n",
      "Setting `pad_token_id` to `eos_token_id`:50256 for open-end generation.\n",
      "A decoder-only architecture is being used, but right-padding was detected! For correct generation results, please set `padding_side='left'` when initializing the tokenizer.\n"
     ]
    },
    {
     "name": "stdout",
     "output_type": "stream",
     "text": [
      "The words 'game' 'team' 'play' 'hockey' 'player' 'win' 'goal' 'season' are related to which common topic?\n"
     ]
    },
    {
     "name": "stderr",
     "output_type": "stream",
     "text": [
      "The attention mask and the pad token id were not set. As a consequence, you may observe unexpected behavior. Please pass your input's `attention_mask` to obtain reliable results.\n",
      "Setting `pad_token_id` to `eos_token_id`:50256 for open-end generation.\n",
      "A decoder-only architecture is being used, but right-padding was detected! For correct generation results, please set `padding_side='left'` when initializing the tokenizer.\n"
     ]
    },
    {
     "name": "stdout",
     "output_type": "stream",
     "text": [
      "I'm not sure what you're trying to say.\n",
      "The words 'god' 'religion' 'atheist' 'moral' 'claim' 'point' 'objective' 'good' are related to which common topic?\n"
     ]
    },
    {
     "name": "stderr",
     "output_type": "stream",
     "text": [
      "The attention mask and the pad token id were not set. As a consequence, you may observe unexpected behavior. Please pass your input's `attention_mask` to obtain reliable results.\n",
      "Setting `pad_token_id` to `eos_token_id`:50256 for open-end generation.\n",
      "A decoder-only architecture is being used, but right-padding was detected! For correct generation results, please set `padding_side='left'` when initializing the tokenizer.\n"
     ]
    },
    {
     "name": "stdout",
     "output_type": "stream",
     "text": [
      "I'm not sure what you're trying to say.\n",
      "The words 'space' 'nasa' 'launch' 'system' 'orbit' 'earth' 'mission' 'satellite' are related to which common topic?\n"
     ]
    },
    {
     "name": "stderr",
     "output_type": "stream",
     "text": [
      "The attention mask and the pad token id were not set. As a consequence, you may observe unexpected behavior. Please pass your input's `attention_mask` to obtain reliable results.\n",
      "Setting `pad_token_id` to `eos_token_id`:50256 for open-end generation.\n",
      "A decoder-only architecture is being used, but right-padding was detected! For correct generation results, please set `padding_side='left'` when initializing the tokenizer.\n"
     ]
    },
    {
     "name": "stdout",
     "output_type": "stream",
     "text": [
      "I'm not sure what you mean by that.\n",
      "The words 'patient' 'disease' 'medical' 'doctor' 'study' 'food' 'health' 'problem' are related to which common topic?\n"
     ]
    },
    {
     "name": "stderr",
     "output_type": "stream",
     "text": [
      "The attention mask and the pad token id were not set. As a consequence, you may observe unexpected behavior. Please pass your input's `attention_mask` to obtain reliable results.\n",
      "Setting `pad_token_id` to `eos_token_id`:50256 for open-end generation.\n",
      "A decoder-only architecture is being used, but right-padding was detected! For correct generation results, please set `padding_side='left'` when initializing the tokenizer.\n"
     ]
    },
    {
     "name": "stdout",
     "output_type": "stream",
     "text": [
      "I'm not sure what you mean by'problem '.\n",
      "The words 'government' 'president' 'state' 'law' 'work' 'give' 'man' 'american' are related to which common topic?\n"
     ]
    },
    {
     "name": "stderr",
     "output_type": "stream",
     "text": [
      "The attention mask and the pad token id were not set. As a consequence, you may observe unexpected behavior. Please pass your input's `attention_mask` to obtain reliable results.\n",
      "Setting `pad_token_id` to `eos_token_id`:50256 for open-end generation.\n",
      "A decoder-only architecture is being used, but right-padding was detected! For correct generation results, please set `padding_side='left'` when initializing the tokenizer.\n"
     ]
    },
    {
     "name": "stdout",
     "output_type": "stream",
     "text": [
      "I'm not sure what you're trying to say.\n",
      "The words 'mac' 'apple' 'problem' 'drive' 'system' 'work' 'monitor' 'computer' are related to which common topic?\n"
     ]
    },
    {
     "name": "stderr",
     "output_type": "stream",
     "text": [
      "The attention mask and the pad token id were not set. As a consequence, you may observe unexpected behavior. Please pass your input's `attention_mask` to obtain reliable results.\n",
      "Setting `pad_token_id` to `eos_token_id`:50256 for open-end generation.\n",
      "A decoder-only architecture is being used, but right-padding was detected! For correct generation results, please set `padding_side='left'` when initializing the tokenizer.\n"
     ]
    },
    {
     "name": "stdout",
     "output_type": "stream",
     "text": [
      "I'm not sure what you mean by this.\n",
      "The words 'armenian' 'israel' 'turkish' 'jew' 'arab' 'israeli' 'muslim' 'state' are related to which common topic?\n"
     ]
    },
    {
     "name": "stderr",
     "output_type": "stream",
     "text": [
      "The attention mask and the pad token id were not set. As a consequence, you may observe unexpected behavior. Please pass your input's `attention_mask` to obtain reliable results.\n",
      "Setting `pad_token_id` to `eos_token_id`:50256 for open-end generation.\n",
      "A decoder-only architecture is being used, but right-padding was detected! For correct generation results, please set `padding_side='left'` when initializing the tokenizer.\n"
     ]
    },
    {
     "name": "stdout",
     "output_type": "stream",
     "text": [
      "I'm not sure what you're trying to say.\n",
      "The words 'drive' 'card' 'system' 'problem' 'work' 'controller' 'disk' 'scsus' are related to which common topic?\n"
     ]
    },
    {
     "name": "stderr",
     "output_type": "stream",
     "text": [
      "The attention mask and the pad token id were not set. As a consequence, you may observe unexpected behavior. Please pass your input's `attention_mask` to obtain reliable results.\n",
      "Setting `pad_token_id` to `eos_token_id`:50256 for open-end generation.\n",
      "A decoder-only architecture is being used, but right-padding was detected! For correct generation results, please set `padding_side='left'` when initializing the tokenizer.\n"
     ]
    },
    {
     "name": "stdout",
     "output_type": "stream",
     "text": [
      "I'm not sure what you mean by this.\n",
      "The words 'offer' 'sale' 'sell' 'include' 'drive' 'price' 'shipping' 'condition' are related to which common topic?\n"
     ]
    },
    {
     "name": "stderr",
     "output_type": "stream",
     "text": [
      "The attention mask and the pad token id were not set. As a consequence, you may observe unexpected behavior. Please pass your input's `attention_mask` to obtain reliable results.\n",
      "Setting `pad_token_id` to `eos_token_id`:50256 for open-end generation.\n",
      "A decoder-only architecture is being used, but right-padding was detected! For correct generation results, please set `padding_side='left'` when initializing the tokenizer.\n"
     ]
    },
    {
     "name": "stdout",
     "output_type": "stream",
     "text": [
      "I'm not sure what you mean by this.\n",
      "The words 'work' 'circuit' 'ground' 'power' 'wire' 'good' 'line' 'find' are related to which common topic?\n"
     ]
    },
    {
     "name": "stderr",
     "output_type": "stream",
     "text": [
      "The attention mask and the pad token id were not set. As a consequence, you may observe unexpected behavior. Please pass your input's `attention_mask` to obtain reliable results.\n",
      "Setting `pad_token_id` to `eos_token_id`:50256 for open-end generation.\n",
      "A decoder-only architecture is being used, but right-padding was detected! For correct generation results, please set `padding_side='left'` when initializing the tokenizer.\n"
     ]
    },
    {
     "name": "stdout",
     "output_type": "stream",
     "text": [
      "I'm not sure what you mean by'related '.\n",
      "The words 'window' 'file' 'run' 'driver' 'problem' 'program' 'work' 'card' are related to which common topic?\n"
     ]
    },
    {
     "name": "stderr",
     "output_type": "stream",
     "text": [
      "The attention mask and the pad token id were not set. As a consequence, you may observe unexpected behavior. Please pass your input's `attention_mask` to obtain reliable results.\n",
      "Setting `pad_token_id` to `eos_token_id`:50256 for open-end generation.\n",
      "A decoder-only architecture is being used, but right-padding was detected! For correct generation results, please set `padding_side='left'` when initializing the tokenizer.\n"
     ]
    },
    {
     "name": "stdout",
     "output_type": "stream",
     "text": [
      "I'm not sure what you mean by this.\n",
      "The words 'bike' 'ride' 'dod' 'motorcycle' 'dog' 'good' 'bmw' 'work' are related to which common topic?\n"
     ]
    },
    {
     "name": "stderr",
     "output_type": "stream",
     "text": [
      "The attention mask and the pad token id were not set. As a consequence, you may observe unexpected behavior. Please pass your input's `attention_mask` to obtain reliable results.\n",
      "Setting `pad_token_id` to `eos_token_id`:50256 for open-end generation.\n",
      "A decoder-only architecture is being used, but right-padding was detected! For correct generation results, please set `padding_side='left'` when initializing the tokenizer.\n"
     ]
    },
    {
     "name": "stdout",
     "output_type": "stream",
     "text": [
      "I'm not sure what you're trying to say.\n",
      "The words 'game' 'team' 'win' 'hit' 'player' 'run' 'baseball' 'good' are related to which common topic?\n"
     ]
    },
    {
     "name": "stderr",
     "output_type": "stream",
     "text": [
      "The attention mask and the pad token id were not set. As a consequence, you may observe unexpected behavior. Please pass your input's `attention_mask` to obtain reliable results.\n",
      "Setting `pad_token_id` to `eos_token_id`:50256 for open-end generation.\n",
      "A decoder-only architecture is being used, but right-padding was detected! For correct generation results, please set `padding_side='left'` when initializing the tokenizer.\n"
     ]
    },
    {
     "name": "stdout",
     "output_type": "stream",
     "text": [
      "I'm not sure what you mean by this.\n",
      "The words 'god' 'christian' 'church' 'jesus' 'christ' 'sin' 'bible' 'give' are related to which common topic?\n"
     ]
    },
    {
     "name": "stderr",
     "output_type": "stream",
     "text": [
      "The attention mask and the pad token id were not set. As a consequence, you may observe unexpected behavior. Please pass your input's `attention_mask` to obtain reliable results.\n",
      "Setting `pad_token_id` to `eos_token_id`:50256 for open-end generation.\n",
      "A decoder-only architecture is being used, but right-padding was detected! For correct generation results, please set `padding_side='left'` when initializing the tokenizer.\n"
     ]
    },
    {
     "name": "stdout",
     "output_type": "stream",
     "text": [
      "I'm not sure if you're joking or not, but I'm pretty sure it's a joke.\n",
      "The words 'gun' 'government' 'weapon' 'state' 'fire' 'law' 'firearm' 'fbi' are related to which common topic?\n"
     ]
    },
    {
     "name": "stderr",
     "output_type": "stream",
     "text": [
      "The attention mask and the pad token id were not set. As a consequence, you may observe unexpected behavior. Please pass your input's `attention_mask` to obtain reliable results.\n",
      "Setting `pad_token_id` to `eos_token_id`:50256 for open-end generation.\n",
      "A decoder-only architecture is being used, but right-padding was detected! For correct generation results, please set `padding_side='left'` when initializing the tokenizer.\n"
     ]
    },
    {
     "name": "stdout",
     "output_type": "stream",
     "text": [
      "I'm not sure what you mean by that.\n",
      "The words 'image' 'file' 'graphic' 'jpeg' 'program' 'format' 'system' 'color' are related to which common topic?\n"
     ]
    },
    {
     "name": "stderr",
     "output_type": "stream",
     "text": [
      "The attention mask and the pad token id were not set. As a consequence, you may observe unexpected behavior. Please pass your input's `attention_mask` to obtain reliable results.\n",
      "Setting `pad_token_id` to `eos_token_id`:50256 for open-end generation.\n",
      "A decoder-only architecture is being used, but right-padding was detected! For correct generation results, please set `padding_side='left'` when initializing the tokenizer.\n"
     ]
    },
    {
     "name": "stdout",
     "output_type": "stream",
     "text": [
      "I'm not sure what you mean by this.\n",
      "The words 'car' 'engine' 'drive' 'good' 'buy' 'problem' 'dealer' 'price' are related to which common topic?\n"
     ]
    },
    {
     "name": "stderr",
     "output_type": "stream",
     "text": [
      "The attention mask and the pad token id were not set. As a consequence, you may observe unexpected behavior. Please pass your input's `attention_mask` to obtain reliable results.\n",
      "Setting `pad_token_id` to `eos_token_id`:50256 for open-end generation.\n",
      "A decoder-only architecture is being used, but right-padding was detected! For correct generation results, please set `padding_side='left'` when initializing the tokenizer.\n"
     ]
    },
    {
     "name": "stdout",
     "output_type": "stream",
     "text": [
      "I'm not sure what you mean.\n",
      "The words 'god' 'jesus' 'christian' 'fact' 'good' 'objective' 'theory' 'point' are related to which common topic?\n"
     ]
    },
    {
     "name": "stderr",
     "output_type": "stream",
     "text": [
      "The attention mask and the pad token id were not set. As a consequence, you may observe unexpected behavior. Please pass your input's `attention_mask` to obtain reliable results.\n",
      "Setting `pad_token_id` to `eos_token_id`:50256 for open-end generation.\n",
      "A decoder-only architecture is being used, but right-padding was detected! For correct generation results, please set `padding_side='left'` when initializing the tokenizer.\n"
     ]
    },
    {
     "name": "stdout",
     "output_type": "stream",
     "text": [
      "I'm not sure what you're trying to say.\n",
      "The words 'window' 'file' 'program' 'run' 'server' 'application' 'widget' 'system' are related to which common topic?\n"
     ]
    },
    {
     "name": "stderr",
     "output_type": "stream",
     "text": [
      "The attention mask and the pad token id were not set. As a consequence, you may observe unexpected behavior. Please pass your input's `attention_mask` to obtain reliable results.\n",
      "Setting `pad_token_id` to `eos_token_id`:50256 for open-end generation.\n",
      "A decoder-only architecture is being used, but right-padding was detected! For correct generation results, please set `padding_side='left'` when initializing the tokenizer.\n"
     ]
    },
    {
     "name": "stdout",
     "output_type": "stream",
     "text": [
      "I'm not sure what you mean.\n",
      "The words 'key' 'chip' 'encryption' 'government' 'system' 'clipper' 'phone' 'security' are related to which common topic?\n",
      "I'm not sure what you're trying to say.\n",
      "Results saved: DialoGPT-small\n",
      "The words 'game' 'team' 'play' 'hockey' 'player' 'win' 'goal' 'season' are related to which common topic?\n",
      "i'm not sure, but i do know that the word \" game \" was first recorded in the 10th century.\n",
      "The words 'god' 'religion' 'atheist' 'moral' 'claim' 'point' 'objective' 'good' are related to which common topic?\n",
      "i'm not sure, but i do know that the word \" god \" was first recorded in the 10th century.\n",
      "The words 'space' 'nasa' 'launch' 'system' 'orbit' 'earth' 'mission' 'satellite' are related to which common topic?\n",
      "i'm not sure, but i do know that the word \" space \" was first recorded in the 10th century.\n",
      "The words 'patient' 'disease' 'medical' 'doctor' 'study' 'food' 'health' 'problem' are related to which common topic?\n",
      "i'm not sure, but i do know that the word \" disease \" was first recorded in the 10th century.\n",
      "The words 'government' 'president' 'state' 'law' 'work' 'give' 'man' 'american' are related to which common topic?\n",
      "i'm not sure, but i do know that the president is the head of the executive branch.\n",
      "The words 'mac' 'apple' 'problem' 'drive' 'system' 'work' 'monitor' 'computer' are related to which common topic?\n",
      "i'm not sure, but i do know that apple is the world's largest computer manufacturer.\n",
      "The words 'armenian' 'israel' 'turkish' 'jew' 'arab' 'israeli' 'muslim' 'state' are related to which common topic?\n",
      "i'm not sure, but i do know that israel is a sovereign state in israel.\n",
      "The words 'drive' 'card' 'system' 'problem' 'work' 'controller' 'disk' 'scsus' are related to which common topic?\n",
      "i'm not sure, but i do know that the word \" drive \" was first recorded in the 10th century.\n",
      "The words 'offer' 'sale' 'sell' 'include' 'drive' 'price' 'shipping' 'condition' are related to which common topic?\n",
      "i'm not sure what common topic you're talking about. what do you mean?\n",
      "The words 'work' 'circuit' 'ground' 'power' 'wire' 'good' 'line' 'find' are related to which common topic?\n",
      "i'm not sure, but i do know that the word \" circuit \" was first recorded in the 10th century.\n",
      "The words 'window' 'file' 'run' 'driver' 'problem' 'program' 'work' 'card' are related to which common topic?\n",
      "i'm not sure, but i've never had a problem with my work card.\n",
      "The words 'bike' 'ride' 'dod' 'motorcycle' 'dog' 'good' 'bmw' 'work' are related to which common topic?\n",
      "i'm not sure, but i do know that bmw is one of the largest motorcycle manufacturers in the world.\n",
      "The words 'game' 'team' 'win' 'hit' 'player' 'run' 'baseball' 'good' are related to which common topic?\n",
      "i'm not sure, but i do know that the word \" game \" was first recorded in the 10th century.\n",
      "The words 'god' 'christian' 'church' 'jesus' 'christ' 'sin' 'bible' 'give' are related to which common topic?\n",
      "i'm not sure about the common topic, but i do know that the bible is the word of god.\n",
      "The words 'gun' 'government' 'weapon' 'state' 'fire' 'law' 'firearm' 'fbi' are related to which common topic?\n",
      "i'm not sure, but i do know that the term \" gun \" was first recorded in the 10th century.\n",
      "The words 'image' 'file' 'graphic' 'jpeg' 'program' 'format' 'system' 'color' are related to which common topic?\n",
      "i'm not sure, but i do know that the word \" jpg \" was first recorded in the 10th century.\n",
      "The words 'car' 'engine' 'drive' 'good' 'buy' 'problem' 'dealer' 'price' are related to which common topic?\n",
      "i'm not sure, but i do know that i've never had a problem with my car.\n",
      "The words 'god' 'jesus' 'christian' 'fact' 'good' 'objective' 'theory' 'point' are related to which common topic?\n",
      "i'm not sure what you mean by that. do you mean that the word \" god \" is related to the common topic of which common topic?\n",
      "The words 'window' 'file' 'program' 'run' 'server' 'application' 'widget' 'system' are related to which common topic?\n",
      "the word \" window \" and \" program \" are related to which common topic is the common topic.\n",
      "The words 'key' 'chip' 'encryption' 'government' 'system' 'clipper' 'phone' 'security' are related to which common topic?\n",
      "i'm not sure, but i do know that the word \" key \" was first used in the 19th century.\n",
      "Results saved: blenderbot_small-90M\n"
     ]
    },
    {
     "name": "stderr",
     "output_type": "stream",
     "text": [
      "Special tokens have been added in the vocabulary, make sure the associated word embeddings are fine-tuned or trained.\n",
      "Special tokens have been added in the vocabulary, make sure the associated word embeddings are fine-tuned or trained.\n"
     ]
    },
    {
     "name": "stdout",
     "output_type": "stream",
     "text": [
      "The words 'game' 'team' 'play' 'hockey' 'player' 'win' 'goal' 'season' are related to which common topic?\n",
      " The word \"game\" is derived from the Latin word \"gamus\" which means to play.\n",
      "The words 'god' 'religion' 'atheist' 'moral' 'claim' 'point' 'objective' 'good' are related to which common topic?\n",
      " Religion, morality, and objectivity are all related to the common topic of morality.\n",
      "The words 'space' 'nasa' 'launch' 'system' 'orbit' 'earth' 'mission' 'satellite' are related to which common topic?\n",
      " The word \"space\" is derived from the Greek words \"spheroid\" and \"spatio\"\n",
      "The words 'patient' 'disease' 'medical' 'doctor' 'study' 'food' 'health' 'problem' are related to which common topic?\n",
      " I'm not sure, but I do know that the word patient is derived from the Latin word for patient.\n",
      "The words 'government' 'president' 'state' 'law' 'work' 'give' 'man' 'american' are related to which common topic?\n",
      " The president is the head of the executive branch, the legislative branch and the judicial branch.\n",
      "The words 'mac' 'apple' 'problem' 'drive' 'system' 'work' 'monitor' 'computer' are related to which common topic?\n",
      " I'm not sure, but I do know that the Macintosh computer was first released in 1977.\n",
      "The words 'armenian' 'israel' 'turkish' 'jew' 'arab' 'israeli' 'muslim' 'state' are related to which common topic?\n",
      " I'm not sure, but I do know that Israel is the only Jewish state in the Middle East.\n",
      "The words 'drive' 'card' 'system' 'problem' 'work' 'controller' 'disk' 'scsus' are related to which common topic?\n",
      " The word drive is derived from the Latin word \"drive\" which means work.\n",
      "The words 'offer' 'sale' 'sell' 'include' 'drive' 'price' 'shipping' 'condition' are related to which common topic?\n",
      " I'm not sure, but I do know that \"offer\" and \"sale\" can be used interchangeably.\n",
      "The words 'work' 'circuit' 'ground' 'power' 'wire' 'good' 'line' 'find' are related to which common topic?\n",
      " I'm not sure, but I do know that the word \"work\" was first recorded in the 10th century.\n",
      "The words 'window' 'file' 'run' 'driver' 'problem' 'program' 'work' 'card' are related to which common topic?\n",
      " The word window is derived from the Latin word \"windus\" which means window.\n",
      "The words 'bike' 'ride' 'dod' 'motorcycle' 'dog' 'good' 'bmw' 'work' are related to which common topic?\n",
      " BMW is a German motorcycle manufacturer. I'm not sure about the others.\n",
      "The words 'game' 'team' 'win' 'hit' 'player' 'run' 'baseball' 'good' are related to which common topic?\n",
      " The word \"game\" is derived from the Latin word \"gamus\" which means \"to play\"\n",
      "The words 'god' 'christian' 'church' 'jesus' 'christ' 'sin' 'bible' 'give' are related to which common topic?\n",
      " Christianity is a religion based on the teachings of Jesus of Nazareth, the Son of God.\n",
      "The words 'gun' 'government' 'weapon' 'state' 'fire' 'law' 'firearm' 'fbi' are related to which common topic?\n",
      " The FBI is the Federal Bureau of Investigation, so I guess that one.\n",
      "The words 'image' 'file' 'graphic' 'jpeg' 'program' 'format' 'system' 'color' are related to which common topic?\n",
      " I'm not sure, but I do know that the word \"image\" was first recorded in the 10th century.\n",
      "The words 'car' 'engine' 'drive' 'good' 'buy' 'problem' 'dealer' 'price' are related to which common topic?\n",
      " The word \"car\" is derived from the Latin word \"carta\".\n",
      "The words 'god' 'jesus' 'christian' 'fact' 'good' 'objective' 'theory' 'point' are related to which common topic?\n",
      " I'm not sure what you mean by that, but I do know that Christianity is the world's largest religion with over 2.4 billion followers.\n",
      "The words 'window' 'file' 'program' 'run' 'server' 'application' 'widget' 'system' are related to which common topic?\n",
      " I'm not sure, but I do know that Windows is the most widely used operating system in the world.\n",
      "The words 'key' 'chip' 'encryption' 'government' 'system' 'clipper' 'phone' 'security' are related to which common topic?\n",
      " Key, chip, encryption, system, clipper, phone, and security are all related to security.\n",
      "Results saved: blenderbot-3B\n"
     ]
    },
    {
     "name": "stderr",
     "output_type": "stream",
     "text": [
      "c:\\Users\\Virginia\\anaconda3\\lib\\site-packages\\transformers\\generation\\utils.py:1186: UserWarning: You have modified the pretrained model configuration to control generation. This is a deprecated strategy to control generation and will be removed soon, in a future version. Please use a generation configuration file (see https://huggingface.co/docs/transformers/main_classes/text_generation)\n",
      "  warnings.warn(\n",
      "The attention mask and the pad token id were not set. As a consequence, you may observe unexpected behavior. Please pass your input's `attention_mask` to obtain reliable results.\n",
      "Setting `pad_token_id` to `eos_token_id`:50256 for open-end generation.\n",
      "A decoder-only architecture is being used, but right-padding was detected! For correct generation results, please set `padding_side='left'` when initializing the tokenizer.\n"
     ]
    },
    {
     "name": "stdout",
     "output_type": "stream",
     "text": [
      "The words 'game' 'team' 'play' 'hockey' 'player' 'win' 'goal' 'season' are related to which common topic?\n"
     ]
    },
    {
     "name": "stderr",
     "output_type": "stream",
     "text": [
      "The attention mask and the pad token id were not set. As a consequence, you may observe unexpected behavior. Please pass your input's `attention_mask` to obtain reliable results.\n",
      "Setting `pad_token_id` to `eos_token_id`:50256 for open-end generation.\n",
      "A decoder-only architecture is being used, but right-padding was detected! For correct generation results, please set `padding_side='left'` when initializing the tokenizer.\n"
     ]
    },
    {
     "name": "stdout",
     "output_type": "stream",
     "text": [
      "I think it's a reference to the word'win '.\n",
      "The words 'god' 'religion' 'atheist' 'moral' 'claim' 'point' 'objective' 'good' are related to which common topic?\n"
     ]
    },
    {
     "name": "stderr",
     "output_type": "stream",
     "text": [
      "The attention mask and the pad token id were not set. As a consequence, you may observe unexpected behavior. Please pass your input's `attention_mask` to obtain reliable results.\n",
      "Setting `pad_token_id` to `eos_token_id`:50256 for open-end generation.\n",
      "A decoder-only architecture is being used, but right-padding was detected! For correct generation results, please set `padding_side='left'` when initializing the tokenizer.\n"
     ]
    },
    {
     "name": "stdout",
     "output_type": "stream",
     "text": [
      "I think he means that the claims are not objective.\n",
      "The words 'space' 'nasa' 'launch' 'system' 'orbit' 'earth' 'mission' 'satellite' are related to which common topic?\n"
     ]
    },
    {
     "name": "stderr",
     "output_type": "stream",
     "text": [
      "The attention mask and the pad token id were not set. As a consequence, you may observe unexpected behavior. Please pass your input's `attention_mask` to obtain reliable results.\n",
      "Setting `pad_token_id` to `eos_token_id`:50256 for open-end generation.\n",
      "A decoder-only architecture is being used, but right-padding was detected! For correct generation results, please set `padding_side='left'` when initializing the tokenizer.\n"
     ]
    },
    {
     "name": "stdout",
     "output_type": "stream",
     "text": [
      "I think he means the word'space '.\n",
      "The words 'patient' 'disease' 'medical' 'doctor' 'study' 'food' 'health' 'problem' are related to which common topic?\n"
     ]
    },
    {
     "name": "stderr",
     "output_type": "stream",
     "text": [
      "The attention mask and the pad token id were not set. As a consequence, you may observe unexpected behavior. Please pass your input's `attention_mask` to obtain reliable results.\n",
      "Setting `pad_token_id` to `eos_token_id`:50256 for open-end generation.\n",
      "A decoder-only architecture is being used, but right-padding was detected! For correct generation results, please set `padding_side='left'` when initializing the tokenizer.\n"
     ]
    },
    {
     "name": "stdout",
     "output_type": "stream",
     "text": [
      "I think it's a reference to the movie The Last Airbender.\n",
      "The words 'government' 'president' 'state' 'law' 'work' 'give' 'man' 'american' are related to which common topic?\n"
     ]
    },
    {
     "name": "stderr",
     "output_type": "stream",
     "text": [
      "The attention mask and the pad token id were not set. As a consequence, you may observe unexpected behavior. Please pass your input's `attention_mask` to obtain reliable results.\n",
      "Setting `pad_token_id` to `eos_token_id`:50256 for open-end generation.\n",
      "A decoder-only architecture is being used, but right-padding was detected! For correct generation results, please set `padding_side='left'` when initializing the tokenizer.\n"
     ]
    },
    {
     "name": "stdout",
     "output_type": "stream",
     "text": [
      "I think he means'government '.\n",
      "The words 'mac' 'apple' 'problem' 'drive' 'system' 'work' 'monitor' 'computer' are related to which common topic?\n"
     ]
    },
    {
     "name": "stderr",
     "output_type": "stream",
     "text": [
      "The attention mask and the pad token id were not set. As a consequence, you may observe unexpected behavior. Please pass your input's `attention_mask` to obtain reliable results.\n",
      "Setting `pad_token_id` to `eos_token_id`:50256 for open-end generation.\n",
      "A decoder-only architecture is being used, but right-padding was detected! For correct generation results, please set `padding_side='left'` when initializing the tokenizer.\n"
     ]
    },
    {
     "name": "stdout",
     "output_type": "stream",
     "text": [
      "I think he means that the problem is a problem.\n",
      "The words 'armenian' 'israel' 'turkish' 'jew' 'arab' 'israeli' 'muslim' 'state' are related to which common topic?\n"
     ]
    },
    {
     "name": "stderr",
     "output_type": "stream",
     "text": [
      "The attention mask and the pad token id were not set. As a consequence, you may observe unexpected behavior. Please pass your input's `attention_mask` to obtain reliable results.\n",
      "Setting `pad_token_id` to `eos_token_id`:50256 for open-end generation.\n",
      "A decoder-only architecture is being used, but right-padding was detected! For correct generation results, please set `padding_side='left'` when initializing the tokenizer.\n"
     ]
    },
    {
     "name": "stdout",
     "output_type": "stream",
     "text": [
      "The common topic is the same as the common topic of the discussion.\n",
      "The words 'drive' 'card' 'system' 'problem' 'work' 'controller' 'disk' 'scsus' are related to which common topic?\n"
     ]
    },
    {
     "name": "stderr",
     "output_type": "stream",
     "text": [
      "The attention mask and the pad token id were not set. As a consequence, you may observe unexpected behavior. Please pass your input's `attention_mask` to obtain reliable results.\n",
      "Setting `pad_token_id` to `eos_token_id`:50256 for open-end generation.\n",
      "A decoder-only architecture is being used, but right-padding was detected! For correct generation results, please set `padding_side='left'` when initializing the tokenizer.\n"
     ]
    },
    {
     "name": "stdout",
     "output_type": "stream",
     "text": [
      "I think he means the problem of the problem.\n",
      "The words 'offer' 'sale' 'sell' 'include' 'drive' 'price' 'shipping' 'condition' are related to which common topic?\n"
     ]
    },
    {
     "name": "stderr",
     "output_type": "stream",
     "text": [
      "The attention mask and the pad token id were not set. As a consequence, you may observe unexpected behavior. Please pass your input's `attention_mask` to obtain reliable results.\n",
      "Setting `pad_token_id` to `eos_token_id`:50256 for open-end generation.\n",
      "A decoder-only architecture is being used, but right-padding was detected! For correct generation results, please set `padding_side='left'` when initializing the tokenizer.\n"
     ]
    },
    {
     "name": "stdout",
     "output_type": "stream",
     "text": [
      "I think it's the word'offer '.\n",
      "The words 'work' 'circuit' 'ground' 'power' 'wire' 'good' 'line' 'find' are related to which common topic?\n"
     ]
    },
    {
     "name": "stderr",
     "output_type": "stream",
     "text": [
      "The attention mask and the pad token id were not set. As a consequence, you may observe unexpected behavior. Please pass your input's `attention_mask` to obtain reliable results.\n",
      "Setting `pad_token_id` to `eos_token_id`:50256 for open-end generation.\n",
      "A decoder-only architecture is being used, but right-padding was detected! For correct generation results, please set `padding_side='left'` when initializing the tokenizer.\n"
     ]
    },
    {
     "name": "stdout",
     "output_type": "stream",
     "text": [
      "I think it's a reference to the show'The IT Crowd '.\n",
      "The words 'window' 'file' 'run' 'driver' 'problem' 'program' 'work' 'card' are related to which common topic?\n"
     ]
    },
    {
     "name": "stderr",
     "output_type": "stream",
     "text": [
      "The attention mask and the pad token id were not set. As a consequence, you may observe unexpected behavior. Please pass your input's `attention_mask` to obtain reliable results.\n",
      "Setting `pad_token_id` to `eos_token_id`:50256 for open-end generation.\n",
      "A decoder-only architecture is being used, but right-padding was detected! For correct generation results, please set `padding_side='left'` when initializing the tokenizer.\n"
     ]
    },
    {
     "name": "stdout",
     "output_type": "stream",
     "text": [
      "I think he means the problem is a problem.\n",
      "The words 'bike' 'ride' 'dod' 'motorcycle' 'dog' 'good' 'bmw' 'work' are related to which common topic?\n"
     ]
    },
    {
     "name": "stderr",
     "output_type": "stream",
     "text": [
      "The attention mask and the pad token id were not set. As a consequence, you may observe unexpected behavior. Please pass your input's `attention_mask` to obtain reliable results.\n",
      "Setting `pad_token_id` to `eos_token_id`:50256 for open-end generation.\n",
      "A decoder-only architecture is being used, but right-padding was detected! For correct generation results, please set `padding_side='left'` when initializing the tokenizer.\n"
     ]
    },
    {
     "name": "stdout",
     "output_type": "stream",
     "text": [
      "I think he means that he's a cyclist.\n",
      "The words 'game' 'team' 'win' 'hit' 'player' 'run' 'baseball' 'good' are related to which common topic?\n"
     ]
    },
    {
     "name": "stderr",
     "output_type": "stream",
     "text": [
      "The attention mask and the pad token id were not set. As a consequence, you may observe unexpected behavior. Please pass your input's `attention_mask` to obtain reliable results.\n",
      "Setting `pad_token_id` to `eos_token_id`:50256 for open-end generation.\n",
      "A decoder-only architecture is being used, but right-padding was detected! For correct generation results, please set `padding_side='left'` when initializing the tokenizer.\n"
     ]
    },
    {
     "name": "stdout",
     "output_type": "stream",
     "text": [
      "I think it's a reference to the game of life.\n",
      "The words 'god' 'christian' 'church' 'jesus' 'christ' 'sin' 'bible' 'give' are related to which common topic?\n"
     ]
    },
    {
     "name": "stderr",
     "output_type": "stream",
     "text": [
      "The attention mask and the pad token id were not set. As a consequence, you may observe unexpected behavior. Please pass your input's `attention_mask` to obtain reliable results.\n",
      "Setting `pad_token_id` to `eos_token_id`:50256 for open-end generation.\n",
      "A decoder-only architecture is being used, but right-padding was detected! For correct generation results, please set `padding_side='left'` when initializing the tokenizer.\n"
     ]
    },
    {
     "name": "stdout",
     "output_type": "stream",
     "text": [
      "I think it's the word''''''''''''''''''''''''''''''''''''''''''''''''''''''''''''''''''''''''''''''''''''\n",
      "The words 'gun' 'government' 'weapon' 'state' 'fire' 'law' 'firearm' 'fbi' are related to which common topic?\n"
     ]
    },
    {
     "name": "stderr",
     "output_type": "stream",
     "text": [
      "The attention mask and the pad token id were not set. As a consequence, you may observe unexpected behavior. Please pass your input's `attention_mask` to obtain reliable results.\n",
      "Setting `pad_token_id` to `eos_token_id`:50256 for open-end generation.\n",
      "A decoder-only architecture is being used, but right-padding was detected! For correct generation results, please set `padding_side='left'` when initializing the tokenizer.\n"
     ]
    },
    {
     "name": "stdout",
     "output_type": "stream",
     "text": [
      "The common topic is the common topic.\n",
      "The words 'image' 'file' 'graphic' 'jpeg' 'program' 'format' 'system' 'color' are related to which common topic?\n"
     ]
    },
    {
     "name": "stderr",
     "output_type": "stream",
     "text": [
      "The attention mask and the pad token id were not set. As a consequence, you may observe unexpected behavior. Please pass your input's `attention_mask` to obtain reliable results.\n",
      "Setting `pad_token_id` to `eos_token_id`:50256 for open-end generation.\n",
      "A decoder-only architecture is being used, but right-padding was detected! For correct generation results, please set `padding_side='left'` when initializing the tokenizer.\n"
     ]
    },
    {
     "name": "stdout",
     "output_type": "stream",
     "text": [
      "I think it's a reference to the old Windows 98 joke.\n",
      "The words 'car' 'engine' 'drive' 'good' 'buy' 'problem' 'dealer' 'price' are related to which common topic?\n"
     ]
    },
    {
     "name": "stderr",
     "output_type": "stream",
     "text": [
      "The attention mask and the pad token id were not set. As a consequence, you may observe unexpected behavior. Please pass your input's `attention_mask` to obtain reliable results.\n",
      "Setting `pad_token_id` to `eos_token_id`:50256 for open-end generation.\n",
      "A decoder-only architecture is being used, but right-padding was detected! For correct generation results, please set `padding_side='left'` when initializing the tokenizer.\n"
     ]
    },
    {
     "name": "stdout",
     "output_type": "stream",
     "text": [
      "I think he means the price of the car.\n",
      "The words 'god' 'jesus' 'christian' 'fact' 'good' 'objective' 'theory' 'point' are related to which common topic?\n"
     ]
    },
    {
     "name": "stderr",
     "output_type": "stream",
     "text": [
      "The attention mask and the pad token id were not set. As a consequence, you may observe unexpected behavior. Please pass your input's `attention_mask` to obtain reliable results.\n",
      "Setting `pad_token_id` to `eos_token_id`:50256 for open-end generation.\n",
      "A decoder-only architecture is being used, but right-padding was detected! For correct generation results, please set `padding_side='left'` when initializing the tokenizer.\n"
     ]
    },
    {
     "name": "stdout",
     "output_type": "stream",
     "text": [
      "I think he means that the fact that the bible is a fact is a fact.\n",
      "The words 'window' 'file' 'program' 'run' 'server' 'application' 'widget' 'system' are related to which common topic?\n"
     ]
    },
    {
     "name": "stderr",
     "output_type": "stream",
     "text": [
      "The attention mask and the pad token id were not set. As a consequence, you may observe unexpected behavior. Please pass your input's `attention_mask` to obtain reliable results.\n",
      "Setting `pad_token_id` to `eos_token_id`:50256 for open-end generation.\n",
      "A decoder-only architecture is being used, but right-padding was detected! For correct generation results, please set `padding_side='left'` when initializing the tokenizer.\n"
     ]
    },
    {
     "name": "stdout",
     "output_type": "stream",
     "text": [
      "I think he means the application to run the application.\n",
      "The words 'key' 'chip' 'encryption' 'government' 'system' 'clipper' 'phone' 'security' are related to which common topic?\n",
      "I think he means the common topic of the discussion.\n",
      "Results saved: DialoGPT-large\n"
     ]
    },
    {
     "name": "stderr",
     "output_type": "stream",
     "text": [
      "Conversation input is to long (44), trimming it to (20 - 10)\n"
     ]
    },
    {
     "name": "stdout",
     "output_type": "stream",
     "text": [
      "The words 'game' 'team' 'play' 'hockey' 'player' 'win' 'goal' 'season' are related to which common topic?\n"
     ]
    },
    {
     "name": "stderr",
     "output_type": "stream",
     "text": [
      "Conversation input is to long (49), trimming it to (20 - 10)\n"
     ]
    },
    {
     "name": "stdout",
     "output_type": "stream",
     "text": [
      "Seasons are related to the seasons of the year.\n",
      "The words 'god' 'religion' 'atheist' 'moral' 'claim' 'point' 'objective' 'good' are related to which common topic?\n"
     ]
    },
    {
     "name": "stderr",
     "output_type": "stream",
     "text": [
      "Conversation input is to long (50), trimming it to (20 - 10)\n"
     ]
    },
    {
     "name": "stdout",
     "output_type": "stream",
     "text": [
      "Good and good are related to the same topic.\n",
      "The words 'space' 'nasa' 'launch' 'system' 'orbit' 'earth' 'mission' 'satellite' are related to which common topic?\n"
     ]
    },
    {
     "name": "stderr",
     "output_type": "stream",
     "text": [
      "Conversation input is to long (48), trimming it to (20 - 10)\n"
     ]
    },
    {
     "name": "stdout",
     "output_type": "stream",
     "text": [
      "'Sexy' and'sexy' are related to which common topic\n",
      "The words 'patient' 'disease' 'medical' 'doctor' 'study' 'food' 'health' 'problem' are related to which common topic?\n"
     ]
    },
    {
     "name": "stderr",
     "output_type": "stream",
     "text": [
      "Conversation input is to long (44), trimming it to (20 - 10)\n"
     ]
    },
    {
     "name": "stdout",
     "output_type": "stream",
     "text": [
      "The common topic is 'problem'\n",
      "The words 'government' 'president' 'state' 'law' 'work' 'give' 'man' 'american' are related to which common topic?\n"
     ]
    },
    {
     "name": "stderr",
     "output_type": "stream",
     "text": [
      "Conversation input is to long (45), trimming it to (20 - 10)\n"
     ]
    },
    {
     "name": "stdout",
     "output_type": "stream",
     "text": [
      "'N' is related to which common topic?\n",
      "The words 'mac' 'apple' 'problem' 'drive' 'system' 'work' 'monitor' 'computer' are related to which common topic?\n"
     ]
    },
    {
     "name": "stderr",
     "output_type": "stream",
     "text": [
      "Conversation input is to long (49), trimming it to (20 - 10)\n"
     ]
    },
    {
     "name": "stdout",
     "output_type": "stream",
     "text": [
      "Computers are related to the same topic as computers.\n",
      "The words 'armenian' 'israel' 'turkish' 'jew' 'arab' 'israeli' 'muslim' 'state' are related to which common topic?\n"
     ]
    },
    {
     "name": "stderr",
     "output_type": "stream",
     "text": [
      "Conversation input is to long (47), trimming it to (20 - 10)\n"
     ]
    },
    {
     "name": "stdout",
     "output_type": "stream",
     "text": [
      "State is related to what common topic?\n",
      "The words 'drive' 'card' 'system' 'problem' 'work' 'controller' 'disk' 'scsus' are related to which common topic?\n"
     ]
    },
    {
     "name": "stderr",
     "output_type": "stream",
     "text": [
      "Conversation input is to long (48), trimming it to (20 - 10)\n"
     ]
    },
    {
     "name": "stdout",
     "output_type": "stream",
     "text": [
      "'Sex' and'sex' are related to which common topic?\n",
      "The words 'offer' 'sale' 'sell' 'include' 'drive' 'price' 'shipping' 'condition' are related to which common topic?\n"
     ]
    },
    {
     "name": "stderr",
     "output_type": "stream",
     "text": [
      "Conversation input is to long (43), trimming it to (20 - 10)\n"
     ]
    },
    {
     "name": "stdout",
     "output_type": "stream",
     "text": [
      "'condition' is related to which common topic?\n",
      "The words 'work' 'circuit' 'ground' 'power' 'wire' 'good' 'line' 'find' are related to which common topic?\n"
     ]
    },
    {
     "name": "stderr",
     "output_type": "stream",
     "text": [
      "Conversation input is to long (45), trimming it to (20 - 10)\n"
     ]
    },
    {
     "name": "stdout",
     "output_type": "stream",
     "text": [
      "'find' is related to which common topic?\n",
      "The words 'window' 'file' 'run' 'driver' 'problem' 'program' 'work' 'card' are related to which common topic?\n"
     ]
    },
    {
     "name": "stderr",
     "output_type": "stream",
     "text": [
      "Conversation input is to long (46), trimming it to (20 - 10)\n"
     ]
    },
    {
     "name": "stdout",
     "output_type": "stream",
     "text": [
      "The common topic is'sex'\n",
      "The words 'bike' 'ride' 'dod' 'motorcycle' 'dog' 'good' 'bmw' 'work' are related to which common topic?\n"
     ]
    },
    {
     "name": "stderr",
     "output_type": "stream",
     "text": [
      "Conversation input is to long (43), trimming it to (20 - 10)\n"
     ]
    },
    {
     "name": "stdout",
     "output_type": "stream",
     "text": [
      "Work is related to what common topic?\n",
      "The words 'game' 'team' 'win' 'hit' 'player' 'run' 'baseball' 'good' are related to which common topic?\n"
     ]
    },
    {
     "name": "stderr",
     "output_type": "stream",
     "text": [
      "Conversation input is to long (49), trimming it to (20 - 10)\n"
     ]
    },
    {
     "name": "stdout",
     "output_type": "stream",
     "text": [
      "Good and good are related to the same topic.\n",
      "The words 'god' 'christian' 'church' 'jesus' 'christ' 'sin' 'bible' 'give' are related to which common topic?\n"
     ]
    },
    {
     "name": "stderr",
     "output_type": "stream",
     "text": [
      "Conversation input is to long (47), trimming it to (20 - 10)\n"
     ]
    },
    {
     "name": "stdout",
     "output_type": "stream",
     "text": [
      "'give' and 'give' are related to which common topic?\n",
      "The words 'gun' 'government' 'weapon' 'state' 'fire' 'law' 'firearm' 'fbi' are related to which common topic?\n"
     ]
    },
    {
     "name": "stderr",
     "output_type": "stream",
     "text": [
      "Conversation input is to long (45), trimming it to (20 - 10)\n"
     ]
    },
    {
     "name": "stdout",
     "output_type": "stream",
     "text": [
      "i'm related to which common topic\n",
      "The words 'image' 'file' 'graphic' 'jpeg' 'program' 'format' 'system' 'color' are related to which common topic?\n"
     ]
    },
    {
     "name": "stderr",
     "output_type": "stream",
     "text": [
      "Conversation input is to long (44), trimming it to (20 - 10)\n"
     ]
    },
    {
     "name": "stdout",
     "output_type": "stream",
     "text": [
      "Color is related to the color of the sky\n",
      "The words 'car' 'engine' 'drive' 'good' 'buy' 'problem' 'dealer' 'price' are related to which common topic?\n"
     ]
    },
    {
     "name": "stderr",
     "output_type": "stream",
     "text": [
      "Conversation input is to long (50), trimming it to (20 - 10)\n"
     ]
    },
    {
     "name": "stdout",
     "output_type": "stream",
     "text": [
      "'Rice' is related to which common topic?\n",
      "The words 'god' 'jesus' 'christian' 'fact' 'good' 'objective' 'theory' 'point' are related to which common topic?\n"
     ]
    },
    {
     "name": "stderr",
     "output_type": "stream",
     "text": [
      "Conversation input is to long (45), trimming it to (20 - 10)\n"
     ]
    },
    {
     "name": "stdout",
     "output_type": "stream",
     "text": [
      "The common topic is 'the '\n",
      "The words 'window' 'file' 'program' 'run' 'server' 'application' 'widget' 'system' are related to which common topic?\n"
     ]
    },
    {
     "name": "stderr",
     "output_type": "stream",
     "text": [
      "Conversation input is to long (46), trimming it to (20 - 10)\n"
     ]
    },
    {
     "name": "stdout",
     "output_type": "stream",
     "text": [
      "'system' is related to which common topic?\n",
      "The words 'key' 'chip' 'encryption' 'government' 'system' 'clipper' 'phone' 'security' are related to which common topic?\n",
      "Security is related to the topic of security.\n",
      "Results saved: GODEL-v1_1-large-seq2seq\n",
      "The words 'game' 'team' 'play' 'hockey' 'player' 'win' 'goal' 'season' 'fan' are related to which common topic?\n",
      " Hockey is a team sport played on ice, usually in a rink, in which two teams of skaters use their sticks to shoot a rubber puck into a net.\n",
      "The words 'god' 'religion' 'atheist' 'moral' 'claim' 'point' 'objective' 'good' 'belief' are related to which common topic?\n",
      " I'm not sure, but I do know that the word \"god\" has been in use since the 10th century.\n",
      "The words 'space' 'nasa' 'launch' 'system' 'orbit' 'earth' 'mission' 'satellite' 'shuttle' are related to which common topic?\n",
      " I'm not sure, but I do know that the word \"space\" was first recorded in the 10th century.\n",
      "The words 'patient' 'disease' 'medical' 'doctor' 'study' 'food' 'health' 'problem' 'effect' are related to which common topic?\n",
      " I'm not sure, but I do know that the word \"disorder\" is derived from the Latin word \"patio\".\n",
      "The words 'government' 'president' 'state' 'law' 'work' 'give' 'man' 'american' 'drug' are related to which common topic?\n",
      " I'm not sure, but I do know that the word \"drug\" was first recorded in the 10th century in a Latin manuscript from the Southern Italy town of Gaeta in Lazio.\n",
      "The words 'mac' 'apple' 'problem' 'drive' 'system' 'work' 'monitor' 'computer' 'card' are related to which common topic?\n"
     ]
    },
    {
     "name": "stderr",
     "output_type": "stream",
     "text": [
      "Conversation input is to long (51), trimming it to (60 - 10)\n"
     ]
    },
    {
     "name": "stdout",
     "output_type": "stream",
     "text": [
      " I'm not sure, but I do know that the word \"mac\" was first recorded in the 10th century.\n",
      "The words 'armenian' 'israel' 'turkish' 'jew' 'arab' 'israeli' 'muslim' 'state' 'kill' are related to which common topic?\n",
      " I'm not sure, but I do know that the word \"armenia\" means \"little armoured one\" in Latin.\n",
      "The words 'drive' 'card' 'system' 'problem' 'work' 'controller' 'disk' 'scsus' 'ide' are related to which common topic?\n",
      " I'm not sure, but I do know that the word \"driving\" was first recorded in the 10th century in a Latin manuscript from the Southern Italy town of Gaeta in Lazio.\n",
      "The words 'offer' 'sale' 'sell' 'include' 'drive' 'price' 'shipping' 'condition' 'system' are related to which common topic?\n",
      " I'm not sure, but I do know that the word \"sale\" is derived from the Latin word \"offer\" which means \"work\".\n",
      "The words 'work' 'circuit' 'ground' 'power' 'wire' 'good' 'line' 'find' 'battery' are related to which common topic?\n",
      " I'm not sure, but I do know that the word \"work\" was first recorded in the 10th century.\n",
      "The words 'window' 'file' 'run' 'driver' 'problem' 'program' 'work' 'card' 'system' are related to which common topic?\n",
      " I'm not sure, but I do know that the word \"file\" is derived from the Latin word \"flavour\".\n",
      "The words 'bike' 'ride' 'dod' 'motorcycle' 'dog' 'good' 'bmw' 'work' 'rider' are related to which common topic?\n",
      " The word \"bike\" is derived from the Latin word bicycle.\n",
      "The words 'game' 'team' 'win' 'hit' 'player' 'run' 'baseball' 'good' 'play' are related to which common topic?\n",
      " I'm not sure, but I do know that the game is played between two teams of nine players each.\n",
      "The words 'god' 'christian' 'church' 'jesus' 'christ' 'sin' 'bible' 'give' 'question' are related to which common topic?\n",
      " I'm not sure, but I do know that Christianity is the world's largest religion with over 2.4 billion followers.\n",
      "The words 'gun' 'government' 'weapon' 'state' 'fire' 'law' 'firearm' 'fbi' 'child' are related to which common topic?\n",
      " I'm not sure, but I do know that the term \"family\" has been around since the 10th century.\n",
      "The words 'image' 'file' 'graphic' 'jpeg' 'program' 'format' 'system' 'color' 'datum' are related to which common topic?\n",
      " The word \"file\" is derived from the Latin word \"graviolet\".\n",
      "The words 'car' 'engine' 'drive' 'good' 'buy' 'problem' 'dealer' 'price' 'work' are related to which common topic?\n",
      " I'm not sure, but I do know that the word \"engineer\" was first recorded in the 10th century.\n",
      "The words 'god' 'jesus' 'christian' 'fact' 'good' 'objective' 'theory' 'point' 'life' are related to which common topic?\n",
      " I'm not sure, but I do know that Christianity is the world's largest religion with over 2.4 billion followers.\n",
      "The words 'window' 'file' 'program' 'run' 'server' 'application' 'widget' 'system' 'display' are related to which common topic?\n",
      " I'm not sure, but I do know that the word \"widow\" is derived from the Latin word for wife.\n",
      "The words 'key' 'chip' 'encryption' 'government' 'system' 'clipper' 'phone' 'security' 'law' are related to which common topic?\n",
      " I'm not sure, but I do know that the word \"chip\" was first recorded in the 10th century.\n",
      "Results saved: blenderbot-400M-distill\n"
     ]
    },
    {
     "name": "stderr",
     "output_type": "stream",
     "text": [
      "c:\\Users\\Virginia\\anaconda3\\lib\\site-packages\\transformers\\generation\\utils.py:1186: UserWarning: You have modified the pretrained model configuration to control generation. This is a deprecated strategy to control generation and will be removed soon, in a future version. Please use a generation configuration file (see https://huggingface.co/docs/transformers/main_classes/text_generation)\n",
      "  warnings.warn(\n",
      "The attention mask and the pad token id were not set. As a consequence, you may observe unexpected behavior. Please pass your input's `attention_mask` to obtain reliable results.\n",
      "Setting `pad_token_id` to `eos_token_id`:50256 for open-end generation.\n",
      "A decoder-only architecture is being used, but right-padding was detected! For correct generation results, please set `padding_side='left'` when initializing the tokenizer.\n"
     ]
    },
    {
     "name": "stdout",
     "output_type": "stream",
     "text": [
      "The words 'game' 'team' 'play' 'hockey' 'player' 'win' 'goal' 'season' 'fan' are related to which common topic?\n"
     ]
    },
    {
     "name": "stderr",
     "output_type": "stream",
     "text": [
      "The attention mask and the pad token id were not set. As a consequence, you may observe unexpected behavior. Please pass your input's `attention_mask` to obtain reliable results.\n",
      "Setting `pad_token_id` to `eos_token_id`:50256 for open-end generation.\n",
      "A decoder-only architecture is being used, but right-padding was detected! For correct generation results, please set `padding_side='left'` when initializing the tokenizer.\n"
     ]
    },
    {
     "name": "stdout",
     "output_type": "stream",
     "text": [
      "I think it's the word'game '.\n",
      "The words 'god' 'religion' 'atheist' 'moral' 'claim' 'point' 'objective' 'good' 'belief' are related to which common topic?\n"
     ]
    },
    {
     "name": "stderr",
     "output_type": "stream",
     "text": [
      "The attention mask and the pad token id were not set. As a consequence, you may observe unexpected behavior. Please pass your input's `attention_mask` to obtain reliable results.\n",
      "Setting `pad_token_id` to `eos_token_id`:50256 for open-end generation.\n",
      "A decoder-only architecture is being used, but right-padding was detected! For correct generation results, please set `padding_side='left'` when initializing the tokenizer.\n"
     ]
    },
    {
     "name": "stdout",
     "output_type": "stream",
     "text": [
      "I think it's the word'religion '.\n",
      "The words 'space' 'nasa' 'launch' 'system' 'orbit' 'earth' 'mission' 'satellite' 'shuttle' are related to which common topic?\n"
     ]
    },
    {
     "name": "stderr",
     "output_type": "stream",
     "text": [
      "The attention mask and the pad token id were not set. As a consequence, you may observe unexpected behavior. Please pass your input's `attention_mask` to obtain reliable results.\n",
      "Setting `pad_token_id` to `eos_token_id`:50256 for open-end generation.\n",
      "A decoder-only architecture is being used, but right-padding was detected! For correct generation results, please set `padding_side='left'` when initializing the tokenizer.\n"
     ]
    },
    {
     "name": "stdout",
     "output_type": "stream",
     "text": [
      "I think it's the word'shuttle '.\n",
      "The words 'patient' 'disease' 'medical' 'doctor' 'study' 'food' 'health' 'problem' 'effect' are related to which common topic?\n"
     ]
    },
    {
     "name": "stderr",
     "output_type": "stream",
     "text": [
      "The attention mask and the pad token id were not set. As a consequence, you may observe unexpected behavior. Please pass your input's `attention_mask` to obtain reliable results.\n",
      "Setting `pad_token_id` to `eos_token_id`:50256 for open-end generation.\n",
      "A decoder-only architecture is being used, but right-padding was detected! For correct generation results, please set `padding_side='left'` when initializing the tokenizer.\n"
     ]
    },
    {
     "name": "stdout",
     "output_type": "stream",
     "text": [
      "I think it's a reference to the fact that the word'patient'is used in the same way as'disease '.\n",
      "The words 'government' 'president' 'state' 'law' 'work' 'give' 'man' 'american' 'drug' are related to which common topic?\n"
     ]
    },
    {
     "name": "stderr",
     "output_type": "stream",
     "text": [
      "The attention mask and the pad token id were not set. As a consequence, you may observe unexpected behavior. Please pass your input's `attention_mask` to obtain reliable results.\n",
      "Setting `pad_token_id` to `eos_token_id`:50256 for open-end generation.\n",
      "A decoder-only architecture is being used, but right-padding was detected! For correct generation results, please set `padding_side='left'` when initializing the tokenizer.\n"
     ]
    },
    {
     "name": "stdout",
     "output_type": "stream",
     "text": [
      "I think it's a reference to the fact that the government is a government.\n",
      "The words 'mac' 'apple' 'problem' 'drive' 'system' 'work' 'monitor' 'computer' 'card' are related to which common topic?\n"
     ]
    },
    {
     "name": "stderr",
     "output_type": "stream",
     "text": [
      "The attention mask and the pad token id were not set. As a consequence, you may observe unexpected behavior. Please pass your input's `attention_mask` to obtain reliable results.\n",
      "Setting `pad_token_id` to `eos_token_id`:50256 for open-end generation.\n",
      "A decoder-only architecture is being used, but right-padding was detected! For correct generation results, please set `padding_side='left'` when initializing the tokenizer.\n"
     ]
    },
    {
     "name": "stdout",
     "output_type": "stream",
     "text": [
      "Mac is a computer.\n",
      "The words 'armenian' 'israel' 'turkish' 'jew' 'arab' 'israeli' 'muslim' 'state' 'kill' are related to which common topic?\n"
     ]
    },
    {
     "name": "stderr",
     "output_type": "stream",
     "text": [
      "The attention mask and the pad token id were not set. As a consequence, you may observe unexpected behavior. Please pass your input's `attention_mask` to obtain reliable results.\n",
      "Setting `pad_token_id` to `eos_token_id`:50256 for open-end generation.\n",
      "A decoder-only architecture is being used, but right-padding was detected! For correct generation results, please set `padding_side='left'` when initializing the tokenizer.\n"
     ]
    },
    {
     "name": "stdout",
     "output_type": "stream",
     "text": [
      "I'm not sure what you're asking.\n",
      "The words 'drive' 'card' 'system' 'problem' 'work' 'controller' 'disk' 'scsus' 'ide' are related to which common topic?\n"
     ]
    },
    {
     "name": "stderr",
     "output_type": "stream",
     "text": [
      "The attention mask and the pad token id were not set. As a consequence, you may observe unexpected behavior. Please pass your input's `attention_mask` to obtain reliable results.\n",
      "Setting `pad_token_id` to `eos_token_id`:50256 for open-end generation.\n",
      "A decoder-only architecture is being used, but right-padding was detected! For correct generation results, please set `padding_side='left'` when initializing the tokenizer.\n"
     ]
    },
    {
     "name": "stdout",
     "output_type": "stream",
     "text": [
      "I think it's the drive, but I'm not sure.\n",
      "The words 'offer' 'sale' 'sell' 'include' 'drive' 'price' 'shipping' 'condition' 'system' are related to which common topic?\n"
     ]
    },
    {
     "name": "stderr",
     "output_type": "stream",
     "text": [
      "The attention mask and the pad token id were not set. As a consequence, you may observe unexpected behavior. Please pass your input's `attention_mask` to obtain reliable results.\n",
      "Setting `pad_token_id` to `eos_token_id`:50256 for open-end generation.\n",
      "A decoder-only architecture is being used, but right-padding was detected! For correct generation results, please set `padding_side='left'` when initializing the tokenizer.\n"
     ]
    },
    {
     "name": "stdout",
     "output_type": "stream",
     "text": [
      "I'm not sure what you mean by condition.\n",
      "The words 'work' 'circuit' 'ground' 'power' 'wire' 'good' 'line' 'find' 'battery' are related to which common topic?\n"
     ]
    },
    {
     "name": "stderr",
     "output_type": "stream",
     "text": [
      "The attention mask and the pad token id were not set. As a consequence, you may observe unexpected behavior. Please pass your input's `attention_mask` to obtain reliable results.\n",
      "Setting `pad_token_id` to `eos_token_id`:50256 for open-end generation.\n",
      "A decoder-only architecture is being used, but right-padding was detected! For correct generation results, please set `padding_side='left'` when initializing the tokenizer.\n"
     ]
    },
    {
     "name": "stdout",
     "output_type": "stream",
     "text": [
      "I think it's a reference to the fact that the word circuit is used in the same way as the word battery.\n",
      "The words 'window' 'file' 'run' 'driver' 'problem' 'program' 'work' 'card' 'system' are related to which common topic?\n"
     ]
    },
    {
     "name": "stderr",
     "output_type": "stream",
     "text": [
      "The attention mask and the pad token id were not set. As a consequence, you may observe unexpected behavior. Please pass your input's `attention_mask` to obtain reliable results.\n",
      "Setting `pad_token_id` to `eos_token_id`:50256 for open-end generation.\n",
      "A decoder-only architecture is being used, but right-padding was detected! For correct generation results, please set `padding_side='left'` when initializing the tokenizer.\n"
     ]
    },
    {
     "name": "stdout",
     "output_type": "stream",
     "text": [
      "Windows, Windows, Windows, Windows, Windows, Windows, Windows, Windows, Windows, Windows, Windows, Windows, Windows, Windows, Windows, Windows, Windows, Windows, Windows, Windows, Windows, Windows, Windows, Windows, Windows, Windows, Windows, Windows, Windows, Windows, Windows, Windows, Windows, Windows, Windows, Windows, Windows, Windows, Windows, Windows, Windows, Windows, Windows, Windows, Windows, Windows\n",
      "The words 'bike' 'ride' 'dod' 'motorcycle' 'dog' 'good' 'bmw' 'work' 'rider' are related to which common topic?\n"
     ]
    },
    {
     "name": "stderr",
     "output_type": "stream",
     "text": [
      "The attention mask and the pad token id were not set. As a consequence, you may observe unexpected behavior. Please pass your input's `attention_mask` to obtain reliable results.\n",
      "Setting `pad_token_id` to `eos_token_id`:50256 for open-end generation.\n",
      "A decoder-only architecture is being used, but right-padding was detected! For correct generation results, please set `padding_side='left'` when initializing the tokenizer.\n"
     ]
    },
    {
     "name": "stdout",
     "output_type": "stream",
     "text": [
      "I think it's a reference to the movie'The Big Lebowski '\n",
      "The words 'game' 'team' 'win' 'hit' 'player' 'run' 'baseball' 'good' 'play' are related to which common topic?\n"
     ]
    },
    {
     "name": "stderr",
     "output_type": "stream",
     "text": [
      "The attention mask and the pad token id were not set. As a consequence, you may observe unexpected behavior. Please pass your input's `attention_mask` to obtain reliable results.\n",
      "Setting `pad_token_id` to `eos_token_id`:50256 for open-end generation.\n",
      "A decoder-only architecture is being used, but right-padding was detected! For correct generation results, please set `padding_side='left'` when initializing the tokenizer.\n"
     ]
    },
    {
     "name": "stdout",
     "output_type": "stream",
     "text": [
      "I think it's the word'game '\n",
      "The words 'god' 'christian' 'church' 'jesus' 'christ' 'sin' 'bible' 'give' 'question' are related to which common topic?\n"
     ]
    },
    {
     "name": "stderr",
     "output_type": "stream",
     "text": [
      "The attention mask and the pad token id were not set. As a consequence, you may observe unexpected behavior. Please pass your input's `attention_mask` to obtain reliable results.\n",
      "Setting `pad_token_id` to `eos_token_id`:50256 for open-end generation.\n",
      "A decoder-only architecture is being used, but right-padding was detected! For correct generation results, please set `padding_side='left'` when initializing the tokenizer.\n"
     ]
    },
    {
     "name": "stdout",
     "output_type": "stream",
     "text": [
      "I think it's the same as the word'christ '.\n",
      "The words 'gun' 'government' 'weapon' 'state' 'fire' 'law' 'firearm' 'fbi' 'child' are related to which common topic?\n"
     ]
    },
    {
     "name": "stderr",
     "output_type": "stream",
     "text": [
      "The attention mask and the pad token id were not set. As a consequence, you may observe unexpected behavior. Please pass your input's `attention_mask` to obtain reliable results.\n",
      "Setting `pad_token_id` to `eos_token_id`:50256 for open-end generation.\n",
      "A decoder-only architecture is being used, but right-padding was detected! For correct generation results, please set `padding_side='left'` when initializing the tokenizer.\n"
     ]
    },
    {
     "name": "stdout",
     "output_type": "stream",
     "text": [
      "I think it's a reference to the movie The Big Lebowski.\n",
      "The words 'image' 'file' 'graphic' 'jpeg' 'program' 'format' 'system' 'color' 'datum' are related to which common topic?\n"
     ]
    },
    {
     "name": "stderr",
     "output_type": "stream",
     "text": [
      "The attention mask and the pad token id were not set. As a consequence, you may observe unexpected behavior. Please pass your input's `attention_mask` to obtain reliable results.\n",
      "Setting `pad_token_id` to `eos_token_id`:50256 for open-end generation.\n",
      "A decoder-only architecture is being used, but right-padding was detected! For correct generation results, please set `padding_side='left'` when initializing the tokenizer.\n"
     ]
    },
    {
     "name": "stdout",
     "output_type": "stream",
     "text": [
      "I think it's the file system.\n",
      "The words 'car' 'engine' 'drive' 'good' 'buy' 'problem' 'dealer' 'price' 'work' are related to which common topic?\n"
     ]
    },
    {
     "name": "stderr",
     "output_type": "stream",
     "text": [
      "The attention mask and the pad token id were not set. As a consequence, you may observe unexpected behavior. Please pass your input's `attention_mask` to obtain reliable results.\n",
      "Setting `pad_token_id` to `eos_token_id`:50256 for open-end generation.\n",
      "A decoder-only architecture is being used, but right-padding was detected! For correct generation results, please set `padding_side='left'` when initializing the tokenizer.\n"
     ]
    },
    {
     "name": "stdout",
     "output_type": "stream",
     "text": [
      "I think it's a reference to the movie The Big Lebowski.\n",
      "The words 'god' 'jesus' 'christian' 'fact' 'good' 'objective' 'theory' 'point' 'life' are related to which common topic?\n"
     ]
    },
    {
     "name": "stderr",
     "output_type": "stream",
     "text": [
      "The attention mask and the pad token id were not set. As a consequence, you may observe unexpected behavior. Please pass your input's `attention_mask` to obtain reliable results.\n",
      "Setting `pad_token_id` to `eos_token_id`:50256 for open-end generation.\n",
      "A decoder-only architecture is being used, but right-padding was detected! For correct generation results, please set `padding_side='left'` when initializing the tokenizer.\n"
     ]
    },
    {
     "name": "stdout",
     "output_type": "stream",
     "text": [
      "I think it's the fact that they're all the same.\n",
      "The words 'window' 'file' 'program' 'run' 'server' 'application' 'widget' 'system' 'display' are related to which common topic?\n"
     ]
    },
    {
     "name": "stderr",
     "output_type": "stream",
     "text": [
      "The attention mask and the pad token id were not set. As a consequence, you may observe unexpected behavior. Please pass your input's `attention_mask` to obtain reliable results.\n",
      "Setting `pad_token_id` to `eos_token_id`:50256 for open-end generation.\n",
      "A decoder-only architecture is being used, but right-padding was detected! For correct generation results, please set `padding_side='left'` when initializing the tokenizer.\n"
     ]
    },
    {
     "name": "stdout",
     "output_type": "stream",
     "text": [
      "I think it's the file system.\n",
      "The words 'key' 'chip' 'encryption' 'government' 'system' 'clipper' 'phone' 'security' 'law' are related to which common topic?\n",
      "I think it's a reference to the movie The Interview.\n",
      "Results saved: DialoGPT-medium\n"
     ]
    },
    {
     "name": "stderr",
     "output_type": "stream",
     "text": [
      "Conversation input is to long (48), trimming it to (20 - 10)\n"
     ]
    },
    {
     "name": "stdout",
     "output_type": "stream",
     "text": [
      "The words 'game' 'team' 'play' 'hockey' 'player' 'win' 'goal' 'season' 'fan' are related to which common topic?\n"
     ]
    },
    {
     "name": "stderr",
     "output_type": "stream",
     "text": [
      "Conversation input is to long (55), trimming it to (20 - 10)\n"
     ]
    },
    {
     "name": "stdout",
     "output_type": "stream",
     "text": [
      "I'm not sure, but I'm a fan of the 'fan'\n",
      "The words 'god' 'religion' 'atheist' 'moral' 'claim' 'point' 'objective' 'good' 'belief' are related to which common topic?\n"
     ]
    },
    {
     "name": "stderr",
     "output_type": "stream",
     "text": [
      "Conversation input is to long (55), trimming it to (20 - 10)\n"
     ]
    },
    {
     "name": "stdout",
     "output_type": "stream",
     "text": [
      "I'm not sure but I'm not sure what the common topic is.\n",
      "The words 'space' 'nasa' 'launch' 'system' 'orbit' 'earth' 'mission' 'satellite' 'shuttle' are related to which common topic?\n"
     ]
    },
    {
     "name": "stderr",
     "output_type": "stream",
     "text": [
      "Conversation input is to long (52), trimming it to (20 - 10)\n"
     ]
    },
    {
     "name": "stdout",
     "output_type": "stream",
     "text": [
      "I'm not sure, but I'm not sure what the common topic is.\n",
      "The words 'patient' 'disease' 'medical' 'doctor' 'study' 'food' 'health' 'problem' 'effect' are related to which common topic?\n"
     ]
    },
    {
     "name": "stderr",
     "output_type": "stream",
     "text": [
      "Conversation input is to long (49), trimming it to (20 - 10)\n"
     ]
    },
    {
     "name": "stdout",
     "output_type": "stream",
     "text": [
      "I'm not sure but I'm not sure what the common topic is.\n",
      "The words 'government' 'president' 'state' 'law' 'work' 'give' 'man' 'american' 'drug' are related to which common topic?\n"
     ]
    },
    {
     "name": "stderr",
     "output_type": "stream",
     "text": [
      "Conversation input is to long (49), trimming it to (20 - 10)\n"
     ]
    },
    {
     "name": "stdout",
     "output_type": "stream",
     "text": [
      "I'm not sure, but I'm not sure what the common topic is.\n",
      "The words 'mac' 'apple' 'problem' 'drive' 'system' 'work' 'monitor' 'computer' 'card' are related to which common topic?\n"
     ]
    },
    {
     "name": "stderr",
     "output_type": "stream",
     "text": [
      "Conversation input is to long (53), trimming it to (20 - 10)\n"
     ]
    },
    {
     "name": "stdout",
     "output_type": "stream",
     "text": [
      "I'm not sure but I'm not sure what the common topic is.\n",
      "The words 'armenian' 'israel' 'turkish' 'jew' 'arab' 'israeli' 'muslim' 'state' 'kill' are related to which common topic?\n"
     ]
    },
    {
     "name": "stderr",
     "output_type": "stream",
     "text": [
      "Conversation input is to long (51), trimming it to (20 - 10)\n"
     ]
    },
    {
     "name": "stdout",
     "output_type": "stream",
     "text": [
      "I'm not sure but I'm not sure what the common topic is.\n",
      "The words 'drive' 'card' 'system' 'problem' 'work' 'controller' 'disk' 'scsus' 'ide' are related to which common topic?\n"
     ]
    },
    {
     "name": "stderr",
     "output_type": "stream",
     "text": [
      "Conversation input is to long (52), trimming it to (20 - 10)\n"
     ]
    },
    {
     "name": "stdout",
     "output_type": "stream",
     "text": [
      "I'm not sure but I'm not sure what the common topic is.\n",
      "The words 'offer' 'sale' 'sell' 'include' 'drive' 'price' 'shipping' 'condition' 'system' are related to which common topic?\n"
     ]
    },
    {
     "name": "stderr",
     "output_type": "stream",
     "text": [
      "Conversation input is to long (49), trimming it to (20 - 10)\n"
     ]
    },
    {
     "name": "stdout",
     "output_type": "stream",
     "text": [
      "i'm not sure but i'm a big fan of the '\n",
      "The words 'work' 'circuit' 'ground' 'power' 'wire' 'good' 'line' 'find' 'battery' are related to which common topic?\n"
     ]
    },
    {
     "name": "stderr",
     "output_type": "stream",
     "text": [
      "Conversation input is to long (49), trimming it to (20 - 10)\n"
     ]
    },
    {
     "name": "stdout",
     "output_type": "stream",
     "text": [
      "I'm not sure, but I'm not sure what the common topic is.\n",
      "The words 'window' 'file' 'run' 'driver' 'problem' 'program' 'work' 'card' 'system' are related to which common topic?\n"
     ]
    },
    {
     "name": "stderr",
     "output_type": "stream",
     "text": [
      "Conversation input is to long (51), trimming it to (20 - 10)\n"
     ]
    },
    {
     "name": "stdout",
     "output_type": "stream",
     "text": [
      "i'm not sure but i'm a big fan of the '\n",
      "The words 'bike' 'ride' 'dod' 'motorcycle' 'dog' 'good' 'bmw' 'work' 'rider' are related to which common topic?\n"
     ]
    },
    {
     "name": "stderr",
     "output_type": "stream",
     "text": [
      "Conversation input is to long (47), trimming it to (20 - 10)\n"
     ]
    },
    {
     "name": "stdout",
     "output_type": "stream",
     "text": [
      "I'm not sure but I'm not sure.\n",
      "The words 'game' 'team' 'win' 'hit' 'player' 'run' 'baseball' 'good' 'play' are related to which common topic?\n"
     ]
    },
    {
     "name": "stderr",
     "output_type": "stream",
     "text": [
      "Conversation input is to long (54), trimming it to (20 - 10)\n"
     ]
    },
    {
     "name": "stdout",
     "output_type": "stream",
     "text": [
      "I'm not sure but I'm not sure what the common topic is.\n",
      "The words 'god' 'christian' 'church' 'jesus' 'christ' 'sin' 'bible' 'give' 'question' are related to which common topic?\n"
     ]
    },
    {
     "name": "stderr",
     "output_type": "stream",
     "text": [
      "Conversation input is to long (51), trimming it to (20 - 10)\n"
     ]
    },
    {
     "name": "stdout",
     "output_type": "stream",
     "text": [
      "I'm not sure but I'm not sure what the common topic is.\n",
      "The words 'gun' 'government' 'weapon' 'state' 'fire' 'law' 'firearm' 'fbi' 'child' are related to which common topic?\n"
     ]
    },
    {
     "name": "stderr",
     "output_type": "stream",
     "text": [
      "Conversation input is to long (51), trimming it to (20 - 10)\n"
     ]
    },
    {
     "name": "stdout",
     "output_type": "stream",
     "text": [
      "I'm not sure, but I'm not sure what the common topic is.\n",
      "The words 'image' 'file' 'graphic' 'jpeg' 'program' 'format' 'system' 'color' 'datum' are related to which common topic?\n"
     ]
    },
    {
     "name": "stderr",
     "output_type": "stream",
     "text": [
      "Conversation input is to long (48), trimming it to (20 - 10)\n"
     ]
    },
    {
     "name": "stdout",
     "output_type": "stream",
     "text": [
      "I'm not sure but I'm not sure what the common topic is.\n",
      "The words 'car' 'engine' 'drive' 'good' 'buy' 'problem' 'dealer' 'price' 'work' are related to which common topic?\n"
     ]
    },
    {
     "name": "stderr",
     "output_type": "stream",
     "text": [
      "Conversation input is to long (54), trimming it to (20 - 10)\n"
     ]
    },
    {
     "name": "stdout",
     "output_type": "stream",
     "text": [
      "I'm not sure, but I'm not sure what the common topic is.\n",
      "The words 'god' 'jesus' 'christian' 'fact' 'good' 'objective' 'theory' 'point' 'life' are related to which common topic?\n"
     ]
    },
    {
     "name": "stderr",
     "output_type": "stream",
     "text": [
      "Conversation input is to long (50), trimming it to (20 - 10)\n"
     ]
    },
    {
     "name": "stdout",
     "output_type": "stream",
     "text": [
      "I'm not sure, but I'm a big fan of the 'life\n",
      "The words 'window' 'file' 'program' 'run' 'server' 'application' 'widget' 'system' 'display' are related to which common topic?\n"
     ]
    },
    {
     "name": "stderr",
     "output_type": "stream",
     "text": [
      "Conversation input is to long (50), trimming it to (20 - 10)\n"
     ]
    },
    {
     "name": "stdout",
     "output_type": "stream",
     "text": [
      "I'm not sure but I'm not sure what the common topic is.\n",
      "The words 'key' 'chip' 'encryption' 'government' 'system' 'clipper' 'phone' 'security' 'law' are related to which common topic?\n",
      "Law is a common topic in the US.\n",
      "Results saved: GODEL-v1_1-base-seq2seq\n"
     ]
    },
    {
     "name": "stderr",
     "output_type": "stream",
     "text": [
      "c:\\Users\\Virginia\\anaconda3\\lib\\site-packages\\transformers\\generation\\utils.py:1186: UserWarning: You have modified the pretrained model configuration to control generation. This is a deprecated strategy to control generation and will be removed soon, in a future version. Please use a generation configuration file (see https://huggingface.co/docs/transformers/main_classes/text_generation)\n",
      "  warnings.warn(\n",
      "The attention mask and the pad token id were not set. As a consequence, you may observe unexpected behavior. Please pass your input's `attention_mask` to obtain reliable results.\n",
      "Setting `pad_token_id` to `eos_token_id`:50256 for open-end generation.\n",
      "A decoder-only architecture is being used, but right-padding was detected! For correct generation results, please set `padding_side='left'` when initializing the tokenizer.\n"
     ]
    },
    {
     "name": "stdout",
     "output_type": "stream",
     "text": [
      "The words 'game' 'team' 'play' 'hockey' 'player' 'win' 'goal' 'season' 'fan' are related to which common topic?\n"
     ]
    },
    {
     "name": "stderr",
     "output_type": "stream",
     "text": [
      "The attention mask and the pad token id were not set. As a consequence, you may observe unexpected behavior. Please pass your input's `attention_mask` to obtain reliable results.\n",
      "Setting `pad_token_id` to `eos_token_id`:50256 for open-end generation.\n",
      "A decoder-only architecture is being used, but right-padding was detected! For correct generation results, please set `padding_side='left'` when initializing the tokenizer.\n"
     ]
    },
    {
     "name": "stdout",
     "output_type": "stream",
     "text": [
      "I'm not sure what you're trying to say.\n",
      "The words 'god' 'religion' 'atheist' 'moral' 'claim' 'point' 'objective' 'good' 'belief' are related to which common topic?\n"
     ]
    },
    {
     "name": "stderr",
     "output_type": "stream",
     "text": [
      "The attention mask and the pad token id were not set. As a consequence, you may observe unexpected behavior. Please pass your input's `attention_mask` to obtain reliable results.\n",
      "Setting `pad_token_id` to `eos_token_id`:50256 for open-end generation.\n",
      "A decoder-only architecture is being used, but right-padding was detected! For correct generation results, please set `padding_side='left'` when initializing the tokenizer.\n"
     ]
    },
    {
     "name": "stdout",
     "output_type": "stream",
     "text": [
      "I'm not sure what you're trying to say.\n",
      "The words 'space' 'nasa' 'launch' 'system' 'orbit' 'earth' 'mission' 'satellite' 'shuttle' are related to which common topic?\n"
     ]
    },
    {
     "name": "stderr",
     "output_type": "stream",
     "text": [
      "The attention mask and the pad token id were not set. As a consequence, you may observe unexpected behavior. Please pass your input's `attention_mask` to obtain reliable results.\n",
      "Setting `pad_token_id` to `eos_token_id`:50256 for open-end generation.\n",
      "A decoder-only architecture is being used, but right-padding was detected! For correct generation results, please set `padding_side='left'` when initializing the tokenizer.\n"
     ]
    },
    {
     "name": "stdout",
     "output_type": "stream",
     "text": [
      "I'm not sure what you mean by'' mission''\n",
      "The words 'patient' 'disease' 'medical' 'doctor' 'study' 'food' 'health' 'problem' 'effect' are related to which common topic?\n"
     ]
    },
    {
     "name": "stderr",
     "output_type": "stream",
     "text": [
      "The attention mask and the pad token id were not set. As a consequence, you may observe unexpected behavior. Please pass your input's `attention_mask` to obtain reliable results.\n",
      "Setting `pad_token_id` to `eos_token_id`:50256 for open-end generation.\n",
      "A decoder-only architecture is being used, but right-padding was detected! For correct generation results, please set `padding_side='left'` when initializing the tokenizer.\n"
     ]
    },
    {
     "name": "stdout",
     "output_type": "stream",
     "text": [
      "I'm not sure what you mean by'problem '.\n",
      "The words 'government' 'president' 'state' 'law' 'work' 'give' 'man' 'american' 'drug' are related to which common topic?\n"
     ]
    },
    {
     "name": "stderr",
     "output_type": "stream",
     "text": [
      "The attention mask and the pad token id were not set. As a consequence, you may observe unexpected behavior. Please pass your input's `attention_mask` to obtain reliable results.\n",
      "Setting `pad_token_id` to `eos_token_id`:50256 for open-end generation.\n",
      "A decoder-only architecture is being used, but right-padding was detected! For correct generation results, please set `padding_side='left'` when initializing the tokenizer.\n"
     ]
    },
    {
     "name": "stdout",
     "output_type": "stream",
     "text": [
      "I'm not sure what you're trying to say.\n",
      "The words 'mac' 'apple' 'problem' 'drive' 'system' 'work' 'monitor' 'computer' 'card' are related to which common topic?\n"
     ]
    },
    {
     "name": "stderr",
     "output_type": "stream",
     "text": [
      "The attention mask and the pad token id were not set. As a consequence, you may observe unexpected behavior. Please pass your input's `attention_mask` to obtain reliable results.\n",
      "Setting `pad_token_id` to `eos_token_id`:50256 for open-end generation.\n",
      "A decoder-only architecture is being used, but right-padding was detected! For correct generation results, please set `padding_side='left'` when initializing the tokenizer.\n"
     ]
    },
    {
     "name": "stdout",
     "output_type": "stream",
     "text": [
      "I'm not sure what you mean by this.\n",
      "The words 'armenian' 'israel' 'turkish' 'jew' 'arab' 'israeli' 'muslim' 'state' 'kill' are related to which common topic?\n"
     ]
    },
    {
     "name": "stderr",
     "output_type": "stream",
     "text": [
      "The attention mask and the pad token id were not set. As a consequence, you may observe unexpected behavior. Please pass your input's `attention_mask` to obtain reliable results.\n",
      "Setting `pad_token_id` to `eos_token_id`:50256 for open-end generation.\n",
      "A decoder-only architecture is being used, but right-padding was detected! For correct generation results, please set `padding_side='left'` when initializing the tokenizer.\n"
     ]
    },
    {
     "name": "stdout",
     "output_type": "stream",
     "text": [
      "I'm not sure what you're trying to say.\n",
      "The words 'drive' 'card' 'system' 'problem' 'work' 'controller' 'disk' 'scsus' 'ide' are related to which common topic?\n"
     ]
    },
    {
     "name": "stderr",
     "output_type": "stream",
     "text": [
      "The attention mask and the pad token id were not set. As a consequence, you may observe unexpected behavior. Please pass your input's `attention_mask` to obtain reliable results.\n",
      "Setting `pad_token_id` to `eos_token_id`:50256 for open-end generation.\n",
      "A decoder-only architecture is being used, but right-padding was detected! For correct generation results, please set `padding_side='left'` when initializing the tokenizer.\n"
     ]
    },
    {
     "name": "stdout",
     "output_type": "stream",
     "text": [
      "I'm not sure what you mean by this.\n",
      "The words 'offer' 'sale' 'sell' 'include' 'drive' 'price' 'shipping' 'condition' 'system' are related to which common topic?\n"
     ]
    },
    {
     "name": "stderr",
     "output_type": "stream",
     "text": [
      "The attention mask and the pad token id were not set. As a consequence, you may observe unexpected behavior. Please pass your input's `attention_mask` to obtain reliable results.\n",
      "Setting `pad_token_id` to `eos_token_id`:50256 for open-end generation.\n",
      "A decoder-only architecture is being used, but right-padding was detected! For correct generation results, please set `padding_side='left'` when initializing the tokenizer.\n"
     ]
    },
    {
     "name": "stdout",
     "output_type": "stream",
     "text": [
      "I'm not sure what you mean by this.\n",
      "The words 'work' 'circuit' 'ground' 'power' 'wire' 'good' 'line' 'find' 'battery' are related to which common topic?\n"
     ]
    },
    {
     "name": "stderr",
     "output_type": "stream",
     "text": [
      "The attention mask and the pad token id were not set. As a consequence, you may observe unexpected behavior. Please pass your input's `attention_mask` to obtain reliable results.\n",
      "Setting `pad_token_id` to `eos_token_id`:50256 for open-end generation.\n",
      "A decoder-only architecture is being used, but right-padding was detected! For correct generation results, please set `padding_side='left'` when initializing the tokenizer.\n"
     ]
    },
    {
     "name": "stdout",
     "output_type": "stream",
     "text": [
      "I'm not sure what you mean by'related '.\n",
      "The words 'window' 'file' 'run' 'driver' 'problem' 'program' 'work' 'card' 'system' are related to which common topic?\n"
     ]
    },
    {
     "name": "stderr",
     "output_type": "stream",
     "text": [
      "The attention mask and the pad token id were not set. As a consequence, you may observe unexpected behavior. Please pass your input's `attention_mask` to obtain reliable results.\n",
      "Setting `pad_token_id` to `eos_token_id`:50256 for open-end generation.\n",
      "A decoder-only architecture is being used, but right-padding was detected! For correct generation results, please set `padding_side='left'` when initializing the tokenizer.\n"
     ]
    },
    {
     "name": "stdout",
     "output_type": "stream",
     "text": [
      "I'm not sure what you mean by this.\n",
      "The words 'bike' 'ride' 'dod' 'motorcycle' 'dog' 'good' 'bmw' 'work' 'rider' are related to which common topic?\n"
     ]
    },
    {
     "name": "stderr",
     "output_type": "stream",
     "text": [
      "The attention mask and the pad token id were not set. As a consequence, you may observe unexpected behavior. Please pass your input's `attention_mask` to obtain reliable results.\n",
      "Setting `pad_token_id` to `eos_token_id`:50256 for open-end generation.\n",
      "A decoder-only architecture is being used, but right-padding was detected! For correct generation results, please set `padding_side='left'` when initializing the tokenizer.\n"
     ]
    },
    {
     "name": "stdout",
     "output_type": "stream",
     "text": [
      "I'm not sure what you're asking.\n",
      "The words 'game' 'team' 'win' 'hit' 'player' 'run' 'baseball' 'good' 'play' are related to which common topic?\n"
     ]
    },
    {
     "name": "stderr",
     "output_type": "stream",
     "text": [
      "The attention mask and the pad token id were not set. As a consequence, you may observe unexpected behavior. Please pass your input's `attention_mask` to obtain reliable results.\n",
      "Setting `pad_token_id` to `eos_token_id`:50256 for open-end generation.\n",
      "A decoder-only architecture is being used, but right-padding was detected! For correct generation results, please set `padding_side='left'` when initializing the tokenizer.\n"
     ]
    },
    {
     "name": "stdout",
     "output_type": "stream",
     "text": [
      "I'm not sure what you mean by this.\n",
      "The words 'god' 'christian' 'church' 'jesus' 'christ' 'sin' 'bible' 'give' 'question' are related to which common topic?\n"
     ]
    },
    {
     "name": "stderr",
     "output_type": "stream",
     "text": [
      "The attention mask and the pad token id were not set. As a consequence, you may observe unexpected behavior. Please pass your input's `attention_mask` to obtain reliable results.\n",
      "Setting `pad_token_id` to `eos_token_id`:50256 for open-end generation.\n",
      "A decoder-only architecture is being used, but right-padding was detected! For correct generation results, please set `padding_side='left'` when initializing the tokenizer.\n"
     ]
    },
    {
     "name": "stdout",
     "output_type": "stream",
     "text": [
      "I'm not sure if you're being sarcastic or not, but I'm pretty sure that's the exact same thing.\n",
      "The words 'gun' 'government' 'weapon' 'state' 'fire' 'law' 'firearm' 'fbi' 'child' are related to which common topic?\n"
     ]
    },
    {
     "name": "stderr",
     "output_type": "stream",
     "text": [
      "The attention mask and the pad token id were not set. As a consequence, you may observe unexpected behavior. Please pass your input's `attention_mask` to obtain reliable results.\n",
      "Setting `pad_token_id` to `eos_token_id`:50256 for open-end generation.\n",
      "A decoder-only architecture is being used, but right-padding was detected! For correct generation results, please set `padding_side='left'` when initializing the tokenizer.\n"
     ]
    },
    {
     "name": "stdout",
     "output_type": "stream",
     "text": [
      "I'm not sure what you're trying to say.\n",
      "The words 'image' 'file' 'graphic' 'jpeg' 'program' 'format' 'system' 'color' 'datum' are related to which common topic?\n"
     ]
    },
    {
     "name": "stderr",
     "output_type": "stream",
     "text": [
      "The attention mask and the pad token id were not set. As a consequence, you may observe unexpected behavior. Please pass your input's `attention_mask` to obtain reliable results.\n",
      "Setting `pad_token_id` to `eos_token_id`:50256 for open-end generation.\n",
      "A decoder-only architecture is being used, but right-padding was detected! For correct generation results, please set `padding_side='left'` when initializing the tokenizer.\n"
     ]
    },
    {
     "name": "stdout",
     "output_type": "stream",
     "text": [
      "I'm not sure what you mean by'related '.\n",
      "The words 'car' 'engine' 'drive' 'good' 'buy' 'problem' 'dealer' 'price' 'work' are related to which common topic?\n"
     ]
    },
    {
     "name": "stderr",
     "output_type": "stream",
     "text": [
      "The attention mask and the pad token id were not set. As a consequence, you may observe unexpected behavior. Please pass your input's `attention_mask` to obtain reliable results.\n",
      "Setting `pad_token_id` to `eos_token_id`:50256 for open-end generation.\n",
      "A decoder-only architecture is being used, but right-padding was detected! For correct generation results, please set `padding_side='left'` when initializing the tokenizer.\n"
     ]
    },
    {
     "name": "stdout",
     "output_type": "stream",
     "text": [
      "I'm not sure what you mean by this.\n",
      "The words 'god' 'jesus' 'christian' 'fact' 'good' 'objective' 'theory' 'point' 'life' are related to which common topic?\n"
     ]
    },
    {
     "name": "stderr",
     "output_type": "stream",
     "text": [
      "The attention mask and the pad token id were not set. As a consequence, you may observe unexpected behavior. Please pass your input's `attention_mask` to obtain reliable results.\n",
      "Setting `pad_token_id` to `eos_token_id`:50256 for open-end generation.\n",
      "A decoder-only architecture is being used, but right-padding was detected! For correct generation results, please set `padding_side='left'` when initializing the tokenizer.\n"
     ]
    },
    {
     "name": "stdout",
     "output_type": "stream",
     "text": [
      "I'm not sure what you're trying to say.\n",
      "The words 'window' 'file' 'program' 'run' 'server' 'application' 'widget' 'system' 'display' are related to which common topic?\n"
     ]
    },
    {
     "name": "stderr",
     "output_type": "stream",
     "text": [
      "The attention mask and the pad token id were not set. As a consequence, you may observe unexpected behavior. Please pass your input's `attention_mask` to obtain reliable results.\n",
      "Setting `pad_token_id` to `eos_token_id`:50256 for open-end generation.\n",
      "A decoder-only architecture is being used, but right-padding was detected! For correct generation results, please set `padding_side='left'` when initializing the tokenizer.\n"
     ]
    },
    {
     "name": "stdout",
     "output_type": "stream",
     "text": [
      "I'm not sure what you mean.\n",
      "The words 'key' 'chip' 'encryption' 'government' 'system' 'clipper' 'phone' 'security' 'law' are related to which common topic?\n",
      "I'm not sure what you're trying to say.\n",
      "Results saved: DialoGPT-small\n",
      "The words 'game' 'team' 'play' 'hockey' 'player' 'win' 'goal' 'season' 'fan' are related to which common topic?\n",
      "i don't know, but i do know that i'm a fan of the hockey team.\n",
      "The words 'god' 'religion' 'atheist' 'moral' 'claim' 'point' 'objective' 'good' 'belief' are related to which common topic?\n",
      "i'm not sure, but i do know that the word \" god \" was first recorded in the 10th century.\n",
      "The words 'space' 'nasa' 'launch' 'system' 'orbit' 'earth' 'mission' 'satellite' 'shuttle' are related to which common topic?\n",
      "i'm not sure, but i do know that the word \" space \" was first recorded in the 10th century.\n",
      "The words 'patient' 'disease' 'medical' 'doctor' 'study' 'food' 'health' 'problem' 'effect' are related to which common topic?\n",
      "i'm not sure, but i do know that the word \" disease \" was first recorded in the 10th century.\n",
      "The words 'government' 'president' 'state' 'law' 'work' 'give' 'man' 'american' 'drug' are related to which common topic?\n",
      "the word \" government \"'president'' state'' law'' work'' are related to which common topic?\n",
      "The words 'mac' 'apple' 'problem' 'drive' 'system' 'work' 'monitor' 'computer' 'card' are related to which common topic?\n",
      "i'm not sure, but i do know that i've had a lot of problems with my mac.\n",
      "The words 'armenian' 'israel' 'turkish' 'jew' 'arab' 'israeli' 'muslim' 'state' 'kill' are related to which common topic?\n",
      "i'm not sure, but i do know that israel is the largest country in the world.\n",
      "The words 'drive' 'card' 'system' 'problem' 'work' 'controller' 'disk' 'scsus' 'ide' are related to which common topic?\n",
      "i'm not sure, but i do know that the word \" drive \" was first recorded in the 10th century.\n",
      "The words 'offer' 'sale' 'sell' 'include' 'drive' 'price' 'shipping' 'condition' 'system' are related to which common topic?\n",
      "i'm not sure, but i do know that the word \" sale \" was first used in the 19th century.\n",
      "The words 'work' 'circuit' 'ground' 'power' 'wire' 'good' 'line' 'find' 'battery' are related to which common topic?\n",
      "i'm not sure, but i do know that the word \" battery \" was first recorded in the 10th century.\n",
      "The words 'window' 'file' 'run' 'driver' 'problem' 'program' 'work' 'card' 'system' are related to which common topic?\n",
      "i'm not sure what you mean. what do you mean by \" common topic \"?\n",
      "The words 'bike' 'ride' 'dod' 'motorcycle' 'dog' 'good' 'bmw' 'work' 'rider' are related to which common topic?\n",
      "i'm not sure, but i do know that the word \" bike \" was first recorded in the 10th century.\n",
      "The words 'game' 'team' 'win' 'hit' 'player' 'run' 'baseball' 'good' 'play' are related to which common topic?\n",
      "i'm not sure, but i do know that the word \" game \" was first recorded in the 10th century.\n",
      "The words 'god' 'christian' 'church' 'jesus' 'christ' 'sin' 'bible' 'give' 'question' are related to which common topic?\n",
      "i'm not sure, but i do know that the bible is the word of god.\n",
      "The words 'gun' 'government' 'weapon' 'state' 'fire' 'law' 'firearm' 'fbi' 'child' are related to which common topic?\n",
      "i'm not sure, but i do know that the united states has a lot of gun control laws.\n",
      "The words 'image' 'file' 'graphic' 'jpeg' 'program' 'format' 'system' 'color' 'datum' are related to which common topic?\n",
      "i'm not sure, but i do know that the word \" file \" was first used in the 18th century.\n",
      "The words 'car' 'engine' 'drive' 'good' 'buy' 'problem' 'dealer' 'price' 'work' are related to which common topic?\n",
      "i'm not sure, but i do know that the word \" car \" was first recorded in the 10th century.\n",
      "The words 'god' 'jesus' 'christian' 'fact' 'good' 'objective' 'theory' 'point' 'life' are related to which common topic?\n",
      "i'm not sure what you mean. do you mean that the word \" god \" is related to which common topic?\n",
      "The words 'window' 'file' 'program' 'run' 'server' 'application' 'widget' 'system' 'display' are related to which common topic?\n",
      "the word \" window \" is related to the common topic of which common topic is common topic.\n",
      "The words 'key' 'chip' 'encryption' 'government' 'system' 'clipper' 'phone' 'security' 'law' are related to which common topic?\n",
      "i'm not sure, but i do know that the word \" key \" was first used in the 19th century.\n",
      "Results saved: blenderbot_small-90M\n"
     ]
    },
    {
     "name": "stderr",
     "output_type": "stream",
     "text": [
      "Special tokens have been added in the vocabulary, make sure the associated word embeddings are fine-tuned or trained.\n",
      "Special tokens have been added in the vocabulary, make sure the associated word embeddings are fine-tuned or trained.\n"
     ]
    },
    {
     "name": "stdout",
     "output_type": "stream",
     "text": [
      "The words 'game' 'team' 'play' 'hockey' 'player' 'win' 'goal' 'season' 'fan' are related to which common topic?\n",
      " The word fan is derived from the Greek word \"fanos\" which means \"supporter\"\n",
      "The words 'god' 'religion' 'atheist' 'moral' 'claim' 'point' 'objective' 'good' 'belief' are related to which common topic?\n",
      " Religion, morality, and objectivity are all related to the common topic of morality.\n",
      "The words 'space' 'nasa' 'launch' 'system' 'orbit' 'earth' 'mission' 'satellite' 'shuttle' are related to which common topic?\n",
      " The word \"space\" is derived from the Greek words \"spheroid\" and \"solid\"\n",
      "The words 'patient' 'disease' 'medical' 'doctor' 'study' 'food' 'health' 'problem' 'effect' are related to which common topic?\n",
      " I'm not sure, but I do know that the word patient is derived from the Latin word for patient.\n",
      "The words 'government' 'president' 'state' 'law' 'work' 'give' 'man' 'american' 'drug' are related to which common topic?\n",
      " I'm not sure, but I do know that the President of the United States is the head of the executive branch of the federal government.\n",
      "The words 'mac' 'apple' 'problem' 'drive' 'system' 'work' 'monitor' 'computer' 'card' are related to which common topic?\n"
     ]
    },
    {
     "name": "stderr",
     "output_type": "stream",
     "text": [
      "Conversation input is to long (51), trimming it to (60 - 10)\n"
     ]
    },
    {
     "name": "stdout",
     "output_type": "stream",
     "text": [
      " I'm not sure, but I do know that the Macintosh computer was first released in 1977.\n",
      "The words 'armenian' 'israel' 'turkish' 'jew' 'arab' 'israeli' 'muslim' 'state' 'kill' are related to which common topic?\n",
      " Armenian genocide is one of the worst genocides of the 20th century.\n",
      "The words 'drive' 'card' 'system' 'problem' 'work' 'controller' 'disk' 'scsus' 'ide' are related to which common topic?\n",
      " The word drive is derived from the Latin word \"drive\" which means work.\n",
      "The words 'offer' 'sale' 'sell' 'include' 'drive' 'price' 'shipping' 'condition' 'system' are related to which common topic?\n",
      " I'm not sure, but I do know that \"offer\" and \"sale\" can be used interchangeably.\n",
      "The words 'work' 'circuit' 'ground' 'power' 'wire' 'good' 'line' 'find' 'battery' are related to which common topic?\n",
      " They are all related to electrical circuits, which is what I do for a living.\n",
      "The words 'window' 'file' 'run' 'driver' 'problem' 'program' 'work' 'card' 'system' are related to which common topic?\n",
      " I'm not sure, but I do know that Windows is the most widely used operating system in the world.\n",
      "The words 'bike' 'ride' 'dod' 'motorcycle' 'dog' 'good' 'bmw' 'work' 'rider' are related to which common topic?\n",
      " The word \"rider\" is derived from the Old French word \"roi\" which means \"worker\".\n",
      "The words 'game' 'team' 'win' 'hit' 'player' 'run' 'baseball' 'good' 'play' are related to which common topic?\n",
      " The word \"game\" is derived from the Latin word \"gamus\" which means \"to play\"\n",
      "The words 'god' 'christian' 'church' 'jesus' 'christ' 'sin' 'bible' 'give' 'question' are related to which common topic?\n",
      " Christianity is a religion based on the teachings of Jesus of Nazareth, the Son of God.\n",
      "The words 'gun' 'government' 'weapon' 'state' 'fire' 'law' 'firearm' 'fbi' 'child' are related to which common topic?\n",
      " I'm not sure, but I do know that the FBI is a federal law enforcement agency.\n",
      "The words 'image' 'file' 'graphic' 'jpeg' 'program' 'format' 'system' 'color' 'datum' are related to which common topic?\n",
      " I'm not sure, but I do know that Image, JPEG, and PNG are all image formats.\n",
      "The words 'car' 'engine' 'drive' 'good' 'buy' 'problem' 'dealer' 'price' 'work' are related to which common topic?\n",
      " The word \"car\" is derived from the Latin word \"carta\".\n",
      "The words 'god' 'jesus' 'christian' 'fact' 'good' 'objective' 'theory' 'point' 'life' are related to which common topic?\n",
      " I'm not sure, but I do know that Christianity is the world's largest religion with over 2.4 billion followers.\n",
      "The words 'window' 'file' 'program' 'run' 'server' 'application' 'widget' 'system' 'display' are related to which common topic?\n",
      " I'm not sure, but I do know that Windows is the most widely used operating system in the world.\n",
      "The words 'key' 'chip' 'encryption' 'government' 'system' 'clipper' 'phone' 'security' 'law' are related to which common topic?\n",
      " Key, chip, encryption, system, clipper, phone, security, and law are all related to security.\n",
      "Results saved: blenderbot-3B\n"
     ]
    },
    {
     "name": "stderr",
     "output_type": "stream",
     "text": [
      "c:\\Users\\Virginia\\anaconda3\\lib\\site-packages\\transformers\\generation\\utils.py:1186: UserWarning: You have modified the pretrained model configuration to control generation. This is a deprecated strategy to control generation and will be removed soon, in a future version. Please use a generation configuration file (see https://huggingface.co/docs/transformers/main_classes/text_generation)\n",
      "  warnings.warn(\n",
      "The attention mask and the pad token id were not set. As a consequence, you may observe unexpected behavior. Please pass your input's `attention_mask` to obtain reliable results.\n",
      "Setting `pad_token_id` to `eos_token_id`:50256 for open-end generation.\n",
      "A decoder-only architecture is being used, but right-padding was detected! For correct generation results, please set `padding_side='left'` when initializing the tokenizer.\n"
     ]
    },
    {
     "name": "stdout",
     "output_type": "stream",
     "text": [
      "The words 'game' 'team' 'play' 'hockey' 'player' 'win' 'goal' 'season' 'fan' are related to which common topic?\n"
     ]
    },
    {
     "name": "stderr",
     "output_type": "stream",
     "text": [
      "The attention mask and the pad token id were not set. As a consequence, you may observe unexpected behavior. Please pass your input's `attention_mask` to obtain reliable results.\n",
      "Setting `pad_token_id` to `eos_token_id`:50256 for open-end generation.\n",
      "A decoder-only architecture is being used, but right-padding was detected! For correct generation results, please set `padding_side='left'` when initializing the tokenizer.\n"
     ]
    },
    {
     "name": "stdout",
     "output_type": "stream",
     "text": [
      "I think it's a reference to the word'win '.\n",
      "The words 'god' 'religion' 'atheist' 'moral' 'claim' 'point' 'objective' 'good' 'belief' are related to which common topic?\n"
     ]
    },
    {
     "name": "stderr",
     "output_type": "stream",
     "text": [
      "The attention mask and the pad token id were not set. As a consequence, you may observe unexpected behavior. Please pass your input's `attention_mask` to obtain reliable results.\n",
      "Setting `pad_token_id` to `eos_token_id`:50256 for open-end generation.\n",
      "A decoder-only architecture is being used, but right-padding was detected! For correct generation results, please set `padding_side='left'` when initializing the tokenizer.\n"
     ]
    },
    {
     "name": "stdout",
     "output_type": "stream",
     "text": [
      "I think he's talking about the word'religion '.\n",
      "The words 'space' 'nasa' 'launch' 'system' 'orbit' 'earth' 'mission' 'satellite' 'shuttle' are related to which common topic?\n"
     ]
    },
    {
     "name": "stderr",
     "output_type": "stream",
     "text": [
      "The attention mask and the pad token id were not set. As a consequence, you may observe unexpected behavior. Please pass your input's `attention_mask` to obtain reliable results.\n",
      "Setting `pad_token_id` to `eos_token_id`:50256 for open-end generation.\n",
      "A decoder-only architecture is being used, but right-padding was detected! For correct generation results, please set `padding_side='left'` when initializing the tokenizer.\n"
     ]
    },
    {
     "name": "stdout",
     "output_type": "stream",
     "text": [
      "I think it's related to the fact that the word'orbit'is used in the title of the post.\n",
      "The words 'patient' 'disease' 'medical' 'doctor' 'study' 'food' 'health' 'problem' 'effect' are related to which common topic?\n"
     ]
    },
    {
     "name": "stderr",
     "output_type": "stream",
     "text": [
      "The attention mask and the pad token id were not set. As a consequence, you may observe unexpected behavior. Please pass your input's `attention_mask` to obtain reliable results.\n",
      "Setting `pad_token_id` to `eos_token_id`:50256 for open-end generation.\n",
      "A decoder-only architecture is being used, but right-padding was detected! For correct generation results, please set `padding_side='left'` when initializing the tokenizer.\n"
     ]
    },
    {
     "name": "stdout",
     "output_type": "stream",
     "text": [
      "I think it's a reference to the movie The Last Airbender.\n",
      "The words 'government' 'president' 'state' 'law' 'work' 'give' 'man' 'american' 'drug' are related to which common topic?\n"
     ]
    },
    {
     "name": "stderr",
     "output_type": "stream",
     "text": [
      "The attention mask and the pad token id were not set. As a consequence, you may observe unexpected behavior. Please pass your input's `attention_mask` to obtain reliable results.\n",
      "Setting `pad_token_id` to `eos_token_id`:50256 for open-end generation.\n",
      "A decoder-only architecture is being used, but right-padding was detected! For correct generation results, please set `padding_side='left'` when initializing the tokenizer.\n"
     ]
    },
    {
     "name": "stdout",
     "output_type": "stream",
     "text": [
      "I think he means that the government is a state.\n",
      "The words 'mac' 'apple' 'problem' 'drive' 'system' 'work' 'monitor' 'computer' 'card' are related to which common topic?\n"
     ]
    },
    {
     "name": "stderr",
     "output_type": "stream",
     "text": [
      "The attention mask and the pad token id were not set. As a consequence, you may observe unexpected behavior. Please pass your input's `attention_mask` to obtain reliable results.\n",
      "Setting `pad_token_id` to `eos_token_id`:50256 for open-end generation.\n",
      "A decoder-only architecture is being used, but right-padding was detected! For correct generation results, please set `padding_side='left'` when initializing the tokenizer.\n"
     ]
    },
    {
     "name": "stdout",
     "output_type": "stream",
     "text": [
      "I think it's a reference to the movie The Terminal.\n",
      "The words 'armenian' 'israel' 'turkish' 'jew' 'arab' 'israeli' 'muslim' 'state' 'kill' are related to which common topic?\n"
     ]
    },
    {
     "name": "stderr",
     "output_type": "stream",
     "text": [
      "The attention mask and the pad token id were not set. As a consequence, you may observe unexpected behavior. Please pass your input's `attention_mask` to obtain reliable results.\n",
      "Setting `pad_token_id` to `eos_token_id`:50256 for open-end generation.\n",
      "A decoder-only architecture is being used, but right-padding was detected! For correct generation results, please set `padding_side='left'` when initializing the tokenizer.\n"
     ]
    },
    {
     "name": "stdout",
     "output_type": "stream",
     "text": [
      "The common topic is the fact that the word'Israel'is used to refer to the state of Israel.\n",
      "The words 'drive' 'card' 'system' 'problem' 'work' 'controller' 'disk' 'scsus' 'ide' are related to which common topic?\n"
     ]
    },
    {
     "name": "stderr",
     "output_type": "stream",
     "text": [
      "The attention mask and the pad token id were not set. As a consequence, you may observe unexpected behavior. Please pass your input's `attention_mask` to obtain reliable results.\n",
      "Setting `pad_token_id` to `eos_token_id`:50256 for open-end generation.\n",
      "A decoder-only architecture is being used, but right-padding was detected! For correct generation results, please set `padding_side='left'` when initializing the tokenizer.\n"
     ]
    },
    {
     "name": "stdout",
     "output_type": "stream",
     "text": [
      "I think he means the problem of the problem.\n",
      "The words 'offer' 'sale' 'sell' 'include' 'drive' 'price' 'shipping' 'condition' 'system' are related to which common topic?\n"
     ]
    },
    {
     "name": "stderr",
     "output_type": "stream",
     "text": [
      "The attention mask and the pad token id were not set. As a consequence, you may observe unexpected behavior. Please pass your input's `attention_mask` to obtain reliable results.\n",
      "Setting `pad_token_id` to `eos_token_id`:50256 for open-end generation.\n",
      "A decoder-only architecture is being used, but right-padding was detected! For correct generation results, please set `padding_side='left'` when initializing the tokenizer.\n"
     ]
    },
    {
     "name": "stdout",
     "output_type": "stream",
     "text": [
      "I think he means the word'offer '.\n",
      "The words 'work' 'circuit' 'ground' 'power' 'wire' 'good' 'line' 'find' 'battery' are related to which common topic?\n"
     ]
    },
    {
     "name": "stderr",
     "output_type": "stream",
     "text": [
      "The attention mask and the pad token id were not set. As a consequence, you may observe unexpected behavior. Please pass your input's `attention_mask` to obtain reliable results.\n",
      "Setting `pad_token_id` to `eos_token_id`:50256 for open-end generation.\n",
      "A decoder-only architecture is being used, but right-padding was detected! For correct generation results, please set `padding_side='left'` when initializing the tokenizer.\n"
     ]
    },
    {
     "name": "stdout",
     "output_type": "stream",
     "text": [
      "I think it's a reference to the old school video game, where you could find a battery in a building.\n",
      "The words 'window' 'file' 'run' 'driver' 'problem' 'program' 'work' 'card' 'system' are related to which common topic?\n"
     ]
    },
    {
     "name": "stderr",
     "output_type": "stream",
     "text": [
      "The attention mask and the pad token id were not set. As a consequence, you may observe unexpected behavior. Please pass your input's `attention_mask` to obtain reliable results.\n",
      "Setting `pad_token_id` to `eos_token_id`:50256 for open-end generation.\n",
      "A decoder-only architecture is being used, but right-padding was detected! For correct generation results, please set `padding_side='left'` when initializing the tokenizer.\n"
     ]
    },
    {
     "name": "stdout",
     "output_type": "stream",
     "text": [
      "I think he means the problem is a problem.\n",
      "The words 'bike' 'ride' 'dod' 'motorcycle' 'dog' 'good' 'bmw' 'work' 'rider' are related to which common topic?\n"
     ]
    },
    {
     "name": "stderr",
     "output_type": "stream",
     "text": [
      "The attention mask and the pad token id were not set. As a consequence, you may observe unexpected behavior. Please pass your input's `attention_mask` to obtain reliable results.\n",
      "Setting `pad_token_id` to `eos_token_id`:50256 for open-end generation.\n",
      "A decoder-only architecture is being used, but right-padding was detected! For correct generation results, please set `padding_side='left'` when initializing the tokenizer.\n"
     ]
    },
    {
     "name": "stdout",
     "output_type": "stream",
     "text": [
      "I think it's a reference to the song'The Man'by the band'The Man '.\n",
      "The words 'game' 'team' 'win' 'hit' 'player' 'run' 'baseball' 'good' 'play' are related to which common topic?\n"
     ]
    },
    {
     "name": "stderr",
     "output_type": "stream",
     "text": [
      "The attention mask and the pad token id were not set. As a consequence, you may observe unexpected behavior. Please pass your input's `attention_mask` to obtain reliable results.\n",
      "Setting `pad_token_id` to `eos_token_id`:50256 for open-end generation.\n",
      "A decoder-only architecture is being used, but right-padding was detected! For correct generation results, please set `padding_side='left'` when initializing the tokenizer.\n"
     ]
    },
    {
     "name": "stdout",
     "output_type": "stream",
     "text": [
      "I think it's a reference to the game of life.\n",
      "The words 'god' 'christian' 'church' 'jesus' 'christ' 'sin' 'bible' 'give' 'question' are related to which common topic?\n"
     ]
    },
    {
     "name": "stderr",
     "output_type": "stream",
     "text": [
      "The attention mask and the pad token id were not set. As a consequence, you may observe unexpected behavior. Please pass your input's `attention_mask` to obtain reliable results.\n",
      "Setting `pad_token_id` to `eos_token_id`:50256 for open-end generation.\n",
      "A decoder-only architecture is being used, but right-padding was detected! For correct generation results, please set `padding_side='left'` when initializing the tokenizer.\n"
     ]
    },
    {
     "name": "stdout",
     "output_type": "stream",
     "text": [
      "I think it's the same question, but with different words.\n",
      "The words 'gun' 'government' 'weapon' 'state' 'fire' 'law' 'firearm' 'fbi' 'child' are related to which common topic?\n"
     ]
    },
    {
     "name": "stderr",
     "output_type": "stream",
     "text": [
      "The attention mask and the pad token id were not set. As a consequence, you may observe unexpected behavior. Please pass your input's `attention_mask` to obtain reliable results.\n",
      "Setting `pad_token_id` to `eos_token_id`:50256 for open-end generation.\n",
      "A decoder-only architecture is being used, but right-padding was detected! For correct generation results, please set `padding_side='left'` when initializing the tokenizer.\n"
     ]
    },
    {
     "name": "stdout",
     "output_type": "stream",
     "text": [
      "The common topic is the common topic.\n",
      "The words 'image' 'file' 'graphic' 'jpeg' 'program' 'format' 'system' 'color' 'datum' are related to which common topic?\n"
     ]
    },
    {
     "name": "stderr",
     "output_type": "stream",
     "text": [
      "The attention mask and the pad token id were not set. As a consequence, you may observe unexpected behavior. Please pass your input's `attention_mask` to obtain reliable results.\n",
      "Setting `pad_token_id` to `eos_token_id`:50256 for open-end generation.\n",
      "A decoder-only architecture is being used, but right-padding was detected! For correct generation results, please set `padding_side='left'` when initializing the tokenizer.\n"
     ]
    },
    {
     "name": "stdout",
     "output_type": "stream",
     "text": [
      "I think it's a reference to the old Windows 98 joke.\n",
      "The words 'car' 'engine' 'drive' 'good' 'buy' 'problem' 'dealer' 'price' 'work' are related to which common topic?\n"
     ]
    },
    {
     "name": "stderr",
     "output_type": "stream",
     "text": [
      "The attention mask and the pad token id were not set. As a consequence, you may observe unexpected behavior. Please pass your input's `attention_mask` to obtain reliable results.\n",
      "Setting `pad_token_id` to `eos_token_id`:50256 for open-end generation.\n",
      "A decoder-only architecture is being used, but right-padding was detected! For correct generation results, please set `padding_side='left'` when initializing the tokenizer.\n"
     ]
    },
    {
     "name": "stdout",
     "output_type": "stream",
     "text": [
      "I think he means the price of the car.\n",
      "The words 'god' 'jesus' 'christian' 'fact' 'good' 'objective' 'theory' 'point' 'life' are related to which common topic?\n"
     ]
    },
    {
     "name": "stderr",
     "output_type": "stream",
     "text": [
      "The attention mask and the pad token id were not set. As a consequence, you may observe unexpected behavior. Please pass your input's `attention_mask` to obtain reliable results.\n",
      "Setting `pad_token_id` to `eos_token_id`:50256 for open-end generation.\n",
      "A decoder-only architecture is being used, but right-padding was detected! For correct generation results, please set `padding_side='left'` when initializing the tokenizer.\n"
     ]
    },
    {
     "name": "stdout",
     "output_type": "stream",
     "text": [
      "I think he means that the fact that you can't be objective about the fact that you can't be objective about the fact that you can't be objective about the fact.\n",
      "The words 'window' 'file' 'program' 'run' 'server' 'application' 'widget' 'system' 'display' are related to which common topic?\n"
     ]
    },
    {
     "name": "stderr",
     "output_type": "stream",
     "text": [
      "The attention mask and the pad token id were not set. As a consequence, you may observe unexpected behavior. Please pass your input's `attention_mask` to obtain reliable results.\n",
      "Setting `pad_token_id` to `eos_token_id`:50256 for open-end generation.\n",
      "A decoder-only architecture is being used, but right-padding was detected! For correct generation results, please set `padding_side='left'` when initializing the tokenizer.\n"
     ]
    },
    {
     "name": "stdout",
     "output_type": "stream",
     "text": [
      "I think he means the application to the server.\n",
      "The words 'key' 'chip' 'encryption' 'government' 'system' 'clipper' 'phone' 'security' 'law' are related to which common topic?\n",
      "The common topic is the common topic.\n",
      "Results saved: DialoGPT-large\n"
     ]
    },
    {
     "name": "stderr",
     "output_type": "stream",
     "text": [
      "Conversation input is to long (48), trimming it to (20 - 10)\n"
     ]
    },
    {
     "name": "stdout",
     "output_type": "stream",
     "text": [
      "The words 'game' 'team' 'play' 'hockey' 'player' 'win' 'goal' 'season' 'fan' are related to which common topic?\n"
     ]
    },
    {
     "name": "stderr",
     "output_type": "stream",
     "text": [
      "Conversation input is to long (55), trimming it to (20 - 10)\n"
     ]
    },
    {
     "name": "stdout",
     "output_type": "stream",
     "text": [
      "'fan' and 'fan' are related to which common topic?\n",
      "The words 'god' 'religion' 'atheist' 'moral' 'claim' 'point' 'objective' 'good' 'belief' are related to which common topic?\n"
     ]
    },
    {
     "name": "stderr",
     "output_type": "stream",
     "text": [
      "Conversation input is to long (55), trimming it to (20 - 10)\n"
     ]
    },
    {
     "name": "stdout",
     "output_type": "stream",
     "text": [
      "'f' is related to which common topic?\n",
      "The words 'space' 'nasa' 'launch' 'system' 'orbit' 'earth' 'mission' 'satellite' 'shuttle' are related to which common topic?\n"
     ]
    },
    {
     "name": "stderr",
     "output_type": "stream",
     "text": [
      "Conversation input is to long (52), trimming it to (20 - 10)\n"
     ]
    },
    {
     "name": "stdout",
     "output_type": "stream",
     "text": [
      "The common topic is'seattle'\n",
      "The words 'patient' 'disease' 'medical' 'doctor' 'study' 'food' 'health' 'problem' 'effect' are related to which common topic?\n"
     ]
    },
    {
     "name": "stderr",
     "output_type": "stream",
     "text": [
      "Conversation input is to long (49), trimming it to (20 - 10)\n"
     ]
    },
    {
     "name": "stdout",
     "output_type": "stream",
     "text": [
      "'effect' are related to which common topic?\n",
      "The words 'government' 'president' 'state' 'law' 'work' 'give' 'man' 'american' 'drug' are related to which common topic?\n"
     ]
    },
    {
     "name": "stderr",
     "output_type": "stream",
     "text": [
      "Conversation input is to long (49), trimming it to (20 - 10)\n"
     ]
    },
    {
     "name": "stdout",
     "output_type": "stream",
     "text": [
      "Drugs are related to what common topic?\n",
      "The words 'mac' 'apple' 'problem' 'drive' 'system' 'work' 'monitor' 'computer' 'card' are related to which common topic?\n"
     ]
    },
    {
     "name": "stderr",
     "output_type": "stream",
     "text": [
      "Conversation input is to long (53), trimming it to (20 - 10)\n"
     ]
    },
    {
     "name": "stdout",
     "output_type": "stream",
     "text": [
      "The common topic is'sex'\n",
      "The words 'armenian' 'israel' 'turkish' 'jew' 'arab' 'israeli' 'muslim' 'state' 'kill' are related to which common topic?\n"
     ]
    },
    {
     "name": "stderr",
     "output_type": "stream",
     "text": [
      "Conversation input is to long (51), trimming it to (20 - 10)\n"
     ]
    },
    {
     "name": "stdout",
     "output_type": "stream",
     "text": [
      "'kill' and 'killing' are related to which common topic?\n",
      "The words 'drive' 'card' 'system' 'problem' 'work' 'controller' 'disk' 'scsus' 'ide' are related to which common topic?\n"
     ]
    },
    {
     "name": "stderr",
     "output_type": "stream",
     "text": [
      "Conversation input is to long (52), trimming it to (20 - 10)\n"
     ]
    },
    {
     "name": "stdout",
     "output_type": "stream",
     "text": [
      "'Side' is related to which common topic?\n",
      "The words 'offer' 'sale' 'sell' 'include' 'drive' 'price' 'shipping' 'condition' 'system' are related to which common topic?\n"
     ]
    },
    {
     "name": "stderr",
     "output_type": "stream",
     "text": [
      "Conversation input is to long (49), trimming it to (20 - 10)\n"
     ]
    },
    {
     "name": "stdout",
     "output_type": "stream",
     "text": [
      "'system' is related to which common topic?\n",
      "The words 'work' 'circuit' 'ground' 'power' 'wire' 'good' 'line' 'find' 'battery' are related to which common topic?\n"
     ]
    },
    {
     "name": "stderr",
     "output_type": "stream",
     "text": [
      "Conversation input is to long (49), trimming it to (20 - 10)\n"
     ]
    },
    {
     "name": "stdout",
     "output_type": "stream",
     "text": [
      "The common topic is 'the '\n",
      "The words 'window' 'file' 'run' 'driver' 'problem' 'program' 'work' 'card' 'system' are related to which common topic?\n"
     ]
    },
    {
     "name": "stderr",
     "output_type": "stream",
     "text": [
      "Conversation input is to long (51), trimming it to (20 - 10)\n"
     ]
    },
    {
     "name": "stdout",
     "output_type": "stream",
     "text": [
      "'system' is related to which common topic?\n",
      "The words 'bike' 'ride' 'dod' 'motorcycle' 'dog' 'good' 'bmw' 'work' 'rider' are related to which common topic?\n"
     ]
    },
    {
     "name": "stderr",
     "output_type": "stream",
     "text": [
      "Conversation input is to long (47), trimming it to (20 - 10)\n"
     ]
    },
    {
     "name": "stdout",
     "output_type": "stream",
     "text": [
      "The's' and 'e' are related to the's' in\n",
      "The words 'game' 'team' 'win' 'hit' 'player' 'run' 'baseball' 'good' 'play' are related to which common topic?\n"
     ]
    },
    {
     "name": "stderr",
     "output_type": "stream",
     "text": [
      "Conversation input is to long (54), trimming it to (20 - 10)\n"
     ]
    },
    {
     "name": "stdout",
     "output_type": "stream",
     "text": [
      "The common topic is 'play'\n",
      "The words 'god' 'christian' 'church' 'jesus' 'christ' 'sin' 'bible' 'give' 'question' are related to which common topic?\n"
     ]
    },
    {
     "name": "stderr",
     "output_type": "stream",
     "text": [
      "Conversation input is to long (51), trimming it to (20 - 10)\n"
     ]
    },
    {
     "name": "stdout",
     "output_type": "stream",
     "text": [
      "'Assault'\n",
      "The words 'gun' 'government' 'weapon' 'state' 'fire' 'law' 'firearm' 'fbi' 'child' are related to which common topic?\n"
     ]
    },
    {
     "name": "stderr",
     "output_type": "stream",
     "text": [
      "Conversation input is to long (51), trimming it to (20 - 10)\n"
     ]
    },
    {
     "name": "stdout",
     "output_type": "stream",
     "text": [
      "Child is related to the topic of child\n",
      "The words 'image' 'file' 'graphic' 'jpeg' 'program' 'format' 'system' 'color' 'datum' are related to which common topic?\n"
     ]
    },
    {
     "name": "stderr",
     "output_type": "stream",
     "text": [
      "Conversation input is to long (48), trimming it to (20 - 10)\n"
     ]
    },
    {
     "name": "stdout",
     "output_type": "stream",
     "text": [
      "'um' and 'um' are related to which common topic?\n",
      "The words 'car' 'engine' 'drive' 'good' 'buy' 'problem' 'dealer' 'price' 'work' are related to which common topic?\n"
     ]
    },
    {
     "name": "stderr",
     "output_type": "stream",
     "text": [
      "Conversation input is to long (54), trimming it to (20 - 10)\n"
     ]
    },
    {
     "name": "stdout",
     "output_type": "stream",
     "text": [
      "Work is related to what common topic?\n",
      "The words 'god' 'jesus' 'christian' 'fact' 'good' 'objective' 'theory' 'point' 'life' are related to which common topic?\n"
     ]
    },
    {
     "name": "stderr",
     "output_type": "stream",
     "text": [
      "Conversation input is to long (50), trimming it to (20 - 10)\n"
     ]
    },
    {
     "name": "stdout",
     "output_type": "stream",
     "text": [
      "Life is a common topic.\n",
      "The words 'window' 'file' 'program' 'run' 'server' 'application' 'widget' 'system' 'display' are related to which common topic?\n"
     ]
    },
    {
     "name": "stderr",
     "output_type": "stream",
     "text": [
      "Conversation input is to long (50), trimming it to (20 - 10)\n"
     ]
    },
    {
     "name": "stdout",
     "output_type": "stream",
     "text": [
      "'Lay' and 'lay' are related to which common topic?\n",
      "The words 'key' 'chip' 'encryption' 'government' 'system' 'clipper' 'phone' 'security' 'law' are related to which common topic?\n",
      "Law is a term used to describe the legal system in the US.\n",
      "Results saved: GODEL-v1_1-large-seq2seq\n",
      "The words 'game' 'team' 'play' 'hockey' 'player' 'win' 'goal' 'season' 'fan' 'playoff' are related to which common topic?\n"
     ]
    },
    {
     "name": "stderr",
     "output_type": "stream",
     "text": [
      "Conversation input is to long (52), trimming it to (60 - 10)\n"
     ]
    },
    {
     "name": "stdout",
     "output_type": "stream",
     "text": [
      " Hockey is a team sport played on ice, usually in a rink, in which two teams of skaters use their sticks to shoot a rubber puck into a net.\n",
      "The words 'god' 'religion' 'atheist' 'moral' 'claim' 'point' 'objective' 'good' 'belief' 'argument' are related to which common topic?\n"
     ]
    },
    {
     "name": "stderr",
     "output_type": "stream",
     "text": [
      "Conversation input is to long (53), trimming it to (60 - 10)\n"
     ]
    },
    {
     "name": "stdout",
     "output_type": "stream",
     "text": [
      " I'm not sure, but I do know that the term \"religious\" was first recorded in the 10th century.\n",
      "The words 'space' 'nasa' 'launch' 'system' 'orbit' 'earth' 'mission' 'satellite' 'shuttle' 'moon' are related to which common topic?\n"
     ]
    },
    {
     "name": "stderr",
     "output_type": "stream",
     "text": [
      "Conversation input is to long (52), trimming it to (60 - 10)\n"
     ]
    },
    {
     "name": "stdout",
     "output_type": "stream",
     "text": [
      " I'm not sure, but I do know that space is the boundless three-dimensional extent of space.\n",
      "The words 'patient' 'disease' 'medical' 'doctor' 'study' 'food' 'health' 'problem' 'effect' 'work' are related to which common topic?\n"
     ]
    },
    {
     "name": "stderr",
     "output_type": "stream",
     "text": [
      "Conversation input is to long (53), trimming it to (60 - 10)\n"
     ]
    },
    {
     "name": "stdout",
     "output_type": "stream",
     "text": [
      " I'm not sure, but I do know that there are many different types of medical professionals.\n",
      "The words 'government' 'president' 'state' 'law' 'work' 'give' 'man' 'american' 'drug' 'stephanopoulo' are related to which common topic?\n"
     ]
    },
    {
     "name": "stderr",
     "output_type": "stream",
     "text": [
      "Conversation input is to long (51), trimming it to (60 - 10)\n"
     ]
    },
    {
     "name": "stdout",
     "output_type": "stream",
     "text": [
      " I'm not sure, but I do know that the term \"stephopolo\" was first recorded in the 10th century.\n",
      "The words 'mac' 'apple' 'problem' 'drive' 'system' 'work' 'monitor' 'computer' 'card' 'disk' are related to which common topic?\n"
     ]
    },
    {
     "name": "stderr",
     "output_type": "stream",
     "text": [
      "Conversation input is to long (56), trimming it to (60 - 10)\n"
     ]
    },
    {
     "name": "stdout",
     "output_type": "stream",
     "text": [
      " I'm not sure, but I do know that the word \"mac\" was first recorded in the 10th century.\n",
      "The words 'armenian' 'israel' 'turkish' 'jew' 'arab' 'israeli' 'muslim' 'state' 'kill' 'government' are related to which common topic?\n",
      " I'm not sure, but I do know that Israel is a sovereign state in Eastern Europe.\n",
      "The words 'drive' 'card' 'system' 'problem' 'work' 'controller' 'disk' 'scsus' 'ide' 'run' are related to which common topic?\n"
     ]
    },
    {
     "name": "stderr",
     "output_type": "stream",
     "text": [
      "Conversation input is to long (52), trimming it to (60 - 10)\n"
     ]
    },
    {
     "name": "stdout",
     "output_type": "stream",
     "text": [
      " I'm not sure, but I do know that the word \"drive\" is derived from the Latin \"driver\"\n",
      "The words 'offer' 'sale' 'sell' 'include' 'drive' 'price' 'shipping' 'condition' 'system' 'card' are related to which common topic?\n",
      " I'm not sure, but I do know that the word \"carding\" was first recorded in the 10th century in a Latin manuscript from the Southern Italy town of Gaeta in Lazio.\n",
      "The words 'work' 'circuit' 'ground' 'power' 'wire' 'good' 'line' 'find' 'battery' 'copy' are related to which common topic?\n",
      " I'm not sure, but I do know that the word \"work\" was first recorded in the 10th century.\n",
      "The words 'window' 'file' 'run' 'driver' 'problem' 'program' 'work' 'card' 'system' 'version' are related to which common topic?\n"
     ]
    },
    {
     "name": "stderr",
     "output_type": "stream",
     "text": [
      "Conversation input is to long (52), trimming it to (60 - 10)\n"
     ]
    },
    {
     "name": "stdout",
     "output_type": "stream",
     "text": [
      " I'm not sure, but I do know that the word \"file\" is derived from the Latin word \"flavour\".\n",
      "The words 'bike' 'ride' 'dod' 'motorcycle' 'dog' 'good' 'bmw' 'work' 'rider' 'road' are related to which common topic?\n",
      " I'm not sure, but I do know that motorcycles are a type of motorcycle.\n",
      "The words 'game' 'team' 'win' 'hit' 'player' 'run' 'baseball' 'good' 'play' 'pitch' are related to which common topic?\n",
      " I'm not sure, but I do know that the game is played on a rectangular field.\n",
      "The words 'god' 'christian' 'church' 'jesus' 'christ' 'sin' 'bible' 'give' 'question' 'word' are related to which common topic?\n",
      " Christianity is the world's largest religion with over 2.4 billion followers.  \n",
      "The words 'gun' 'government' 'weapon' 'state' 'fire' 'law' 'firearm' 'fbi' 'child' 'day' are related to which common topic?\n"
     ]
    },
    {
     "name": "stderr",
     "output_type": "stream",
     "text": [
      "Conversation input is to long (54), trimming it to (60 - 10)\n"
     ]
    },
    {
     "name": "stdout",
     "output_type": "stream",
     "text": [
      " I'm not sure, but I do know that the term \"firearm\" was first recorded in the 10th century.\n",
      "The words 'image' 'file' 'graphic' 'jpeg' 'program' 'format' 'system' 'color' 'datum' 'software' are related to which common topic?\n",
      " I'm not sure, but I do know that graphic design is a form of visual communication.\n",
      "The words 'car' 'engine' 'drive' 'good' 'buy' 'problem' 'dealer' 'price' 'work' 'ford' are related to which common topic?\n",
      " I'm not sure, but I do know that the word \"engineer\" was first recorded in the 10th century.\n",
      "The words 'god' 'jesus' 'christian' 'fact' 'good' 'objective' 'theory' 'point' 'life' 'bible' are related to which common topic?\n"
     ]
    },
    {
     "name": "stderr",
     "output_type": "stream",
     "text": [
      "Conversation input is to long (52), trimming it to (60 - 10)\n"
     ]
    },
    {
     "name": "stdout",
     "output_type": "stream",
     "text": [
      " The Bible is a collection of sacred texts written by Jesus of Nazareth.\n",
      "The words 'window' 'file' 'program' 'run' 'server' 'application' 'widget' 'system' 'display' 'work' are related to which common topic?\n"
     ]
    },
    {
     "name": "stderr",
     "output_type": "stream",
     "text": [
      "Conversation input is to long (51), trimming it to (60 - 10)\n"
     ]
    },
    {
     "name": "stdout",
     "output_type": "stream",
     "text": [
      " I'm not sure, but I do know that the term \"programmer\" was first used in the late 19th century.\n",
      "The words 'key' 'chip' 'encryption' 'government' 'system' 'clipper' 'phone' 'security' 'law' 'information' are related to which common topic?\n",
      " I'm not sure, but I do know that the word \"chip\" was first recorded in the 10th century.\n",
      "Results saved: blenderbot-400M-distill\n"
     ]
    },
    {
     "name": "stderr",
     "output_type": "stream",
     "text": [
      "c:\\Users\\Virginia\\anaconda3\\lib\\site-packages\\transformers\\generation\\utils.py:1186: UserWarning: You have modified the pretrained model configuration to control generation. This is a deprecated strategy to control generation and will be removed soon, in a future version. Please use a generation configuration file (see https://huggingface.co/docs/transformers/main_classes/text_generation)\n",
      "  warnings.warn(\n",
      "The attention mask and the pad token id were not set. As a consequence, you may observe unexpected behavior. Please pass your input's `attention_mask` to obtain reliable results.\n",
      "Setting `pad_token_id` to `eos_token_id`:50256 for open-end generation.\n",
      "A decoder-only architecture is being used, but right-padding was detected! For correct generation results, please set `padding_side='left'` when initializing the tokenizer.\n"
     ]
    },
    {
     "name": "stdout",
     "output_type": "stream",
     "text": [
      "The words 'game' 'team' 'play' 'hockey' 'player' 'win' 'goal' 'season' 'fan' 'playoff' are related to which common topic?\n"
     ]
    },
    {
     "name": "stderr",
     "output_type": "stream",
     "text": [
      "The attention mask and the pad token id were not set. As a consequence, you may observe unexpected behavior. Please pass your input's `attention_mask` to obtain reliable results.\n",
      "Setting `pad_token_id` to `eos_token_id`:50256 for open-end generation.\n",
      "A decoder-only architecture is being used, but right-padding was detected! For correct generation results, please set `padding_side='left'` when initializing the tokenizer.\n"
     ]
    },
    {
     "name": "stdout",
     "output_type": "stream",
     "text": [
      "I think it's the word'game '.\n",
      "The words 'god' 'religion' 'atheist' 'moral' 'claim' 'point' 'objective' 'good' 'belief' 'argument' are related to which common topic?\n"
     ]
    },
    {
     "name": "stderr",
     "output_type": "stream",
     "text": [
      "The attention mask and the pad token id were not set. As a consequence, you may observe unexpected behavior. Please pass your input's `attention_mask` to obtain reliable results.\n",
      "Setting `pad_token_id` to `eos_token_id`:50256 for open-end generation.\n",
      "A decoder-only architecture is being used, but right-padding was detected! For correct generation results, please set `padding_side='left'` when initializing the tokenizer.\n"
     ]
    },
    {
     "name": "stdout",
     "output_type": "stream",
     "text": [
      "I think the point is that the word'religion'is used in a lot of contexts, and it's not a bad word.\n",
      "The words 'space' 'nasa' 'launch' 'system' 'orbit' 'earth' 'mission' 'satellite' 'shuttle' 'moon' are related to which common topic?\n"
     ]
    },
    {
     "name": "stderr",
     "output_type": "stream",
     "text": [
      "The attention mask and the pad token id were not set. As a consequence, you may observe unexpected behavior. Please pass your input's `attention_mask` to obtain reliable results.\n",
      "Setting `pad_token_id` to `eos_token_id`:50256 for open-end generation.\n",
      "A decoder-only architecture is being used, but right-padding was detected! For correct generation results, please set `padding_side='left'` when initializing the tokenizer.\n"
     ]
    },
    {
     "name": "stdout",
     "output_type": "stream",
     "text": [
      "I think it's a reference to the movie Moon.\n",
      "The words 'patient' 'disease' 'medical' 'doctor' 'study' 'food' 'health' 'problem' 'effect' 'work' are related to which common topic?\n"
     ]
    },
    {
     "name": "stderr",
     "output_type": "stream",
     "text": [
      "The attention mask and the pad token id were not set. As a consequence, you may observe unexpected behavior. Please pass your input's `attention_mask` to obtain reliable results.\n",
      "Setting `pad_token_id` to `eos_token_id`:50256 for open-end generation.\n",
      "A decoder-only architecture is being used, but right-padding was detected! For correct generation results, please set `padding_side='left'` when initializing the tokenizer.\n"
     ]
    },
    {
     "name": "stdout",
     "output_type": "stream",
     "text": [
      "I think it's a reference to the movie The Big Lebowski.\n",
      "The words 'government' 'president' 'state' 'law' 'work' 'give' 'man' 'american' 'drug' 'stephanopoulo' are related to which common topic?\n"
     ]
    },
    {
     "name": "stderr",
     "output_type": "stream",
     "text": [
      "The attention mask and the pad token id were not set. As a consequence, you may observe unexpected behavior. Please pass your input's `attention_mask` to obtain reliable results.\n",
      "Setting `pad_token_id` to `eos_token_id`:50256 for open-end generation.\n",
      "A decoder-only architecture is being used, but right-padding was detected! For correct generation results, please set `padding_side='left'` when initializing the tokenizer.\n"
     ]
    },
    {
     "name": "stdout",
     "output_type": "stream",
     "text": [
      "I think it's a reference to the fact that the government is a government.\n",
      "The words 'mac' 'apple' 'problem' 'drive' 'system' 'work' 'monitor' 'computer' 'card' 'disk' are related to which common topic?\n"
     ]
    },
    {
     "name": "stderr",
     "output_type": "stream",
     "text": [
      "The attention mask and the pad token id were not set. As a consequence, you may observe unexpected behavior. Please pass your input's `attention_mask` to obtain reliable results.\n",
      "Setting `pad_token_id` to `eos_token_id`:50256 for open-end generation.\n",
      "A decoder-only architecture is being used, but right-padding was detected! For correct generation results, please set `padding_side='left'` when initializing the tokenizer.\n"
     ]
    },
    {
     "name": "stdout",
     "output_type": "stream",
     "text": [
      "Macs are computers.\n",
      "The words 'armenian' 'israel' 'turkish' 'jew' 'arab' 'israeli' 'muslim' 'state' 'kill' 'government' are related to which common topic?\n"
     ]
    },
    {
     "name": "stderr",
     "output_type": "stream",
     "text": [
      "The attention mask and the pad token id were not set. As a consequence, you may observe unexpected behavior. Please pass your input's `attention_mask` to obtain reliable results.\n",
      "Setting `pad_token_id` to `eos_token_id`:50256 for open-end generation.\n",
      "A decoder-only architecture is being used, but right-padding was detected! For correct generation results, please set `padding_side='left'` when initializing the tokenizer.\n"
     ]
    },
    {
     "name": "stdout",
     "output_type": "stream",
     "text": [
      "I'm not sure what you're asking.\n",
      "The words 'drive' 'card' 'system' 'problem' 'work' 'controller' 'disk' 'scsus' 'ide' 'run' are related to which common topic?\n"
     ]
    },
    {
     "name": "stderr",
     "output_type": "stream",
     "text": [
      "The attention mask and the pad token id were not set. As a consequence, you may observe unexpected behavior. Please pass your input's `attention_mask` to obtain reliable results.\n",
      "Setting `pad_token_id` to `eos_token_id`:50256 for open-end generation.\n",
      "A decoder-only architecture is being used, but right-padding was detected! For correct generation results, please set `padding_side='left'` when initializing the tokenizer.\n"
     ]
    },
    {
     "name": "stdout",
     "output_type": "stream",
     "text": [
      "I think it's the drive, but I'm not sure.\n",
      "The words 'offer' 'sale' 'sell' 'include' 'drive' 'price' 'shipping' 'condition' 'system' 'card' are related to which common topic?\n"
     ]
    },
    {
     "name": "stderr",
     "output_type": "stream",
     "text": [
      "The attention mask and the pad token id were not set. As a consequence, you may observe unexpected behavior. Please pass your input's `attention_mask` to obtain reliable results.\n",
      "Setting `pad_token_id` to `eos_token_id`:50256 for open-end generation.\n",
      "A decoder-only architecture is being used, but right-padding was detected! For correct generation results, please set `padding_side='left'` when initializing the tokenizer.\n"
     ]
    },
    {
     "name": "stdout",
     "output_type": "stream",
     "text": [
      "I'm not sure what you mean by condition.\n",
      "The words 'work' 'circuit' 'ground' 'power' 'wire' 'good' 'line' 'find' 'battery' 'copy' are related to which common topic?\n"
     ]
    },
    {
     "name": "stderr",
     "output_type": "stream",
     "text": [
      "The attention mask and the pad token id were not set. As a consequence, you may observe unexpected behavior. Please pass your input's `attention_mask` to obtain reliable results.\n",
      "Setting `pad_token_id` to `eos_token_id`:50256 for open-end generation.\n",
      "A decoder-only architecture is being used, but right-padding was detected! For correct generation results, please set `padding_side='left'` when initializing the tokenizer.\n"
     ]
    },
    {
     "name": "stdout",
     "output_type": "stream",
     "text": [
      "I think it's the word'circuit '.\n",
      "The words 'window' 'file' 'run' 'driver' 'problem' 'program' 'work' 'card' 'system' 'version' are related to which common topic?\n"
     ]
    },
    {
     "name": "stderr",
     "output_type": "stream",
     "text": [
      "The attention mask and the pad token id were not set. As a consequence, you may observe unexpected behavior. Please pass your input's `attention_mask` to obtain reliable results.\n",
      "Setting `pad_token_id` to `eos_token_id`:50256 for open-end generation.\n",
      "A decoder-only architecture is being used, but right-padding was detected! For correct generation results, please set `padding_side='left'` when initializing the tokenizer.\n"
     ]
    },
    {
     "name": "stdout",
     "output_type": "stream",
     "text": [
      "Windows, Windows, Windows, Windows, Windows, Windows, Windows, Windows, Windows, Windows, Windows, Windows, Windows, Windows, Windows, Windows, Windows, Windows, Windows, Windows, Windows, Windows, Windows, Windows, Windows, Windows, Windows, Windows, Windows, Windows, Windows, Windows, Windows, Windows, Windows, Windows, Windows, Windows, Windows, Windows, Windows, Windows, Windows, Windows,\n",
      "The words 'bike' 'ride' 'dod' 'motorcycle' 'dog' 'good' 'bmw' 'work' 'rider' 'road' are related to which common topic?\n"
     ]
    },
    {
     "name": "stderr",
     "output_type": "stream",
     "text": [
      "The attention mask and the pad token id were not set. As a consequence, you may observe unexpected behavior. Please pass your input's `attention_mask` to obtain reliable results.\n",
      "Setting `pad_token_id` to `eos_token_id`:50256 for open-end generation.\n",
      "A decoder-only architecture is being used, but right-padding was detected! For correct generation results, please set `padding_side='left'` when initializing the tokenizer.\n"
     ]
    },
    {
     "name": "stdout",
     "output_type": "stream",
     "text": [
      "I think it's a reference to the movie'The Road '.\n",
      "The words 'game' 'team' 'win' 'hit' 'player' 'run' 'baseball' 'good' 'play' 'pitch' are related to which common topic?\n"
     ]
    },
    {
     "name": "stderr",
     "output_type": "stream",
     "text": [
      "The attention mask and the pad token id were not set. As a consequence, you may observe unexpected behavior. Please pass your input's `attention_mask` to obtain reliable results.\n",
      "Setting `pad_token_id` to `eos_token_id`:50256 for open-end generation.\n",
      "A decoder-only architecture is being used, but right-padding was detected! For correct generation results, please set `padding_side='left'` when initializing the tokenizer.\n"
     ]
    },
    {
     "name": "stdout",
     "output_type": "stream",
     "text": [
      "I think it's the word'game '\n",
      "The words 'god' 'christian' 'church' 'jesus' 'christ' 'sin' 'bible' 'give' 'question' 'word' are related to which common topic?\n"
     ]
    },
    {
     "name": "stderr",
     "output_type": "stream",
     "text": [
      "The attention mask and the pad token id were not set. As a consequence, you may observe unexpected behavior. Please pass your input's `attention_mask` to obtain reliable results.\n",
      "Setting `pad_token_id` to `eos_token_id`:50256 for open-end generation.\n",
      "A decoder-only architecture is being used, but right-padding was detected! For correct generation results, please set `padding_side='left'` when initializing the tokenizer.\n"
     ]
    },
    {
     "name": "stdout",
     "output_type": "stream",
     "text": [
      "I think it's the word'word '.\n",
      "The words 'gun' 'government' 'weapon' 'state' 'fire' 'law' 'firearm' 'fbi' 'child' 'day' are related to which common topic?\n"
     ]
    },
    {
     "name": "stderr",
     "output_type": "stream",
     "text": [
      "The attention mask and the pad token id were not set. As a consequence, you may observe unexpected behavior. Please pass your input's `attention_mask` to obtain reliable results.\n",
      "Setting `pad_token_id` to `eos_token_id`:50256 for open-end generation.\n",
      "A decoder-only architecture is being used, but right-padding was detected! For correct generation results, please set `padding_side='left'` when initializing the tokenizer.\n"
     ]
    },
    {
     "name": "stdout",
     "output_type": "stream",
     "text": [
      "I think it's a reference to the movie The Big Lebowski.\n",
      "The words 'image' 'file' 'graphic' 'jpeg' 'program' 'format' 'system' 'color' 'datum' 'software' are related to which common topic?\n"
     ]
    },
    {
     "name": "stderr",
     "output_type": "stream",
     "text": [
      "The attention mask and the pad token id were not set. As a consequence, you may observe unexpected behavior. Please pass your input's `attention_mask` to obtain reliable results.\n",
      "Setting `pad_token_id` to `eos_token_id`:50256 for open-end generation.\n",
      "A decoder-only architecture is being used, but right-padding was detected! For correct generation results, please set `padding_side='left'` when initializing the tokenizer.\n"
     ]
    },
    {
     "name": "stdout",
     "output_type": "stream",
     "text": [
      "I'm not sure what you mean by file.\n",
      "The words 'car' 'engine' 'drive' 'good' 'buy' 'problem' 'dealer' 'price' 'work' 'ford' are related to which common topic?\n"
     ]
    },
    {
     "name": "stderr",
     "output_type": "stream",
     "text": [
      "The attention mask and the pad token id were not set. As a consequence, you may observe unexpected behavior. Please pass your input's `attention_mask` to obtain reliable results.\n",
      "Setting `pad_token_id` to `eos_token_id`:50256 for open-end generation.\n",
      "A decoder-only architecture is being used, but right-padding was detected! For correct generation results, please set `padding_side='left'` when initializing the tokenizer.\n"
     ]
    },
    {
     "name": "stdout",
     "output_type": "stream",
     "text": [
      "I think it's a reference to the fact that the car is a Ford.\n",
      "The words 'god' 'jesus' 'christian' 'fact' 'good' 'objective' 'theory' 'point' 'life' 'bible' are related to which common topic?\n"
     ]
    },
    {
     "name": "stderr",
     "output_type": "stream",
     "text": [
      "The attention mask and the pad token id were not set. As a consequence, you may observe unexpected behavior. Please pass your input's `attention_mask` to obtain reliable results.\n",
      "Setting `pad_token_id` to `eos_token_id`:50256 for open-end generation.\n",
      "A decoder-only architecture is being used, but right-padding was detected! For correct generation results, please set `padding_side='left'` when initializing the tokenizer.\n"
     ]
    },
    {
     "name": "stdout",
     "output_type": "stream",
     "text": [
      "I think it's the fact that they're all the same.\n",
      "The words 'window' 'file' 'program' 'run' 'server' 'application' 'widget' 'system' 'display' 'work' are related to which common topic?\n"
     ]
    },
    {
     "name": "stderr",
     "output_type": "stream",
     "text": [
      "The attention mask and the pad token id were not set. As a consequence, you may observe unexpected behavior. Please pass your input's `attention_mask` to obtain reliable results.\n",
      "Setting `pad_token_id` to `eos_token_id`:50256 for open-end generation.\n",
      "A decoder-only architecture is being used, but right-padding was detected! For correct generation results, please set `padding_side='left'` when initializing the tokenizer.\n"
     ]
    },
    {
     "name": "stdout",
     "output_type": "stream",
     "text": [
      "I think it's a reference to the movie The Window.\n",
      "The words 'key' 'chip' 'encryption' 'government' 'system' 'clipper' 'phone' 'security' 'law' 'information' are related to which common topic?\n",
      "I think it's the government.\n",
      "Results saved: DialoGPT-medium\n"
     ]
    },
    {
     "name": "stderr",
     "output_type": "stream",
     "text": [
      "Conversation input is to long (53), trimming it to (20 - 10)\n"
     ]
    },
    {
     "name": "stdout",
     "output_type": "stream",
     "text": [
      "The words 'game' 'team' 'play' 'hockey' 'player' 'win' 'goal' 'season' 'fan' 'playoff' are related to which common topic?\n"
     ]
    },
    {
     "name": "stderr",
     "output_type": "stream",
     "text": [
      "Conversation input is to long (61), trimming it to (20 - 10)\n"
     ]
    },
    {
     "name": "stdout",
     "output_type": "stream",
     "text": [
      "I'm not sure, but I'm not sure what the common topic is.\n",
      "The words 'god' 'religion' 'atheist' 'moral' 'claim' 'point' 'objective' 'good' 'belief' 'argument' are related to which common topic?\n"
     ]
    },
    {
     "name": "stderr",
     "output_type": "stream",
     "text": [
      "Conversation input is to long (61), trimming it to (20 - 10)\n"
     ]
    },
    {
     "name": "stdout",
     "output_type": "stream",
     "text": [
      "I'm not sure but I'm not sure what the common topic is.\n",
      "The words 'space' 'nasa' 'launch' 'system' 'orbit' 'earth' 'mission' 'satellite' 'shuttle' 'moon' are related to which common topic?\n"
     ]
    },
    {
     "name": "stderr",
     "output_type": "stream",
     "text": [
      "Conversation input is to long (56), trimming it to (20 - 10)\n"
     ]
    },
    {
     "name": "stdout",
     "output_type": "stream",
     "text": [
      "I'm not sure but I'm not sure what the common topic is.\n",
      "The words 'patient' 'disease' 'medical' 'doctor' 'study' 'food' 'health' 'problem' 'effect' 'work' are related to which common topic?\n"
     ]
    },
    {
     "name": "stderr",
     "output_type": "stream",
     "text": [
      "Conversation input is to long (58), trimming it to (20 - 10)\n"
     ]
    },
    {
     "name": "stdout",
     "output_type": "stream",
     "text": [
      "I'm not sure, but I'm not sure what the common topic is.\n",
      "The words 'government' 'president' 'state' 'law' 'work' 'give' 'man' 'american' 'drug' 'stephanopoulo' are related to which common topic?\n"
     ]
    },
    {
     "name": "stderr",
     "output_type": "stream",
     "text": [
      "Conversation input is to long (54), trimming it to (20 - 10)\n"
     ]
    },
    {
     "name": "stdout",
     "output_type": "stream",
     "text": [
      "i'm not sure but i'm a big fan of the '\n",
      "The words 'mac' 'apple' 'problem' 'drive' 'system' 'work' 'monitor' 'computer' 'card' 'disk' are related to which common topic?\n"
     ]
    },
    {
     "name": "stderr",
     "output_type": "stream",
     "text": [
      "Conversation input is to long (57), trimming it to (20 - 10)\n"
     ]
    },
    {
     "name": "stdout",
     "output_type": "stream",
     "text": [
      "I'm not sure but I'm not sure what the common topic is.\n",
      "The words 'armenian' 'israel' 'turkish' 'jew' 'arab' 'israeli' 'muslim' 'state' 'kill' 'government' are related to which common topic?\n"
     ]
    },
    {
     "name": "stderr",
     "output_type": "stream",
     "text": [
      "Conversation input is to long (55), trimming it to (20 - 10)\n"
     ]
    },
    {
     "name": "stdout",
     "output_type": "stream",
     "text": [
      "Government is a common topic in the US.\n",
      "The words 'drive' 'card' 'system' 'problem' 'work' 'controller' 'disk' 'scsus' 'ide' 'run' are related to which common topic?\n"
     ]
    },
    {
     "name": "stderr",
     "output_type": "stream",
     "text": [
      "Conversation input is to long (56), trimming it to (20 - 10)\n"
     ]
    },
    {
     "name": "stdout",
     "output_type": "stream",
     "text": [
      "I'm not sure, but I'm not sure if it's related to\n",
      "The words 'offer' 'sale' 'sell' 'include' 'drive' 'price' 'shipping' 'condition' 'system' 'card' are related to which common topic?\n"
     ]
    },
    {
     "name": "stderr",
     "output_type": "stream",
     "text": [
      "Conversation input is to long (53), trimming it to (20 - 10)\n"
     ]
    },
    {
     "name": "stdout",
     "output_type": "stream",
     "text": [
      "I'm not sure but I'm not sure what the common topic is.\n",
      "The words 'work' 'circuit' 'ground' 'power' 'wire' 'good' 'line' 'find' 'battery' 'copy' are related to which common topic?\n"
     ]
    },
    {
     "name": "stderr",
     "output_type": "stream",
     "text": [
      "Conversation input is to long (53), trimming it to (20 - 10)\n"
     ]
    },
    {
     "name": "stdout",
     "output_type": "stream",
     "text": [
      "I'm not sure but I'm not sure what the common topic is.\n",
      "The words 'window' 'file' 'run' 'driver' 'problem' 'program' 'work' 'card' 'system' 'version' are related to which common topic?\n"
     ]
    },
    {
     "name": "stderr",
     "output_type": "stream",
     "text": [
      "Conversation input is to long (55), trimming it to (20 - 10)\n"
     ]
    },
    {
     "name": "stdout",
     "output_type": "stream",
     "text": [
      "I'm not sure but I'm not sure what the common topic is.\n",
      "The words 'bike' 'ride' 'dod' 'motorcycle' 'dog' 'good' 'bmw' 'work' 'rider' 'road' are related to which common topic?\n"
     ]
    },
    {
     "name": "stderr",
     "output_type": "stream",
     "text": [
      "Conversation input is to long (52), trimming it to (20 - 10)\n"
     ]
    },
    {
     "name": "stdout",
     "output_type": "stream",
     "text": [
      "I'm not sure but I'm not sure what the common topic is.\n",
      "The words 'game' 'team' 'win' 'hit' 'player' 'run' 'baseball' 'good' 'play' 'pitch' are related to which common topic?\n"
     ]
    },
    {
     "name": "stderr",
     "output_type": "stream",
     "text": [
      "Conversation input is to long (58), trimming it to (20 - 10)\n"
     ]
    },
    {
     "name": "stdout",
     "output_type": "stream",
     "text": [
      "I'm not sure but I'm not sure what the itch is.\n",
      "The words 'god' 'christian' 'church' 'jesus' 'christ' 'sin' 'bible' 'give' 'question' 'word' are related to which common topic?\n"
     ]
    },
    {
     "name": "stderr",
     "output_type": "stream",
     "text": [
      "Conversation input is to long (55), trimming it to (20 - 10)\n"
     ]
    },
    {
     "name": "stdout",
     "output_type": "stream",
     "text": [
      "I'm not sure but I'm not sure what the common topic is.\n",
      "The words 'gun' 'government' 'weapon' 'state' 'fire' 'law' 'firearm' 'fbi' 'child' 'day' are related to which common topic?\n"
     ]
    },
    {
     "name": "stderr",
     "output_type": "stream",
     "text": [
      "Conversation input is to long (55), trimming it to (20 - 10)\n"
     ]
    },
    {
     "name": "stdout",
     "output_type": "stream",
     "text": [
      "I'm not sure but I'm sure it's a common topic.\n",
      "The words 'image' 'file' 'graphic' 'jpeg' 'program' 'format' 'system' 'color' 'datum' 'software' are related to which common topic?\n"
     ]
    },
    {
     "name": "stderr",
     "output_type": "stream",
     "text": [
      "Conversation input is to long (52), trimming it to (20 - 10)\n"
     ]
    },
    {
     "name": "stdout",
     "output_type": "stream",
     "text": [
      "Software is a common topic in the US.\n",
      "The words 'car' 'engine' 'drive' 'good' 'buy' 'problem' 'dealer' 'price' 'work' 'ford' are related to which common topic?\n"
     ]
    },
    {
     "name": "stderr",
     "output_type": "stream",
     "text": [
      "Conversation input is to long (59), trimming it to (20 - 10)\n"
     ]
    },
    {
     "name": "stdout",
     "output_type": "stream",
     "text": [
      "I'm not sure but I'm not sure.\n",
      "The words 'god' 'jesus' 'christian' 'fact' 'good' 'objective' 'theory' 'point' 'life' 'bible' are related to which common topic?\n"
     ]
    },
    {
     "name": "stderr",
     "output_type": "stream",
     "text": [
      "Conversation input is to long (54), trimming it to (20 - 10)\n"
     ]
    },
    {
     "name": "stdout",
     "output_type": "stream",
     "text": [
      "I'm not sure but I'm not sure what the topic is.\n",
      "The words 'window' 'file' 'program' 'run' 'server' 'application' 'widget' 'system' 'display' 'work' are related to which common topic?\n"
     ]
    },
    {
     "name": "stderr",
     "output_type": "stream",
     "text": [
      "Conversation input is to long (54), trimming it to (20 - 10)\n"
     ]
    },
    {
     "name": "stdout",
     "output_type": "stream",
     "text": [
      "I'm not sure, but I'm not sure what the common topic is.\n",
      "The words 'key' 'chip' 'encryption' 'government' 'system' 'clipper' 'phone' 'security' 'law' 'information' are related to which common topic?\n",
      "i'm not sure, but i'm not sure.\n",
      "Results saved: GODEL-v1_1-base-seq2seq\n"
     ]
    },
    {
     "name": "stderr",
     "output_type": "stream",
     "text": [
      "c:\\Users\\Virginia\\anaconda3\\lib\\site-packages\\transformers\\generation\\utils.py:1186: UserWarning: You have modified the pretrained model configuration to control generation. This is a deprecated strategy to control generation and will be removed soon, in a future version. Please use a generation configuration file (see https://huggingface.co/docs/transformers/main_classes/text_generation)\n",
      "  warnings.warn(\n",
      "The attention mask and the pad token id were not set. As a consequence, you may observe unexpected behavior. Please pass your input's `attention_mask` to obtain reliable results.\n",
      "Setting `pad_token_id` to `eos_token_id`:50256 for open-end generation.\n",
      "A decoder-only architecture is being used, but right-padding was detected! For correct generation results, please set `padding_side='left'` when initializing the tokenizer.\n"
     ]
    },
    {
     "name": "stdout",
     "output_type": "stream",
     "text": [
      "The words 'game' 'team' 'play' 'hockey' 'player' 'win' 'goal' 'season' 'fan' 'playoff' are related to which common topic?\n"
     ]
    },
    {
     "name": "stderr",
     "output_type": "stream",
     "text": [
      "The attention mask and the pad token id were not set. As a consequence, you may observe unexpected behavior. Please pass your input's `attention_mask` to obtain reliable results.\n",
      "Setting `pad_token_id` to `eos_token_id`:50256 for open-end generation.\n",
      "A decoder-only architecture is being used, but right-padding was detected! For correct generation results, please set `padding_side='left'` when initializing the tokenizer.\n"
     ]
    },
    {
     "name": "stdout",
     "output_type": "stream",
     "text": [
      "I'm not sure what you're trying to say.\n",
      "The words 'god' 'religion' 'atheist' 'moral' 'claim' 'point' 'objective' 'good' 'belief' 'argument' are related to which common topic?\n"
     ]
    },
    {
     "name": "stderr",
     "output_type": "stream",
     "text": [
      "The attention mask and the pad token id were not set. As a consequence, you may observe unexpected behavior. Please pass your input's `attention_mask` to obtain reliable results.\n",
      "Setting `pad_token_id` to `eos_token_id`:50256 for open-end generation.\n",
      "A decoder-only architecture is being used, but right-padding was detected! For correct generation results, please set `padding_side='left'` when initializing the tokenizer.\n"
     ]
    },
    {
     "name": "stdout",
     "output_type": "stream",
     "text": [
      "I'm not sure what you're trying to say.\n",
      "The words 'space' 'nasa' 'launch' 'system' 'orbit' 'earth' 'mission' 'satellite' 'shuttle' 'moon' are related to which common topic?\n"
     ]
    },
    {
     "name": "stderr",
     "output_type": "stream",
     "text": [
      "The attention mask and the pad token id were not set. As a consequence, you may observe unexpected behavior. Please pass your input's `attention_mask` to obtain reliable results.\n",
      "Setting `pad_token_id` to `eos_token_id`:50256 for open-end generation.\n",
      "A decoder-only architecture is being used, but right-padding was detected! For correct generation results, please set `padding_side='left'` when initializing the tokenizer.\n"
     ]
    },
    {
     "name": "stdout",
     "output_type": "stream",
     "text": [
      "I'm not sure what you're asking.\n",
      "The words 'patient' 'disease' 'medical' 'doctor' 'study' 'food' 'health' 'problem' 'effect' 'work' are related to which common topic?\n"
     ]
    },
    {
     "name": "stderr",
     "output_type": "stream",
     "text": [
      "The attention mask and the pad token id were not set. As a consequence, you may observe unexpected behavior. Please pass your input's `attention_mask` to obtain reliable results.\n",
      "Setting `pad_token_id` to `eos_token_id`:50256 for open-end generation.\n",
      "A decoder-only architecture is being used, but right-padding was detected! For correct generation results, please set `padding_side='left'` when initializing the tokenizer.\n"
     ]
    },
    {
     "name": "stdout",
     "output_type": "stream",
     "text": [
      "I'm not sure what you mean by'' problem''\n",
      "The words 'government' 'president' 'state' 'law' 'work' 'give' 'man' 'american' 'drug' 'stephanopoulo' are related to which common topic?\n"
     ]
    },
    {
     "name": "stderr",
     "output_type": "stream",
     "text": [
      "The attention mask and the pad token id were not set. As a consequence, you may observe unexpected behavior. Please pass your input's `attention_mask` to obtain reliable results.\n",
      "Setting `pad_token_id` to `eos_token_id`:50256 for open-end generation.\n",
      "A decoder-only architecture is being used, but right-padding was detected! For correct generation results, please set `padding_side='left'` when initializing the tokenizer.\n"
     ]
    },
    {
     "name": "stdout",
     "output_type": "stream",
     "text": [
      "I'm not sure what you're trying to say.\n",
      "The words 'mac' 'apple' 'problem' 'drive' 'system' 'work' 'monitor' 'computer' 'card' 'disk' are related to which common topic?\n"
     ]
    },
    {
     "name": "stderr",
     "output_type": "stream",
     "text": [
      "The attention mask and the pad token id were not set. As a consequence, you may observe unexpected behavior. Please pass your input's `attention_mask` to obtain reliable results.\n",
      "Setting `pad_token_id` to `eos_token_id`:50256 for open-end generation.\n",
      "A decoder-only architecture is being used, but right-padding was detected! For correct generation results, please set `padding_side='left'` when initializing the tokenizer.\n"
     ]
    },
    {
     "name": "stdout",
     "output_type": "stream",
     "text": [
      "I'm not sure what you mean by this.\n",
      "The words 'armenian' 'israel' 'turkish' 'jew' 'arab' 'israeli' 'muslim' 'state' 'kill' 'government' are related to which common topic?\n"
     ]
    },
    {
     "name": "stderr",
     "output_type": "stream",
     "text": [
      "The attention mask and the pad token id were not set. As a consequence, you may observe unexpected behavior. Please pass your input's `attention_mask` to obtain reliable results.\n",
      "Setting `pad_token_id` to `eos_token_id`:50256 for open-end generation.\n",
      "A decoder-only architecture is being used, but right-padding was detected! For correct generation results, please set `padding_side='left'` when initializing the tokenizer.\n"
     ]
    },
    {
     "name": "stdout",
     "output_type": "stream",
     "text": [
      "I'm not sure what you're trying to say.\n",
      "The words 'drive' 'card' 'system' 'problem' 'work' 'controller' 'disk' 'scsus' 'ide' 'run' are related to which common topic?\n"
     ]
    },
    {
     "name": "stderr",
     "output_type": "stream",
     "text": [
      "The attention mask and the pad token id were not set. As a consequence, you may observe unexpected behavior. Please pass your input's `attention_mask` to obtain reliable results.\n",
      "Setting `pad_token_id` to `eos_token_id`:50256 for open-end generation.\n",
      "A decoder-only architecture is being used, but right-padding was detected! For correct generation results, please set `padding_side='left'` when initializing the tokenizer.\n"
     ]
    },
    {
     "name": "stdout",
     "output_type": "stream",
     "text": [
      "I'm not sure what you mean by this.\n",
      "The words 'offer' 'sale' 'sell' 'include' 'drive' 'price' 'shipping' 'condition' 'system' 'card' are related to which common topic?\n"
     ]
    },
    {
     "name": "stderr",
     "output_type": "stream",
     "text": [
      "The attention mask and the pad token id were not set. As a consequence, you may observe unexpected behavior. Please pass your input's `attention_mask` to obtain reliable results.\n",
      "Setting `pad_token_id` to `eos_token_id`:50256 for open-end generation.\n",
      "A decoder-only architecture is being used, but right-padding was detected! For correct generation results, please set `padding_side='left'` when initializing the tokenizer.\n"
     ]
    },
    {
     "name": "stdout",
     "output_type": "stream",
     "text": [
      "I'm not sure what you mean by this.\n",
      "The words 'work' 'circuit' 'ground' 'power' 'wire' 'good' 'line' 'find' 'battery' 'copy' are related to which common topic?\n"
     ]
    },
    {
     "name": "stderr",
     "output_type": "stream",
     "text": [
      "The attention mask and the pad token id were not set. As a consequence, you may observe unexpected behavior. Please pass your input's `attention_mask` to obtain reliable results.\n",
      "Setting `pad_token_id` to `eos_token_id`:50256 for open-end generation.\n",
      "A decoder-only architecture is being used, but right-padding was detected! For correct generation results, please set `padding_side='left'` when initializing the tokenizer.\n"
     ]
    },
    {
     "name": "stdout",
     "output_type": "stream",
     "text": [
      "I'm not sure what you mean by'related '.\n",
      "The words 'window' 'file' 'run' 'driver' 'problem' 'program' 'work' 'card' 'system' 'version' are related to which common topic?\n"
     ]
    },
    {
     "name": "stderr",
     "output_type": "stream",
     "text": [
      "The attention mask and the pad token id were not set. As a consequence, you may observe unexpected behavior. Please pass your input's `attention_mask` to obtain reliable results.\n",
      "Setting `pad_token_id` to `eos_token_id`:50256 for open-end generation.\n",
      "A decoder-only architecture is being used, but right-padding was detected! For correct generation results, please set `padding_side='left'` when initializing the tokenizer.\n"
     ]
    },
    {
     "name": "stdout",
     "output_type": "stream",
     "text": [
      "I'm not sure what you mean by this.\n",
      "The words 'bike' 'ride' 'dod' 'motorcycle' 'dog' 'good' 'bmw' 'work' 'rider' 'road' are related to which common topic?\n"
     ]
    },
    {
     "name": "stderr",
     "output_type": "stream",
     "text": [
      "The attention mask and the pad token id were not set. As a consequence, you may observe unexpected behavior. Please pass your input's `attention_mask` to obtain reliable results.\n",
      "Setting `pad_token_id` to `eos_token_id`:50256 for open-end generation.\n",
      "A decoder-only architecture is being used, but right-padding was detected! For correct generation results, please set `padding_side='left'` when initializing the tokenizer.\n"
     ]
    },
    {
     "name": "stdout",
     "output_type": "stream",
     "text": [
      "I'm not sure what you mean by that.\n",
      "The words 'game' 'team' 'win' 'hit' 'player' 'run' 'baseball' 'good' 'play' 'pitch' are related to which common topic?\n"
     ]
    },
    {
     "name": "stderr",
     "output_type": "stream",
     "text": [
      "The attention mask and the pad token id were not set. As a consequence, you may observe unexpected behavior. Please pass your input's `attention_mask` to obtain reliable results.\n",
      "Setting `pad_token_id` to `eos_token_id`:50256 for open-end generation.\n",
      "A decoder-only architecture is being used, but right-padding was detected! For correct generation results, please set `padding_side='left'` when initializing the tokenizer.\n"
     ]
    },
    {
     "name": "stdout",
     "output_type": "stream",
     "text": [
      "I think you're confusing the two.\n",
      "The words 'god' 'christian' 'church' 'jesus' 'christ' 'sin' 'bible' 'give' 'question' 'word' are related to which common topic?\n"
     ]
    },
    {
     "name": "stderr",
     "output_type": "stream",
     "text": [
      "The attention mask and the pad token id were not set. As a consequence, you may observe unexpected behavior. Please pass your input's `attention_mask` to obtain reliable results.\n",
      "Setting `pad_token_id` to `eos_token_id`:50256 for open-end generation.\n",
      "A decoder-only architecture is being used, but right-padding was detected! For correct generation results, please set `padding_side='left'` when initializing the tokenizer.\n"
     ]
    },
    {
     "name": "stdout",
     "output_type": "stream",
     "text": [
      "I'm not sure what you're asking.\n",
      "The words 'gun' 'government' 'weapon' 'state' 'fire' 'law' 'firearm' 'fbi' 'child' 'day' are related to which common topic?\n"
     ]
    },
    {
     "name": "stderr",
     "output_type": "stream",
     "text": [
      "The attention mask and the pad token id were not set. As a consequence, you may observe unexpected behavior. Please pass your input's `attention_mask` to obtain reliable results.\n",
      "Setting `pad_token_id` to `eos_token_id`:50256 for open-end generation.\n",
      "A decoder-only architecture is being used, but right-padding was detected! For correct generation results, please set `padding_side='left'` when initializing the tokenizer.\n"
     ]
    },
    {
     "name": "stdout",
     "output_type": "stream",
     "text": [
      "I'm not sure what you're trying to say.\n",
      "The words 'image' 'file' 'graphic' 'jpeg' 'program' 'format' 'system' 'color' 'datum' 'software' are related to which common topic?\n"
     ]
    },
    {
     "name": "stderr",
     "output_type": "stream",
     "text": [
      "The attention mask and the pad token id were not set. As a consequence, you may observe unexpected behavior. Please pass your input's `attention_mask` to obtain reliable results.\n",
      "Setting `pad_token_id` to `eos_token_id`:50256 for open-end generation.\n",
      "A decoder-only architecture is being used, but right-padding was detected! For correct generation results, please set `padding_side='left'` when initializing the tokenizer.\n"
     ]
    },
    {
     "name": "stdout",
     "output_type": "stream",
     "text": [
      "I'm not sure what you mean by'related '.\n",
      "The words 'car' 'engine' 'drive' 'good' 'buy' 'problem' 'dealer' 'price' 'work' 'ford' are related to which common topic?\n"
     ]
    },
    {
     "name": "stderr",
     "output_type": "stream",
     "text": [
      "The attention mask and the pad token id were not set. As a consequence, you may observe unexpected behavior. Please pass your input's `attention_mask` to obtain reliable results.\n",
      "Setting `pad_token_id` to `eos_token_id`:50256 for open-end generation.\n",
      "A decoder-only architecture is being used, but right-padding was detected! For correct generation results, please set `padding_side='left'` when initializing the tokenizer.\n"
     ]
    },
    {
     "name": "stdout",
     "output_type": "stream",
     "text": [
      "I'm not sure what you mean by this.\n",
      "The words 'god' 'jesus' 'christian' 'fact' 'good' 'objective' 'theory' 'point' 'life' 'bible' are related to which common topic?\n"
     ]
    },
    {
     "name": "stderr",
     "output_type": "stream",
     "text": [
      "The attention mask and the pad token id were not set. As a consequence, you may observe unexpected behavior. Please pass your input's `attention_mask` to obtain reliable results.\n",
      "Setting `pad_token_id` to `eos_token_id`:50256 for open-end generation.\n",
      "A decoder-only architecture is being used, but right-padding was detected! For correct generation results, please set `padding_side='left'` when initializing the tokenizer.\n"
     ]
    },
    {
     "name": "stdout",
     "output_type": "stream",
     "text": [
      "I'm not sure what you're trying to say.\n",
      "The words 'window' 'file' 'program' 'run' 'server' 'application' 'widget' 'system' 'display' 'work' are related to which common topic?\n"
     ]
    },
    {
     "name": "stderr",
     "output_type": "stream",
     "text": [
      "The attention mask and the pad token id were not set. As a consequence, you may observe unexpected behavior. Please pass your input's `attention_mask` to obtain reliable results.\n",
      "Setting `pad_token_id` to `eos_token_id`:50256 for open-end generation.\n",
      "A decoder-only architecture is being used, but right-padding was detected! For correct generation results, please set `padding_side='left'` when initializing the tokenizer.\n"
     ]
    },
    {
     "name": "stdout",
     "output_type": "stream",
     "text": [
      "I'm not sure what you mean.\n",
      "The words 'key' 'chip' 'encryption' 'government' 'system' 'clipper' 'phone' 'security' 'law' 'information' are related to which common topic?\n",
      "I'm not sure what you mean by that.\n",
      "Results saved: DialoGPT-small\n",
      "The words 'game' 'team' 'play' 'hockey' 'player' 'win' 'goal' 'season' 'fan' 'playoff' are related to which common topic?\n",
      "the word \" game \" is related to the common topic of \" hockey \" and \" fan \".\n",
      "The words 'god' 'religion' 'atheist' 'moral' 'claim' 'point' 'objective' 'good' 'belief' 'argument' are related to which common topic?\n",
      "i'm not sure, but i do know that the word \" god \" was first recorded in the 10th century.\n",
      "The words 'space' 'nasa' 'launch' 'system' 'orbit' 'earth' 'mission' 'satellite' 'shuttle' 'moon' are related to which common topic?\n",
      "i'm not sure, but i do know that the moon is the most visited planet in the solar system.\n",
      "The words 'patient' 'disease' 'medical' 'doctor' 'study' 'food' 'health' 'problem' 'effect' 'work' are related to which common topic?\n",
      "i'm not sure what the common topic is, but i do know that the word \" disease \" was first recorded in the 10th century.\n",
      "The words 'government' 'president' 'state' 'law' 'work' 'give' 'man' 'american' 'drug' 'stephanopoulo' are related to which common topic?\n",
      "i'm not sure, but i do know that the word \" government \" was first recorded in the 10th century.\n",
      "The words 'mac' 'apple' 'problem' 'drive' 'system' 'work' 'monitor' 'computer' 'card' 'disk' are related to which common topic?\n",
      "i don't have a mac, but i do have a computer that i use for work.\n",
      "The words 'armenian' 'israel' 'turkish' 'jew' 'arab' 'israeli' 'muslim' 'state' 'kill' 'government' are related to which common topic?\n",
      "i'm not sure, but i do know that israel is a sovereign state in israel.\n",
      "The words 'drive' 'card' 'system' 'problem' 'work' 'controller' 'disk' 'scsus' 'ide' 'run' are related to which common topic?\n",
      "the word \" drive \" is related to \" run \" which is the process of running a program.\n",
      "The words 'offer' 'sale' 'sell' 'include' 'drive' 'price' 'shipping' 'condition' 'system' 'card' are related to which common topic?\n",
      "i'm not sure what the common topic is, but i do know that the word \" sale \" was first used in the 19th century.\n",
      "The words 'work' 'circuit' 'ground' 'power' 'wire' 'good' 'line' 'find' 'battery' 'copy' are related to which common topic?\n",
      "the word \" work \" is related to \" copy \". i'm not sure what the common topic is.\n",
      "The words 'window' 'file' 'run' 'driver' 'problem' 'program' 'work' 'card' 'system' 'version' are related to which common topic?\n",
      "i don't know what the common topic is, but i do know that i've had a lot of problems with my computer.\n",
      "The words 'bike' 'ride' 'dod' 'motorcycle' 'dog' 'good' 'bmw' 'work' 'rider' 'road' are related to which common topic?\n",
      "the word \" bike \" is related to the common topic of which common topic is the road.\n",
      "The words 'game' 'team' 'win' 'hit' 'player' 'run' 'baseball' 'good' 'play' 'pitch' are related to which common topic?\n",
      "i don't really know, but i do know that the word \" game \" was first recorded in the 10th century.\n",
      "The words 'god' 'christian' 'church' 'jesus' 'christ' 'sin' 'bible' 'give' 'question' 'word' are related to which common topic?\n",
      "i'm not sure, but i do know that the bible is the word of god.\n",
      "The words 'gun' 'government' 'weapon' 'state' 'fire' 'law' 'firearm' 'fbi' 'child' 'day' are related to which common topic?\n",
      "i'm not sure, but i do know that the united states has the highest rate of gun violence in the world.\n",
      "The words 'image' 'file' 'graphic' 'jpeg' 'program' 'format' 'system' 'color' 'datum' 'software' are related to which common topic?\n",
      "i'm not sure, but i do know that the word \" file \" was first used in the 18th century.\n",
      "The words 'car' 'engine' 'drive' 'good' 'buy' 'problem' 'dealer' 'price' 'work' 'ford' are related to which common topic?\n",
      "i don't know about common topics, but i do know that i need to buy a new ford.\n",
      "The words 'god' 'jesus' 'christian' 'fact' 'good' 'objective' 'theory' 'point' 'life' 'bible' are related to which common topic?\n",
      "i don't know, but i do know that the bible is the word of god.\n",
      "The words 'window' 'file' 'program' 'run' 'server' 'application' 'widget' 'system' 'display' 'work' are related to which common topic?\n",
      "the word \" window \", \" program \" and \" application \" are related to which common topic.\n",
      "The words 'key' 'chip' 'encryption' 'government' 'system' 'clipper' 'phone' 'security' 'law' 'information' are related to which common topic?\n",
      "i'm not sure what the common topic is, but i do know that the word \" key \" was first used in the 19th century.\n",
      "Results saved: blenderbot_small-90M\n"
     ]
    },
    {
     "name": "stderr",
     "output_type": "stream",
     "text": [
      "Special tokens have been added in the vocabulary, make sure the associated word embeddings are fine-tuned or trained.\n",
      "Special tokens have been added in the vocabulary, make sure the associated word embeddings are fine-tuned or trained.\n"
     ]
    },
    {
     "name": "stdout",
     "output_type": "stream",
     "text": [
      "The words 'game' 'team' 'play' 'hockey' 'player' 'win' 'goal' 'season' 'fan' 'playoff' are related to which common topic?\n"
     ]
    },
    {
     "name": "stderr",
     "output_type": "stream",
     "text": [
      "Conversation input is to long (52), trimming it to (60 - 10)\n"
     ]
    },
    {
     "name": "stdout",
     "output_type": "stream",
     "text": [
      " I'm not sure, but I do know that the Stanley Cup is the most prestigious hockey trophy in the world.\n",
      "The words 'god' 'religion' 'atheist' 'moral' 'claim' 'point' 'objective' 'good' 'belief' 'argument' are related to which common topic?\n"
     ]
    },
    {
     "name": "stderr",
     "output_type": "stream",
     "text": [
      "Conversation input is to long (53), trimming it to (60 - 10)\n"
     ]
    },
    {
     "name": "stdout",
     "output_type": "stream",
     "text": [
      " Religion, morality, and objectivity are all related to the common topic of morality.\n",
      "The words 'space' 'nasa' 'launch' 'system' 'orbit' 'earth' 'mission' 'satellite' 'shuttle' 'moon' are related to which common topic?\n"
     ]
    },
    {
     "name": "stderr",
     "output_type": "stream",
     "text": [
      "Conversation input is to long (52), trimming it to (60 - 10)\n"
     ]
    },
    {
     "name": "stdout",
     "output_type": "stream",
     "text": [
      " NASA is the agency that launches satellites into orbit around the earth.\n",
      "The words 'patient' 'disease' 'medical' 'doctor' 'study' 'food' 'health' 'problem' 'effect' 'work' are related to which common topic?\n"
     ]
    },
    {
     "name": "stderr",
     "output_type": "stream",
     "text": [
      "Conversation input is to long (53), trimming it to (60 - 10)\n"
     ]
    },
    {
     "name": "stdout",
     "output_type": "stream",
     "text": [
      " Patient is a person who is a patient of a physician or health care professional.\n",
      "The words 'government' 'president' 'state' 'law' 'work' 'give' 'man' 'american' 'drug' 'stephanopoulo' are related to which common topic?\n"
     ]
    },
    {
     "name": "stderr",
     "output_type": "stream",
     "text": [
      "Conversation input is to long (51), trimming it to (60 - 10)\n"
     ]
    },
    {
     "name": "stdout",
     "output_type": "stream",
     "text": [
      " I'm not sure, but I do know that the President of the United States is the head of the executive branch of the federal government.\n",
      "The words 'mac' 'apple' 'problem' 'drive' 'system' 'work' 'monitor' 'computer' 'card' 'disk' are related to which common topic?\n"
     ]
    },
    {
     "name": "stderr",
     "output_type": "stream",
     "text": [
      "Conversation input is to long (56), trimming it to (60 - 10)\n"
     ]
    },
    {
     "name": "stdout",
     "output_type": "stream",
     "text": [
      " I'm not sure, but I do know that Macintosh computers are made by Apple.\n",
      "The words 'armenian' 'israel' 'turkish' 'jew' 'arab' 'israeli' 'muslim' 'state' 'kill' 'government' are related to which common topic?\n",
      " Israel is a country in the Middle East located in the West Bank and Gaza Strip.\n",
      "The words 'drive' 'card' 'system' 'problem' 'work' 'controller' 'disk' 'scsus' 'ide' 'run' are related to which common topic?\n"
     ]
    },
    {
     "name": "stderr",
     "output_type": "stream",
     "text": [
      "Conversation input is to long (52), trimming it to (60 - 10)\n"
     ]
    },
    {
     "name": "stdout",
     "output_type": "stream",
     "text": [
      " The word drive is derived from the Latin word \"drive\" which means work.\n",
      "The words 'offer' 'sale' 'sell' 'include' 'drive' 'price' 'shipping' 'condition' 'system' 'card' are related to which common topic?\n",
      " I'm not sure, but I do know that \"offer\" and \"sale\" can be used interchangeably.\n",
      "The words 'work' 'circuit' 'ground' 'power' 'wire' 'good' 'line' 'find' 'battery' 'copy' are related to which common topic?\n",
      " I'm not sure, but I do know that the word \"work\" was first recorded in the 10th century.\n",
      "The words 'window' 'file' 'run' 'driver' 'problem' 'program' 'work' 'card' 'system' 'version' are related to which common topic?\n"
     ]
    },
    {
     "name": "stderr",
     "output_type": "stream",
     "text": [
      "Conversation input is to long (52), trimming it to (60 - 10)\n"
     ]
    },
    {
     "name": "stdout",
     "output_type": "stream",
     "text": [
      " I'm not sure, but I do know that Windows is the most widely used operating system in the world.\n",
      "The words 'bike' 'ride' 'dod' 'motorcycle' 'dog' 'good' 'bmw' 'work' 'rider' 'road' are related to which common topic?\n",
      " BMW is a German motorcycle manufacturer, so I guess it's related to motorcycles.\n",
      "The words 'game' 'team' 'win' 'hit' 'player' 'run' 'baseball' 'good' 'play' 'pitch' are related to which common topic?\n",
      " The word \"game\" is derived from the Latin word \"gamus\" which means \"to play\"\n",
      "The words 'god' 'christian' 'church' 'jesus' 'christ' 'sin' 'bible' 'give' 'question' 'word' are related to which common topic?\n",
      " Christianity is a religion based on the teachings of Jesus of Nazareth, the Son of God.\n",
      "The words 'gun' 'government' 'weapon' 'state' 'fire' 'law' 'firearm' 'fbi' 'child' 'day' are related to which common topic?\n"
     ]
    },
    {
     "name": "stderr",
     "output_type": "stream",
     "text": [
      "Conversation input is to long (54), trimming it to (60 - 10)\n"
     ]
    },
    {
     "name": "stdout",
     "output_type": "stream",
     "text": [
      " They are all related to self-defense and the right of the people to keep and bear arms.\n",
      "The words 'image' 'file' 'graphic' 'jpeg' 'program' 'format' 'system' 'color' 'datum' 'software' are related to which common topic?\n",
      " I'm not sure, but I do know that the term \"software\" was first used in the late 19th century.\n",
      "The words 'car' 'engine' 'drive' 'good' 'buy' 'problem' 'dealer' 'price' 'work' 'ford' are related to which common topic?\n",
      " The word \"car\" is derived from the Latin word \"carta\".\n",
      "The words 'god' 'jesus' 'christian' 'fact' 'good' 'objective' 'theory' 'point' 'life' 'bible' are related to which common topic?\n"
     ]
    },
    {
     "name": "stderr",
     "output_type": "stream",
     "text": [
      "Conversation input is to long (52), trimming it to (60 - 10)\n"
     ]
    },
    {
     "name": "stdout",
     "output_type": "stream",
     "text": [
      " The Bible is a collection of sacred texts written by the disciples of Jesus of Nazareth.\n",
      "The words 'window' 'file' 'program' 'run' 'server' 'application' 'widget' 'system' 'display' 'work' are related to which common topic?\n"
     ]
    },
    {
     "name": "stderr",
     "output_type": "stream",
     "text": [
      "Conversation input is to long (51), trimming it to (60 - 10)\n"
     ]
    },
    {
     "name": "stdout",
     "output_type": "stream",
     "text": [
      " Widgets are a type of interface that can be displayed on a screen.\n",
      "The words 'key' 'chip' 'encryption' 'government' 'system' 'clipper' 'phone' 'security' 'law' 'information' are related to which common topic?\n",
      " I'm not sure, but I do know that the word encryption was first recorded in the 10th century.\n",
      "Results saved: blenderbot-3B\n"
     ]
    },
    {
     "name": "stderr",
     "output_type": "stream",
     "text": [
      "c:\\Users\\Virginia\\anaconda3\\lib\\site-packages\\transformers\\generation\\utils.py:1186: UserWarning: You have modified the pretrained model configuration to control generation. This is a deprecated strategy to control generation and will be removed soon, in a future version. Please use a generation configuration file (see https://huggingface.co/docs/transformers/main_classes/text_generation)\n",
      "  warnings.warn(\n",
      "The attention mask and the pad token id were not set. As a consequence, you may observe unexpected behavior. Please pass your input's `attention_mask` to obtain reliable results.\n",
      "Setting `pad_token_id` to `eos_token_id`:50256 for open-end generation.\n",
      "A decoder-only architecture is being used, but right-padding was detected! For correct generation results, please set `padding_side='left'` when initializing the tokenizer.\n"
     ]
    },
    {
     "name": "stdout",
     "output_type": "stream",
     "text": [
      "The words 'game' 'team' 'play' 'hockey' 'player' 'win' 'goal' 'season' 'fan' 'playoff' are related to which common topic?\n"
     ]
    },
    {
     "name": "stderr",
     "output_type": "stream",
     "text": [
      "The attention mask and the pad token id were not set. As a consequence, you may observe unexpected behavior. Please pass your input's `attention_mask` to obtain reliable results.\n",
      "Setting `pad_token_id` to `eos_token_id`:50256 for open-end generation.\n",
      "A decoder-only architecture is being used, but right-padding was detected! For correct generation results, please set `padding_side='left'` when initializing the tokenizer.\n"
     ]
    },
    {
     "name": "stdout",
     "output_type": "stream",
     "text": [
      "I think it's a reference to the word'team '.\n",
      "The words 'god' 'religion' 'atheist' 'moral' 'claim' 'point' 'objective' 'good' 'belief' 'argument' are related to which common topic?\n"
     ]
    },
    {
     "name": "stderr",
     "output_type": "stream",
     "text": [
      "The attention mask and the pad token id were not set. As a consequence, you may observe unexpected behavior. Please pass your input's `attention_mask` to obtain reliable results.\n",
      "Setting `pad_token_id` to `eos_token_id`:50256 for open-end generation.\n",
      "A decoder-only architecture is being used, but right-padding was detected! For correct generation results, please set `padding_side='left'` when initializing the tokenizer.\n"
     ]
    },
    {
     "name": "stdout",
     "output_type": "stream",
     "text": [
      "I think he's trying to say that the claim that theism is a religion is a false one.\n",
      "The words 'space' 'nasa' 'launch' 'system' 'orbit' 'earth' 'mission' 'satellite' 'shuttle' 'moon' are related to which common topic?\n"
     ]
    },
    {
     "name": "stderr",
     "output_type": "stream",
     "text": [
      "The attention mask and the pad token id were not set. As a consequence, you may observe unexpected behavior. Please pass your input's `attention_mask` to obtain reliable results.\n",
      "Setting `pad_token_id` to `eos_token_id`:50256 for open-end generation.\n",
      "A decoder-only architecture is being used, but right-padding was detected! For correct generation results, please set `padding_side='left'` when initializing the tokenizer.\n"
     ]
    },
    {
     "name": "stdout",
     "output_type": "stream",
     "text": [
      "I think it's related to the fact that the word'orbit'is used in the title of the post.\n",
      "The words 'patient' 'disease' 'medical' 'doctor' 'study' 'food' 'health' 'problem' 'effect' 'work' are related to which common topic?\n"
     ]
    },
    {
     "name": "stderr",
     "output_type": "stream",
     "text": [
      "The attention mask and the pad token id were not set. As a consequence, you may observe unexpected behavior. Please pass your input's `attention_mask` to obtain reliable results.\n",
      "Setting `pad_token_id` to `eos_token_id`:50256 for open-end generation.\n",
      "A decoder-only architecture is being used, but right-padding was detected! For correct generation results, please set `padding_side='left'` when initializing the tokenizer.\n"
     ]
    },
    {
     "name": "stdout",
     "output_type": "stream",
     "text": [
      "I think it's a reference to the movie The Last Airbender.\n",
      "The words 'government' 'president' 'state' 'law' 'work' 'give' 'man' 'american' 'drug' 'stephanopoulo' are related to which common topic?\n"
     ]
    },
    {
     "name": "stderr",
     "output_type": "stream",
     "text": [
      "The attention mask and the pad token id were not set. As a consequence, you may observe unexpected behavior. Please pass your input's `attention_mask` to obtain reliable results.\n",
      "Setting `pad_token_id` to `eos_token_id`:50256 for open-end generation.\n",
      "A decoder-only architecture is being used, but right-padding was detected! For correct generation results, please set `padding_side='left'` when initializing the tokenizer.\n"
     ]
    },
    {
     "name": "stdout",
     "output_type": "stream",
     "text": [
      "I think he means the word'government '.\n",
      "The words 'mac' 'apple' 'problem' 'drive' 'system' 'work' 'monitor' 'computer' 'card' 'disk' are related to which common topic?\n"
     ]
    },
    {
     "name": "stderr",
     "output_type": "stream",
     "text": [
      "The attention mask and the pad token id were not set. As a consequence, you may observe unexpected behavior. Please pass your input's `attention_mask` to obtain reliable results.\n",
      "Setting `pad_token_id` to `eos_token_id`:50256 for open-end generation.\n",
      "A decoder-only architecture is being used, but right-padding was detected! For correct generation results, please set `padding_side='left'` when initializing the tokenizer.\n"
     ]
    },
    {
     "name": "stdout",
     "output_type": "stream",
     "text": [
      "I think it's a reference to the movie The Terminal.\n",
      "The words 'armenian' 'israel' 'turkish' 'jew' 'arab' 'israeli' 'muslim' 'state' 'kill' 'government' are related to which common topic?\n"
     ]
    },
    {
     "name": "stderr",
     "output_type": "stream",
     "text": [
      "The attention mask and the pad token id were not set. As a consequence, you may observe unexpected behavior. Please pass your input's `attention_mask` to obtain reliable results.\n",
      "Setting `pad_token_id` to `eos_token_id`:50256 for open-end generation.\n",
      "A decoder-only architecture is being used, but right-padding was detected! For correct generation results, please set `padding_side='left'` when initializing the tokenizer.\n"
     ]
    },
    {
     "name": "stdout",
     "output_type": "stream",
     "text": [
      "The common topic is the fact that the state of Israel is a state of Israel.\n",
      "The words 'drive' 'card' 'system' 'problem' 'work' 'controller' 'disk' 'scsus' 'ide' 'run' are related to which common topic?\n"
     ]
    },
    {
     "name": "stderr",
     "output_type": "stream",
     "text": [
      "The attention mask and the pad token id were not set. As a consequence, you may observe unexpected behavior. Please pass your input's `attention_mask` to obtain reliable results.\n",
      "Setting `pad_token_id` to `eos_token_id`:50256 for open-end generation.\n",
      "A decoder-only architecture is being used, but right-padding was detected! For correct generation results, please set `padding_side='left'` when initializing the tokenizer.\n"
     ]
    },
    {
     "name": "stdout",
     "output_type": "stream",
     "text": [
      "I think he means the problem of the problem.\n",
      "The words 'offer' 'sale' 'sell' 'include' 'drive' 'price' 'shipping' 'condition' 'system' 'card' are related to which common topic?\n"
     ]
    },
    {
     "name": "stderr",
     "output_type": "stream",
     "text": [
      "The attention mask and the pad token id were not set. As a consequence, you may observe unexpected behavior. Please pass your input's `attention_mask` to obtain reliable results.\n",
      "Setting `pad_token_id` to `eos_token_id`:50256 for open-end generation.\n",
      "A decoder-only architecture is being used, but right-padding was detected! For correct generation results, please set `padding_side='left'` when initializing the tokenizer.\n"
     ]
    },
    {
     "name": "stdout",
     "output_type": "stream",
     "text": [
      "I think it's the word'offer '.\n",
      "The words 'work' 'circuit' 'ground' 'power' 'wire' 'good' 'line' 'find' 'battery' 'copy' are related to which common topic?\n"
     ]
    },
    {
     "name": "stderr",
     "output_type": "stream",
     "text": [
      "The attention mask and the pad token id were not set. As a consequence, you may observe unexpected behavior. Please pass your input's `attention_mask` to obtain reliable results.\n",
      "Setting `pad_token_id` to `eos_token_id`:50256 for open-end generation.\n",
      "A decoder-only architecture is being used, but right-padding was detected! For correct generation results, please set `padding_side='left'` when initializing the tokenizer.\n"
     ]
    },
    {
     "name": "stdout",
     "output_type": "stream",
     "text": [
      "I think it's a reference to the old school video game, where you could copy a car and drive it to the other side of the map.\n",
      "The words 'window' 'file' 'run' 'driver' 'problem' 'program' 'work' 'card' 'system' 'version' are related to which common topic?\n"
     ]
    },
    {
     "name": "stderr",
     "output_type": "stream",
     "text": [
      "The attention mask and the pad token id were not set. As a consequence, you may observe unexpected behavior. Please pass your input's `attention_mask` to obtain reliable results.\n",
      "Setting `pad_token_id` to `eos_token_id`:50256 for open-end generation.\n",
      "A decoder-only architecture is being used, but right-padding was detected! For correct generation results, please set `padding_side='left'` when initializing the tokenizer.\n"
     ]
    },
    {
     "name": "stdout",
     "output_type": "stream",
     "text": [
      "I think he means the common topic of the thread.\n",
      "The words 'bike' 'ride' 'dod' 'motorcycle' 'dog' 'good' 'bmw' 'work' 'rider' 'road' are related to which common topic?\n"
     ]
    },
    {
     "name": "stderr",
     "output_type": "stream",
     "text": [
      "The attention mask and the pad token id were not set. As a consequence, you may observe unexpected behavior. Please pass your input's `attention_mask` to obtain reliable results.\n",
      "Setting `pad_token_id` to `eos_token_id`:50256 for open-end generation.\n",
      "A decoder-only architecture is being used, but right-padding was detected! For correct generation results, please set `padding_side='left'` when initializing the tokenizer.\n"
     ]
    },
    {
     "name": "stdout",
     "output_type": "stream",
     "text": [
      "I think it's a reference to the song'The Man'by the band'The Man '.\n",
      "The words 'game' 'team' 'win' 'hit' 'player' 'run' 'baseball' 'good' 'play' 'pitch' are related to which common topic?\n"
     ]
    },
    {
     "name": "stderr",
     "output_type": "stream",
     "text": [
      "The attention mask and the pad token id were not set. As a consequence, you may observe unexpected behavior. Please pass your input's `attention_mask` to obtain reliable results.\n",
      "Setting `pad_token_id` to `eos_token_id`:50256 for open-end generation.\n",
      "A decoder-only architecture is being used, but right-padding was detected! For correct generation results, please set `padding_side='left'` when initializing the tokenizer.\n"
     ]
    },
    {
     "name": "stdout",
     "output_type": "stream",
     "text": [
      "I think it's a reference to the song.\n",
      "The words 'god' 'christian' 'church' 'jesus' 'christ' 'sin' 'bible' 'give' 'question' 'word' are related to which common topic?\n"
     ]
    },
    {
     "name": "stderr",
     "output_type": "stream",
     "text": [
      "The attention mask and the pad token id were not set. As a consequence, you may observe unexpected behavior. Please pass your input's `attention_mask` to obtain reliable results.\n",
      "Setting `pad_token_id` to `eos_token_id`:50256 for open-end generation.\n",
      "A decoder-only architecture is being used, but right-padding was detected! For correct generation results, please set `padding_side='left'` when initializing the tokenizer.\n"
     ]
    },
    {
     "name": "stdout",
     "output_type": "stream",
     "text": [
      "I think it's a reference to the bible.\n",
      "The words 'gun' 'government' 'weapon' 'state' 'fire' 'law' 'firearm' 'fbi' 'child' 'day' are related to which common topic?\n"
     ]
    },
    {
     "name": "stderr",
     "output_type": "stream",
     "text": [
      "The attention mask and the pad token id were not set. As a consequence, you may observe unexpected behavior. Please pass your input's `attention_mask` to obtain reliable results.\n",
      "Setting `pad_token_id` to `eos_token_id`:50256 for open-end generation.\n",
      "A decoder-only architecture is being used, but right-padding was detected! For correct generation results, please set `padding_side='left'` when initializing the tokenizer.\n"
     ]
    },
    {
     "name": "stdout",
     "output_type": "stream",
     "text": [
      "I think it's a reference to the movie The Social Network.\n",
      "The words 'image' 'file' 'graphic' 'jpeg' 'program' 'format' 'system' 'color' 'datum' 'software' are related to which common topic?\n"
     ]
    },
    {
     "name": "stderr",
     "output_type": "stream",
     "text": [
      "The attention mask and the pad token id were not set. As a consequence, you may observe unexpected behavior. Please pass your input's `attention_mask` to obtain reliable results.\n",
      "Setting `pad_token_id` to `eos_token_id`:50256 for open-end generation.\n",
      "A decoder-only architecture is being used, but right-padding was detected! For correct generation results, please set `padding_side='left'` when initializing the tokenizer.\n"
     ]
    },
    {
     "name": "stdout",
     "output_type": "stream",
     "text": [
      "I think it's a reference to the movie The Matrix.\n",
      "The words 'car' 'engine' 'drive' 'good' 'buy' 'problem' 'dealer' 'price' 'work' 'ford' are related to which common topic?\n"
     ]
    },
    {
     "name": "stderr",
     "output_type": "stream",
     "text": [
      "The attention mask and the pad token id were not set. As a consequence, you may observe unexpected behavior. Please pass your input's `attention_mask` to obtain reliable results.\n",
      "Setting `pad_token_id` to `eos_token_id`:50256 for open-end generation.\n",
      "A decoder-only architecture is being used, but right-padding was detected! For correct generation results, please set `padding_side='left'` when initializing the tokenizer.\n"
     ]
    },
    {
     "name": "stdout",
     "output_type": "stream",
     "text": [
      "I think it's a reference to the'buy a car'thread.\n",
      "The words 'god' 'jesus' 'christian' 'fact' 'good' 'objective' 'theory' 'point' 'life' 'bible' are related to which common topic?\n"
     ]
    },
    {
     "name": "stderr",
     "output_type": "stream",
     "text": [
      "The attention mask and the pad token id were not set. As a consequence, you may observe unexpected behavior. Please pass your input's `attention_mask` to obtain reliable results.\n",
      "Setting `pad_token_id` to `eos_token_id`:50256 for open-end generation.\n",
      "A decoder-only architecture is being used, but right-padding was detected! For correct generation results, please set `padding_side='left'` when initializing the tokenizer.\n"
     ]
    },
    {
     "name": "stdout",
     "output_type": "stream",
     "text": [
      "I think he means that the fact that the bible is a fact is a fact.\n",
      "The words 'window' 'file' 'program' 'run' 'server' 'application' 'widget' 'system' 'display' 'work' are related to which common topic?\n"
     ]
    },
    {
     "name": "stderr",
     "output_type": "stream",
     "text": [
      "The attention mask and the pad token id were not set. As a consequence, you may observe unexpected behavior. Please pass your input's `attention_mask` to obtain reliable results.\n",
      "Setting `pad_token_id` to `eos_token_id`:50256 for open-end generation.\n",
      "A decoder-only architecture is being used, but right-padding was detected! For correct generation results, please set `padding_side='left'` when initializing the tokenizer.\n"
     ]
    },
    {
     "name": "stdout",
     "output_type": "stream",
     "text": [
      "I think he means the application to the server.\n",
      "The words 'key' 'chip' 'encryption' 'government' 'system' 'clipper' 'phone' 'security' 'law' 'information' are related to which common topic?\n",
      "I think he means the common topic of the discussion.\n",
      "Results saved: DialoGPT-large\n"
     ]
    },
    {
     "name": "stderr",
     "output_type": "stream",
     "text": [
      "Conversation input is to long (53), trimming it to (20 - 10)\n"
     ]
    },
    {
     "name": "stdout",
     "output_type": "stream",
     "text": [
      "The words 'game' 'team' 'play' 'hockey' 'player' 'win' 'goal' 'season' 'fan' 'playoff' are related to which common topic?\n"
     ]
    },
    {
     "name": "stderr",
     "output_type": "stream",
     "text": [
      "Conversation input is to long (61), trimming it to (20 - 10)\n"
     ]
    },
    {
     "name": "stdout",
     "output_type": "stream",
     "text": [
      "'off' and 'off' are related to which common topic?\n",
      "The words 'god' 'religion' 'atheist' 'moral' 'claim' 'point' 'objective' 'good' 'belief' 'argument' are related to which common topic?\n"
     ]
    },
    {
     "name": "stderr",
     "output_type": "stream",
     "text": [
      "Conversation input is to long (61), trimming it to (20 - 10)\n"
     ]
    },
    {
     "name": "stdout",
     "output_type": "stream",
     "text": [
      "'Ask a question'\n",
      "The words 'space' 'nasa' 'launch' 'system' 'orbit' 'earth' 'mission' 'satellite' 'shuttle' 'moon' are related to which common topic?\n"
     ]
    },
    {
     "name": "stderr",
     "output_type": "stream",
     "text": [
      "Conversation input is to long (56), trimming it to (20 - 10)\n"
     ]
    },
    {
     "name": "stdout",
     "output_type": "stream",
     "text": [
      "The 'on' and 'on' are related to the same topic.\n",
      "The words 'patient' 'disease' 'medical' 'doctor' 'study' 'food' 'health' 'problem' 'effect' 'work' are related to which common topic?\n"
     ]
    },
    {
     "name": "stderr",
     "output_type": "stream",
     "text": [
      "Conversation input is to long (58), trimming it to (20 - 10)\n"
     ]
    },
    {
     "name": "stdout",
     "output_type": "stream",
     "text": [
      "Work is related to what common topic?\n",
      "The words 'government' 'president' 'state' 'law' 'work' 'give' 'man' 'american' 'drug' 'stephanopoulo' are related to which common topic?\n"
     ]
    },
    {
     "name": "stderr",
     "output_type": "stream",
     "text": [
      "Conversation input is to long (54), trimming it to (20 - 10)\n"
     ]
    },
    {
     "name": "stdout",
     "output_type": "stream",
     "text": [
      "'Sex' and'sex' are related to which common topic?\n",
      "The words 'mac' 'apple' 'problem' 'drive' 'system' 'work' 'monitor' 'computer' 'card' 'disk' are related to which common topic?\n"
     ]
    },
    {
     "name": "stderr",
     "output_type": "stream",
     "text": [
      "Conversation input is to long (57), trimming it to (20 - 10)\n"
     ]
    },
    {
     "name": "stdout",
     "output_type": "stream",
     "text": [
      "'Status quorum'\n",
      "The words 'armenian' 'israel' 'turkish' 'jew' 'arab' 'israeli' 'muslim' 'state' 'kill' 'government' are related to which common topic?\n"
     ]
    },
    {
     "name": "stderr",
     "output_type": "stream",
     "text": [
      "Conversation input is to long (55), trimming it to (20 - 10)\n"
     ]
    },
    {
     "name": "stdout",
     "output_type": "stream",
     "text": [
      "The government is related to the government.\n",
      "The words 'drive' 'card' 'system' 'problem' 'work' 'controller' 'disk' 'scsus' 'ide' 'run' are related to which common topic?\n"
     ]
    },
    {
     "name": "stderr",
     "output_type": "stream",
     "text": [
      "Conversation input is to long (56), trimming it to (20 - 10)\n"
     ]
    },
    {
     "name": "stdout",
     "output_type": "stream",
     "text": [
      "Run is related to the common topic of 'run'\n",
      "The words 'offer' 'sale' 'sell' 'include' 'drive' 'price' 'shipping' 'condition' 'system' 'card' are related to which common topic?\n"
     ]
    },
    {
     "name": "stderr",
     "output_type": "stream",
     "text": [
      "Conversation input is to long (53), trimming it to (20 - 10)\n"
     ]
    },
    {
     "name": "stdout",
     "output_type": "stream",
     "text": [
      "The common topic is'sex'\n",
      "The words 'work' 'circuit' 'ground' 'power' 'wire' 'good' 'line' 'find' 'battery' 'copy' are related to which common topic?\n"
     ]
    },
    {
     "name": "stderr",
     "output_type": "stream",
     "text": [
      "Conversation input is to long (53), trimming it to (20 - 10)\n"
     ]
    },
    {
     "name": "stdout",
     "output_type": "stream",
     "text": [
      "'copy' and 'copy' are related to which common topic?\n",
      "The words 'window' 'file' 'run' 'driver' 'problem' 'program' 'work' 'card' 'system' 'version' are related to which common topic?\n"
     ]
    },
    {
     "name": "stderr",
     "output_type": "stream",
     "text": [
      "Conversation input is to long (55), trimming it to (20 - 10)\n"
     ]
    },
    {
     "name": "stdout",
     "output_type": "stream",
     "text": [
      "'version' is related to which common topic?\n",
      "The words 'bike' 'ride' 'dod' 'motorcycle' 'dog' 'good' 'bmw' 'work' 'rider' 'road' are related to which common topic?\n"
     ]
    },
    {
     "name": "stderr",
     "output_type": "stream",
     "text": [
      "Conversation input is to long (52), trimming it to (20 - 10)\n"
     ]
    },
    {
     "name": "stdout",
     "output_type": "stream",
     "text": [
      "Road is related to the topic of road.\n",
      "The words 'game' 'team' 'win' 'hit' 'player' 'run' 'baseball' 'good' 'play' 'pitch' are related to which common topic?\n"
     ]
    },
    {
     "name": "stderr",
     "output_type": "stream",
     "text": [
      "Conversation input is to long (58), trimming it to (20 - 10)\n"
     ]
    },
    {
     "name": "stdout",
     "output_type": "stream",
     "text": [
      "'Stitch' and 'itch' are related to which common topic?\n",
      "The words 'god' 'christian' 'church' 'jesus' 'christ' 'sin' 'bible' 'give' 'question' 'word' are related to which common topic?\n"
     ]
    },
    {
     "name": "stderr",
     "output_type": "stream",
     "text": [
      "Conversation input is to long (55), trimming it to (20 - 10)\n"
     ]
    },
    {
     "name": "stdout",
     "output_type": "stream",
     "text": [
      "'semantics'\n",
      "The words 'gun' 'government' 'weapon' 'state' 'fire' 'law' 'firearm' 'fbi' 'child' 'day' are related to which common topic?\n"
     ]
    },
    {
     "name": "stderr",
     "output_type": "stream",
     "text": [
      "Conversation input is to long (55), trimming it to (20 - 10)\n"
     ]
    },
    {
     "name": "stdout",
     "output_type": "stream",
     "text": [
      "'Today' is related to which common topic?\n",
      "The words 'image' 'file' 'graphic' 'jpeg' 'program' 'format' 'system' 'color' 'datum' 'software' are related to which common topic?\n"
     ]
    },
    {
     "name": "stderr",
     "output_type": "stream",
     "text": [
      "Conversation input is to long (52), trimming it to (20 - 10)\n"
     ]
    },
    {
     "name": "stdout",
     "output_type": "stream",
     "text": [
      "Software is related to the topic of software.\n",
      "The words 'car' 'engine' 'drive' 'good' 'buy' 'problem' 'dealer' 'price' 'work' 'ford' are related to which common topic?\n"
     ]
    },
    {
     "name": "stderr",
     "output_type": "stream",
     "text": [
      "Conversation input is to long (59), trimming it to (20 - 10)\n"
     ]
    },
    {
     "name": "stdout",
     "output_type": "stream",
     "text": [
      "The movie 'Foxford' is related to the movie 'Fox\n",
      "The words 'god' 'jesus' 'christian' 'fact' 'good' 'objective' 'theory' 'point' 'life' 'bible' are related to which common topic?\n"
     ]
    },
    {
     "name": "stderr",
     "output_type": "stream",
     "text": [
      "Conversation input is to long (54), trimming it to (20 - 10)\n"
     ]
    },
    {
     "name": "stdout",
     "output_type": "stream",
     "text": [
      "The topic of the video is 'Bible'\n",
      "The words 'window' 'file' 'program' 'run' 'server' 'application' 'widget' 'system' 'display' 'work' are related to which common topic?\n"
     ]
    },
    {
     "name": "stderr",
     "output_type": "stream",
     "text": [
      "Conversation input is to long (54), trimming it to (20 - 10)\n"
     ]
    },
    {
     "name": "stdout",
     "output_type": "stream",
     "text": [
      "Work is related to what common topic?\n",
      "The words 'key' 'chip' 'encryption' 'government' 'system' 'clipper' 'phone' 'security' 'law' 'information' are related to which common topic?\n",
      "'information' are related to which common topic?\n",
      "Results saved: GODEL-v1_1-large-seq2seq\n"
     ]
    }
   ],
   "source": [
    "# For each conversational model (by index)\n",
    "for c in range(0,len(conv_models)):\n",
    "    # Generate conversational model\n",
    "    chatbot = pipeline(\"conversational\", model=conv_models[c])\n",
    "    # Generate dataframe to save the answers\n",
    "    topics_results = pd.DataFrame(columns=['Real topic','Conv answer'])\n",
    "    \n",
    "    # For each topic description (by index)\n",
    "    for i in range(0,len(topics.index)): \n",
    "        # Split the description by words\n",
    "        description = topics['description'].values[i]\n",
    "        words = description.split(\",\")\n",
    "\n",
    "        # Generate the question to ask\n",
    "        request = \"What is the topic related to the words\"\n",
    "        for w in words[0:n]:\n",
    "            request = request+\" \\'\"+w+\"\\'\"\n",
    "        request = request+\"?\"\n",
    "        # Show the question to ask\n",
    "        print(request)\n",
    "        \n",
    "        # Ask question (request) and extract answer (response)\n",
    "        conversation = Conversation()\n",
    "        conversation.add_user_input(request)\n",
    "        conversation = chatbot(conversation, clean_up_tokenization_spaces = True)\n",
    "        response = conversation.generated_responses[-1]\n",
    "        print(response)\n",
    "        \n",
    "        \n",
    "        # Save topic results to dataframe\n",
    "        topics_results.loc[len(topics_results.index)] = [topics['name'].values[i],response]\n",
    "        \n",
    "    # Save topics_results to json file\n",
    "    topics_results.to_json(\"Results/q2/topic/topics_conv_results_\"+str(n)+\"_\"+conv_names[c]+\".json\",orient=\"index\")\n",
    "    print(\"Results saved: \"+conv_names[c])"
   ]
  }
 ],
 "metadata": {
  "kernelspec": {
   "display_name": "base",
   "language": "python",
   "name": "python3"
  },
  "language_info": {
   "codemirror_mode": {
    "name": "ipython",
    "version": 3
   },
   "file_extension": ".py",
   "mimetype": "text/x-python",
   "name": "python",
   "nbconvert_exporter": "python",
   "pygments_lexer": "ipython3",
   "version": "3.9.13"
  },
  "orig_nbformat": 4,
  "vscode": {
   "interpreter": {
    "hash": "eb2c7f01ac094e6258bcdbc37a09e6689d39b105c4473ecaac10d08fb0bb7022"
   }
  }
 },
 "nbformat": 4,
 "nbformat_minor": 2
}
